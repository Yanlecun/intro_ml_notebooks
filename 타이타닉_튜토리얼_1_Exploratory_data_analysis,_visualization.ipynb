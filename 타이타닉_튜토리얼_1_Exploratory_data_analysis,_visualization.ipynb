{
  "metadata": {
    "kernelspec": {
      "language": "python",
      "display_name": "Python 3",
      "name": "python3"
    },
    "language_info": {
      "pygments_lexer": "ipython3",
      "nbconvert_exporter": "python",
      "version": "3.6.4",
      "file_extension": ".py",
      "codemirror_mode": {
        "name": "ipython",
        "version": 3
      },
      "name": "python",
      "mimetype": "text/x-python"
    },
    "colab": {
      "name": "타이타닉 튜토리얼 1 - Exploratory data analysis, visualization",
      "provenance": [],
      "collapsed_sections": [],
      "toc_visible": true,
      "include_colab_link": true
    }
  },
  "nbformat_minor": 0,
  "nbformat": 4,
  "cells": [
    {
      "cell_type": "markdown",
      "metadata": {
        "id": "view-in-github",
        "colab_type": "text"
      },
      "source": [
        "<a href=\"https://colab.research.google.com/github/Yanlecun/intro_ml_notebooks/blob/main/%ED%83%80%EC%9D%B4%ED%83%80%EB%8B%89_%ED%8A%9C%ED%86%A0%EB%A6%AC%EC%96%BC_1_Exploratory_data_analysis%2C_visualization.ipynb\" target=\"_parent\"><img src=\"https://colab.research.google.com/assets/colab-badge.svg\" alt=\"Open In Colab\"/></a>"
      ]
    },
    {
      "cell_type": "code",
      "source": [
        "import os\n",
        "for dirname, _, filenames in os.walk('/kaggle/input'):\n",
        "    for filename in filenames:\n",
        "        print(os.path.join(dirname, filename))\n"
      ],
      "metadata": {
        "_uuid": "8f2839f25d086af736a60e9eeb907d3b93b6e0e5",
        "_cell_guid": "b1076dfc-b9ad-4769-8c92-a6c4dae69d19",
        "execution": {
          "iopub.status.busy": "2022-01-29T13:24:55.20593Z",
          "iopub.execute_input": "2022-01-29T13:24:55.206349Z",
          "iopub.status.idle": "2022-01-29T13:24:55.215099Z",
          "shell.execute_reply.started": "2022-01-29T13:24:55.206317Z",
          "shell.execute_reply": "2022-01-29T13:24:55.214272Z"
        },
        "id": "_xPjH2nML4WP"
      },
      "execution_count": null,
      "outputs": []
    },
    {
      "cell_type": "markdown",
      "source": [
        "# 1. 확인"
      ],
      "metadata": {
        "id": "DTRz8mSpAS1W"
      }
    },
    {
      "cell_type": "code",
      "source": [
        "import numpy as np\n",
        "import pandas as pd\n",
        "from pandas import Series\n",
        "import matplotlib.pyplot as plt\n",
        "import seaborn as sns\n",
        "\n",
        "plt.style.use('seaborn')\n",
        "sns.set(font_scale=2.5)\n",
        "import missingno as msno\n",
        "\n",
        "import plotly.offline as py\n",
        "import plotly.graph_objs as go\n",
        "import plotly.tools as tls\n",
        "\n",
        "import warnings\n",
        "warnings.filterwarnings('ignore')\n",
        "\n",
        "%matplotlib inline"
      ],
      "metadata": {
        "execution": {
          "iopub.status.busy": "2022-01-29T13:24:55.21676Z",
          "iopub.execute_input": "2022-01-29T13:24:55.217261Z",
          "iopub.status.idle": "2022-01-29T13:24:55.228683Z",
          "shell.execute_reply.started": "2022-01-29T13:24:55.217214Z",
          "shell.execute_reply": "2022-01-29T13:24:55.227503Z"
        },
        "trusted": true,
        "id": "N_v163ThL4WR"
      },
      "execution_count": null,
      "outputs": []
    },
    {
      "cell_type": "code",
      "source": [
        "# 학습과 학습셋 나누기\n",
        "df_train = pd.read_csv('../input/titanic/train.csv')\n",
        "df_test = pd.read_csv('../input/titanic/test.csv')"
      ],
      "metadata": {
        "execution": {
          "iopub.status.busy": "2022-01-29T13:24:55.229766Z",
          "iopub.execute_input": "2022-01-29T13:24:55.230019Z",
          "iopub.status.idle": "2022-01-29T13:24:55.251488Z",
          "shell.execute_reply.started": "2022-01-29T13:24:55.229989Z",
          "shell.execute_reply": "2022-01-29T13:24:55.250558Z"
        },
        "trusted": true,
        "colab": {
          "base_uri": "https://localhost:8080/",
          "height": 391
        },
        "id": "YzR-q7bHL4WS",
        "outputId": "e93ad80c-5e95-4d0d-d08b-f022d3cdc432"
      },
      "execution_count": null,
      "outputs": [
        {
          "output_type": "error",
          "ename": "FileNotFoundError",
          "evalue": "ignored",
          "traceback": [
            "\u001b[0;31m---------------------------------------------------------------------------\u001b[0m",
            "\u001b[0;31mFileNotFoundError\u001b[0m                         Traceback (most recent call last)",
            "\u001b[0;32m<ipython-input-5-87eff3138ad3>\u001b[0m in \u001b[0;36m<module>\u001b[0;34m()\u001b[0m\n\u001b[1;32m      1\u001b[0m \u001b[0;31m# 학습과 학습셋 나누기\u001b[0m\u001b[0;34m\u001b[0m\u001b[0;34m\u001b[0m\u001b[0;34m\u001b[0m\u001b[0m\n\u001b[0;32m----> 2\u001b[0;31m \u001b[0mdf_train\u001b[0m \u001b[0;34m=\u001b[0m \u001b[0mpd\u001b[0m\u001b[0;34m.\u001b[0m\u001b[0mread_csv\u001b[0m\u001b[0;34m(\u001b[0m\u001b[0;34m'../input/titanic/train.csv'\u001b[0m\u001b[0;34m)\u001b[0m\u001b[0;34m\u001b[0m\u001b[0;34m\u001b[0m\u001b[0m\n\u001b[0m\u001b[1;32m      3\u001b[0m \u001b[0mdf_test\u001b[0m \u001b[0;34m=\u001b[0m \u001b[0mpd\u001b[0m\u001b[0;34m.\u001b[0m\u001b[0mread_csv\u001b[0m\u001b[0;34m(\u001b[0m\u001b[0;34m'../input/titanic/test.csv'\u001b[0m\u001b[0;34m)\u001b[0m\u001b[0;34m\u001b[0m\u001b[0;34m\u001b[0m\u001b[0m\n",
            "\u001b[0;32m/usr/local/lib/python3.7/dist-packages/pandas/util/_decorators.py\u001b[0m in \u001b[0;36mwrapper\u001b[0;34m(*args, **kwargs)\u001b[0m\n\u001b[1;32m    309\u001b[0m                     \u001b[0mstacklevel\u001b[0m\u001b[0;34m=\u001b[0m\u001b[0mstacklevel\u001b[0m\u001b[0;34m,\u001b[0m\u001b[0;34m\u001b[0m\u001b[0;34m\u001b[0m\u001b[0m\n\u001b[1;32m    310\u001b[0m                 )\n\u001b[0;32m--> 311\u001b[0;31m             \u001b[0;32mreturn\u001b[0m \u001b[0mfunc\u001b[0m\u001b[0;34m(\u001b[0m\u001b[0;34m*\u001b[0m\u001b[0margs\u001b[0m\u001b[0;34m,\u001b[0m \u001b[0;34m**\u001b[0m\u001b[0mkwargs\u001b[0m\u001b[0;34m)\u001b[0m\u001b[0;34m\u001b[0m\u001b[0;34m\u001b[0m\u001b[0m\n\u001b[0m\u001b[1;32m    312\u001b[0m \u001b[0;34m\u001b[0m\u001b[0m\n\u001b[1;32m    313\u001b[0m         \u001b[0;32mreturn\u001b[0m \u001b[0mwrapper\u001b[0m\u001b[0;34m\u001b[0m\u001b[0;34m\u001b[0m\u001b[0m\n",
            "\u001b[0;32m/usr/local/lib/python3.7/dist-packages/pandas/io/parsers/readers.py\u001b[0m in \u001b[0;36mread_csv\u001b[0;34m(filepath_or_buffer, sep, delimiter, header, names, index_col, usecols, squeeze, prefix, mangle_dupe_cols, dtype, engine, converters, true_values, false_values, skipinitialspace, skiprows, skipfooter, nrows, na_values, keep_default_na, na_filter, verbose, skip_blank_lines, parse_dates, infer_datetime_format, keep_date_col, date_parser, dayfirst, cache_dates, iterator, chunksize, compression, thousands, decimal, lineterminator, quotechar, quoting, doublequote, escapechar, comment, encoding, encoding_errors, dialect, error_bad_lines, warn_bad_lines, on_bad_lines, delim_whitespace, low_memory, memory_map, float_precision, storage_options)\u001b[0m\n\u001b[1;32m    584\u001b[0m     \u001b[0mkwds\u001b[0m\u001b[0;34m.\u001b[0m\u001b[0mupdate\u001b[0m\u001b[0;34m(\u001b[0m\u001b[0mkwds_defaults\u001b[0m\u001b[0;34m)\u001b[0m\u001b[0;34m\u001b[0m\u001b[0;34m\u001b[0m\u001b[0m\n\u001b[1;32m    585\u001b[0m \u001b[0;34m\u001b[0m\u001b[0m\n\u001b[0;32m--> 586\u001b[0;31m     \u001b[0;32mreturn\u001b[0m \u001b[0m_read\u001b[0m\u001b[0;34m(\u001b[0m\u001b[0mfilepath_or_buffer\u001b[0m\u001b[0;34m,\u001b[0m \u001b[0mkwds\u001b[0m\u001b[0;34m)\u001b[0m\u001b[0;34m\u001b[0m\u001b[0;34m\u001b[0m\u001b[0m\n\u001b[0m\u001b[1;32m    587\u001b[0m \u001b[0;34m\u001b[0m\u001b[0m\n\u001b[1;32m    588\u001b[0m \u001b[0;34m\u001b[0m\u001b[0m\n",
            "\u001b[0;32m/usr/local/lib/python3.7/dist-packages/pandas/io/parsers/readers.py\u001b[0m in \u001b[0;36m_read\u001b[0;34m(filepath_or_buffer, kwds)\u001b[0m\n\u001b[1;32m    480\u001b[0m \u001b[0;34m\u001b[0m\u001b[0m\n\u001b[1;32m    481\u001b[0m     \u001b[0;31m# Create the parser.\u001b[0m\u001b[0;34m\u001b[0m\u001b[0;34m\u001b[0m\u001b[0;34m\u001b[0m\u001b[0m\n\u001b[0;32m--> 482\u001b[0;31m     \u001b[0mparser\u001b[0m \u001b[0;34m=\u001b[0m \u001b[0mTextFileReader\u001b[0m\u001b[0;34m(\u001b[0m\u001b[0mfilepath_or_buffer\u001b[0m\u001b[0;34m,\u001b[0m \u001b[0;34m**\u001b[0m\u001b[0mkwds\u001b[0m\u001b[0;34m)\u001b[0m\u001b[0;34m\u001b[0m\u001b[0;34m\u001b[0m\u001b[0m\n\u001b[0m\u001b[1;32m    483\u001b[0m \u001b[0;34m\u001b[0m\u001b[0m\n\u001b[1;32m    484\u001b[0m     \u001b[0;32mif\u001b[0m \u001b[0mchunksize\u001b[0m \u001b[0;32mor\u001b[0m \u001b[0miterator\u001b[0m\u001b[0;34m:\u001b[0m\u001b[0;34m\u001b[0m\u001b[0;34m\u001b[0m\u001b[0m\n",
            "\u001b[0;32m/usr/local/lib/python3.7/dist-packages/pandas/io/parsers/readers.py\u001b[0m in \u001b[0;36m__init__\u001b[0;34m(self, f, engine, **kwds)\u001b[0m\n\u001b[1;32m    809\u001b[0m             \u001b[0mself\u001b[0m\u001b[0;34m.\u001b[0m\u001b[0moptions\u001b[0m\u001b[0;34m[\u001b[0m\u001b[0;34m\"has_index_names\"\u001b[0m\u001b[0;34m]\u001b[0m \u001b[0;34m=\u001b[0m \u001b[0mkwds\u001b[0m\u001b[0;34m[\u001b[0m\u001b[0;34m\"has_index_names\"\u001b[0m\u001b[0;34m]\u001b[0m\u001b[0;34m\u001b[0m\u001b[0;34m\u001b[0m\u001b[0m\n\u001b[1;32m    810\u001b[0m \u001b[0;34m\u001b[0m\u001b[0m\n\u001b[0;32m--> 811\u001b[0;31m         \u001b[0mself\u001b[0m\u001b[0;34m.\u001b[0m\u001b[0m_engine\u001b[0m \u001b[0;34m=\u001b[0m \u001b[0mself\u001b[0m\u001b[0;34m.\u001b[0m\u001b[0m_make_engine\u001b[0m\u001b[0;34m(\u001b[0m\u001b[0mself\u001b[0m\u001b[0;34m.\u001b[0m\u001b[0mengine\u001b[0m\u001b[0;34m)\u001b[0m\u001b[0;34m\u001b[0m\u001b[0;34m\u001b[0m\u001b[0m\n\u001b[0m\u001b[1;32m    812\u001b[0m \u001b[0;34m\u001b[0m\u001b[0m\n\u001b[1;32m    813\u001b[0m     \u001b[0;32mdef\u001b[0m \u001b[0mclose\u001b[0m\u001b[0;34m(\u001b[0m\u001b[0mself\u001b[0m\u001b[0;34m)\u001b[0m\u001b[0;34m:\u001b[0m\u001b[0;34m\u001b[0m\u001b[0;34m\u001b[0m\u001b[0m\n",
            "\u001b[0;32m/usr/local/lib/python3.7/dist-packages/pandas/io/parsers/readers.py\u001b[0m in \u001b[0;36m_make_engine\u001b[0;34m(self, engine)\u001b[0m\n\u001b[1;32m   1038\u001b[0m             )\n\u001b[1;32m   1039\u001b[0m         \u001b[0;31m# error: Too many arguments for \"ParserBase\"\u001b[0m\u001b[0;34m\u001b[0m\u001b[0;34m\u001b[0m\u001b[0;34m\u001b[0m\u001b[0m\n\u001b[0;32m-> 1040\u001b[0;31m         \u001b[0;32mreturn\u001b[0m \u001b[0mmapping\u001b[0m\u001b[0;34m[\u001b[0m\u001b[0mengine\u001b[0m\u001b[0;34m]\u001b[0m\u001b[0;34m(\u001b[0m\u001b[0mself\u001b[0m\u001b[0;34m.\u001b[0m\u001b[0mf\u001b[0m\u001b[0;34m,\u001b[0m \u001b[0;34m**\u001b[0m\u001b[0mself\u001b[0m\u001b[0;34m.\u001b[0m\u001b[0moptions\u001b[0m\u001b[0;34m)\u001b[0m  \u001b[0;31m# type: ignore[call-arg]\u001b[0m\u001b[0;34m\u001b[0m\u001b[0;34m\u001b[0m\u001b[0m\n\u001b[0m\u001b[1;32m   1041\u001b[0m \u001b[0;34m\u001b[0m\u001b[0m\n\u001b[1;32m   1042\u001b[0m     \u001b[0;32mdef\u001b[0m \u001b[0m_failover_to_python\u001b[0m\u001b[0;34m(\u001b[0m\u001b[0mself\u001b[0m\u001b[0;34m)\u001b[0m\u001b[0;34m:\u001b[0m\u001b[0;34m\u001b[0m\u001b[0;34m\u001b[0m\u001b[0m\n",
            "\u001b[0;32m/usr/local/lib/python3.7/dist-packages/pandas/io/parsers/c_parser_wrapper.py\u001b[0m in \u001b[0;36m__init__\u001b[0;34m(self, src, **kwds)\u001b[0m\n\u001b[1;32m     49\u001b[0m \u001b[0;34m\u001b[0m\u001b[0m\n\u001b[1;32m     50\u001b[0m         \u001b[0;31m# open handles\u001b[0m\u001b[0;34m\u001b[0m\u001b[0;34m\u001b[0m\u001b[0;34m\u001b[0m\u001b[0m\n\u001b[0;32m---> 51\u001b[0;31m         \u001b[0mself\u001b[0m\u001b[0;34m.\u001b[0m\u001b[0m_open_handles\u001b[0m\u001b[0;34m(\u001b[0m\u001b[0msrc\u001b[0m\u001b[0;34m,\u001b[0m \u001b[0mkwds\u001b[0m\u001b[0;34m)\u001b[0m\u001b[0;34m\u001b[0m\u001b[0;34m\u001b[0m\u001b[0m\n\u001b[0m\u001b[1;32m     52\u001b[0m         \u001b[0;32massert\u001b[0m \u001b[0mself\u001b[0m\u001b[0;34m.\u001b[0m\u001b[0mhandles\u001b[0m \u001b[0;32mis\u001b[0m \u001b[0;32mnot\u001b[0m \u001b[0;32mNone\u001b[0m\u001b[0;34m\u001b[0m\u001b[0;34m\u001b[0m\u001b[0m\n\u001b[1;32m     53\u001b[0m \u001b[0;34m\u001b[0m\u001b[0m\n",
            "\u001b[0;32m/usr/local/lib/python3.7/dist-packages/pandas/io/parsers/base_parser.py\u001b[0m in \u001b[0;36m_open_handles\u001b[0;34m(self, src, kwds)\u001b[0m\n\u001b[1;32m    227\u001b[0m             \u001b[0mmemory_map\u001b[0m\u001b[0;34m=\u001b[0m\u001b[0mkwds\u001b[0m\u001b[0;34m.\u001b[0m\u001b[0mget\u001b[0m\u001b[0;34m(\u001b[0m\u001b[0;34m\"memory_map\"\u001b[0m\u001b[0;34m,\u001b[0m \u001b[0;32mFalse\u001b[0m\u001b[0;34m)\u001b[0m\u001b[0;34m,\u001b[0m\u001b[0;34m\u001b[0m\u001b[0;34m\u001b[0m\u001b[0m\n\u001b[1;32m    228\u001b[0m             \u001b[0mstorage_options\u001b[0m\u001b[0;34m=\u001b[0m\u001b[0mkwds\u001b[0m\u001b[0;34m.\u001b[0m\u001b[0mget\u001b[0m\u001b[0;34m(\u001b[0m\u001b[0;34m\"storage_options\"\u001b[0m\u001b[0;34m,\u001b[0m \u001b[0;32mNone\u001b[0m\u001b[0;34m)\u001b[0m\u001b[0;34m,\u001b[0m\u001b[0;34m\u001b[0m\u001b[0;34m\u001b[0m\u001b[0m\n\u001b[0;32m--> 229\u001b[0;31m             \u001b[0merrors\u001b[0m\u001b[0;34m=\u001b[0m\u001b[0mkwds\u001b[0m\u001b[0;34m.\u001b[0m\u001b[0mget\u001b[0m\u001b[0;34m(\u001b[0m\u001b[0;34m\"encoding_errors\"\u001b[0m\u001b[0;34m,\u001b[0m \u001b[0;34m\"strict\"\u001b[0m\u001b[0;34m)\u001b[0m\u001b[0;34m,\u001b[0m\u001b[0;34m\u001b[0m\u001b[0;34m\u001b[0m\u001b[0m\n\u001b[0m\u001b[1;32m    230\u001b[0m         )\n\u001b[1;32m    231\u001b[0m \u001b[0;34m\u001b[0m\u001b[0m\n",
            "\u001b[0;32m/usr/local/lib/python3.7/dist-packages/pandas/io/common.py\u001b[0m in \u001b[0;36mget_handle\u001b[0;34m(path_or_buf, mode, encoding, compression, memory_map, is_text, errors, storage_options)\u001b[0m\n\u001b[1;32m    705\u001b[0m                 \u001b[0mencoding\u001b[0m\u001b[0;34m=\u001b[0m\u001b[0mioargs\u001b[0m\u001b[0;34m.\u001b[0m\u001b[0mencoding\u001b[0m\u001b[0;34m,\u001b[0m\u001b[0;34m\u001b[0m\u001b[0;34m\u001b[0m\u001b[0m\n\u001b[1;32m    706\u001b[0m                 \u001b[0merrors\u001b[0m\u001b[0;34m=\u001b[0m\u001b[0merrors\u001b[0m\u001b[0;34m,\u001b[0m\u001b[0;34m\u001b[0m\u001b[0;34m\u001b[0m\u001b[0m\n\u001b[0;32m--> 707\u001b[0;31m                 \u001b[0mnewline\u001b[0m\u001b[0;34m=\u001b[0m\u001b[0;34m\"\"\u001b[0m\u001b[0;34m,\u001b[0m\u001b[0;34m\u001b[0m\u001b[0;34m\u001b[0m\u001b[0m\n\u001b[0m\u001b[1;32m    708\u001b[0m             )\n\u001b[1;32m    709\u001b[0m         \u001b[0;32melse\u001b[0m\u001b[0;34m:\u001b[0m\u001b[0;34m\u001b[0m\u001b[0;34m\u001b[0m\u001b[0m\n",
            "\u001b[0;31mFileNotFoundError\u001b[0m: [Errno 2] No such file or directory: '../input/titanic/train.csv'"
          ]
        }
      ]
    },
    {
      "cell_type": "code",
      "source": [
        "df_train.head()"
      ],
      "metadata": {
        "execution": {
          "iopub.status.busy": "2022-01-29T13:24:55.25307Z",
          "iopub.execute_input": "2022-01-29T13:24:55.253473Z",
          "iopub.status.idle": "2022-01-29T13:24:55.27045Z",
          "shell.execute_reply.started": "2022-01-29T13:24:55.253431Z",
          "shell.execute_reply": "2022-01-29T13:24:55.269748Z"
        },
        "trusted": true,
        "id": "-LeoPI1xL4WS"
      },
      "execution_count": null,
      "outputs": []
    },
    {
      "cell_type": "code",
      "source": [
        "df_train.describe()"
      ],
      "metadata": {
        "execution": {
          "iopub.status.busy": "2022-01-29T13:24:55.271494Z",
          "iopub.execute_input": "2022-01-29T13:24:55.271826Z",
          "iopub.status.idle": "2022-01-29T13:24:55.304535Z",
          "shell.execute_reply.started": "2022-01-29T13:24:55.271797Z",
          "shell.execute_reply": "2022-01-29T13:24:55.303849Z"
        },
        "trusted": true,
        "id": "jVaiVTh3L4WT"
      },
      "execution_count": null,
      "outputs": []
    },
    {
      "cell_type": "markdown",
      "source": [
        "## 1-1. 결측값 확인"
      ],
      "metadata": {
        "id": "5-AXdR3FL4WT"
      }
    },
    {
      "cell_type": "code",
      "source": [
        "for col in df_train.columns :\n",
        "    msg = 'column: {:>10}\\t percent of NaN value : {:.2f}%'.format(col, 100 * (df_train[col].isnull().sum() / df_train[col].shape[0]))\n",
        "    print(msg)"
      ],
      "metadata": {
        "execution": {
          "iopub.status.busy": "2022-01-29T13:24:55.305483Z",
          "iopub.execute_input": "2022-01-29T13:24:55.306044Z",
          "iopub.status.idle": "2022-01-29T13:24:55.31977Z",
          "shell.execute_reply.started": "2022-01-29T13:24:55.306013Z",
          "shell.execute_reply": "2022-01-29T13:24:55.318874Z"
        },
        "trusted": true,
        "id": "b8nKVbb4L4WV"
      },
      "execution_count": null,
      "outputs": []
    },
    {
      "cell_type": "code",
      "source": [
        "print(df_train['Age'].isnull().sum())\n",
        "print()\n",
        "print(df_train['Pclass'].shape)"
      ],
      "metadata": {
        "execution": {
          "iopub.status.busy": "2022-01-29T13:24:55.320833Z",
          "iopub.execute_input": "2022-01-29T13:24:55.321491Z",
          "iopub.status.idle": "2022-01-29T13:24:55.327803Z",
          "shell.execute_reply.started": "2022-01-29T13:24:55.321456Z",
          "shell.execute_reply": "2022-01-29T13:24:55.326872Z"
        },
        "trusted": true,
        "id": "5nsOTjFoL4WV"
      },
      "execution_count": null,
      "outputs": []
    },
    {
      "cell_type": "code",
      "source": [
        "for col in df_test.columns :\n",
        "    msg = 'column: {:>10}\\t percent of NaN value : {:.2f}%'.format(col, 100 * (df_test[col].isnull().sum() / df_test[col].shape[0]))\n",
        "    print(msg)"
      ],
      "metadata": {
        "execution": {
          "iopub.status.busy": "2022-01-29T13:24:55.329131Z",
          "iopub.execute_input": "2022-01-29T13:24:55.329633Z",
          "iopub.status.idle": "2022-01-29T13:24:55.350687Z",
          "shell.execute_reply.started": "2022-01-29T13:24:55.329587Z",
          "shell.execute_reply": "2022-01-29T13:24:55.349483Z"
        },
        "trusted": true,
        "id": "TmgiyDQUL4WV"
      },
      "execution_count": null,
      "outputs": []
    },
    {
      "cell_type": "markdown",
      "source": [
        "msno 라이브러리 사용하면 null data의 존재 시각화 가능"
      ],
      "metadata": {
        "id": "oZBINP_JL4WW"
      }
    },
    {
      "cell_type": "code",
      "source": [
        "msno.matrix(df=df_train.iloc[:, :], figsize=(8,8),color=(0.8, 0.5, 0.2))"
      ],
      "metadata": {
        "execution": {
          "iopub.status.busy": "2022-01-29T13:24:55.357098Z",
          "iopub.execute_input": "2022-01-29T13:24:55.35738Z",
          "iopub.status.idle": "2022-01-29T13:24:55.817267Z",
          "shell.execute_reply.started": "2022-01-29T13:24:55.357345Z",
          "shell.execute_reply": "2022-01-29T13:24:55.816418Z"
        },
        "trusted": true,
        "id": "9ssISzTbL4WW"
      },
      "execution_count": null,
      "outputs": []
    },
    {
      "cell_type": "code",
      "source": [
        "msno.bar(df=df_train.iloc[:,:], figsize=(8,8), color=(0.6, 0.5, 0.2))"
      ],
      "metadata": {
        "execution": {
          "iopub.status.busy": "2022-01-29T13:24:55.818471Z",
          "iopub.execute_input": "2022-01-29T13:24:55.818898Z",
          "iopub.status.idle": "2022-01-29T13:24:57.033366Z",
          "shell.execute_reply.started": "2022-01-29T13:24:55.818866Z",
          "shell.execute_reply": "2022-01-29T13:24:57.032373Z"
        },
        "trusted": true,
        "id": "TN5Aj0iUL4WX"
      },
      "execution_count": null,
      "outputs": []
    },
    {
      "cell_type": "code",
      "source": [
        "msno.bar(df=df_test.iloc[:,:], figsize=(8,8), color=(0.5, 0.2, 0.2))"
      ],
      "metadata": {
        "execution": {
          "iopub.status.busy": "2022-01-29T13:24:57.035029Z",
          "iopub.execute_input": "2022-01-29T13:24:57.036481Z",
          "iopub.status.idle": "2022-01-29T13:24:57.891102Z",
          "shell.execute_reply.started": "2022-01-29T13:24:57.03643Z",
          "shell.execute_reply": "2022-01-29T13:24:57.890468Z"
        },
        "trusted": true,
        "id": "82HIPwyRL4WX"
      },
      "execution_count": null,
      "outputs": []
    },
    {
      "cell_type": "markdown",
      "source": [
        "**1.2 Target label 확인**"
      ],
      "metadata": {
        "execution": {
          "iopub.status.busy": "2022-01-28T10:03:03.067982Z",
          "iopub.execute_input": "2022-01-28T10:03:03.068267Z",
          "iopub.status.idle": "2022-01-28T10:03:03.074511Z",
          "shell.execute_reply.started": "2022-01-28T10:03:03.068238Z",
          "shell.execute_reply": "2022-01-28T10:03:03.073474Z"
        },
        "id": "Lcwy8_jxL4WY"
      }
    },
    {
      "cell_type": "code",
      "source": [
        "f, ax = plt.subplots(1,2, figsize=(18,8))\n",
        "\n",
        "df_train['Survived'].value_counts().plot.pie(explode=[0,0.1], autopct='%1.1f%%', ax=ax[0], shadow=True)\n",
        "ax[0].set_title('Pie plot - Survived')\n",
        "ax[0].set_ylabel('')\n",
        "\n",
        "sns.countplot('Survived', data=df_train, ax=ax[1])\n",
        "ax[1].set_title('count plot - survived')\n",
        "\n",
        "plt.show();"
      ],
      "metadata": {
        "execution": {
          "iopub.status.busy": "2022-01-29T13:24:57.89248Z",
          "iopub.execute_input": "2022-01-29T13:24:57.893418Z",
          "iopub.status.idle": "2022-01-29T13:24:58.197239Z",
          "shell.execute_reply.started": "2022-01-29T13:24:57.89337Z",
          "shell.execute_reply": "2022-01-29T13:24:58.196357Z"
        },
        "trusted": true,
        "id": "auImkRZFL4WY"
      },
      "execution_count": null,
      "outputs": []
    },
    {
      "cell_type": "markdown",
      "source": [
        "***2. EDA***"
      ],
      "metadata": {
        "execution": {
          "iopub.status.busy": "2022-01-28T10:13:28.167888Z",
          "iopub.execute_input": "2022-01-28T10:13:28.168171Z",
          "iopub.status.idle": "2022-01-28T10:13:28.174627Z",
          "shell.execute_reply.started": "2022-01-28T10:13:28.168149Z",
          "shell.execute_reply": "2022-01-28T10:13:28.173031Z"
        },
        "id": "B0SIqDsqL4WY"
      }
    },
    {
      "cell_type": "markdown",
      "source": [
        "**2.1 Pclass**"
      ],
      "metadata": {
        "execution": {
          "iopub.status.busy": "2022-01-28T10:14:02.943599Z",
          "iopub.execute_input": "2022-01-28T10:14:02.943889Z",
          "iopub.status.idle": "2022-01-28T10:14:02.950393Z",
          "shell.execute_reply.started": "2022-01-28T10:14:02.943847Z",
          "shell.execute_reply": "2022-01-28T10:14:02.949236Z"
        },
        "id": "VOyv72RPL4WZ"
      }
    },
    {
      "cell_type": "markdown",
      "source": [
        "- 순서가 있는 데이터 타입\n",
        "- pivot 메소드, pandas의 groupby로 작업 가능"
      ],
      "metadata": {
        "execution": {
          "iopub.status.busy": "2022-01-28T10:16:59.754853Z",
          "iopub.execute_input": "2022-01-28T10:16:59.755088Z",
          "iopub.status.idle": "2022-01-28T10:16:59.760236Z",
          "shell.execute_reply.started": "2022-01-28T10:16:59.755065Z",
          "shell.execute_reply": "2022-01-28T10:16:59.75932Z"
        },
        "id": "E8piFFffL4WZ"
      }
    },
    {
      "cell_type": "code",
      "source": [
        "df_train['Pclass']"
      ],
      "metadata": {
        "execution": {
          "iopub.status.busy": "2022-01-29T13:24:58.198995Z",
          "iopub.execute_input": "2022-01-29T13:24:58.199362Z",
          "iopub.status.idle": "2022-01-29T13:24:58.207609Z",
          "shell.execute_reply.started": "2022-01-29T13:24:58.199289Z",
          "shell.execute_reply": "2022-01-29T13:24:58.206657Z"
        },
        "trusted": true,
        "id": "Q2H4wGl0L4WZ"
      },
      "execution_count": null,
      "outputs": []
    },
    {
      "cell_type": "code",
      "source": [
        "# 생존한 사람의 총합\n",
        "df_train[['Pclass', 'Survived']].groupby(['Pclass']).count()"
      ],
      "metadata": {
        "execution": {
          "iopub.status.busy": "2022-01-29T13:24:58.209078Z",
          "iopub.execute_input": "2022-01-29T13:24:58.209854Z",
          "iopub.status.idle": "2022-01-29T13:24:58.226629Z",
          "shell.execute_reply.started": "2022-01-29T13:24:58.209819Z",
          "shell.execute_reply": "2022-01-29T13:24:58.225537Z"
        },
        "trusted": true,
        "id": "vNbVuNyRL4WZ"
      },
      "execution_count": null,
      "outputs": []
    },
    {
      "cell_type": "code",
      "source": [
        "df_train[['Pclass','Survived']].groupby(['Pclass']).sum()"
      ],
      "metadata": {
        "execution": {
          "iopub.status.busy": "2022-01-29T13:24:58.228197Z",
          "iopub.execute_input": "2022-01-29T13:24:58.228578Z",
          "iopub.status.idle": "2022-01-29T13:24:58.242844Z",
          "shell.execute_reply.started": "2022-01-29T13:24:58.228531Z",
          "shell.execute_reply": "2022-01-29T13:24:58.241847Z"
        },
        "trusted": true,
        "id": "oTFHEtFjL4Wa"
      },
      "execution_count": null,
      "outputs": []
    },
    {
      "cell_type": "code",
      "source": [
        "pd.crosstab(df_train['Pclass'], df_train['Survived'], margins=True).style.background_gradient(cmap='summer_r')"
      ],
      "metadata": {
        "execution": {
          "iopub.status.busy": "2022-01-29T13:24:58.2441Z",
          "iopub.execute_input": "2022-01-29T13:24:58.244439Z",
          "iopub.status.idle": "2022-01-29T13:24:58.295531Z",
          "shell.execute_reply.started": "2022-01-29T13:24:58.244405Z",
          "shell.execute_reply": "2022-01-29T13:24:58.294803Z"
        },
        "trusted": true,
        "id": "hb2dWVVpL4Wa"
      },
      "execution_count": null,
      "outputs": []
    },
    {
      "cell_type": "markdown",
      "source": [
        "grouped 객체에 mean() 하면 클래스별 생존률을 얻을 수 있다."
      ],
      "metadata": {
        "execution": {
          "iopub.status.busy": "2022-01-28T10:23:24.214194Z",
          "iopub.execute_input": "2022-01-28T10:23:24.214519Z",
          "iopub.status.idle": "2022-01-28T10:23:24.220986Z",
          "shell.execute_reply.started": "2022-01-28T10:23:24.214479Z",
          "shell.execute_reply": "2022-01-28T10:23:24.219757Z"
        },
        "id": "dWwe-AkML4Wa"
      }
    },
    {
      "cell_type": "code",
      "source": [
        "df_train[['Pclass', 'Survived']].groupby(['Pclass'], as_index=True).mean().sort_values(by='Survived', ascending=False).plot.bar()"
      ],
      "metadata": {
        "execution": {
          "iopub.status.busy": "2022-01-29T13:24:58.296609Z",
          "iopub.execute_input": "2022-01-29T13:24:58.297026Z",
          "iopub.status.idle": "2022-01-29T13:24:58.534653Z",
          "shell.execute_reply.started": "2022-01-29T13:24:58.29697Z",
          "shell.execute_reply": "2022-01-29T13:24:58.533591Z"
        },
        "trusted": true,
        "id": "SfpD7CX2L4Wb"
      },
      "execution_count": null,
      "outputs": []
    },
    {
      "cell_type": "markdown",
      "source": [
        "Pclass와 생존률 과의 관계를 확인할 수 있었음"
      ],
      "metadata": {
        "id": "razfUBaBL4Wb"
      }
    },
    {
      "cell_type": "code",
      "source": [
        "y_position = 1.02\n",
        "f, ax = plt.subplots(1,2, figsize=(18,8))\n",
        "df_train['Pclass'].value_counts().plot.bar(color=['black', 'purple', 'skyblue'], ax=ax[0])\n",
        "ax[0].set_title('Number of Passengers By Pclass', y= y_position)\n",
        "ax[0].set_ylabel('Count')\n",
        "\n",
        "sns.countplot('Pclass', hue='Survived', data=df_train, ax=ax[1])\n",
        "ax[1].set_title('Pclass: Survived vs Dead', y=y_position)\n",
        "\n",
        "plt.show()"
      ],
      "metadata": {
        "execution": {
          "iopub.status.busy": "2022-01-29T13:24:58.536203Z",
          "iopub.execute_input": "2022-01-29T13:24:58.537061Z",
          "iopub.status.idle": "2022-01-29T13:24:58.897361Z",
          "shell.execute_reply.started": "2022-01-29T13:24:58.537015Z",
          "shell.execute_reply": "2022-01-29T13:24:58.89645Z"
        },
        "trusted": true,
        "id": "Ya7BbOlAL4Wb"
      },
      "execution_count": null,
      "outputs": []
    },
    {
      "cell_type": "markdown",
      "source": [
        "모델을 새울 때 Pclass를 사용하는 것이 좋을 것이라 판단"
      ],
      "metadata": {
        "execution": {
          "iopub.status.busy": "2022-01-28T10:29:52.031014Z",
          "iopub.execute_input": "2022-01-28T10:29:52.031296Z",
          "iopub.status.idle": "2022-01-28T10:29:52.037611Z",
          "shell.execute_reply.started": "2022-01-28T10:29:52.031267Z",
          "shell.execute_reply": "2022-01-28T10:29:52.036607Z"
        },
        "id": "mdOyrJBuL4Wb"
      }
    },
    {
      "cell_type": "markdown",
      "source": [
        "**2.2 Sex**"
      ],
      "metadata": {
        "execution": {
          "iopub.status.busy": "2022-01-28T10:30:06.211605Z",
          "iopub.execute_input": "2022-01-28T10:30:06.211919Z",
          "iopub.status.idle": "2022-01-28T10:30:06.219646Z",
          "shell.execute_reply.started": "2022-01-28T10:30:06.211888Z",
          "shell.execute_reply": "2022-01-28T10:30:06.217936Z"
        },
        "id": "N83DFt6_L4Wb"
      }
    },
    {
      "cell_type": "code",
      "source": [
        "f, ax = plt.subplots(1,2, figsize=(18,8))\n",
        "df_train[['Sex', 'Survived']].groupby(['Sex'], as_index=True).mean().plot.bar(ax=ax[0])\n",
        "ax[0].set_title('Survived by sex')\n",
        "\n",
        "sns.countplot('Sex', hue='Survived', data=df_train, ax=ax[1])\n",
        "ax[1].set_title('Sex: Survived vs Dead')\n",
        "\n",
        "plt.show()"
      ],
      "metadata": {
        "execution": {
          "iopub.status.busy": "2022-01-29T13:24:58.898933Z",
          "iopub.execute_input": "2022-01-29T13:24:58.899881Z",
          "iopub.status.idle": "2022-01-29T13:24:59.509964Z",
          "shell.execute_reply.started": "2022-01-29T13:24:58.899833Z",
          "shell.execute_reply": "2022-01-29T13:24:59.509258Z"
        },
        "trusted": true,
        "id": "9dnq3nmXL4Wc"
      },
      "execution_count": null,
      "outputs": []
    },
    {
      "cell_type": "code",
      "source": [
        "df_train[['Sex', 'Survived']].groupby(['Sex'], as_index=False).mean().sort_values(by = 'Survived', ascending=False)"
      ],
      "metadata": {
        "execution": {
          "iopub.status.busy": "2022-01-29T13:24:59.511147Z",
          "iopub.execute_input": "2022-01-29T13:24:59.511956Z",
          "iopub.status.idle": "2022-01-29T13:24:59.526976Z",
          "shell.execute_reply.started": "2022-01-29T13:24:59.511921Z",
          "shell.execute_reply": "2022-01-29T13:24:59.525821Z"
        },
        "trusted": true,
        "id": "vvzyd6qwL4Wc"
      },
      "execution_count": null,
      "outputs": []
    },
    {
      "cell_type": "code",
      "source": [
        "pd.crosstab(df_train['Sex'], df_train['Survived'], margins=True).style.background_gradient(cmap='summer_r')"
      ],
      "metadata": {
        "execution": {
          "iopub.status.busy": "2022-01-29T13:24:59.528455Z",
          "iopub.execute_input": "2022-01-29T13:24:59.529058Z",
          "iopub.status.idle": "2022-01-29T13:24:59.586825Z",
          "shell.execute_reply.started": "2022-01-29T13:24:59.529013Z",
          "shell.execute_reply": "2022-01-29T13:24:59.585863Z"
        },
        "trusted": true,
        "id": "9orcZAWWL4Wc"
      },
      "execution_count": null,
      "outputs": []
    },
    {
      "cell_type": "markdown",
      "source": [
        "**2.3 Both Sex and Pclass**\n",
        "- sex 특징값이 생존에 영향을 준다는 것을 알게 되었음\n",
        "- 그러면 앞서 비교한 Pclass와는 어떨까?"
      ],
      "metadata": {
        "execution": {
          "iopub.status.busy": "2022-01-28T14:07:34.456191Z",
          "iopub.execute_input": "2022-01-28T14:07:34.456795Z",
          "iopub.status.idle": "2022-01-28T14:07:34.46272Z",
          "shell.execute_reply.started": "2022-01-28T14:07:34.456741Z",
          "shell.execute_reply": "2022-01-28T14:07:34.461551Z"
        },
        "id": "YOxlXokOL4Wc"
      }
    },
    {
      "cell_type": "code",
      "source": [
        "sns.factorplot('Pclass', 'Survived', hue='Sex', data=df_train, size=6, aspect=1.5)"
      ],
      "metadata": {
        "execution": {
          "iopub.status.busy": "2022-01-29T13:24:59.588505Z",
          "iopub.execute_input": "2022-01-29T13:24:59.5889Z",
          "iopub.status.idle": "2022-01-29T13:25:00.481234Z",
          "shell.execute_reply.started": "2022-01-29T13:24:59.588839Z",
          "shell.execute_reply": "2022-01-29T13:25:00.480151Z"
        },
        "trusted": true,
        "id": "j35d2WgJL4Wc"
      },
      "execution_count": null,
      "outputs": []
    },
    {
      "cell_type": "code",
      "source": [
        "sns.factorplot(x='Sex', y='Survived', col='Pclass', data=df_train, b =.5, size=9, aspect=1)"
      ],
      "metadata": {
        "execution": {
          "iopub.status.busy": "2022-01-29T13:25:00.48269Z",
          "iopub.execute_input": "2022-01-29T13:25:00.482943Z",
          "iopub.status.idle": "2022-01-29T13:25:01.6412Z",
          "shell.execute_reply.started": "2022-01-29T13:25:00.48291Z",
          "shell.execute_reply": "2022-01-29T13:25:01.64016Z"
        },
        "trusted": true,
        "id": "M6twIaymL4Wd"
      },
      "execution_count": null,
      "outputs": []
    },
    {
      "cell_type": "markdown",
      "source": [
        "- 모든 클래스에서 성별에 대해 일관적인 결과가 나오고 있음"
      ],
      "metadata": {
        "id": "YBMhPTL0L4Wd"
      }
    },
    {
      "cell_type": "markdown",
      "source": [
        "**2.4 Age**"
      ],
      "metadata": {
        "id": "DgajhWCaL4Wd"
      }
    },
    {
      "cell_type": "code",
      "source": [
        "print('제일 어린 승객 : {:.1f} Years'.format(df_train['Age'].max()))\n",
        "print('나이 제일 많은 승객 : {:.1f} Years'.format(df_train['Age'].min()))\n",
        "print('탑승객 평균 나이 : {:.1f} Years'.format(df_train['Age'].mean()))"
      ],
      "metadata": {
        "execution": {
          "iopub.status.busy": "2022-01-29T13:25:01.646327Z",
          "iopub.execute_input": "2022-01-29T13:25:01.646591Z",
          "iopub.status.idle": "2022-01-29T13:25:01.654768Z",
          "shell.execute_reply.started": "2022-01-29T13:25:01.646558Z",
          "shell.execute_reply": "2022-01-29T13:25:01.653482Z"
        },
        "trusted": true,
        "id": "daz9fI5cL4Wd"
      },
      "execution_count": null,
      "outputs": []
    },
    {
      "cell_type": "code",
      "source": [
        "fig, ax = plt.subplots(1,1, figsize=(9,5))\n",
        "sns.kdeplot(df_train[df_train['Survived'] == 1]['Age'], ax=ax)\n",
        "sns.kdeplot(df_train[df_train['Survived'] == 0]['Age'], ax =ax)\n",
        "\n",
        "plt.legend(['Survived == 1', 'Survived == 0'])\n",
        "plt.show()"
      ],
      "metadata": {
        "execution": {
          "iopub.status.busy": "2022-01-29T13:25:01.656688Z",
          "iopub.execute_input": "2022-01-29T13:25:01.657043Z",
          "iopub.status.idle": "2022-01-29T13:25:02.008209Z",
          "shell.execute_reply.started": "2022-01-29T13:25:01.656996Z",
          "shell.execute_reply": "2022-01-29T13:25:02.007149Z"
        },
        "trusted": true,
        "id": "pdbVMfIjL4Wd"
      },
      "execution_count": null,
      "outputs": []
    },
    {
      "cell_type": "code",
      "source": [
        "plt.figure(figsize=(8,6))\n",
        "df_train['Age'][df_train['Pclass'] == 1].plot(kind='kde')\n",
        "df_train['Age'][df_train['Pclass'] == 2].plot(kind='kde')\n",
        "df_train['Age'][df_train['Pclass'] == 3].plot(kind='kde')\n",
        "\n",
        "plt.xlabel('Age')\n",
        "plt.title('Age Distribution within classes')\n",
        "plt.legend(['1st class', '2nd class', '3rd class']);"
      ],
      "metadata": {
        "execution": {
          "iopub.status.busy": "2022-01-29T13:25:02.009738Z",
          "iopub.execute_input": "2022-01-29T13:25:02.010102Z",
          "iopub.status.idle": "2022-01-29T13:25:02.41852Z",
          "shell.execute_reply.started": "2022-01-29T13:25:02.010058Z",
          "shell.execute_reply": "2022-01-29T13:25:02.41777Z"
        },
        "trusted": true,
        "id": "qeBih89WL4We"
      },
      "execution_count": null,
      "outputs": []
    },
    {
      "cell_type": "markdown",
      "source": [
        "- 클래스에 따라 나이의 상관관계를 찾을 수 있었음"
      ],
      "metadata": {
        "id": "_XqYyu0EL4We"
      }
    },
    {
      "cell_type": "code",
      "source": [
        "cummulate_survival_ratio=[]\n",
        "for i in range(1, 80) :\n",
        "    cummulate_survival_ratio.append(df_train[df_train['Age'] < i]['Survived'].sum() / len(df_train[df_train['Age'] < i]['Survived']))\n",
        "\n",
        "plt.figure(figsize=(7,7))\n",
        "plt.plot(cummulate_survival_ratio)\n",
        "plt.title('Survival rate change depending on range of Age', y=1.02)\n",
        "plt.ylabel('Survival rate')\n",
        "plt.xlabel('Range of Age(0~x)')\n",
        "plt.show()"
      ],
      "metadata": {
        "execution": {
          "iopub.status.busy": "2022-01-29T13:25:02.419516Z",
          "iopub.execute_input": "2022-01-29T13:25:02.419916Z",
          "iopub.status.idle": "2022-01-29T13:25:02.75355Z",
          "shell.execute_reply.started": "2022-01-29T13:25:02.41988Z",
          "shell.execute_reply": "2022-01-29T13:25:02.752374Z"
        },
        "trusted": true,
        "id": "mm_7kqAYL4We"
      },
      "execution_count": null,
      "outputs": []
    },
    {
      "cell_type": "markdown",
      "source": [
        "- 나이가 어릴 수록 생존 확률이 올라감\n",
        "- Age 또한 특징으로 사용할 수 있을 것임"
      ],
      "metadata": {
        "id": "LrtOyJrUL4We"
      }
    },
    {
      "cell_type": "markdown",
      "source": [
        "**2.5 Pclass, Sex, Age**\n",
        "- x : case(Pclass, Sex)\n",
        "- y : distribution(Age)"
      ],
      "metadata": {
        "execution": {
          "iopub.status.busy": "2022-01-28T14:53:32.386143Z",
          "iopub.execute_input": "2022-01-28T14:53:32.386419Z"
        },
        "id": "bhgSr0OdL4We"
      }
    },
    {
      "cell_type": "code",
      "source": [
        "f, ax = plt.subplots(1,2, figsize=(18, 8))\n",
        "sns.violinplot(\"Pclass\", \"Age\", hue=\"Survived\", data=df_train, scale='count', split=True, ax=ax[0])\n",
        "ax[0].set_title('Pclass and Age vs Survived')\n",
        "ax[0].set_yticks(range(0, 110, 10))\n",
        "\n",
        "sns.violinplot(\"Sex\", \"Age\", hue=\"Survived\", data=df_train, sclae='count', split=True, ax=ax[1])\n",
        "ax[1].set_title('Sex and Age vs Survived')\n",
        "ax[1].set_yticks(range(0, 110, 10))\n",
        "plt.show()"
      ],
      "metadata": {
        "execution": {
          "iopub.status.busy": "2022-01-29T13:25:02.75483Z",
          "iopub.execute_input": "2022-01-29T13:25:02.755059Z",
          "iopub.status.idle": "2022-01-29T13:25:03.37263Z",
          "shell.execute_reply.started": "2022-01-29T13:25:02.755029Z",
          "shell.execute_reply": "2022-01-29T13:25:03.371734Z"
        },
        "trusted": true,
        "id": "BOze6ow-L4Wf"
      },
      "execution_count": null,
      "outputs": []
    },
    {
      "cell_type": "markdown",
      "source": [
        "**2.6 Embarked**\n",
        "- 탑승 항구"
      ],
      "metadata": {
        "execution": {
          "iopub.status.busy": "2022-01-28T16:52:27.899075Z"
        },
        "id": "AH4P4jndL4Wf"
      }
    },
    {
      "cell_type": "code",
      "source": [
        "d, ax = plt.subplots(1,1,figsize=(7,7))\n",
        "df_train[['Embarked', 'Survived']].groupby(['Embarked'],as_index = True).mean().sort_values(by='Survived', ascending=False).plot.bar(ax=ax)"
      ],
      "metadata": {
        "execution": {
          "iopub.status.busy": "2022-01-29T13:25:03.373945Z",
          "iopub.execute_input": "2022-01-29T13:25:03.374988Z",
          "iopub.status.idle": "2022-01-29T13:25:03.642091Z",
          "shell.execute_reply.started": "2022-01-29T13:25:03.374917Z",
          "shell.execute_reply": "2022-01-29T13:25:03.64117Z"
        },
        "trusted": true,
        "id": "wMrLPP_aL4Wf"
      },
      "execution_count": null,
      "outputs": []
    },
    {
      "cell_type": "markdown",
      "source": [
        "- 의미가 있을지는 모르겠지만 약간의 차이가 있기 때문에 사용하기로 함"
      ],
      "metadata": {
        "id": "YNWwWiKvL4Wf"
      }
    },
    {
      "cell_type": "code",
      "source": [
        "f,ax = plt.subplots(2,2, figsize=(20,15))\n",
        "sns.countplot('Embarked', data=df_train, ax =ax[0,0])\n",
        "ax[0,0].set_title('(1) No. odf Passengers Boarded')\n",
        "\n",
        "sns.countplot('Embarked', hue='Sex', data=df_train, ax=ax[0,1])\n",
        "ax[0,1].set_title('(2) Male-Female Split for Embarked')\n",
        "\n",
        "sns.countplot('Embarked', hue='Survived', data=df_train, ax = ax[1,0])\n",
        "ax[1,0].set_title('(3) Embarked vs Survived')\n",
        "\n",
        "sns.countplot('Embarked', hue='Pclass', data=df_train, ax = ax[1,1])\n",
        "ax[1,1].set_title('(4)Embarked vs Pclass')\n",
        "\n",
        "plt.subplots_adjust(wspace=0.2, hspace=0.5)\n",
        "plt.show()\n"
      ],
      "metadata": {
        "execution": {
          "iopub.status.busy": "2022-01-29T13:25:03.643428Z",
          "iopub.execute_input": "2022-01-29T13:25:03.643767Z",
          "iopub.status.idle": "2022-01-29T13:25:04.426247Z",
          "shell.execute_reply.started": "2022-01-29T13:25:03.643719Z",
          "shell.execute_reply": "2022-01-29T13:25:04.425611Z"
        },
        "trusted": true,
        "id": "qjH_HQnWL4Wf"
      },
      "execution_count": null,
      "outputs": []
    },
    {
      "cell_type": "markdown",
      "source": [
        "**2.7 Family - SibSp(형제 자매) + Parch(부모, 자녀)**"
      ],
      "metadata": {
        "execution": {
          "iopub.status.busy": "2022-01-28T16:57:05.834423Z",
          "iopub.execute_input": "2022-01-28T16:57:05.834718Z",
          "iopub.status.idle": "2022-01-28T16:57:05.840387Z",
          "shell.execute_reply.started": "2022-01-28T16:57:05.834686Z",
          "shell.execute_reply": "2022-01-28T16:57:05.839603Z"
        },
        "id": "6wmrPyMHL4Wf"
      }
    },
    {
      "cell_type": "code",
      "source": [
        "df_train['FamilySize'] = df_train['SibSp']+ df_train['Parch'] + 1\n",
        "df_test['FamilySize'] = df_test['SibSp']+ df_test['Parch'] + 1"
      ],
      "metadata": {
        "execution": {
          "iopub.status.busy": "2022-01-29T13:25:04.42748Z",
          "iopub.execute_input": "2022-01-29T13:25:04.427936Z",
          "iopub.status.idle": "2022-01-29T13:25:04.435432Z",
          "shell.execute_reply.started": "2022-01-29T13:25:04.427832Z",
          "shell.execute_reply": "2022-01-29T13:25:04.434248Z"
        },
        "trusted": true,
        "id": "fHFhL9a4L4Wg"
      },
      "execution_count": null,
      "outputs": []
    },
    {
      "cell_type": "code",
      "source": [
        "print(\"Maximun size of Family: \", df_train['FamilySize'].max())\n",
        "print(\"Maximun size of Family: \", df_train['FamilySize'].min())"
      ],
      "metadata": {
        "execution": {
          "iopub.status.busy": "2022-01-29T13:25:04.436882Z",
          "iopub.execute_input": "2022-01-29T13:25:04.43725Z",
          "iopub.status.idle": "2022-01-29T13:25:04.450389Z",
          "shell.execute_reply.started": "2022-01-29T13:25:04.437205Z",
          "shell.execute_reply": "2022-01-29T13:25:04.449421Z"
        },
        "trusted": true,
        "id": "CHrRBmvCL4Wg"
      },
      "execution_count": null,
      "outputs": []
    },
    {
      "cell_type": "code",
      "source": [
        "f, ax = plt.subplots(1,3, figsize=(40,10))\n",
        "sns.countplot('FamilySize', data=df_train, ax=ax[0])\n",
        "ax[0].set_title('(1) No. Of Passengers Boarded', y=1.02)\n",
        "\n",
        "sns.countplot('FamilySize', hue = 'Survived', data=df_train, ax=ax[1])\n",
        "ax[1].set_title('(2) Survived countplot depending on FamilySize', y=1.02)\n",
        "\n",
        "df_train[['FamilySize', 'Survived']].groupby(['FamilySize'], as_index=True).mean().sort_values(by='Survived', ascending=False).plot.bar(ax=ax[2])\n",
        "ax[2].set_title('(3) Survived rate depending on FamilySize', y=1.02)\n",
        "\n",
        "plt.subplots_adjust(wspace=0.2, hspace=0.5)\n",
        "plt.show()"
      ],
      "metadata": {
        "execution": {
          "iopub.status.busy": "2022-01-29T13:25:04.451441Z",
          "iopub.execute_input": "2022-01-29T13:25:04.451658Z",
          "iopub.status.idle": "2022-01-29T13:25:05.201618Z",
          "shell.execute_reply.started": "2022-01-29T13:25:04.451629Z",
          "shell.execute_reply": "2022-01-29T13:25:05.200523Z"
        },
        "trusted": true,
        "id": "f8fIm65hL4Wg"
      },
      "execution_count": null,
      "outputs": []
    },
    {
      "cell_type": "markdown",
      "source": [
        "**2.8 Fare**\n",
        "- 탑승요금이며 continous feature"
      ],
      "metadata": {
        "execution": {
          "iopub.status.busy": "2022-01-29T11:59:31.910192Z",
          "iopub.execute_input": "2022-01-29T11:59:31.910536Z",
          "iopub.status.idle": "2022-01-29T11:59:31.916941Z",
          "shell.execute_reply.started": "2022-01-29T11:59:31.910498Z",
          "shell.execute_reply": "2022-01-29T11:59:31.915636Z"
        },
        "id": "iGDsRidbL4Wg"
      }
    },
    {
      "cell_type": "code",
      "source": [
        "fig, ax = plt.subplots(1, 1, figsize=(8,8))\n",
        "g = sns.distplot(df_train['Fare'], color='b', label='Skewness : {:.2f}'.format(df_train['Fare'].skew()), ax=ax)\n",
        "g = g.legend(loc='best')"
      ],
      "metadata": {
        "execution": {
          "iopub.status.busy": "2022-01-29T13:25:05.202987Z",
          "iopub.execute_input": "2022-01-29T13:25:05.203288Z",
          "iopub.status.idle": "2022-01-29T13:25:05.693208Z",
          "shell.execute_reply.started": "2022-01-29T13:25:05.203246Z",
          "shell.execute_reply": "2022-01-29T13:25:05.69214Z"
        },
        "trusted": true,
        "id": "Wv6iZFIdL4Wg"
      },
      "execution_count": null,
      "outputs": []
    },
    {
      "cell_type": "markdown",
      "source": [
        "- 분포도가 비대칭\n",
        "- outlier의 영향을 줄이기 위해 Fare에 log화"
      ],
      "metadata": {
        "id": "qon3EO1LL4Wg"
      }
    },
    {
      "cell_type": "code",
      "source": [
        "df_test.loc[df_test.Fare.isnull(), 'Fare'] = df_test['Fare'].mean() # null 값들을 test의 평균값으로 채워 넣기\n",
        "\n",
        "df_train['Fare'] = df_train['Fare'].map(lambda i: np.log(i) if i > 0 else 0)\n",
        "df_test['Fare'] = df_test['Fare'].map(lambda i : np.log(i) if i > 0 else 0)"
      ],
      "metadata": {
        "execution": {
          "iopub.status.busy": "2022-01-29T13:25:05.694246Z",
          "iopub.execute_input": "2022-01-29T13:25:05.694484Z",
          "iopub.status.idle": "2022-01-29T13:25:05.706243Z",
          "shell.execute_reply.started": "2022-01-29T13:25:05.694455Z",
          "shell.execute_reply": "2022-01-29T13:25:05.704972Z"
        },
        "trusted": true,
        "id": "0bbdskUvL4Wh"
      },
      "execution_count": null,
      "outputs": []
    },
    {
      "cell_type": "code",
      "source": [
        "fig, ax = plt.subplots(1,1, figsize=(8,8))\n",
        "g = sns.distplot(df_train['Fare'], color='b', label='Skewness : {:.2f}'.format(df_train['Fare'].skew()), ax = ax)\n",
        "g = g.legend(loc = 'best')"
      ],
      "metadata": {
        "execution": {
          "iopub.status.busy": "2022-01-29T13:25:05.707664Z",
          "iopub.execute_input": "2022-01-29T13:25:05.707921Z",
          "iopub.status.idle": "2022-01-29T13:25:06.152281Z",
          "shell.execute_reply.started": "2022-01-29T13:25:05.70789Z",
          "shell.execute_reply": "2022-01-29T13:25:06.151348Z"
        },
        "trusted": true,
        "id": "6kw-OjLbL4Wh"
      },
      "execution_count": null,
      "outputs": []
    },
    {
      "cell_type": "markdown",
      "source": [
        "**2.9 Cabin**\n",
        "- NaN이 대략 80%이므로 생존에 필요한 영향 찾기 힘들기 떄문에 무시"
      ],
      "metadata": {
        "id": "nAWid2XtL4Wh"
      }
    },
    {
      "cell_type": "code",
      "source": [
        "df_train.head()"
      ],
      "metadata": {
        "execution": {
          "iopub.status.busy": "2022-01-29T13:25:06.153662Z",
          "iopub.execute_input": "2022-01-29T13:25:06.153885Z",
          "iopub.status.idle": "2022-01-29T13:25:06.172212Z",
          "shell.execute_reply.started": "2022-01-29T13:25:06.153853Z",
          "shell.execute_reply": "2022-01-29T13:25:06.171143Z"
        },
        "trusted": true,
        "id": "fA2XviHTL4Wh"
      },
      "execution_count": null,
      "outputs": []
    },
    {
      "cell_type": "markdown",
      "source": [
        "**2.10 Ticket**\n",
        "- 새로운 feature를 추가 및 기존의 feature에 여러 조작을 가하는 feature engineering\n",
        "- 잘 이용하면 쓸모있는 값으로 이용할 수 있을 거 같음.. 이 부분에 대한 고민이 케글 공부의 시작이라고 생각하면 된다."
      ],
      "metadata": {
        "execution": {
          "iopub.status.busy": "2022-01-29T12:15:15.062477Z",
          "iopub.execute_input": "2022-01-29T12:15:15.063202Z",
          "iopub.status.idle": "2022-01-29T12:15:15.068642Z",
          "shell.execute_reply.started": "2022-01-29T12:15:15.063158Z",
          "shell.execute_reply": "2022-01-29T12:15:15.067263Z"
        },
        "id": "bor0WzGCL4Wh"
      }
    },
    {
      "cell_type": "code",
      "source": [
        "df_train['Ticket'].value_counts()"
      ],
      "metadata": {
        "execution": {
          "iopub.status.busy": "2022-01-29T13:25:06.17359Z",
          "iopub.execute_input": "2022-01-29T13:25:06.173835Z",
          "iopub.status.idle": "2022-01-29T13:25:06.189955Z",
          "shell.execute_reply.started": "2022-01-29T13:25:06.173804Z",
          "shell.execute_reply": "2022-01-29T13:25:06.189183Z"
        },
        "trusted": true,
        "id": "kX4F08EYL4Wi"
      },
      "execution_count": null,
      "outputs": []
    },
    {
      "cell_type": "markdown",
      "source": [
        "**3. fature engineering**\n",
        "- dataset의 null 값 부터 채우자.. null 값을 포함하는 feature의 통계학을 참고하거나 아이디어를 내면 된다.\n",
        "- null 값 채우는 것이 모델의 성능을 좌지우지 "
      ],
      "metadata": {
        "execution": {
          "iopub.status.busy": "2022-01-29T12:25:44.212543Z",
          "iopub.execute_input": "2022-01-29T12:25:44.212812Z",
          "iopub.status.idle": "2022-01-29T12:25:44.218874Z",
          "shell.execute_reply.started": "2022-01-29T12:25:44.212781Z",
          "shell.execute_reply": "2022-01-29T12:25:44.217724Z"
        },
        "id": "MwPEL0uYL4Wi"
      }
    },
    {
      "cell_type": "markdown",
      "source": [
        "**3.1 Fill Null**"
      ],
      "metadata": {
        "execution": {
          "iopub.status.busy": "2022-01-29T12:26:11.004655Z",
          "iopub.execute_input": "2022-01-29T12:26:11.004935Z",
          "iopub.status.idle": "2022-01-29T12:26:11.012079Z",
          "shell.execute_reply.started": "2022-01-29T12:26:11.004904Z",
          "shell.execute_reply": "2022-01-29T12:26:11.010536Z"
        },
        "id": "Pz0rREM-L4Wi"
      }
    },
    {
      "cell_type": "markdown",
      "source": [
        "**3.1.1 Fill Null in Age using title**\n",
        "- 이를 이용해 pandas series의 Str 함수와 정규표현식을 이용해 title로 Age의 null 값을 채워보기로 하였음"
      ],
      "metadata": {
        "execution": {
          "iopub.status.busy": "2022-01-29T12:26:17.745137Z",
          "iopub.execute_input": "2022-01-29T12:26:17.746059Z",
          "iopub.status.idle": "2022-01-29T12:26:17.750745Z",
          "shell.execute_reply.started": "2022-01-29T12:26:17.746025Z",
          "shell.execute_reply": "2022-01-29T12:26:17.749813Z"
        },
        "id": "ifbtHlRgL4Wi"
      }
    },
    {
      "cell_type": "code",
      "source": [
        "df_train['Initial'] = df_train.Name.str.extract('([A-Za-z]+)\\.') # ex) Mr.\n",
        "df_test['Initial'] = df_test.Name.str.extract('([A-Za-z]+)\\.')"
      ],
      "metadata": {
        "execution": {
          "iopub.status.busy": "2022-01-29T13:25:06.19171Z",
          "iopub.execute_input": "2022-01-29T13:25:06.193076Z",
          "iopub.status.idle": "2022-01-29T13:25:06.20811Z",
          "shell.execute_reply.started": "2022-01-29T13:25:06.193004Z",
          "shell.execute_reply": "2022-01-29T13:25:06.207338Z"
        },
        "trusted": true,
        "id": "9VsBEr3XL4Wi"
      },
      "execution_count": null,
      "outputs": []
    },
    {
      "cell_type": "code",
      "source": [
        "pd.crosstab(df_train['Initial'], df_train['Sex']).T.style.background_gradient(cmap='summer_r')"
      ],
      "metadata": {
        "execution": {
          "iopub.status.busy": "2022-01-29T13:25:06.210246Z",
          "iopub.execute_input": "2022-01-29T13:25:06.211529Z",
          "iopub.status.idle": "2022-01-29T13:25:06.269028Z",
          "shell.execute_reply.started": "2022-01-29T13:25:06.211477Z",
          "shell.execute_reply": "2022-01-29T13:25:06.268032Z"
        },
        "trusted": true,
        "id": "AdFb_zTUL4Wi"
      },
      "execution_count": null,
      "outputs": []
    },
    {
      "cell_type": "code",
      "source": [
        "df_train['Initial'].replace(['Mlle','Mme','Ms','Dr','Major','Lady','Countess','Jonkheer','Col','Rev','Capt','Sir','Don', 'Dona'],\n",
        "                        ['Miss','Miss','Miss','Mr','Mr','Mrs','Mrs','Other','Other','Other','Mr','Mr','Mr', 'Mr'],inplace=True)\n",
        "\n",
        "df_test['Initial'].replace(['Mlle','Mme','Ms','Dr','Major','Lady','Countess','Jonkheer','Col','Rev','Capt','Sir','Don', 'Dona'],\n",
        "                        ['Miss','Miss','Miss','Mr','Mr','Mrs','Mrs','Other','Other','Other','Mr','Mr','Mr', 'Mr'],inplace=True)"
      ],
      "metadata": {
        "execution": {
          "iopub.status.busy": "2022-01-29T13:25:06.270562Z",
          "iopub.execute_input": "2022-01-29T13:25:06.270901Z",
          "iopub.status.idle": "2022-01-29T13:25:06.285538Z",
          "shell.execute_reply.started": "2022-01-29T13:25:06.270853Z",
          "shell.execute_reply": "2022-01-29T13:25:06.284586Z"
        },
        "trusted": true,
        "id": "sq2lHhUIL4Wj"
      },
      "execution_count": null,
      "outputs": []
    },
    {
      "cell_type": "code",
      "source": [
        "df_train.groupby('Initial').mean()"
      ],
      "metadata": {
        "execution": {
          "iopub.status.busy": "2022-01-29T13:25:06.286774Z",
          "iopub.execute_input": "2022-01-29T13:25:06.287017Z",
          "iopub.status.idle": "2022-01-29T13:25:06.307356Z",
          "shell.execute_reply.started": "2022-01-29T13:25:06.286987Z",
          "shell.execute_reply": "2022-01-29T13:25:06.306616Z"
        },
        "trusted": true,
        "id": "nAHE4_ZaL4Wj"
      },
      "execution_count": null,
      "outputs": []
    },
    {
      "cell_type": "code",
      "source": [
        "df_train.groupby('Initial')['Survived'].mean().plot.bar()"
      ],
      "metadata": {
        "execution": {
          "iopub.status.busy": "2022-01-29T13:25:06.308636Z",
          "iopub.execute_input": "2022-01-29T13:25:06.309233Z",
          "iopub.status.idle": "2022-01-29T13:25:06.543002Z",
          "shell.execute_reply.started": "2022-01-29T13:25:06.309197Z",
          "shell.execute_reply": "2022-01-29T13:25:06.542043Z"
        },
        "trusted": true,
        "id": "EIkOhD0vL4Wj"
      },
      "execution_count": null,
      "outputs": []
    },
    {
      "cell_type": "markdown",
      "source": [
        "머신러닝을 이용하거나 통계학을 이용해 null값을 채운다."
      ],
      "metadata": {
        "execution": {
          "iopub.status.busy": "2022-01-29T12:39:00.943172Z",
          "iopub.execute_input": "2022-01-29T12:39:00.943618Z",
          "iopub.status.idle": "2022-01-29T12:39:00.949605Z",
          "shell.execute_reply.started": "2022-01-29T12:39:00.943586Z",
          "shell.execute_reply": "2022-01-29T12:39:00.948284Z"
        },
        "id": "8CSLQWhgL4Wj"
      }
    },
    {
      "cell_type": "code",
      "source": [
        "df_train.groupby('Initial').mean()"
      ],
      "metadata": {
        "execution": {
          "iopub.status.busy": "2022-01-29T13:25:06.544712Z",
          "iopub.execute_input": "2022-01-29T13:25:06.545279Z",
          "iopub.status.idle": "2022-01-29T13:25:06.56569Z",
          "shell.execute_reply.started": "2022-01-29T13:25:06.545233Z",
          "shell.execute_reply": "2022-01-29T13:25:06.564865Z"
        },
        "trusted": true,
        "id": "FJxJKqiiL4Wj"
      },
      "execution_count": null,
      "outputs": []
    },
    {
      "cell_type": "code",
      "source": [
        "df_train.loc[(df_train.Age.isnull())&(df_train.Initial=='Mr'),'Age'] = 33\n",
        "df_train.loc[(df_train.Age.isnull())&(df_train.Initial=='Mrs'),'Age'] = 36\n",
        "df_train.loc[(df_train.Age.isnull())&(df_train.Initial=='Master'),'Age'] = 5\n",
        "df_train.loc[(df_train.Age.isnull())&(df_train.Initial=='Miss'),'Age'] = 22\n",
        "df_train.loc[(df_train.Age.isnull())&(df_train.Initial=='Other'),'Age'] = 46\n",
        "\n",
        "df_test.loc[(df_test.Age.isnull())&(df_test.Initial=='Mr'),'Age'] = 33\n",
        "df_test.loc[(df_test.Age.isnull())&(df_test.Initial=='Mrs'),'Age'] = 36\n",
        "df_test.loc[(df_test.Age.isnull())&(df_test.Initial=='Master'),'Age'] = 5\n",
        "df_test.loc[(df_test.Age.isnull())&(df_test.Initial=='Miss'),'Age'] = 22\n",
        "df_test.loc[(df_test.Age.isnull())&(df_test.Initial=='Other'),'Age'] = 46"
      ],
      "metadata": {
        "execution": {
          "iopub.status.busy": "2022-01-29T13:25:06.567075Z",
          "iopub.execute_input": "2022-01-29T13:25:06.567322Z",
          "iopub.status.idle": "2022-01-29T13:25:06.589409Z",
          "shell.execute_reply.started": "2022-01-29T13:25:06.567269Z",
          "shell.execute_reply": "2022-01-29T13:25:06.588717Z"
        },
        "trusted": true,
        "id": "JespVJMJL4Wj"
      },
      "execution_count": null,
      "outputs": []
    },
    {
      "cell_type": "markdown",
      "source": [
        "**3.1.2 Fill Null in Embarked**"
      ],
      "metadata": {
        "execution": {
          "iopub.status.busy": "2022-01-29T12:42:20.721326Z",
          "iopub.execute_input": "2022-01-29T12:42:20.721633Z",
          "iopub.status.idle": "2022-01-29T12:42:20.72785Z",
          "shell.execute_reply.started": "2022-01-29T12:42:20.7216Z",
          "shell.execute_reply": "2022-01-29T12:42:20.726507Z"
        },
        "id": "zZzIMfM9L4Wj"
      }
    },
    {
      "cell_type": "code",
      "source": [
        "print('Embarked has ', sum(df_train['Embarked'].isnull()))"
      ],
      "metadata": {
        "execution": {
          "iopub.status.busy": "2022-01-29T13:25:06.590585Z",
          "iopub.execute_input": "2022-01-29T13:25:06.590985Z",
          "iopub.status.idle": "2022-01-29T13:25:06.597041Z",
          "shell.execute_reply.started": "2022-01-29T13:25:06.590945Z",
          "shell.execute_reply": "2022-01-29T13:25:06.595989Z"
        },
        "trusted": true,
        "id": "Q4ixsDfIL4Wk"
      },
      "execution_count": null,
      "outputs": []
    },
    {
      "cell_type": "markdown",
      "source": [
        "S에서 가장 많은 탑승객이 있었으므로 null 값을 S로 채우자"
      ],
      "metadata": {
        "id": "ogXDw9D-L4Wk"
      }
    },
    {
      "cell_type": "code",
      "source": [
        "df_train['Embarked'].fillna('S', inplace=True)"
      ],
      "metadata": {
        "execution": {
          "iopub.status.busy": "2022-01-29T13:25:06.59858Z",
          "iopub.execute_input": "2022-01-29T13:25:06.599061Z",
          "iopub.status.idle": "2022-01-29T13:25:06.609732Z",
          "shell.execute_reply.started": "2022-01-29T13:25:06.599014Z",
          "shell.execute_reply": "2022-01-29T13:25:06.608952Z"
        },
        "trusted": true,
        "id": "CWtEsKM1L4Wk"
      },
      "execution_count": null,
      "outputs": []
    },
    {
      "cell_type": "markdown",
      "source": [
        "**3.2 Change Age(continuous to categorical)**"
      ],
      "metadata": {
        "execution": {
          "iopub.status.busy": "2022-01-29T12:44:23.149761Z",
          "iopub.execute_input": "2022-01-29T12:44:23.150511Z",
          "iopub.status.idle": "2022-01-29T12:44:23.156195Z",
          "shell.execute_reply.started": "2022-01-29T12:44:23.150475Z",
          "shell.execute_reply": "2022-01-29T12:44:23.155109Z"
        },
        "id": "OYkcirssL4Wk"
      }
    },
    {
      "cell_type": "markdown",
      "source": [
        "- 연속값을 카테고리화하면 일부 data 유실 주의\n",
        "- 1) loc 2) apply로 함수 주입 2가지 방법 있고 loc자주 사용함"
      ],
      "metadata": {
        "execution": {
          "iopub.status.busy": "2022-01-29T12:47:30.127363Z",
          "iopub.execute_input": "2022-01-29T12:47:30.128166Z",
          "iopub.status.idle": "2022-01-29T12:47:30.133396Z",
          "shell.execute_reply.started": "2022-01-29T12:47:30.128132Z",
          "shell.execute_reply": "2022-01-29T12:47:30.132369Z"
        },
        "id": "L5ppgE_oL4Wk"
      }
    },
    {
      "cell_type": "code",
      "source": [
        "df_train['Age_cat'] = 0\n",
        "df_train.loc[df_train['Age'] < 10, 'Age_cat'] = 0\n",
        "df_train.loc[(10 <= df_train['Age']) & (df_train['Age'] < 20), 'Age_cat'] = 1\n",
        "df_train.loc[(20 <= df_train['Age']) & (df_train['Age'] < 30), 'Age_cat'] = 2\n",
        "df_train.loc[(30 <= df_train['Age']) & (df_train['Age'] < 40), 'Age_cat'] = 3\n",
        "df_train.loc[(40 <= df_train['Age']) & (df_train['Age'] < 50), 'Age_cat'] = 4\n",
        "df_train.loc[(50 <= df_train['Age']) & (df_train['Age'] < 60), 'Age_cat'] = 5\n",
        "df_train.loc[(60 <= df_train['Age']) & (df_train['Age'] < 70), 'Age_cat'] = 6\n",
        "df_train.loc[70 <= df_train['Age'], 'Age_cat'] = 7\n",
        "\n",
        "df_test['Age_cat'] = 0\n",
        "df_test.loc[df_test['Age'] < 10, 'Age_cat'] = 0\n",
        "df_test.loc[(10 <= df_test['Age']) & (df_test['Age'] < 20), 'Age_cat'] = 1\n",
        "df_test.loc[(20 <= df_test['Age']) & (df_test['Age'] < 30), 'Age_cat'] = 2\n",
        "df_test.loc[(30 <= df_test['Age']) & (df_test['Age'] < 40), 'Age_cat'] = 3\n",
        "df_test.loc[(40 <= df_test['Age']) & (df_test['Age'] < 50), 'Age_cat'] = 4\n",
        "df_test.loc[(50 <= df_test['Age']) & (df_test['Age'] < 60), 'Age_cat'] = 5\n",
        "df_test.loc[(60 <= df_test['Age']) & (df_test['Age'] < 70), 'Age_cat'] = 6\n",
        "df_test.loc[70 <= df_test['Age'], 'Age_cat'] = 7"
      ],
      "metadata": {
        "execution": {
          "iopub.status.busy": "2022-01-29T13:25:06.610987Z",
          "iopub.execute_input": "2022-01-29T13:25:06.611667Z",
          "iopub.status.idle": "2022-01-29T13:25:06.644277Z",
          "shell.execute_reply.started": "2022-01-29T13:25:06.611619Z",
          "shell.execute_reply": "2022-01-29T13:25:06.64351Z"
        },
        "trusted": true,
        "id": "D0prgfohL4Wl"
      },
      "execution_count": null,
      "outputs": []
    },
    {
      "cell_type": "code",
      "source": [
        "def category_age(x):\n",
        "    if x < 10:\n",
        "        return 0\n",
        "    elif x < 20:\n",
        "        return 1\n",
        "    elif x < 30:\n",
        "        return 2\n",
        "    elif x < 40:\n",
        "        return 3\n",
        "    elif x < 50:\n",
        "        return 4\n",
        "    elif x < 60:\n",
        "        return 5\n",
        "    elif x < 70:\n",
        "        return 6\n",
        "    else:\n",
        "        return 7    \n",
        "    \n",
        "df_train['Age_cat_2'] = df_train['Age'].apply(category_age)"
      ],
      "metadata": {
        "execution": {
          "iopub.status.busy": "2022-01-29T13:25:06.645512Z",
          "iopub.execute_input": "2022-01-29T13:25:06.646054Z",
          "iopub.status.idle": "2022-01-29T13:25:06.659095Z",
          "shell.execute_reply.started": "2022-01-29T13:25:06.646007Z",
          "shell.execute_reply": "2022-01-29T13:25:06.658343Z"
        },
        "trusted": true,
        "id": "qeqArRDPL4Wl"
      },
      "execution_count": null,
      "outputs": []
    },
    {
      "cell_type": "markdown",
      "source": [
        "둘 다 같은 방법, 한 번 확인해보자"
      ],
      "metadata": {
        "execution": {
          "iopub.status.busy": "2022-01-29T12:50:19.698904Z",
          "iopub.execute_input": "2022-01-29T12:50:19.699721Z",
          "iopub.status.idle": "2022-01-29T12:50:19.705116Z",
          "shell.execute_reply.started": "2022-01-29T12:50:19.699682Z",
          "shell.execute_reply": "2022-01-29T12:50:19.704021Z"
        },
        "id": "Ko84S_5VL4Wl"
      }
    },
    {
      "cell_type": "code",
      "source": [
        "print((df_train['Age_cat'] == df_train['Age_cat_2']).all())"
      ],
      "metadata": {
        "execution": {
          "iopub.status.busy": "2022-01-29T13:25:06.660498Z",
          "iopub.execute_input": "2022-01-29T13:25:06.660743Z",
          "iopub.status.idle": "2022-01-29T13:25:06.672902Z",
          "shell.execute_reply.started": "2022-01-29T13:25:06.660712Z",
          "shell.execute_reply": "2022-01-29T13:25:06.671853Z"
        },
        "trusted": true,
        "id": "UpCeUfD5L4Wl"
      },
      "execution_count": null,
      "outputs": []
    },
    {
      "cell_type": "code",
      "source": [
        "df_train.drop(['Age', 'Age_cat_2'], axis=1, inplace=True)\n",
        "df_test.drop(['Age'], axis=1, inplace=True)"
      ],
      "metadata": {
        "execution": {
          "iopub.status.busy": "2022-01-29T13:25:06.674162Z",
          "iopub.execute_input": "2022-01-29T13:25:06.675051Z",
          "iopub.status.idle": "2022-01-29T13:25:06.693581Z",
          "shell.execute_reply.started": "2022-01-29T13:25:06.675008Z",
          "shell.execute_reply": "2022-01-29T13:25:06.692451Z"
        },
        "trusted": true,
        "id": "oEAJ0T7hL4Wl"
      },
      "execution_count": null,
      "outputs": []
    },
    {
      "cell_type": "markdown",
      "source": [
        "**3.3 Chage Initial, Embarked and Set(String to numerical)**\n",
        "- 카테고리화 되어 있는 String 값은 수치화 시켜야 함"
      ],
      "metadata": {
        "id": "d3FdkWFZL4Wl"
      }
    },
    {
      "cell_type": "code",
      "source": [
        "df_train['Initial'] = df_train['Initial'].map({'Master': 0, 'Miss': 1, 'Mr': 2, 'Mrs': 3, 'Other': 4})\n",
        "df_test['Initial'] = df_test['Initial'].map({'Master': 0, 'Miss': 1, 'Mr': 2, 'Mrs': 3, 'Other': 4})"
      ],
      "metadata": {
        "execution": {
          "iopub.status.busy": "2022-01-29T13:25:06.695228Z",
          "iopub.execute_input": "2022-01-29T13:25:06.695601Z",
          "iopub.status.idle": "2022-01-29T13:25:06.710775Z",
          "shell.execute_reply.started": "2022-01-29T13:25:06.695557Z",
          "shell.execute_reply": "2022-01-29T13:25:06.709896Z"
        },
        "trusted": true,
        "id": "FIjadExRL4Wm"
      },
      "execution_count": null,
      "outputs": []
    },
    {
      "cell_type": "code",
      "source": [
        "df_train['Embarked'].unique()"
      ],
      "metadata": {
        "execution": {
          "iopub.status.busy": "2022-01-29T13:25:06.713481Z",
          "iopub.execute_input": "2022-01-29T13:25:06.71551Z",
          "iopub.status.idle": "2022-01-29T13:25:06.730828Z",
          "shell.execute_reply.started": "2022-01-29T13:25:06.715456Z",
          "shell.execute_reply": "2022-01-29T13:25:06.727382Z"
        },
        "trusted": true,
        "id": "1gz0dCyDL4Wm"
      },
      "execution_count": null,
      "outputs": []
    },
    {
      "cell_type": "code",
      "source": [
        "df_train['Embarked'].value_counts()"
      ],
      "metadata": {
        "execution": {
          "iopub.status.busy": "2022-01-29T13:25:06.735705Z",
          "iopub.execute_input": "2022-01-29T13:25:06.736364Z",
          "iopub.status.idle": "2022-01-29T13:25:06.750786Z",
          "shell.execute_reply.started": "2022-01-29T13:25:06.736292Z",
          "shell.execute_reply": "2022-01-29T13:25:06.749577Z"
        },
        "trusted": true,
        "id": "qgkyJmIeL4Wm"
      },
      "execution_count": null,
      "outputs": []
    },
    {
      "cell_type": "code",
      "source": [
        "df_train['Embarked'] = df_train['Embarked'].map({'C': 0, 'Q':1, 'S':2})\n",
        "df_test['Embarked'] = df_test['Embarked'].map({'C': 0, 'Q':1, 'S':2})"
      ],
      "metadata": {
        "execution": {
          "iopub.status.busy": "2022-01-29T13:25:06.752723Z",
          "iopub.execute_input": "2022-01-29T13:25:06.753614Z",
          "iopub.status.idle": "2022-01-29T13:25:06.764117Z",
          "shell.execute_reply.started": "2022-01-29T13:25:06.753562Z",
          "shell.execute_reply": "2022-01-29T13:25:06.763341Z"
        },
        "trusted": true,
        "id": "FvPVOSAcL4Wm"
      },
      "execution_count": null,
      "outputs": []
    },
    {
      "cell_type": "code",
      "source": [
        "df_train['Embarked'].isnull().any() # 하나라도 null값이면 true"
      ],
      "metadata": {
        "execution": {
          "iopub.status.busy": "2022-01-29T13:25:06.765162Z",
          "iopub.execute_input": "2022-01-29T13:25:06.765721Z",
          "iopub.status.idle": "2022-01-29T13:25:06.788876Z",
          "shell.execute_reply.started": "2022-01-29T13:25:06.765638Z",
          "shell.execute_reply": "2022-01-29T13:25:06.786746Z"
        },
        "trusted": true,
        "id": "uI_BxGtNL4Wm"
      },
      "execution_count": null,
      "outputs": []
    },
    {
      "cell_type": "code",
      "source": [
        "df_train['Sex'] = df_train['Sex'].map({'female':0, 'male':1})\n",
        "df_test['Sex'] = df_test['Sex'].map({'female':0, 'male':1})"
      ],
      "metadata": {
        "execution": {
          "iopub.status.busy": "2022-01-29T13:25:06.790567Z",
          "iopub.execute_input": "2022-01-29T13:25:06.790918Z",
          "iopub.status.idle": "2022-01-29T13:25:06.801162Z",
          "shell.execute_reply.started": "2022-01-29T13:25:06.790869Z",
          "shell.execute_reply": "2022-01-29T13:25:06.800395Z"
        },
        "trusted": true,
        "id": "dMTyOzT3L4Wm"
      },
      "execution_count": null,
      "outputs": []
    },
    {
      "cell_type": "code",
      "source": [
        "heatmap_data = df_train[['Survived', 'Pclass', 'Sex', 'Fare', 'Embarked', 'FamilySize', 'Initial', 'Age_cat']]\n",
        "\n",
        "colormap = plt.cm.RdBu\n",
        "plt.figure(figsize=(14,12))\n",
        "plt.title('Person Correations of Feature', y=1.05, size=15)\n",
        "sns.heatmap(heatmap_data.astype(float).corr(), linewidths=0.1, vmax=1.0, square=True, cmap=colormap, linecolor='white', annot=True, annot_kws={\"size\": 16})\n",
        "\n",
        "del heatmap_data"
      ],
      "metadata": {
        "execution": {
          "iopub.status.busy": "2022-01-29T13:25:06.802588Z",
          "iopub.execute_input": "2022-01-29T13:25:06.803072Z",
          "iopub.status.idle": "2022-01-29T13:25:07.61981Z",
          "shell.execute_reply.started": "2022-01-29T13:25:06.802877Z",
          "shell.execute_reply": "2022-01-29T13:25:07.618892Z"
        },
        "trusted": true,
        "id": "b798SgfSL4Wm"
      },
      "execution_count": null,
      "outputs": []
    },
    {
      "cell_type": "markdown",
      "source": [
        "- 서로 강한 상관관계를 가지고 있는 feature 들이 없다 = 불필요한 feature가 없다 \n",
        "- 이것을 확인했으니 데이터 전처리 data preprocessing 함 해보자"
      ],
      "metadata": {
        "execution": {
          "iopub.status.busy": "2022-01-29T13:05:45.342571Z",
          "iopub.execute_input": "2022-01-29T13:05:45.34318Z",
          "iopub.status.idle": "2022-01-29T13:05:45.349086Z",
          "shell.execute_reply.started": "2022-01-29T13:05:45.343143Z",
          "shell.execute_reply": "2022-01-29T13:05:45.348102Z"
        },
        "id": "eRoHJhyTL4Wn"
      }
    },
    {
      "cell_type": "markdown",
      "source": [
        "**3.4 One-hot encoding on Initial and Embarked**\n",
        "- 수치화 시킨 카테고리 데이터를 그대로 넣어도 되지만, 모델 성능을 높이기 위해 사용"
      ],
      "metadata": {
        "execution": {
          "iopub.status.busy": "2022-01-29T13:06:12.027353Z",
          "iopub.execute_input": "2022-01-29T13:06:12.027656Z",
          "iopub.status.idle": "2022-01-29T13:06:12.034143Z",
          "shell.execute_reply.started": "2022-01-29T13:06:12.027622Z",
          "shell.execute_reply": "2022-01-29T13:06:12.032989Z"
        },
        "id": "HoJzb5vtL4Wn"
      }
    },
    {
      "cell_type": "code",
      "source": [
        "df_train = pd.get_dummies(df_train, columns=['Initial'], prefix='Initial')\n",
        "df_test = pd.get_dummies(df_test, columns=['Initial'], prefix='Initial')"
      ],
      "metadata": {
        "execution": {
          "iopub.status.busy": "2022-01-29T13:44:03.082203Z",
          "iopub.execute_input": "2022-01-29T13:44:03.082531Z",
          "iopub.status.idle": "2022-01-29T13:44:03.09579Z",
          "shell.execute_reply.started": "2022-01-29T13:44:03.082496Z",
          "shell.execute_reply": "2022-01-29T13:44:03.094799Z"
        },
        "trusted": true,
        "id": "C5HNibIkL4Wn"
      },
      "execution_count": null,
      "outputs": []
    },
    {
      "cell_type": "code",
      "source": [
        "df_train = pd.get_dummies(df_train, columns=['Embarked'], prefix='Embarked')\n",
        "df_test = pd.get_dummies(df_test, columns=['Embarked'], prefix='Embarked')"
      ],
      "metadata": {
        "execution": {
          "iopub.status.busy": "2022-01-29T13:25:07.621043Z",
          "iopub.execute_input": "2022-01-29T13:25:07.621288Z",
          "iopub.status.idle": "2022-01-29T13:25:07.637401Z",
          "shell.execute_reply.started": "2022-01-29T13:25:07.621256Z",
          "shell.execute_reply": "2022-01-29T13:25:07.636347Z"
        },
        "trusted": true,
        "id": "8biIhJYeL4Wn"
      },
      "execution_count": null,
      "outputs": []
    },
    {
      "cell_type": "code",
      "source": [
        "df_train.drop(['PassengerId', 'Name', 'SibSp', 'Parch', 'Ticket', 'Cabin'], axis=1, inplace=True)\n",
        "df_test.drop(['PassengerId', 'Name',  'SibSp', 'Parch', 'Ticket', 'Cabin'], axis=1, inplace=True)\n",
        "df_train.head()"
      ],
      "metadata": {
        "execution": {
          "iopub.status.busy": "2022-01-29T13:25:07.638838Z",
          "iopub.execute_input": "2022-01-29T13:25:07.63955Z",
          "iopub.status.idle": "2022-01-29T13:25:07.659336Z",
          "shell.execute_reply.started": "2022-01-29T13:25:07.639493Z",
          "shell.execute_reply": "2022-01-29T13:25:07.658397Z"
        },
        "trusted": true,
        "id": "2O9FZLLIL4Wn"
      },
      "execution_count": null,
      "outputs": []
    },
    {
      "cell_type": "markdown",
      "source": [
        "**4. Building MachineLearning Model and prediction using the trained model**"
      ],
      "metadata": {
        "execution": {
          "iopub.status.busy": "2022-01-29T13:16:43.404484Z",
          "iopub.execute_input": "2022-01-29T13:16:43.405022Z",
          "iopub.status.idle": "2022-01-29T13:16:43.410853Z",
          "shell.execute_reply.started": "2022-01-29T13:16:43.404987Z",
          "shell.execute_reply": "2022-01-29T13:16:43.40964Z"
        },
        "id": "6RU_Ss3nL4Wo"
      }
    },
    {
      "cell_type": "code",
      "source": [
        "from sklearn.ensemble import RandomForestClassifier\n",
        "from sklearn import metrics # 모델의 평가\n",
        "from sklearn.model_selection import train_test_split"
      ],
      "metadata": {
        "execution": {
          "iopub.status.busy": "2022-01-29T13:25:07.660635Z",
          "iopub.execute_input": "2022-01-29T13:25:07.660934Z",
          "iopub.status.idle": "2022-01-29T13:25:07.665979Z",
          "shell.execute_reply.started": "2022-01-29T13:25:07.6609Z",
          "shell.execute_reply": "2022-01-29T13:25:07.664923Z"
        },
        "trusted": true,
        "id": "20ViNNSIL4Wo"
      },
      "execution_count": null,
      "outputs": []
    },
    {
      "cell_type": "markdown",
      "source": [
        "**4.1 Preparation - Split datast into train, valid, test set**\n",
        "- 학습에 쓰일 데이터와 target label(Survived)를 drop을 이용해 분리"
      ],
      "metadata": {
        "execution": {
          "iopub.status.busy": "2022-01-29T13:19:21.37482Z",
          "iopub.execute_input": "2022-01-29T13:19:21.375139Z",
          "iopub.status.idle": "2022-01-29T13:19:21.381277Z",
          "shell.execute_reply.started": "2022-01-29T13:19:21.375105Z",
          "shell.execute_reply": "2022-01-29T13:19:21.380283Z"
        },
        "id": "X6Q1dJQgL4Wo"
      }
    },
    {
      "cell_type": "code",
      "source": [
        "x_train = df_train.drop('Survived', axis=1).values\n",
        "target_label = df_train['Survived'].values\n",
        "x_test = df_test.values"
      ],
      "metadata": {
        "execution": {
          "iopub.status.busy": "2022-01-29T13:25:07.666902Z",
          "iopub.execute_input": "2022-01-29T13:25:07.667467Z",
          "iopub.status.idle": "2022-01-29T13:25:07.681548Z",
          "shell.execute_reply.started": "2022-01-29T13:25:07.667429Z",
          "shell.execute_reply": "2022-01-29T13:25:07.680523Z"
        },
        "trusted": true,
        "id": "CKtavuPlL4Wo"
      },
      "execution_count": null,
      "outputs": []
    },
    {
      "cell_type": "code",
      "source": [
        "x_train, x_valid, y_train, y_valid = train_test_split(x_train, target_label, test_size=0.3, random_state=2018)"
      ],
      "metadata": {
        "execution": {
          "iopub.status.busy": "2022-01-29T13:25:07.682646Z",
          "iopub.execute_input": "2022-01-29T13:25:07.682879Z",
          "iopub.status.idle": "2022-01-29T13:25:07.694335Z",
          "shell.execute_reply.started": "2022-01-29T13:25:07.682838Z",
          "shell.execute_reply": "2022-01-29T13:25:07.693611Z"
        },
        "trusted": true,
        "id": "Q7KXR6t-L4Wo"
      },
      "execution_count": null,
      "outputs": []
    },
    {
      "cell_type": "markdown",
      "source": [
        "모델을 잘 사용하기 위한 파라미터 튜닝이라는 작업도 있으나 스킵"
      ],
      "metadata": {
        "execution": {
          "iopub.status.busy": "2022-01-29T13:25:29.902412Z",
          "iopub.execute_input": "2022-01-29T13:25:29.90269Z",
          "iopub.status.idle": "2022-01-29T13:25:29.908729Z",
          "shell.execute_reply.started": "2022-01-29T13:25:29.902659Z",
          "shell.execute_reply": "2022-01-29T13:25:29.907459Z"
        },
        "id": "iqOjHsiYL4Wo"
      }
    },
    {
      "cell_type": "markdown",
      "source": [
        "**4.2 Model generation and prediction**"
      ],
      "metadata": {
        "execution": {
          "iopub.status.busy": "2022-01-29T13:25:52.498806Z",
          "iopub.execute_input": "2022-01-29T13:25:52.49912Z",
          "iopub.status.idle": "2022-01-29T13:25:52.504399Z",
          "shell.execute_reply.started": "2022-01-29T13:25:52.499087Z",
          "shell.execute_reply": "2022-01-29T13:25:52.503171Z"
        },
        "id": "55am2wnYL4Wo"
      }
    },
    {
      "cell_type": "code",
      "source": [
        "model = RandomForestClassifier()\n",
        "model.fit(x_train, y_train)\n",
        "prediction = model.predict(x_valid)"
      ],
      "metadata": {
        "execution": {
          "iopub.status.busy": "2022-01-29T13:26:59.827379Z",
          "iopub.execute_input": "2022-01-29T13:26:59.827661Z",
          "iopub.status.idle": "2022-01-29T13:27:00.070856Z",
          "shell.execute_reply.started": "2022-01-29T13:26:59.82763Z",
          "shell.execute_reply": "2022-01-29T13:27:00.06977Z"
        },
        "trusted": true,
        "id": "0ZTKySR-L4Wo"
      },
      "execution_count": null,
      "outputs": []
    },
    {
      "cell_type": "code",
      "source": [
        "print('총 {}명 중 {:.2f}%정확도로 생존을 맞춤'.format(y_valid.shape[0], 100*metrics.accuracy_score(prediction, y_valid)))"
      ],
      "metadata": {
        "execution": {
          "iopub.status.busy": "2022-01-29T13:28:22.358258Z",
          "iopub.execute_input": "2022-01-29T13:28:22.359058Z",
          "iopub.status.idle": "2022-01-29T13:28:22.366089Z",
          "shell.execute_reply.started": "2022-01-29T13:28:22.359016Z",
          "shell.execute_reply": "2022-01-29T13:28:22.365047Z"
        },
        "trusted": true,
        "id": "sxBa6LeiL4Wp"
      },
      "execution_count": null,
      "outputs": []
    },
    {
      "cell_type": "markdown",
      "source": [
        "**4.3 Feature importance** \n",
        "- 모델이 학습하는데 각각의 feature가 얼마나 영향을 미치는지에 대한 가중치 표현 = feature importance"
      ],
      "metadata": {
        "execution": {
          "iopub.status.busy": "2022-01-29T13:29:38.756107Z",
          "iopub.execute_input": "2022-01-29T13:29:38.756425Z",
          "iopub.status.idle": "2022-01-29T13:29:38.762691Z",
          "shell.execute_reply.started": "2022-01-29T13:29:38.756391Z",
          "shell.execute_reply": "2022-01-29T13:29:38.761354Z"
        },
        "id": "aQwtnFt-L4Wp"
      }
    },
    {
      "cell_type": "code",
      "source": [
        "from pandas import Series\n",
        "\n",
        "feature_importance = model.feature_importances_\n",
        "Series_feat_imp = Series(feature_importance, index=df_test.columns)"
      ],
      "metadata": {
        "execution": {
          "iopub.status.busy": "2022-01-29T13:40:34.052405Z",
          "iopub.execute_input": "2022-01-29T13:40:34.052674Z",
          "iopub.status.idle": "2022-01-29T13:40:34.074552Z",
          "shell.execute_reply.started": "2022-01-29T13:40:34.052642Z",
          "shell.execute_reply": "2022-01-29T13:40:34.073532Z"
        },
        "trusted": true,
        "id": "YVODUAeNL4Wp"
      },
      "execution_count": null,
      "outputs": []
    },
    {
      "cell_type": "code",
      "source": [
        "plt.figure(figsize=(8,8))\n",
        "Series_feat_imp.sort_values(ascending=True).plot.barh()\n",
        "plt.xlabel('Feature importance')\n",
        "plt.ylabel('Feature')\n",
        "plt.show()"
      ],
      "metadata": {
        "execution": {
          "iopub.status.busy": "2022-01-29T13:43:00.842947Z",
          "iopub.execute_input": "2022-01-29T13:43:00.843244Z",
          "iopub.status.idle": "2022-01-29T13:43:01.152705Z",
          "shell.execute_reply.started": "2022-01-29T13:43:00.843212Z",
          "shell.execute_reply": "2022-01-29T13:43:01.151752Z"
        },
        "trusted": true,
        "id": "uA93SkDeL4Wp"
      },
      "execution_count": null,
      "outputs": []
    },
    {
      "cell_type": "markdown",
      "source": [
        "Fare가 가장 영향력이 크지만, 모델에 따라/특징 engineering에 따라 결과가 또 달라지기는 함"
      ],
      "metadata": {
        "id": "3wqDGbi_L4Wp"
      }
    },
    {
      "cell_type": "markdown",
      "source": [
        "**4.4 Prediciton on Test set**"
      ],
      "metadata": {
        "execution": {
          "iopub.status.busy": "2022-01-29T13:48:32.103058Z",
          "iopub.execute_input": "2022-01-29T13:48:32.103747Z",
          "iopub.status.idle": "2022-01-29T13:48:32.109675Z",
          "shell.execute_reply.started": "2022-01-29T13:48:32.103709Z",
          "shell.execute_reply": "2022-01-29T13:48:32.10867Z"
        },
        "id": "V5q-_5U2L4Wp"
      }
    },
    {
      "cell_type": "code",
      "source": [
        "submission = pd.read_csv('../input/titanic/gender_submission.csv')"
      ],
      "metadata": {
        "execution": {
          "iopub.status.busy": "2022-01-29T13:48:38.668662Z",
          "iopub.execute_input": "2022-01-29T13:48:38.668955Z",
          "iopub.status.idle": "2022-01-29T13:48:38.677095Z",
          "shell.execute_reply.started": "2022-01-29T13:48:38.668922Z",
          "shell.execute_reply": "2022-01-29T13:48:38.676078Z"
        },
        "trusted": true,
        "id": "f-SCcqk1L4Wp"
      },
      "execution_count": null,
      "outputs": []
    },
    {
      "cell_type": "code",
      "source": [
        "submission.head()"
      ],
      "metadata": {
        "execution": {
          "iopub.status.busy": "2022-01-29T13:48:54.967847Z",
          "iopub.execute_input": "2022-01-29T13:48:54.968442Z",
          "iopub.status.idle": "2022-01-29T13:48:54.979215Z",
          "shell.execute_reply.started": "2022-01-29T13:48:54.968392Z",
          "shell.execute_reply": "2022-01-29T13:48:54.977988Z"
        },
        "trusted": true,
        "id": "U3T6BDljL4Wq"
      },
      "execution_count": null,
      "outputs": []
    },
    {
      "cell_type": "code",
      "source": [
        "prediction = model.predict(x_test)\n",
        "submission['Survived'] = prediction"
      ],
      "metadata": {
        "execution": {
          "iopub.status.busy": "2022-01-29T13:49:52.916203Z",
          "iopub.execute_input": "2022-01-29T13:49:52.916532Z",
          "iopub.status.idle": "2022-01-29T13:49:52.943082Z",
          "shell.execute_reply.started": "2022-01-29T13:49:52.916498Z",
          "shell.execute_reply": "2022-01-29T13:49:52.942368Z"
        },
        "trusted": true,
        "id": "R4hT7T9hL4Wq"
      },
      "execution_count": null,
      "outputs": []
    },
    {
      "cell_type": "code",
      "source": [
        "submission.to_csv('./my_first_submission.csv', index=False)"
      ],
      "metadata": {
        "execution": {
          "iopub.status.busy": "2022-01-29T13:50:22.372991Z",
          "iopub.execute_input": "2022-01-29T13:50:22.373847Z",
          "iopub.status.idle": "2022-01-29T13:50:22.381947Z",
          "shell.execute_reply.started": "2022-01-29T13:50:22.373791Z",
          "shell.execute_reply": "2022-01-29T13:50:22.381246Z"
        },
        "trusted": true,
        "id": "AEHgn6E9L4Wq"
      },
      "execution_count": null,
      "outputs": []
    }
  ]
}