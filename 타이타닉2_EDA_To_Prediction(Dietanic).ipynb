{
  "metadata": {
    "kernelspec": {
      "language": "python",
      "display_name": "Python 3",
      "name": "python3"
    },
    "language_info": {
      "pygments_lexer": "ipython3",
      "nbconvert_exporter": "python",
      "version": "3.6.4",
      "file_extension": ".py",
      "codemirror_mode": {
        "name": "ipython",
        "version": 3
      },
      "name": "python",
      "mimetype": "text/x-python"
    },
    "colab": {
      "name": "타이타닉2 : EDA To Prediction(Dietanic).ipynb",
      "provenance": [],
      "collapsed_sections": [],
      "toc_visible": true,
      "include_colab_link": true
    }
  },
  "nbformat_minor": 0,
  "nbformat": 4,
  "cells": [
    {
      "cell_type": "markdown",
      "metadata": {
        "id": "view-in-github",
        "colab_type": "text"
      },
      "source": [
        "<a href=\"https://colab.research.google.com/github/Yanlecun/intro_ml_notebooks/blob/main/%ED%83%80%EC%9D%B4%ED%83%80%EB%8B%892_EDA_To_Prediction(Dietanic).ipynb\" target=\"_parent\"><img src=\"https://colab.research.google.com/assets/colab-badge.svg\" alt=\"Open In Colab\"/></a>"
      ]
    },
    {
      "cell_type": "markdown",
      "source": [
        "sometimes life has a cruel sense of humor, giving you the thing you always wanted at the worst time possible"
      ],
      "metadata": {
        "execution": {
          "iopub.status.busy": "2022-02-02T07:24:46.497786Z",
          "iopub.execute_input": "2022-02-02T07:24:46.49811Z"
        },
        "id": "NK_vjdbLLeil"
      }
    },
    {
      "cell_type": "markdown",
      "source": [
        "sources by : https://www.kaggle.com/ash316/eda-to-prediction-dietanic"
      ],
      "metadata": {
        "id": "T6KsFlyWOK2G"
      }
    },
    {
      "cell_type": "code",
      "source": [
        "# 캐글 설치하기\n",
        "!pip install kaggle\n",
        "from google.colab import files\n",
        "files.upload()"
      ],
      "metadata": {
        "id": "QjwlKJZ9BGg0",
        "colab": {
          "resources": {
            "http://localhost:8080/nbextensions/google.colab/files.js": {
              "data": "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",
              "ok": true,
              "headers": [
                [
                  "content-type",
                  "application/javascript"
                ]
              ],
              "status": 200,
              "status_text": ""
            }
          },
          "base_uri": "https://localhost:8080/",
          "height": 306
        },
        "outputId": "16c4a316-df17-405e-e268-946d11e69736"
      },
      "execution_count": 1,
      "outputs": [
        {
          "output_type": "stream",
          "name": "stdout",
          "text": [
            "Requirement already satisfied: kaggle in /usr/local/lib/python3.7/dist-packages (1.5.12)\n",
            "Requirement already satisfied: python-dateutil in /usr/local/lib/python3.7/dist-packages (from kaggle) (2.8.2)\n",
            "Requirement already satisfied: tqdm in /usr/local/lib/python3.7/dist-packages (from kaggle) (4.63.0)\n",
            "Requirement already satisfied: six>=1.10 in /usr/local/lib/python3.7/dist-packages (from kaggle) (1.15.0)\n",
            "Requirement already satisfied: requests in /usr/local/lib/python3.7/dist-packages (from kaggle) (2.23.0)\n",
            "Requirement already satisfied: python-slugify in /usr/local/lib/python3.7/dist-packages (from kaggle) (6.1.1)\n",
            "Requirement already satisfied: certifi in /usr/local/lib/python3.7/dist-packages (from kaggle) (2021.10.8)\n",
            "Requirement already satisfied: urllib3 in /usr/local/lib/python3.7/dist-packages (from kaggle) (1.24.3)\n",
            "Requirement already satisfied: text-unidecode>=1.3 in /usr/local/lib/python3.7/dist-packages (from python-slugify->kaggle) (1.3)\n",
            "Requirement already satisfied: chardet<4,>=3.0.2 in /usr/local/lib/python3.7/dist-packages (from requests->kaggle) (3.0.4)\n",
            "Requirement already satisfied: idna<3,>=2.5 in /usr/local/lib/python3.7/dist-packages (from requests->kaggle) (2.10)\n"
          ]
        },
        {
          "output_type": "display_data",
          "data": {
            "text/html": [
              "\n",
              "     <input type=\"file\" id=\"files-46098593-2b57-4150-9182-46b1fdd754c7\" name=\"files[]\" multiple disabled\n",
              "        style=\"border:none\" />\n",
              "     <output id=\"result-46098593-2b57-4150-9182-46b1fdd754c7\">\n",
              "      Upload widget is only available when the cell has been executed in the\n",
              "      current browser session. Please rerun this cell to enable.\n",
              "      </output>\n",
              "      <script src=\"/nbextensions/google.colab/files.js\"></script> "
            ],
            "text/plain": [
              "<IPython.core.display.HTML object>"
            ]
          },
          "metadata": {}
        },
        {
          "output_type": "stream",
          "name": "stdout",
          "text": [
            "Saving kaggle.json to kaggle.json\n"
          ]
        },
        {
          "output_type": "execute_result",
          "data": {
            "text/plain": [
              "{'kaggle.json': b'{\"username\":\"songwookim\",\"key\":\"7823cc64286c8d91ee63339925529399\"}'}"
            ]
          },
          "metadata": {},
          "execution_count": 1
        }
      ]
    },
    {
      "cell_type": "code",
      "source": [
        "!mkdir -p ~/.kaggle\n",
        "!cp kaggle.json ~/.kaggle/\n",
        "! chmod 600 ~/.kaggle/kaggle.json"
      ],
      "metadata": {
        "id": "y-kG-X1gBInB"
      },
      "execution_count": 3,
      "outputs": []
    },
    {
      "cell_type": "code",
      "source": [
        "! kaggle competitions download -c titanic"
      ],
      "metadata": {
        "id": "OrqVYP1yDcGd",
        "colab": {
          "base_uri": "https://localhost:8080/"
        },
        "outputId": "94609c0f-4cea-4c4c-9595-30829b875ad9"
      },
      "execution_count": 5,
      "outputs": [
        {
          "output_type": "stream",
          "name": "stdout",
          "text": [
            "Warning: Looks like you're using an outdated API Version, please consider updating (server 1.5.12 / client 1.5.4)\n",
            "train.csv: Skipping, found more recently modified local copy (use --force to force download)\n",
            "gender_submission.csv: Skipping, found more recently modified local copy (use --force to force download)\n",
            "test.csv: Skipping, found more recently modified local copy (use --force to force download)\n"
          ]
        }
      ]
    },
    {
      "cell_type": "code",
      "source": [
        "#import os\n",
        "#for dirname, _, filenames in os.walk('/kaggle/input'):\n",
        "#    for filename in filenames:\n",
        "        #print(os.path.join(dirname, filename))\n"
      ],
      "metadata": {
        "_uuid": "8f2839f25d086af736a60e9eeb907d3b93b6e0e5",
        "_cell_guid": "b1076dfc-b9ad-4769-8c92-a6c4dae69d19",
        "execution": {
          "iopub.status.busy": "2022-01-29T13:24:55.20593Z",
          "iopub.execute_input": "2022-01-29T13:24:55.206349Z",
          "iopub.status.idle": "2022-01-29T13:24:55.215099Z",
          "shell.execute_reply.started": "2022-01-29T13:24:55.206317Z",
          "shell.execute_reply": "2022-01-29T13:24:55.214272Z"
        },
        "id": "_xPjH2nML4WP"
      },
      "execution_count": 6,
      "outputs": []
    },
    {
      "cell_type": "markdown",
      "source": [
        "# (0) 개요\n",
        "<p>\n",
        "2224명 중 1502의 사상자를 내어 'Dietanic'이라고 지었다.\n",
        "특징을 체크, 새로운 특징을 추가하며 머신러닝의 개념을 곁들이는 과정으로 <br> 예측 모델링 문제의 작업흐름이 어떤지에 대한 관점을 줄 것이다.\n",
        "</p>\n",
        "\n",
        "1. EDA\n",
        "    1. 특징에 대한 분석\n",
        "    2. 다양한 특징을 고려한 특징 사이의 관계성이나 방향성 탐색\n",
        "2. Feature Engineering and Data Cleaning\n",
        "    1. 특징 추가\n",
        "    2. 관계 의존도 높은 특징 제거\n",
        "    3. 특징들을 모델링을 위해 적절한 형태로 변형\n",
        "3. Predictive Modeling\n",
        "    1. 기본 알고리즘\n",
        "    2. Cross Validation\n",
        "    3. 앙상블\n",
        "    4. 중요한 특징 추출"
      ],
      "metadata": {
        "id": "0L4Nq-CrLeio"
      }
    },
    {
      "cell_type": "markdown",
      "source": [
        "# (1) EDA"
      ],
      "metadata": {
        "execution": {
          "iopub.status.busy": "2022-02-02T07:58:10.4231Z",
          "iopub.execute_input": "2022-02-02T07:58:10.423408Z",
          "iopub.status.idle": "2022-02-02T07:58:10.427728Z",
          "shell.execute_reply.started": "2022-02-02T07:58:10.423377Z",
          "shell.execute_reply": "2022-02-02T07:58:10.427121Z"
        },
        "id": "SbCUrgvKLeiq"
      }
    },
    {
      "cell_type": "code",
      "source": [
        "import numpy as np\n",
        "import pandas as pd\n",
        "import matplotlib.pyplot as plt\n",
        "import seaborn as sns\n",
        "plt.style.use('fivethirtyeight')\n",
        "import warnings\n",
        "warnings.filterwarnings('ignore')\n",
        "%matplotlib inline"
      ],
      "metadata": {
        "execution": {
          "iopub.status.busy": "2022-02-02T12:41:12.190401Z",
          "iopub.execute_input": "2022-02-02T12:41:12.191153Z",
          "iopub.status.idle": "2022-02-02T12:41:12.200309Z",
          "shell.execute_reply.started": "2022-02-02T12:41:12.191105Z",
          "shell.execute_reply": "2022-02-02T12:41:12.199343Z"
        },
        "trusted": true,
        "id": "QtlCOBQnLeir"
      },
      "execution_count": 7,
      "outputs": []
    },
    {
      "cell_type": "code",
      "source": [
        "data = pd.read_csv('train.csv')"
      ],
      "metadata": {
        "execution": {
          "iopub.status.busy": "2022-02-02T12:41:12.201721Z",
          "iopub.execute_input": "2022-02-02T12:41:12.202124Z",
          "iopub.status.idle": "2022-02-02T12:41:12.219348Z",
          "shell.execute_reply.started": "2022-02-02T12:41:12.202068Z",
          "shell.execute_reply": "2022-02-02T12:41:12.218588Z"
        },
        "trusted": true,
        "id": "MVSEwjHELeis"
      },
      "execution_count": 8,
      "outputs": []
    },
    {
      "cell_type": "code",
      "source": [
        "data.head()"
      ],
      "metadata": {
        "execution": {
          "iopub.status.busy": "2022-02-02T12:41:12.221143Z",
          "iopub.execute_input": "2022-02-02T12:41:12.221501Z",
          "iopub.status.idle": "2022-02-02T12:41:12.237035Z",
          "shell.execute_reply.started": "2022-02-02T12:41:12.221468Z",
          "shell.execute_reply": "2022-02-02T12:41:12.236141Z"
        },
        "trusted": true,
        "colab": {
          "base_uri": "https://localhost:8080/",
          "height": 0
        },
        "id": "Lj5k7xL3Leit",
        "outputId": "faee0069-37e8-4cf2-ebf2-9df38fd48f28"
      },
      "execution_count": 9,
      "outputs": [
        {
          "output_type": "execute_result",
          "data": {
            "text/html": [
              "\n",
              "  <div id=\"df-8d575514-11e6-4bf4-b5f7-47110c28b63a\">\n",
              "    <div class=\"colab-df-container\">\n",
              "      <div>\n",
              "<style scoped>\n",
              "    .dataframe tbody tr th:only-of-type {\n",
              "        vertical-align: middle;\n",
              "    }\n",
              "\n",
              "    .dataframe tbody tr th {\n",
              "        vertical-align: top;\n",
              "    }\n",
              "\n",
              "    .dataframe thead th {\n",
              "        text-align: right;\n",
              "    }\n",
              "</style>\n",
              "<table border=\"1\" class=\"dataframe\">\n",
              "  <thead>\n",
              "    <tr style=\"text-align: right;\">\n",
              "      <th></th>\n",
              "      <th>PassengerId</th>\n",
              "      <th>Survived</th>\n",
              "      <th>Pclass</th>\n",
              "      <th>Name</th>\n",
              "      <th>Sex</th>\n",
              "      <th>Age</th>\n",
              "      <th>SibSp</th>\n",
              "      <th>Parch</th>\n",
              "      <th>Ticket</th>\n",
              "      <th>Fare</th>\n",
              "      <th>Cabin</th>\n",
              "      <th>Embarked</th>\n",
              "    </tr>\n",
              "  </thead>\n",
              "  <tbody>\n",
              "    <tr>\n",
              "      <th>0</th>\n",
              "      <td>1</td>\n",
              "      <td>0</td>\n",
              "      <td>3</td>\n",
              "      <td>Braund, Mr. Owen Harris</td>\n",
              "      <td>male</td>\n",
              "      <td>22.0</td>\n",
              "      <td>1</td>\n",
              "      <td>0</td>\n",
              "      <td>A/5 21171</td>\n",
              "      <td>7.2500</td>\n",
              "      <td>NaN</td>\n",
              "      <td>S</td>\n",
              "    </tr>\n",
              "    <tr>\n",
              "      <th>1</th>\n",
              "      <td>2</td>\n",
              "      <td>1</td>\n",
              "      <td>1</td>\n",
              "      <td>Cumings, Mrs. John Bradley (Florence Briggs Th...</td>\n",
              "      <td>female</td>\n",
              "      <td>38.0</td>\n",
              "      <td>1</td>\n",
              "      <td>0</td>\n",
              "      <td>PC 17599</td>\n",
              "      <td>71.2833</td>\n",
              "      <td>C85</td>\n",
              "      <td>C</td>\n",
              "    </tr>\n",
              "    <tr>\n",
              "      <th>2</th>\n",
              "      <td>3</td>\n",
              "      <td>1</td>\n",
              "      <td>3</td>\n",
              "      <td>Heikkinen, Miss. Laina</td>\n",
              "      <td>female</td>\n",
              "      <td>26.0</td>\n",
              "      <td>0</td>\n",
              "      <td>0</td>\n",
              "      <td>STON/O2. 3101282</td>\n",
              "      <td>7.9250</td>\n",
              "      <td>NaN</td>\n",
              "      <td>S</td>\n",
              "    </tr>\n",
              "    <tr>\n",
              "      <th>3</th>\n",
              "      <td>4</td>\n",
              "      <td>1</td>\n",
              "      <td>1</td>\n",
              "      <td>Futrelle, Mrs. Jacques Heath (Lily May Peel)</td>\n",
              "      <td>female</td>\n",
              "      <td>35.0</td>\n",
              "      <td>1</td>\n",
              "      <td>0</td>\n",
              "      <td>113803</td>\n",
              "      <td>53.1000</td>\n",
              "      <td>C123</td>\n",
              "      <td>S</td>\n",
              "    </tr>\n",
              "    <tr>\n",
              "      <th>4</th>\n",
              "      <td>5</td>\n",
              "      <td>0</td>\n",
              "      <td>3</td>\n",
              "      <td>Allen, Mr. William Henry</td>\n",
              "      <td>male</td>\n",
              "      <td>35.0</td>\n",
              "      <td>0</td>\n",
              "      <td>0</td>\n",
              "      <td>373450</td>\n",
              "      <td>8.0500</td>\n",
              "      <td>NaN</td>\n",
              "      <td>S</td>\n",
              "    </tr>\n",
              "  </tbody>\n",
              "</table>\n",
              "</div>\n",
              "      <button class=\"colab-df-convert\" onclick=\"convertToInteractive('df-8d575514-11e6-4bf4-b5f7-47110c28b63a')\"\n",
              "              title=\"Convert this dataframe to an interactive table.\"\n",
              "              style=\"display:none;\">\n",
              "        \n",
              "  <svg xmlns=\"http://www.w3.org/2000/svg\" height=\"24px\"viewBox=\"0 0 24 24\"\n",
              "       width=\"24px\">\n",
              "    <path d=\"M0 0h24v24H0V0z\" fill=\"none\"/>\n",
              "    <path d=\"M18.56 5.44l.94 2.06.94-2.06 2.06-.94-2.06-.94-.94-2.06-.94 2.06-2.06.94zm-11 1L8.5 8.5l.94-2.06 2.06-.94-2.06-.94L8.5 2.5l-.94 2.06-2.06.94zm10 10l.94 2.06.94-2.06 2.06-.94-2.06-.94-.94-2.06-.94 2.06-2.06.94z\"/><path d=\"M17.41 7.96l-1.37-1.37c-.4-.4-.92-.59-1.43-.59-.52 0-1.04.2-1.43.59L10.3 9.45l-7.72 7.72c-.78.78-.78 2.05 0 2.83L4 21.41c.39.39.9.59 1.41.59.51 0 1.02-.2 1.41-.59l7.78-7.78 2.81-2.81c.8-.78.8-2.07 0-2.86zM5.41 20L4 18.59l7.72-7.72 1.47 1.35L5.41 20z\"/>\n",
              "  </svg>\n",
              "      </button>\n",
              "      \n",
              "  <style>\n",
              "    .colab-df-container {\n",
              "      display:flex;\n",
              "      flex-wrap:wrap;\n",
              "      gap: 12px;\n",
              "    }\n",
              "\n",
              "    .colab-df-convert {\n",
              "      background-color: #E8F0FE;\n",
              "      border: none;\n",
              "      border-radius: 50%;\n",
              "      cursor: pointer;\n",
              "      display: none;\n",
              "      fill: #1967D2;\n",
              "      height: 32px;\n",
              "      padding: 0 0 0 0;\n",
              "      width: 32px;\n",
              "    }\n",
              "\n",
              "    .colab-df-convert:hover {\n",
              "      background-color: #E2EBFA;\n",
              "      box-shadow: 0px 1px 2px rgba(60, 64, 67, 0.3), 0px 1px 3px 1px rgba(60, 64, 67, 0.15);\n",
              "      fill: #174EA6;\n",
              "    }\n",
              "\n",
              "    [theme=dark] .colab-df-convert {\n",
              "      background-color: #3B4455;\n",
              "      fill: #D2E3FC;\n",
              "    }\n",
              "\n",
              "    [theme=dark] .colab-df-convert:hover {\n",
              "      background-color: #434B5C;\n",
              "      box-shadow: 0px 1px 3px 1px rgba(0, 0, 0, 0.15);\n",
              "      filter: drop-shadow(0px 1px 2px rgba(0, 0, 0, 0.3));\n",
              "      fill: #FFFFFF;\n",
              "    }\n",
              "  </style>\n",
              "\n",
              "      <script>\n",
              "        const buttonEl =\n",
              "          document.querySelector('#df-8d575514-11e6-4bf4-b5f7-47110c28b63a button.colab-df-convert');\n",
              "        buttonEl.style.display =\n",
              "          google.colab.kernel.accessAllowed ? 'block' : 'none';\n",
              "\n",
              "        async function convertToInteractive(key) {\n",
              "          const element = document.querySelector('#df-8d575514-11e6-4bf4-b5f7-47110c28b63a');\n",
              "          const dataTable =\n",
              "            await google.colab.kernel.invokeFunction('convertToInteractive',\n",
              "                                                     [key], {});\n",
              "          if (!dataTable) return;\n",
              "\n",
              "          const docLinkHtml = 'Like what you see? Visit the ' +\n",
              "            '<a target=\"_blank\" href=https://colab.research.google.com/notebooks/data_table.ipynb>data table notebook</a>'\n",
              "            + ' to learn more about interactive tables.';\n",
              "          element.innerHTML = '';\n",
              "          dataTable['output_type'] = 'display_data';\n",
              "          await google.colab.output.renderOutput(dataTable, element);\n",
              "          const docLink = document.createElement('div');\n",
              "          docLink.innerHTML = docLinkHtml;\n",
              "          element.appendChild(docLink);\n",
              "        }\n",
              "      </script>\n",
              "    </div>\n",
              "  </div>\n",
              "  "
            ],
            "text/plain": [
              "   PassengerId  Survived  Pclass  \\\n",
              "0            1         0       3   \n",
              "1            2         1       1   \n",
              "2            3         1       3   \n",
              "3            4         1       1   \n",
              "4            5         0       3   \n",
              "\n",
              "                                                Name     Sex   Age  SibSp  \\\n",
              "0                            Braund, Mr. Owen Harris    male  22.0      1   \n",
              "1  Cumings, Mrs. John Bradley (Florence Briggs Th...  female  38.0      1   \n",
              "2                             Heikkinen, Miss. Laina  female  26.0      0   \n",
              "3       Futrelle, Mrs. Jacques Heath (Lily May Peel)  female  35.0      1   \n",
              "4                           Allen, Mr. William Henry    male  35.0      0   \n",
              "\n",
              "   Parch            Ticket     Fare Cabin Embarked  \n",
              "0      0         A/5 21171   7.2500   NaN        S  \n",
              "1      0          PC 17599  71.2833   C85        C  \n",
              "2      0  STON/O2. 3101282   7.9250   NaN        S  \n",
              "3      0            113803  53.1000  C123        S  \n",
              "4      0            373450   8.0500   NaN        S  "
            ]
          },
          "metadata": {},
          "execution_count": 9
        }
      ]
    },
    {
      "cell_type": "markdown",
      "source": [
        "## 데이터 결측치 확인"
      ],
      "metadata": {
        "execution": {
          "iopub.status.busy": "2022-02-02T08:08:03.172895Z",
          "iopub.execute_input": "2022-02-02T08:08:03.173194Z",
          "iopub.status.idle": "2022-02-02T08:08:03.177406Z",
          "shell.execute_reply.started": "2022-02-02T08:08:03.173148Z",
          "shell.execute_reply": "2022-02-02T08:08:03.176498Z"
        },
        "id": "gh_jJDHdLeiu"
      }
    },
    {
      "cell_type": "code",
      "source": [
        "data.isnull().sum()"
      ],
      "metadata": {
        "execution": {
          "iopub.status.busy": "2022-02-02T12:41:12.238261Z",
          "iopub.execute_input": "2022-02-02T12:41:12.239143Z",
          "iopub.status.idle": "2022-02-02T12:41:12.2524Z",
          "shell.execute_reply.started": "2022-02-02T12:41:12.239095Z",
          "shell.execute_reply": "2022-02-02T12:41:12.251294Z"
        },
        "trusted": true,
        "colab": {
          "base_uri": "https://localhost:8080/"
        },
        "id": "v7-vI28iLeiv",
        "outputId": "84c7ad74-651a-4f32-b1fc-7390eca65940"
      },
      "execution_count": 10,
      "outputs": [
        {
          "output_type": "execute_result",
          "data": {
            "text/plain": [
              "PassengerId      0\n",
              "Survived         0\n",
              "Pclass           0\n",
              "Name             0\n",
              "Sex              0\n",
              "Age            177\n",
              "SibSp            0\n",
              "Parch            0\n",
              "Ticket           0\n",
              "Fare             0\n",
              "Cabin          687\n",
              "Embarked         2\n",
              "dtype: int64"
            ]
          },
          "metadata": {},
          "execution_count": 10
        }
      ]
    },
    {
      "cell_type": "markdown",
      "source": [
        "Age, Embarked 값에 결측치가 있음"
      ],
      "metadata": {
        "id": "P4_i4euBLeiw"
      }
    },
    {
      "cell_type": "markdown",
      "source": [
        "## 얼마나 많이 살아남았을까?"
      ],
      "metadata": {
        "id": "Et449-8ILeix"
      }
    },
    {
      "cell_type": "code",
      "source": [
        "f, ax = plt.subplots(1,2,figsize=(18,8))\n",
        "\n",
        "# Pie Chart\n",
        "data['Survived'].value_counts().plot.pie(explode=[0,0.1], autopct='%1.1f%%', ax= ax[0], shadow=True)\n",
        "ax[0].set_title('Survived')\n",
        "ax[0].set_ylabel('')\n",
        "\n",
        "sns.countplot('Survived', data=data, ax=ax[1])\n",
        "ax[1].set_title('Survived')\n"
      ],
      "metadata": {
        "execution": {
          "iopub.status.busy": "2022-02-02T12:41:12.254121Z",
          "iopub.execute_input": "2022-02-02T12:41:12.254727Z",
          "iopub.status.idle": "2022-02-02T12:41:12.553969Z",
          "shell.execute_reply.started": "2022-02-02T12:41:12.254681Z",
          "shell.execute_reply": "2022-02-02T12:41:12.553055Z"
        },
        "trusted": true,
        "colab": {
          "base_uri": "https://localhost:8080/",
          "height": 0
        },
        "id": "pbP_HeHALeiy",
        "outputId": "57bf0a60-b085-4d83-bdb9-4bd72767f80f"
      },
      "execution_count": 11,
      "outputs": [
        {
          "output_type": "execute_result",
          "data": {
            "text/plain": [
              "Text(0.5, 1.0, 'Survived')"
            ]
          },
          "metadata": {},
          "execution_count": 11
        },
        {
          "output_type": "display_data",
          "data": {
            "image/png": "[encoded data removed]",
            "text/plain": [
              "<Figure size 1296x576 with 2 Axes>"
            ]
          },
          "metadata": {
            "needs_background": "light"
          }
        }
      ]
    },
    {
      "cell_type": "markdown",
      "source": [
        "train dataset에 의하면 38.4%가 생존했다는 것을 알 수 있었는데, 더 나은 관점을 위해 각 특징과 생존비율에 대한 관계성을 살펴보자."
      ],
      "metadata": {
        "execution": {
          "iopub.status.busy": "2022-02-02T08:11:44.558145Z",
          "iopub.execute_input": "2022-02-02T08:11:44.558434Z",
          "iopub.status.idle": "2022-02-02T08:11:44.565022Z",
          "shell.execute_reply.started": "2022-02-02T08:11:44.558406Z",
          "shell.execute_reply": "2022-02-02T08:11:44.563957Z"
        },
        "id": "wkjmcb_wLeiz"
      }
    },
    {
      "cell_type": "markdown",
      "source": [
        "## Feature 살펴보기"
      ],
      "metadata": {
        "execution": {
          "iopub.status.busy": "2022-02-02T08:12:05.649903Z",
          "iopub.execute_input": "2022-02-02T08:12:05.650891Z",
          "iopub.status.idle": "2022-02-02T08:12:05.655244Z",
          "shell.execute_reply.started": "2022-02-02T08:12:05.650834Z",
          "shell.execute_reply": "2022-02-02T08:12:05.654276Z"
        },
        "id": "2HHoseBbLeiz"
      }
    },
    {
      "cell_type": "markdown",
      "source": [
        "### 1. 범주형 특징\n",
        "- sex, embarked같이 상대적 순서는 없어 순서 정렬할 수 없는 특징"
      ],
      "metadata": {
        "execution": {
          "iopub.status.busy": "2022-02-02T08:12:19.04693Z",
          "iopub.execute_input": "2022-02-02T08:12:19.047237Z",
          "iopub.status.idle": "2022-02-02T08:12:19.051008Z",
          "shell.execute_reply.started": "2022-02-02T08:12:19.047204Z",
          "shell.execute_reply": "2022-02-02T08:12:19.049992Z"
        },
        "id": "iwvTfkBBLei0"
      }
    },
    {
      "cell_type": "markdown",
      "source": [
        "### 2. Ordinal 특징\n",
        "- Height(Tall, Midium, short)값에 상대적 순서가 있어 순서정렬이 가능한 범주형 특징"
      ],
      "metadata": {
        "id": "raasVbFMNAD3"
      }
    },
    {
      "cell_type": "markdown",
      "source": [
        "\n",
        "### 3. Continous 특징\n",
        "- Age처럼 이진값이나 최대/최소값을 가진 특징 "
      ],
      "metadata": {
        "id": "KjMmQEGOM-8d"
      }
    },
    {
      "cell_type": "markdown",
      "source": [
        "## Feature 분석"
      ],
      "metadata": {
        "execution": {
          "iopub.status.busy": "2022-02-02T08:23:41.190218Z"
        },
        "id": "o4LyAxsaLei0"
      }
    },
    {
      "cell_type": "markdown",
      "source": [
        "### (1) 범주형 특징(sex)    "
      ],
      "metadata": {
        "execution": {
          "iopub.status.busy": "2022-02-02T12:18:52.216904Z",
          "iopub.execute_input": "2022-02-02T12:18:52.217203Z",
          "iopub.status.idle": "2022-02-02T12:18:52.220845Z",
          "shell.execute_reply.started": "2022-02-02T12:18:52.217172Z",
          "shell.execute_reply": "2022-02-02T12:18:52.220218Z"
        },
        "id": "mDFsqyDuLei0"
      }
    },
    {
      "cell_type": "code",
      "source": [
        "data.groupby(['Sex', 'Survived'])['Survived'].count()"
      ],
      "metadata": {
        "execution": {
          "iopub.status.busy": "2022-02-02T12:41:12.555409Z",
          "iopub.execute_input": "2022-02-02T12:41:12.555712Z",
          "iopub.status.idle": "2022-02-02T12:41:12.566818Z",
          "shell.execute_reply.started": "2022-02-02T12:41:12.55567Z",
          "shell.execute_reply": "2022-02-02T12:41:12.566052Z"
        },
        "trusted": true,
        "colab": {
          "base_uri": "https://localhost:8080/"
        },
        "id": "262nYn38Lei1",
        "outputId": "f4b68639-bb5e-4c42-c1a1-1348d50ffe6e"
      },
      "execution_count": 12,
      "outputs": [
        {
          "output_type": "execute_result",
          "data": {
            "text/plain": [
              "Sex     Survived\n",
              "female  0            81\n",
              "        1           233\n",
              "male    0           468\n",
              "        1           109\n",
              "Name: Survived, dtype: int64"
            ]
          },
          "metadata": {},
          "execution_count": 12
        }
      ]
    },
    {
      "cell_type": "code",
      "source": [
        "f, ax = plt.subplots(1,2, figsize=(18,8))\n",
        "\n",
        "data[['Sex', 'Survived']].groupby('Sex').mean().plot.bar(ax=ax[0])\n",
        "ax[0].set_title('Survived vs Sex')\n",
        "\n",
        "sns.countplot('Sex', hue='Survived', data=data,ax=ax[1])\n",
        "ax[1].set_title('Sex: Survived vs Sex')"
      ],
      "metadata": {
        "execution": {
          "iopub.status.busy": "2022-02-02T12:41:12.56852Z",
          "iopub.execute_input": "2022-02-02T12:41:12.56916Z",
          "iopub.status.idle": "2022-02-02T12:41:12.939259Z",
          "shell.execute_reply.started": "2022-02-02T12:41:12.569117Z",
          "shell.execute_reply": "2022-02-02T12:41:12.938452Z"
        },
        "trusted": true,
        "colab": {
          "base_uri": "https://localhost:8080/",
          "height": 0
        },
        "id": "syZYirOhLei1",
        "outputId": "39c82423-5938-48c2-d7bc-8fd2c01a5155"
      },
      "execution_count": 13,
      "outputs": [
        {
          "output_type": "execute_result",
          "data": {
            "text/plain": [
              "Text(0.5, 1.0, 'Sex: Survived vs Sex')"
            ]
          },
          "metadata": {},
          "execution_count": 13
        },
        {
          "output_type": "display_data",
          "data": {
            "image/png": "[encoded data removed]",
            "text/plain": [
              "<Figure size 1296x576 with 2 Axes>"
            ]
          },
          "metadata": {
            "needs_background": "light"
          }
        }
      ]
    },
    {
      "cell_type": "markdown",
      "source": [
        "### (2) Ordinal 특징 (Pclass)"
      ],
      "metadata": {
        "execution": {
          "iopub.status.busy": "2022-02-02T08:32:50.843831Z",
          "iopub.execute_input": "2022-02-02T08:32:50.844134Z",
          "iopub.status.idle": "2022-02-02T08:32:50.848511Z",
          "shell.execute_reply.started": "2022-02-02T08:32:50.844094Z",
          "shell.execute_reply": "2022-02-02T08:32:50.847418Z"
        },
        "id": "Poaf_VuZLei2"
      }
    },
    {
      "cell_type": "code",
      "source": [
        "pd.crosstab(data.Pclass, data.Survived, margins=True).style.background_gradient(cmap='summer_r')"
      ],
      "metadata": {
        "execution": {
          "iopub.status.busy": "2022-02-02T12:41:12.941596Z",
          "iopub.execute_input": "2022-02-02T12:41:12.941983Z",
          "iopub.status.idle": "2022-02-02T12:41:12.988862Z",
          "shell.execute_reply.started": "2022-02-02T12:41:12.94195Z",
          "shell.execute_reply": "2022-02-02T12:41:12.988079Z"
        },
        "trusted": true,
        "colab": {
          "base_uri": "https://localhost:8080/",
          "height": 0
        },
        "id": "VIB_3X49Lei2",
        "outputId": "fbab4d9d-9b5f-4c16-8fb3-8ca90e2b660a"
      },
      "execution_count": 14,
      "outputs": [
        {
          "output_type": "execute_result",
          "data": {
            "text/html": [
              "<style type=\"text/css\">\n",
              "#T_c359f_row0_col0, #T_c359f_row1_col1, #T_c359f_row1_col2 {\n",
              "  background-color: #ffff66;\n",
              "  color: #000000;\n",
              "}\n",
              "#T_c359f_row0_col1 {\n",
              "  background-color: #cee666;\n",
              "  color: #000000;\n",
              "}\n",
              "#T_c359f_row0_col2 {\n",
              "  background-color: #f4fa66;\n",
              "  color: #000000;\n",
              "}\n",
              "#T_c359f_row1_col0 {\n",
              "  background-color: #f6fa66;\n",
              "  color: #000000;\n",
              "}\n",
              "#T_c359f_row2_col0 {\n",
              "  background-color: #60b066;\n",
              "  color: #f1f1f1;\n",
              "}\n",
              "#T_c359f_row2_col1 {\n",
              "  background-color: #dfef66;\n",
              "  color: #000000;\n",
              "}\n",
              "#T_c359f_row2_col2 {\n",
              "  background-color: #90c866;\n",
              "  color: #000000;\n",
              "}\n",
              "#T_c359f_row3_col0, #T_c359f_row3_col1, #T_c359f_row3_col2 {\n",
              "  background-color: #008066;\n",
              "  color: #f1f1f1;\n",
              "}\n",
              "</style>\n",
              "<table id=\"T_c359f_\" class=\"dataframe\">\n",
              "  <thead>\n",
              "    <tr>\n",
              "      <th class=\"index_name level0\" >Survived</th>\n",
              "      <th class=\"col_heading level0 col0\" >0</th>\n",
              "      <th class=\"col_heading level0 col1\" >1</th>\n",
              "      <th class=\"col_heading level0 col2\" >All</th>\n",
              "    </tr>\n",
              "    <tr>\n",
              "      <th class=\"index_name level0\" >Pclass</th>\n",
              "      <th class=\"blank col0\" >&nbsp;</th>\n",
              "      <th class=\"blank col1\" >&nbsp;</th>\n",
              "      <th class=\"blank col2\" >&nbsp;</th>\n",
              "    </tr>\n",
              "  </thead>\n",
              "  <tbody>\n",
              "    <tr>\n",
              "      <th id=\"T_c359f_level0_row0\" class=\"row_heading level0 row0\" >1</th>\n",
              "      <td id=\"T_c359f_row0_col0\" class=\"data row0 col0\" >80</td>\n",
              "      <td id=\"T_c359f_row0_col1\" class=\"data row0 col1\" >136</td>\n",
              "      <td id=\"T_c359f_row0_col2\" class=\"data row0 col2\" >216</td>\n",
              "    </tr>\n",
              "    <tr>\n",
              "      <th id=\"T_c359f_level0_row1\" class=\"row_heading level0 row1\" >2</th>\n",
              "      <td id=\"T_c359f_row1_col0\" class=\"data row1 col0\" >97</td>\n",
              "      <td id=\"T_c359f_row1_col1\" class=\"data row1 col1\" >87</td>\n",
              "      <td id=\"T_c359f_row1_col2\" class=\"data row1 col2\" >184</td>\n",
              "    </tr>\n",
              "    <tr>\n",
              "      <th id=\"T_c359f_level0_row2\" class=\"row_heading level0 row2\" >3</th>\n",
              "      <td id=\"T_c359f_row2_col0\" class=\"data row2 col0\" >372</td>\n",
              "      <td id=\"T_c359f_row2_col1\" class=\"data row2 col1\" >119</td>\n",
              "      <td id=\"T_c359f_row2_col2\" class=\"data row2 col2\" >491</td>\n",
              "    </tr>\n",
              "    <tr>\n",
              "      <th id=\"T_c359f_level0_row3\" class=\"row_heading level0 row3\" >All</th>\n",
              "      <td id=\"T_c359f_row3_col0\" class=\"data row3 col0\" >549</td>\n",
              "      <td id=\"T_c359f_row3_col1\" class=\"data row3 col1\" >342</td>\n",
              "      <td id=\"T_c359f_row3_col2\" class=\"data row3 col2\" >891</td>\n",
              "    </tr>\n",
              "  </tbody>\n",
              "</table>\n"
            ],
            "text/plain": [
              "<pandas.io.formats.style.Styler at 0x7f8dd6ca1290>"
            ]
          },
          "metadata": {},
          "execution_count": 14
        }
      ]
    },
    {
      "cell_type": "code",
      "source": [
        "f, ax = plt.subplots(1,2, figsize=(18,8))\n",
        "data['Pclass'].value_counts().plot.bar(color=['skyblue','gray','pink'], ax=ax[0])\n",
        "ax[0].set_title('Number of Passengers By Pclass')\n",
        "ax[0].set_ylabel('Count')\n",
        "\n",
        "sns.countplot('Pclass', hue='Survived', palette='Set3', data=data, ax=ax[1])\n",
        "ax[1].set_title('Pclass: Survived vs Dead')\n"
      ],
      "metadata": {
        "execution": {
          "iopub.status.busy": "2022-02-02T12:41:12.990382Z",
          "iopub.execute_input": "2022-02-02T12:41:12.990675Z",
          "iopub.status.idle": "2022-02-02T12:41:13.357722Z",
          "shell.execute_reply.started": "2022-02-02T12:41:12.990636Z",
          "shell.execute_reply": "2022-02-02T12:41:13.356992Z"
        },
        "trusted": true,
        "colab": {
          "base_uri": "https://localhost:8080/",
          "height": 0
        },
        "id": "bQtf1dMWLei3",
        "outputId": "84f82298-a9d6-4e0c-c050-46c6f421196b"
      },
      "execution_count": 15,
      "outputs": [
        {
          "output_type": "execute_result",
          "data": {
            "text/plain": [
              "Text(0.5, 1.0, 'Pclass: Survived vs Dead')"
            ]
          },
          "metadata": {},
          "execution_count": 15
        },
        {
          "output_type": "display_data",
          "data": {
            "image/png": "[encoded data removed]",
            "text/plain": [
              "<Figure size 1296x576 with 2 Axes>"
            ]
          },
          "metadata": {
            "needs_background": "light"
          }
        }
      ]
    },
    {
      "cell_type": "markdown",
      "source": [
        "퍼스트 클래스가 가장 높은 생존확률을 나타내고 있다. <br>Sex와 Pclass 간의 관계를 살펴보자"
      ],
      "metadata": {
        "id": "CA02V76ALei3"
      }
    },
    {
      "cell_type": "code",
      "source": [
        "pd.crosstab([data.Sex, data.Survived], data.Pclass, margins=True).style.background_gradient('summer_r')"
      ],
      "metadata": {
        "execution": {
          "iopub.status.busy": "2022-02-02T12:41:13.358936Z",
          "iopub.execute_input": "2022-02-02T12:41:13.359278Z",
          "iopub.status.idle": "2022-02-02T12:41:13.410808Z",
          "shell.execute_reply.started": "2022-02-02T12:41:13.359234Z",
          "shell.execute_reply": "2022-02-02T12:41:13.409873Z"
        },
        "trusted": true,
        "colab": {
          "base_uri": "https://localhost:8080/",
          "height": 0
        },
        "id": "OzrwunmoLei4",
        "outputId": "2126f69f-1a21-40ab-a4d3-568bc2500d3f"
      },
      "execution_count": 16,
      "outputs": [
        {
          "output_type": "execute_result",
          "data": {
            "text/html": [
              "<style type=\"text/css\">\n",
              "#T_1147a_row0_col0, #T_1147a_row0_col1, #T_1147a_row0_col3, #T_1147a_row3_col2 {\n",
              "  background-color: #ffff66;\n",
              "  color: #000000;\n",
              "}\n",
              "#T_1147a_row0_col2, #T_1147a_row1_col2 {\n",
              "  background-color: #f1f866;\n",
              "  color: #000000;\n",
              "}\n",
              "#T_1147a_row1_col0 {\n",
              "  background-color: #96cb66;\n",
              "  color: #000000;\n",
              "}\n",
              "#T_1147a_row1_col1 {\n",
              "  background-color: #a3d166;\n",
              "  color: #000000;\n",
              "}\n",
              "#T_1147a_row1_col3 {\n",
              "  background-color: #cfe766;\n",
              "  color: #000000;\n",
              "}\n",
              "#T_1147a_row2_col0 {\n",
              "  background-color: #a7d366;\n",
              "  color: #000000;\n",
              "}\n",
              "#T_1147a_row2_col1, #T_1147a_row2_col3 {\n",
              "  background-color: #85c266;\n",
              "  color: #000000;\n",
              "}\n",
              "#T_1147a_row2_col2 {\n",
              "  background-color: #6eb666;\n",
              "  color: #f1f1f1;\n",
              "}\n",
              "#T_1147a_row3_col0 {\n",
              "  background-color: #cde666;\n",
              "  color: #000000;\n",
              "}\n",
              "#T_1147a_row3_col1 {\n",
              "  background-color: #f0f866;\n",
              "  color: #000000;\n",
              "}\n",
              "#T_1147a_row3_col3 {\n",
              "  background-color: #f7fb66;\n",
              "  color: #000000;\n",
              "}\n",
              "#T_1147a_row4_col0, #T_1147a_row4_col1, #T_1147a_row4_col2, #T_1147a_row4_col3 {\n",
              "  background-color: #008066;\n",
              "  color: #f1f1f1;\n",
              "}\n",
              "</style>\n",
              "<table id=\"T_1147a_\" class=\"dataframe\">\n",
              "  <thead>\n",
              "    <tr>\n",
              "      <th class=\"blank\" >&nbsp;</th>\n",
              "      <th class=\"index_name level0\" >Pclass</th>\n",
              "      <th class=\"col_heading level0 col0\" >1</th>\n",
              "      <th class=\"col_heading level0 col1\" >2</th>\n",
              "      <th class=\"col_heading level0 col2\" >3</th>\n",
              "      <th class=\"col_heading level0 col3\" >All</th>\n",
              "    </tr>\n",
              "    <tr>\n",
              "      <th class=\"index_name level0\" >Sex</th>\n",
              "      <th class=\"index_name level1\" >Survived</th>\n",
              "      <th class=\"blank col0\" >&nbsp;</th>\n",
              "      <th class=\"blank col1\" >&nbsp;</th>\n",
              "      <th class=\"blank col2\" >&nbsp;</th>\n",
              "      <th class=\"blank col3\" >&nbsp;</th>\n",
              "    </tr>\n",
              "  </thead>\n",
              "  <tbody>\n",
              "    <tr>\n",
              "      <th id=\"T_1147a_level0_row0\" class=\"row_heading level0 row0\" rowspan=\"2\">female</th>\n",
              "      <th id=\"T_1147a_level1_row0\" class=\"row_heading level1 row0\" >0</th>\n",
              "      <td id=\"T_1147a_row0_col0\" class=\"data row0 col0\" >3</td>\n",
              "      <td id=\"T_1147a_row0_col1\" class=\"data row0 col1\" >6</td>\n",
              "      <td id=\"T_1147a_row0_col2\" class=\"data row0 col2\" >72</td>\n",
              "      <td id=\"T_1147a_row0_col3\" class=\"data row0 col3\" >81</td>\n",
              "    </tr>\n",
              "    <tr>\n",
              "      <th id=\"T_1147a_level1_row1\" class=\"row_heading level1 row1\" >1</th>\n",
              "      <td id=\"T_1147a_row1_col0\" class=\"data row1 col0\" >91</td>\n",
              "      <td id=\"T_1147a_row1_col1\" class=\"data row1 col1\" >70</td>\n",
              "      <td id=\"T_1147a_row1_col2\" class=\"data row1 col2\" >72</td>\n",
              "      <td id=\"T_1147a_row1_col3\" class=\"data row1 col3\" >233</td>\n",
              "    </tr>\n",
              "    <tr>\n",
              "      <th id=\"T_1147a_level0_row2\" class=\"row_heading level0 row2\" rowspan=\"2\">male</th>\n",
              "      <th id=\"T_1147a_level1_row2\" class=\"row_heading level1 row2\" >0</th>\n",
              "      <td id=\"T_1147a_row2_col0\" class=\"data row2 col0\" >77</td>\n",
              "      <td id=\"T_1147a_row2_col1\" class=\"data row2 col1\" >91</td>\n",
              "      <td id=\"T_1147a_row2_col2\" class=\"data row2 col2\" >300</td>\n",
              "      <td id=\"T_1147a_row2_col3\" class=\"data row2 col3\" >468</td>\n",
              "    </tr>\n",
              "    <tr>\n",
              "      <th id=\"T_1147a_level1_row3\" class=\"row_heading level1 row3\" >1</th>\n",
              "      <td id=\"T_1147a_row3_col0\" class=\"data row3 col0\" >45</td>\n",
              "      <td id=\"T_1147a_row3_col1\" class=\"data row3 col1\" >17</td>\n",
              "      <td id=\"T_1147a_row3_col2\" class=\"data row3 col2\" >47</td>\n",
              "      <td id=\"T_1147a_row3_col3\" class=\"data row3 col3\" >109</td>\n",
              "    </tr>\n",
              "    <tr>\n",
              "      <th id=\"T_1147a_level0_row4\" class=\"row_heading level0 row4\" >All</th>\n",
              "      <th id=\"T_1147a_level1_row4\" class=\"row_heading level1 row4\" ></th>\n",
              "      <td id=\"T_1147a_row4_col0\" class=\"data row4 col0\" >216</td>\n",
              "      <td id=\"T_1147a_row4_col1\" class=\"data row4 col1\" >184</td>\n",
              "      <td id=\"T_1147a_row4_col2\" class=\"data row4 col2\" >491</td>\n",
              "      <td id=\"T_1147a_row4_col3\" class=\"data row4 col3\" >891</td>\n",
              "    </tr>\n",
              "  </tbody>\n",
              "</table>\n"
            ],
            "text/plain": [
              "<pandas.io.formats.style.Styler at 0x7f8dd5991710>"
            ]
          },
          "metadata": {},
          "execution_count": 16
        }
      ]
    },
    {
      "cell_type": "code",
      "source": [
        "sns.factorplot('Pclass', 'Survived', hue='Sex', data=data)"
      ],
      "metadata": {
        "execution": {
          "iopub.status.busy": "2022-02-02T12:41:13.413774Z",
          "iopub.execute_input": "2022-02-02T12:41:13.414023Z",
          "iopub.status.idle": "2022-02-02T12:41:14.025876Z",
          "shell.execute_reply.started": "2022-02-02T12:41:13.413977Z",
          "shell.execute_reply": "2022-02-02T12:41:14.024965Z"
        },
        "trusted": true,
        "colab": {
          "base_uri": "https://localhost:8080/",
          "height": 0
        },
        "id": "B5OAQ85nLei4",
        "outputId": "e20b7eed-03dc-4256-cb5e-b95bcc15fa4d"
      },
      "execution_count": 17,
      "outputs": [
        {
          "output_type": "execute_result",
          "data": {
            "text/plain": [
              "<seaborn.axisgrid.FacetGrid at 0x7f8dd599c4d0>"
            ]
          },
          "metadata": {},
          "execution_count": 17
        },
        {
          "output_type": "display_data",
          "data": {
            "image/png": "[encoded data removed]",
            "text/plain": [
              "<Figure size 430.5x360 with 1 Axes>"
            ]
          },
          "metadata": {
            "needs_background": "light"
          }
        }
      ]
    },
    {
      "cell_type": "markdown",
      "source": [
        "**factorplot는 범주형의 데이터를 쉽게 분리한다는 장점이 있다.**\n",
        "<br> <p>Pclass 1인 여성이 94%의 생존률을 보여주고 있으며, Pclass 관계없이 여성의 생존률이 높은 것을 보았을 때 여성 먼저 구조된 것을 추론할 수 있다.</p>"
      ],
      "metadata": {
        "execution": {
          "iopub.status.busy": "2022-02-02T08:46:15.279459Z",
          "iopub.execute_input": "2022-02-02T08:46:15.279766Z",
          "iopub.status.idle": "2022-02-02T08:46:15.285793Z",
          "shell.execute_reply.started": "2022-02-02T08:46:15.279736Z",
          "shell.execute_reply": "2022-02-02T08:46:15.284339Z"
        },
        "id": "KNZqyxNoLei4"
      }
    },
    {
      "cell_type": "markdown",
      "source": [
        "### (3) Continous 특징 (Age)"
      ],
      "metadata": {
        "id": "O3G3mbsjLei5"
      }
    },
    {
      "cell_type": "code",
      "source": [
        "print('Oldest Passenger was of:', data['Age'].max(), 'Years')\n",
        "print('Youngest Passenger was of:', data['Age'].min(), 'Years')\n",
        "print('Average age ont the ship:', data['Age'].mean(), 'Years')"
      ],
      "metadata": {
        "execution": {
          "iopub.status.busy": "2022-02-02T12:41:14.027087Z",
          "iopub.execute_input": "2022-02-02T12:41:14.027306Z",
          "iopub.status.idle": "2022-02-02T12:41:14.033681Z",
          "shell.execute_reply.started": "2022-02-02T12:41:14.02728Z",
          "shell.execute_reply": "2022-02-02T12:41:14.033086Z"
        },
        "trusted": true,
        "colab": {
          "base_uri": "https://localhost:8080/"
        },
        "id": "B8sK8xUGLei5",
        "outputId": "f876997f-33b2-4541-e864-0bf98989256f"
      },
      "execution_count": 18,
      "outputs": [
        {
          "output_type": "stream",
          "name": "stdout",
          "text": [
            "Oldest Passenger was of: 80.0 Years\n",
            "Youngest Passenger was of: 0.42 Years\n",
            "Average age ont the ship: 29.69911764705882 Years\n"
          ]
        }
      ]
    },
    {
      "cell_type": "code",
      "source": [
        "f, ax = plt.subplots(1,2, figsize=(18,8))\n",
        "\n",
        "sns.violinplot('Pclass', 'Age', hue=\"Survived\", data=data, split=True, ax=ax[0])\n",
        "ax[0].set_title('Pclass and Age vs Survived')\n",
        "ax[0].set_yticks(range(0,110,10))\n",
        "\n",
        "sns.violinplot('Sex', 'Age', hue='Survived', data=data, split=True, ax=ax[1])\n",
        "ax[1].set_title('Sex and Age vs Survived')\n",
        "ax[1].set_yticks(range(0,110,10))\n",
        "\n",
        "plt.show()"
      ],
      "metadata": {
        "execution": {
          "iopub.status.busy": "2022-02-02T12:41:14.034601Z",
          "iopub.execute_input": "2022-02-02T12:41:14.035441Z",
          "iopub.status.idle": "2022-02-02T12:41:14.731561Z",
          "shell.execute_reply.started": "2022-02-02T12:41:14.035405Z",
          "shell.execute_reply": "2022-02-02T12:41:14.730697Z"
        },
        "trusted": true,
        "colab": {
          "base_uri": "https://localhost:8080/",
          "height": 0
        },
        "id": "NQLSA3BLLei5",
        "outputId": "8ce12d43-3abb-46af-dea0-10ff2b49140a"
      },
      "execution_count": 19,
      "outputs": [
        {
          "output_type": "display_data",
          "data": {
            "image/png": "[encoded data removed]",
            "text/plain": [
              "<Figure size 1296x576 with 2 Axes>"
            ]
          },
          "metadata": {
            "needs_background": "light"
          }
        }
      ]
    },
    {
      "cell_type": "markdown",
      "source": [
        "1. 10살 이하의 경우, Pclass 특징의 영향에 관계없다.\n",
        "2. 20-50살 사이의 대한 생존은 Pclass의 영향을 받으며, 역시 여자 쪽에서 좀 더 높은 생존률을 보이고 있다.\n",
        "3. 남자의 경우, 나이와 생존률이 반비례 관계임을 확인할 수 있다."
      ],
      "metadata": {
        "id": "fzBOV-EpLei6"
      }
    },
    {
      "cell_type": "markdown",
      "source": [
        "#### 결측치 채우기"
      ],
      "metadata": {
        "execution": {
          "iopub.status.busy": "2022-02-02T09:05:59.764273Z",
          "iopub.execute_input": "2022-02-02T09:05:59.764561Z",
          "iopub.status.idle": "2022-02-02T09:05:59.76893Z",
          "shell.execute_reply.started": "2022-02-02T09:05:59.76453Z",
          "shell.execute_reply": "2022-02-02T09:05:59.768038Z"
        },
        "id": "awWLz4CCLei6"
      }
    },
    {
      "cell_type": "markdown",
      "source": [
        "Age의 결측치는 평균치로 채우는데, 4살 배기한테 29살을 넣을 수는 없다.. **Name 특징**을 이용해보자\n",
        "<br> Mr, Mrs 처럼 각각의 Name 특징 그룹으로 나눠 그 그룹의 나이의 평균값으로 결측치를 채우면 더 나을 것이다."
      ],
      "metadata": {
        "execution": {
          "iopub.status.busy": "2022-02-02T09:03:31.431976Z",
          "iopub.execute_input": "2022-02-02T09:03:31.43228Z"
        },
        "id": "o2AGWmQpLei6"
      }
    },
    {
      "cell_type": "code",
      "source": [
        "data['Initial'] = 0\n",
        "for i in data :\n",
        "    data['Initial'] = data.Name.str.extract('([A-Za-z]+)\\.') # Salutations 추출"
      ],
      "metadata": {
        "execution": {
          "iopub.status.busy": "2022-02-02T12:41:14.732973Z",
          "iopub.execute_input": "2022-02-02T12:41:14.733215Z",
          "iopub.status.idle": "2022-02-02T12:41:14.790792Z",
          "shell.execute_reply.started": "2022-02-02T12:41:14.733186Z",
          "shell.execute_reply": "2022-02-02T12:41:14.790145Z"
        },
        "trusted": true,
        "id": "oVWbK9TWLei6"
      },
      "execution_count": 20,
      "outputs": []
    },
    {
      "cell_type": "code",
      "source": [
        "pd.crosstab(data.Initial, data.Sex).T.style.background_gradient('summer_r')"
      ],
      "metadata": {
        "execution": {
          "iopub.status.busy": "2022-02-02T12:41:14.791859Z",
          "iopub.execute_input": "2022-02-02T12:41:14.792287Z",
          "iopub.status.idle": "2022-02-02T12:41:14.851625Z",
          "shell.execute_reply.started": "2022-02-02T12:41:14.792256Z",
          "shell.execute_reply": "2022-02-02T12:41:14.850841Z"
        },
        "trusted": true,
        "colab": {
          "base_uri": "https://localhost:8080/",
          "height": 0
        },
        "id": "P0P1CJ4VLei7",
        "outputId": "96f8a9f3-6890-4f09-bfe3-5e8e59a86752"
      },
      "execution_count": 21,
      "outputs": [
        {
          "output_type": "execute_result",
          "data": {
            "text/html": [
              "<style type=\"text/css\">\n",
              "#T_78ade_row0_col0, #T_78ade_row0_col1, #T_78ade_row0_col3, #T_78ade_row0_col4, #T_78ade_row0_col5, #T_78ade_row0_col7, #T_78ade_row0_col8, #T_78ade_row0_col12, #T_78ade_row0_col15, #T_78ade_row0_col16, #T_78ade_row1_col2, #T_78ade_row1_col6, #T_78ade_row1_col9, #T_78ade_row1_col10, #T_78ade_row1_col11, #T_78ade_row1_col13, #T_78ade_row1_col14 {\n",
              "  background-color: #ffff66;\n",
              "  color: #000000;\n",
              "}\n",
              "#T_78ade_row0_col2, #T_78ade_row0_col6, #T_78ade_row0_col9, #T_78ade_row0_col10, #T_78ade_row0_col11, #T_78ade_row0_col13, #T_78ade_row0_col14, #T_78ade_row1_col0, #T_78ade_row1_col1, #T_78ade_row1_col3, #T_78ade_row1_col4, #T_78ade_row1_col5, #T_78ade_row1_col7, #T_78ade_row1_col8, #T_78ade_row1_col12, #T_78ade_row1_col15, #T_78ade_row1_col16 {\n",
              "  background-color: #008066;\n",
              "  color: #f1f1f1;\n",
              "}\n",
              "</style>\n",
              "<table id=\"T_78ade_\" class=\"dataframe\">\n",
              "  <thead>\n",
              "    <tr>\n",
              "      <th class=\"index_name level0\" >Initial</th>\n",
              "      <th class=\"col_heading level0 col0\" >Capt</th>\n",
              "      <th class=\"col_heading level0 col1\" >Col</th>\n",
              "      <th class=\"col_heading level0 col2\" >Countess</th>\n",
              "      <th class=\"col_heading level0 col3\" >Don</th>\n",
              "      <th class=\"col_heading level0 col4\" >Dr</th>\n",
              "      <th class=\"col_heading level0 col5\" >Jonkheer</th>\n",
              "      <th class=\"col_heading level0 col6\" >Lady</th>\n",
              "      <th class=\"col_heading level0 col7\" >Major</th>\n",
              "      <th class=\"col_heading level0 col8\" >Master</th>\n",
              "      <th class=\"col_heading level0 col9\" >Miss</th>\n",
              "      <th class=\"col_heading level0 col10\" >Mlle</th>\n",
              "      <th class=\"col_heading level0 col11\" >Mme</th>\n",
              "      <th class=\"col_heading level0 col12\" >Mr</th>\n",
              "      <th class=\"col_heading level0 col13\" >Mrs</th>\n",
              "      <th class=\"col_heading level0 col14\" >Ms</th>\n",
              "      <th class=\"col_heading level0 col15\" >Rev</th>\n",
              "      <th class=\"col_heading level0 col16\" >Sir</th>\n",
              "    </tr>\n",
              "    <tr>\n",
              "      <th class=\"index_name level0\" >Sex</th>\n",
              "      <th class=\"blank col0\" >&nbsp;</th>\n",
              "      <th class=\"blank col1\" >&nbsp;</th>\n",
              "      <th class=\"blank col2\" >&nbsp;</th>\n",
              "      <th class=\"blank col3\" >&nbsp;</th>\n",
              "      <th class=\"blank col4\" >&nbsp;</th>\n",
              "      <th class=\"blank col5\" >&nbsp;</th>\n",
              "      <th class=\"blank col6\" >&nbsp;</th>\n",
              "      <th class=\"blank col7\" >&nbsp;</th>\n",
              "      <th class=\"blank col8\" >&nbsp;</th>\n",
              "      <th class=\"blank col9\" >&nbsp;</th>\n",
              "      <th class=\"blank col10\" >&nbsp;</th>\n",
              "      <th class=\"blank col11\" >&nbsp;</th>\n",
              "      <th class=\"blank col12\" >&nbsp;</th>\n",
              "      <th class=\"blank col13\" >&nbsp;</th>\n",
              "      <th class=\"blank col14\" >&nbsp;</th>\n",
              "      <th class=\"blank col15\" >&nbsp;</th>\n",
              "      <th class=\"blank col16\" >&nbsp;</th>\n",
              "    </tr>\n",
              "  </thead>\n",
              "  <tbody>\n",
              "    <tr>\n",
              "      <th id=\"T_78ade_level0_row0\" class=\"row_heading level0 row0\" >female</th>\n",
              "      <td id=\"T_78ade_row0_col0\" class=\"data row0 col0\" >0</td>\n",
              "      <td id=\"T_78ade_row0_col1\" class=\"data row0 col1\" >0</td>\n",
              "      <td id=\"T_78ade_row0_col2\" class=\"data row0 col2\" >1</td>\n",
              "      <td id=\"T_78ade_row0_col3\" class=\"data row0 col3\" >0</td>\n",
              "      <td id=\"T_78ade_row0_col4\" class=\"data row0 col4\" >1</td>\n",
              "      <td id=\"T_78ade_row0_col5\" class=\"data row0 col5\" >0</td>\n",
              "      <td id=\"T_78ade_row0_col6\" class=\"data row0 col6\" >1</td>\n",
              "      <td id=\"T_78ade_row0_col7\" class=\"data row0 col7\" >0</td>\n",
              "      <td id=\"T_78ade_row0_col8\" class=\"data row0 col8\" >0</td>\n",
              "      <td id=\"T_78ade_row0_col9\" class=\"data row0 col9\" >182</td>\n",
              "      <td id=\"T_78ade_row0_col10\" class=\"data row0 col10\" >2</td>\n",
              "      <td id=\"T_78ade_row0_col11\" class=\"data row0 col11\" >1</td>\n",
              "      <td id=\"T_78ade_row0_col12\" class=\"data row0 col12\" >0</td>\n",
              "      <td id=\"T_78ade_row0_col13\" class=\"data row0 col13\" >125</td>\n",
              "      <td id=\"T_78ade_row0_col14\" class=\"data row0 col14\" >1</td>\n",
              "      <td id=\"T_78ade_row0_col15\" class=\"data row0 col15\" >0</td>\n",
              "      <td id=\"T_78ade_row0_col16\" class=\"data row0 col16\" >0</td>\n",
              "    </tr>\n",
              "    <tr>\n",
              "      <th id=\"T_78ade_level0_row1\" class=\"row_heading level0 row1\" >male</th>\n",
              "      <td id=\"T_78ade_row1_col0\" class=\"data row1 col0\" >1</td>\n",
              "      <td id=\"T_78ade_row1_col1\" class=\"data row1 col1\" >2</td>\n",
              "      <td id=\"T_78ade_row1_col2\" class=\"data row1 col2\" >0</td>\n",
              "      <td id=\"T_78ade_row1_col3\" class=\"data row1 col3\" >1</td>\n",
              "      <td id=\"T_78ade_row1_col4\" class=\"data row1 col4\" >6</td>\n",
              "      <td id=\"T_78ade_row1_col5\" class=\"data row1 col5\" >1</td>\n",
              "      <td id=\"T_78ade_row1_col6\" class=\"data row1 col6\" >0</td>\n",
              "      <td id=\"T_78ade_row1_col7\" class=\"data row1 col7\" >2</td>\n",
              "      <td id=\"T_78ade_row1_col8\" class=\"data row1 col8\" >40</td>\n",
              "      <td id=\"T_78ade_row1_col9\" class=\"data row1 col9\" >0</td>\n",
              "      <td id=\"T_78ade_row1_col10\" class=\"data row1 col10\" >0</td>\n",
              "      <td id=\"T_78ade_row1_col11\" class=\"data row1 col11\" >0</td>\n",
              "      <td id=\"T_78ade_row1_col12\" class=\"data row1 col12\" >517</td>\n",
              "      <td id=\"T_78ade_row1_col13\" class=\"data row1 col13\" >0</td>\n",
              "      <td id=\"T_78ade_row1_col14\" class=\"data row1 col14\" >0</td>\n",
              "      <td id=\"T_78ade_row1_col15\" class=\"data row1 col15\" >6</td>\n",
              "      <td id=\"T_78ade_row1_col16\" class=\"data row1 col16\" >1</td>\n",
              "    </tr>\n",
              "  </tbody>\n",
              "</table>\n"
            ],
            "text/plain": [
              "<pandas.io.formats.style.Styler at 0x7f8dd0fd6090>"
            ]
          },
          "metadata": {},
          "execution_count": 21
        }
      ]
    },
    {
      "cell_type": "markdown",
      "source": [
        "misspelled 이니셜들을 한 단위로 모으자"
      ],
      "metadata": {
        "execution": {
          "iopub.status.busy": "2022-02-02T10:46:57.023875Z",
          "iopub.execute_input": "2022-02-02T10:46:57.024346Z",
          "iopub.status.idle": "2022-02-02T10:46:57.049476Z",
          "shell.execute_reply.started": "2022-02-02T10:46:57.02424Z",
          "shell.execute_reply": "2022-02-02T10:46:57.048318Z"
        },
        "id": "4oSCXaAJLei7"
      }
    },
    {
      "cell_type": "code",
      "source": [
        "data['Initial'].replace(['Mlle','Mme','Ms','Dr','Major','Lady','Countess','Jonkheer','Col','Rev','Capt','Sir','Don'],['Miss','Miss','Miss','Mr','Mr','Mrs','Mrs','Other','Other','Other','Mr','Mr','Mr'],inplace=True)"
      ],
      "metadata": {
        "execution": {
          "iopub.status.busy": "2022-02-02T12:41:14.85298Z",
          "iopub.execute_input": "2022-02-02T12:41:14.853662Z",
          "iopub.status.idle": "2022-02-02T12:41:14.862023Z",
          "shell.execute_reply.started": "2022-02-02T12:41:14.853631Z",
          "shell.execute_reply": "2022-02-02T12:41:14.861102Z"
        },
        "trusted": true,
        "id": "LyXwB_ejLei7"
      },
      "execution_count": 22,
      "outputs": []
    },
    {
      "cell_type": "code",
      "source": [
        "data.groupby('Initial')['Age'].mean()"
      ],
      "metadata": {
        "execution": {
          "iopub.status.busy": "2022-02-02T12:41:14.863218Z",
          "iopub.execute_input": "2022-02-02T12:41:14.86382Z",
          "iopub.status.idle": "2022-02-02T12:41:14.884503Z",
          "shell.execute_reply.started": "2022-02-02T12:41:14.863786Z",
          "shell.execute_reply": "2022-02-02T12:41:14.883639Z"
        },
        "trusted": true,
        "colab": {
          "base_uri": "https://localhost:8080/"
        },
        "id": "Xrs-UaVrLei7",
        "outputId": "86273ab5-7766-495b-ddb6-12f8031a9c04"
      },
      "execution_count": 23,
      "outputs": [
        {
          "output_type": "execute_result",
          "data": {
            "text/plain": [
              "Initial\n",
              "Master     4.574167\n",
              "Miss      21.860000\n",
              "Mr        32.739609\n",
              "Mrs       35.981818\n",
              "Other     45.888889\n",
              "Name: Age, dtype: float64"
            ]
          },
          "metadata": {},
          "execution_count": 23
        }
      ]
    },
    {
      "cell_type": "code",
      "source": [
        "data.loc[(data.Age.isnull())&(data.Initial=='Mr'), 'Age']=33\n",
        "data.loc[(data.Age.isnull())&(data.Initial=='Mrs'), 'Age']=36\n",
        "data.loc[(data.Age.isnull())&(data.Initial=='Master'), 'Age']=5\n",
        "data.loc[(data.Age.isnull())&(data.Initial=='Miss'), 'Age']=22\n",
        "data.loc[(data.Age.isnull())&(data.Initial=='Other'), 'Age']=46"
      ],
      "metadata": {
        "execution": {
          "iopub.status.busy": "2022-02-02T12:41:14.885682Z",
          "iopub.execute_input": "2022-02-02T12:41:14.885894Z",
          "iopub.status.idle": "2022-02-02T12:41:14.902526Z",
          "shell.execute_reply.started": "2022-02-02T12:41:14.885869Z",
          "shell.execute_reply": "2022-02-02T12:41:14.901926Z"
        },
        "trusted": true,
        "id": "PnhYZey2Lei8"
      },
      "execution_count": 24,
      "outputs": []
    },
    {
      "cell_type": "code",
      "source": [
        "data.Age.isnull().any()"
      ],
      "metadata": {
        "execution": {
          "iopub.status.busy": "2022-02-02T12:41:14.903542Z",
          "iopub.execute_input": "2022-02-02T12:41:14.904206Z",
          "iopub.status.idle": "2022-02-02T12:41:14.917656Z",
          "shell.execute_reply.started": "2022-02-02T12:41:14.904159Z",
          "shell.execute_reply": "2022-02-02T12:41:14.917073Z"
        },
        "trusted": true,
        "colab": {
          "base_uri": "https://localhost:8080/"
        },
        "id": "rjeljmKnLei8",
        "outputId": "78094937-45d9-4b3c-d482-60eed5190e22"
      },
      "execution_count": 25,
      "outputs": [
        {
          "output_type": "execute_result",
          "data": {
            "text/plain": [
              "False"
            ]
          },
          "metadata": {},
          "execution_count": 25
        }
      ]
    },
    {
      "cell_type": "code",
      "source": [
        "f, ax = plt.subplots(1,2,figsize=(20,10))\n",
        "data[data['Survived']==0].Age.plot.hist(ax=ax[0], bins=20, edgecolor='black', color='red')\n",
        "ax[0].set_title('Sirvived= 0')\n",
        "x1=list(range(0,85,5))\n",
        "ax[0].set_xticks(x1)\n",
        "\n",
        "data[data['Survived']==1].Age.plot.hist(ax=ax[1], bins=20, edgecolor='black', color='green')\n",
        "ax[1].set_title('Survived= 1')\n",
        "x2=list(range(0,85,5))\n",
        "ax[1].set_xticks(x2)\n",
        "\n",
        "plt.show()        "
      ],
      "metadata": {
        "execution": {
          "iopub.status.busy": "2022-02-02T12:41:14.918757Z",
          "iopub.execute_input": "2022-02-02T12:41:14.919481Z",
          "iopub.status.idle": "2022-02-02T12:41:15.404064Z",
          "shell.execute_reply.started": "2022-02-02T12:41:14.919448Z",
          "shell.execute_reply": "2022-02-02T12:41:15.40298Z"
        },
        "trusted": true,
        "colab": {
          "base_uri": "https://localhost:8080/",
          "height": 0
        },
        "id": "LbG9PAZdLei8",
        "outputId": "27dbae0d-6aa1-4783-8754-bfb1716c92b9"
      },
      "execution_count": 26,
      "outputs": [
        {
          "output_type": "display_data",
          "data": {
            "image/png": "[encoded data removed]",
            "text/plain": [
              "<Figure size 1440x720 with 2 Axes>"
            ]
          },
          "metadata": {
            "needs_background": "light"
          }
        }
      ]
    },
    {
      "cell_type": "markdown",
      "source": [
        "1. 5살 미만의 애기들 또한 높은 구조 우선순위였음\n",
        "2. 80 years was saved\n",
        "3. 30-40대가 제일 많이 사망하였음"
      ],
      "metadata": {
        "execution": {
          "iopub.status.busy": "2022-02-02T10:57:24.064981Z"
        },
        "id": "qGMI737VLei8"
      }
    },
    {
      "cell_type": "code",
      "source": [
        "sns.factorplot('Pclass', 'Survived', col='Initial', data=data)\n",
        "plt.show()"
      ],
      "metadata": {
        "execution": {
          "iopub.status.busy": "2022-02-02T12:41:15.405434Z",
          "iopub.execute_input": "2022-02-02T12:41:15.405666Z",
          "iopub.status.idle": "2022-02-02T12:41:16.643179Z",
          "shell.execute_reply.started": "2022-02-02T12:41:15.405636Z",
          "shell.execute_reply": "2022-02-02T12:41:16.642297Z"
        },
        "trusted": true,
        "colab": {
          "base_uri": "https://localhost:8080/",
          "height": 0
        },
        "id": "9WqS_moKLei8",
        "outputId": "a38da77f-a2f3-41cb-8e42-9b31dda5080f"
      },
      "execution_count": 27,
      "outputs": [
        {
          "output_type": "display_data",
          "data": {
            "image/png": "[encoded data removed]",
            "text/plain": [
              "<Figure size 1800x360 with 5 Axes>"
            ]
          },
          "metadata": {
            "needs_background": "light"
          }
        }
      ]
    },
    {
      "cell_type": "markdown",
      "source": [
        "class상관없이 여자와 아이가 우선으로 구조되었음을 알 수 있다."
      ],
      "metadata": {
        "execution": {
          "iopub.status.busy": "2022-02-02T10:59:35.780967Z",
          "iopub.execute_input": "2022-02-02T10:59:35.781288Z",
          "iopub.status.idle": "2022-02-02T10:59:35.786276Z",
          "shell.execute_reply.started": "2022-02-02T10:59:35.781255Z",
          "shell.execute_reply": "2022-02-02T10:59:35.785389Z"
        },
        "id": "HPe8mzbLLei9"
      }
    },
    {
      "cell_type": "markdown",
      "source": [
        "### (4) 범주형 특징 (Embarked)"
      ],
      "metadata": {
        "execution": {
          "iopub.status.busy": "2022-02-02T11:00:06.81581Z",
          "iopub.execute_input": "2022-02-02T11:00:06.816719Z",
          "iopub.status.idle": "2022-02-02T11:00:06.819989Z",
          "shell.execute_reply.started": "2022-02-02T11:00:06.816677Z",
          "shell.execute_reply": "2022-02-02T11:00:06.819365Z"
        },
        "id": "-tROA-9iLei9"
      }
    },
    {
      "cell_type": "code",
      "source": [
        "pd.crosstab([data.Embarked, data.Pclass], [data.Sex, data.Survived], margins=True).style.background_gradient('summer_r')"
      ],
      "metadata": {
        "execution": {
          "iopub.status.busy": "2022-02-02T12:41:16.644475Z",
          "iopub.execute_input": "2022-02-02T12:41:16.644709Z",
          "iopub.status.idle": "2022-02-02T12:41:16.723747Z",
          "shell.execute_reply.started": "2022-02-02T12:41:16.64468Z",
          "shell.execute_reply": "2022-02-02T12:41:16.722862Z"
        },
        "trusted": true,
        "colab": {
          "base_uri": "https://localhost:8080/",
          "height": 0
        },
        "id": "eG8pertwLei9",
        "outputId": "edadb4fd-69f1-4cca-bfa6-32e7e6f01270"
      },
      "execution_count": 28,
      "outputs": [
        {
          "output_type": "execute_result",
          "data": {
            "text/html": [
              "<style type=\"text/css\">\n",
              "#T_3abb2_row0_col0, #T_3abb2_row1_col2 {\n",
              "  background-color: #fcfe66;\n",
              "  color: #000000;\n",
              "}\n",
              "#T_3abb2_row0_col1 {\n",
              "  background-color: #d2e866;\n",
              "  color: #000000;\n",
              "}\n",
              "#T_3abb2_row0_col2 {\n",
              "  background-color: #f2f866;\n",
              "  color: #000000;\n",
              "}\n",
              "#T_3abb2_row0_col3 {\n",
              "  background-color: #d8ec66;\n",
              "  color: #000000;\n",
              "}\n",
              "#T_3abb2_row0_col4, #T_3abb2_row2_col3 {\n",
              "  background-color: #e8f466;\n",
              "  color: #000000;\n",
              "}\n",
              "#T_3abb2_row1_col0, #T_3abb2_row3_col0, #T_3abb2_row3_col1, #T_3abb2_row3_col2, #T_3abb2_row3_col3, #T_3abb2_row3_col4, #T_3abb2_row4_col0, #T_3abb2_row4_col2, #T_3abb2_row4_col3, #T_3abb2_row4_col4 {\n",
              "  background-color: #ffff66;\n",
              "  color: #000000;\n",
              "}\n",
              "#T_3abb2_row1_col1, #T_3abb2_row6_col0 {\n",
              "  background-color: #f9fc66;\n",
              "  color: #000000;\n",
              "}\n",
              "#T_3abb2_row1_col3, #T_3abb2_row1_col4 {\n",
              "  background-color: #fbfd66;\n",
              "  color: #000000;\n",
              "}\n",
              "#T_3abb2_row2_col0, #T_3abb2_row5_col1 {\n",
              "  background-color: #e6f266;\n",
              "  color: #000000;\n",
              "}\n",
              "#T_3abb2_row2_col1 {\n",
              "  background-color: #f0f866;\n",
              "  color: #000000;\n",
              "}\n",
              "#T_3abb2_row2_col2 {\n",
              "  background-color: #eef666;\n",
              "  color: #000000;\n",
              "}\n",
              "#T_3abb2_row2_col4, #T_3abb2_row7_col0 {\n",
              "  background-color: #edf666;\n",
              "  color: #000000;\n",
              "}\n",
              "#T_3abb2_row4_col1 {\n",
              "  background-color: #fefe66;\n",
              "  color: #000000;\n",
              "}\n",
              "#T_3abb2_row5_col0 {\n",
              "  background-color: #e3f166;\n",
              "  color: #000000;\n",
              "}\n",
              "#T_3abb2_row5_col2 {\n",
              "  background-color: #ecf666;\n",
              "  color: #000000;\n",
              "}\n",
              "#T_3abb2_row5_col3 {\n",
              "  background-color: #f8fc66;\n",
              "  color: #000000;\n",
              "}\n",
              "#T_3abb2_row5_col4 {\n",
              "  background-color: #ebf566;\n",
              "  color: #000000;\n",
              "}\n",
              "#T_3abb2_row6_col1 {\n",
              "  background-color: #cde666;\n",
              "  color: #000000;\n",
              "}\n",
              "#T_3abb2_row6_col2 {\n",
              "  background-color: #e4f266;\n",
              "  color: #000000;\n",
              "}\n",
              "#T_3abb2_row6_col3 {\n",
              "  background-color: #bede66;\n",
              "  color: #000000;\n",
              "}\n",
              "#T_3abb2_row6_col4 {\n",
              "  background-color: #dbed66;\n",
              "  color: #000000;\n",
              "}\n",
              "#T_3abb2_row7_col1 {\n",
              "  background-color: #bdde66;\n",
              "  color: #000000;\n",
              "}\n",
              "#T_3abb2_row7_col2 {\n",
              "  background-color: #d3e966;\n",
              "  color: #000000;\n",
              "}\n",
              "#T_3abb2_row7_col3, #T_3abb2_row8_col1 {\n",
              "  background-color: #dcee66;\n",
              "  color: #000000;\n",
              "}\n",
              "#T_3abb2_row7_col4 {\n",
              "  background-color: #d1e866;\n",
              "  color: #000000;\n",
              "}\n",
              "#T_3abb2_row8_col0 {\n",
              "  background-color: #52a866;\n",
              "  color: #f1f1f1;\n",
              "}\n",
              "#T_3abb2_row8_col2 {\n",
              "  background-color: #81c066;\n",
              "  color: #000000;\n",
              "}\n",
              "#T_3abb2_row8_col3 {\n",
              "  background-color: #b0d866;\n",
              "  color: #000000;\n",
              "}\n",
              "#T_3abb2_row8_col4 {\n",
              "  background-color: #9acc66;\n",
              "  color: #000000;\n",
              "}\n",
              "#T_3abb2_row9_col0, #T_3abb2_row9_col1, #T_3abb2_row9_col2, #T_3abb2_row9_col3, #T_3abb2_row9_col4 {\n",
              "  background-color: #008066;\n",
              "  color: #f1f1f1;\n",
              "}\n",
              "</style>\n",
              "<table id=\"T_3abb2_\" class=\"dataframe\">\n",
              "  <thead>\n",
              "    <tr>\n",
              "      <th class=\"blank\" >&nbsp;</th>\n",
              "      <th class=\"index_name level0\" >Sex</th>\n",
              "      <th class=\"col_heading level0 col0\" colspan=\"2\">female</th>\n",
              "      <th class=\"col_heading level0 col2\" colspan=\"2\">male</th>\n",
              "      <th class=\"col_heading level0 col4\" >All</th>\n",
              "    </tr>\n",
              "    <tr>\n",
              "      <th class=\"blank\" >&nbsp;</th>\n",
              "      <th class=\"index_name level1\" >Survived</th>\n",
              "      <th class=\"col_heading level1 col0\" >0</th>\n",
              "      <th class=\"col_heading level1 col1\" >1</th>\n",
              "      <th class=\"col_heading level1 col2\" >0</th>\n",
              "      <th class=\"col_heading level1 col3\" >1</th>\n",
              "      <th class=\"col_heading level1 col4\" ></th>\n",
              "    </tr>\n",
              "    <tr>\n",
              "      <th class=\"index_name level0\" >Embarked</th>\n",
              "      <th class=\"index_name level1\" >Pclass</th>\n",
              "      <th class=\"blank col0\" >&nbsp;</th>\n",
              "      <th class=\"blank col1\" >&nbsp;</th>\n",
              "      <th class=\"blank col2\" >&nbsp;</th>\n",
              "      <th class=\"blank col3\" >&nbsp;</th>\n",
              "      <th class=\"blank col4\" >&nbsp;</th>\n",
              "    </tr>\n",
              "  </thead>\n",
              "  <tbody>\n",
              "    <tr>\n",
              "      <th id=\"T_3abb2_level0_row0\" class=\"row_heading level0 row0\" rowspan=\"3\">C</th>\n",
              "      <th id=\"T_3abb2_level1_row0\" class=\"row_heading level1 row0\" >1</th>\n",
              "      <td id=\"T_3abb2_row0_col0\" class=\"data row0 col0\" >1</td>\n",
              "      <td id=\"T_3abb2_row0_col1\" class=\"data row0 col1\" >42</td>\n",
              "      <td id=\"T_3abb2_row0_col2\" class=\"data row0 col2\" >25</td>\n",
              "      <td id=\"T_3abb2_row0_col3\" class=\"data row0 col3\" >17</td>\n",
              "      <td id=\"T_3abb2_row0_col4\" class=\"data row0 col4\" >85</td>\n",
              "    </tr>\n",
              "    <tr>\n",
              "      <th id=\"T_3abb2_level1_row1\" class=\"row_heading level1 row1\" >2</th>\n",
              "      <td id=\"T_3abb2_row1_col0\" class=\"data row1 col0\" >0</td>\n",
              "      <td id=\"T_3abb2_row1_col1\" class=\"data row1 col1\" >7</td>\n",
              "      <td id=\"T_3abb2_row1_col2\" class=\"data row1 col2\" >8</td>\n",
              "      <td id=\"T_3abb2_row1_col3\" class=\"data row1 col3\" >2</td>\n",
              "      <td id=\"T_3abb2_row1_col4\" class=\"data row1 col4\" >17</td>\n",
              "    </tr>\n",
              "    <tr>\n",
              "      <th id=\"T_3abb2_level1_row2\" class=\"row_heading level1 row2\" >3</th>\n",
              "      <td id=\"T_3abb2_row2_col0\" class=\"data row2 col0\" >8</td>\n",
              "      <td id=\"T_3abb2_row2_col1\" class=\"data row2 col1\" >15</td>\n",
              "      <td id=\"T_3abb2_row2_col2\" class=\"data row2 col2\" >33</td>\n",
              "      <td id=\"T_3abb2_row2_col3\" class=\"data row2 col3\" >10</td>\n",
              "      <td id=\"T_3abb2_row2_col4\" class=\"data row2 col4\" >66</td>\n",
              "    </tr>\n",
              "    <tr>\n",
              "      <th id=\"T_3abb2_level0_row3\" class=\"row_heading level0 row3\" rowspan=\"3\">Q</th>\n",
              "      <th id=\"T_3abb2_level1_row3\" class=\"row_heading level1 row3\" >1</th>\n",
              "      <td id=\"T_3abb2_row3_col0\" class=\"data row3 col0\" >0</td>\n",
              "      <td id=\"T_3abb2_row3_col1\" class=\"data row3 col1\" >1</td>\n",
              "      <td id=\"T_3abb2_row3_col2\" class=\"data row3 col2\" >1</td>\n",
              "      <td id=\"T_3abb2_row3_col3\" class=\"data row3 col3\" >0</td>\n",
              "      <td id=\"T_3abb2_row3_col4\" class=\"data row3 col4\" >2</td>\n",
              "    </tr>\n",
              "    <tr>\n",
              "      <th id=\"T_3abb2_level1_row4\" class=\"row_heading level1 row4\" >2</th>\n",
              "      <td id=\"T_3abb2_row4_col0\" class=\"data row4 col0\" >0</td>\n",
              "      <td id=\"T_3abb2_row4_col1\" class=\"data row4 col1\" >2</td>\n",
              "      <td id=\"T_3abb2_row4_col2\" class=\"data row4 col2\" >1</td>\n",
              "      <td id=\"T_3abb2_row4_col3\" class=\"data row4 col3\" >0</td>\n",
              "      <td id=\"T_3abb2_row4_col4\" class=\"data row4 col4\" >3</td>\n",
              "    </tr>\n",
              "    <tr>\n",
              "      <th id=\"T_3abb2_level1_row5\" class=\"row_heading level1 row5\" >3</th>\n",
              "      <td id=\"T_3abb2_row5_col0\" class=\"data row5 col0\" >9</td>\n",
              "      <td id=\"T_3abb2_row5_col1\" class=\"data row5 col1\" >24</td>\n",
              "      <td id=\"T_3abb2_row5_col2\" class=\"data row5 col2\" >36</td>\n",
              "      <td id=\"T_3abb2_row5_col3\" class=\"data row5 col3\" >3</td>\n",
              "      <td id=\"T_3abb2_row5_col4\" class=\"data row5 col4\" >72</td>\n",
              "    </tr>\n",
              "    <tr>\n",
              "      <th id=\"T_3abb2_level0_row6\" class=\"row_heading level0 row6\" rowspan=\"3\">S</th>\n",
              "      <th id=\"T_3abb2_level1_row6\" class=\"row_heading level1 row6\" >1</th>\n",
              "      <td id=\"T_3abb2_row6_col0\" class=\"data row6 col0\" >2</td>\n",
              "      <td id=\"T_3abb2_row6_col1\" class=\"data row6 col1\" >46</td>\n",
              "      <td id=\"T_3abb2_row6_col2\" class=\"data row6 col2\" >51</td>\n",
              "      <td id=\"T_3abb2_row6_col3\" class=\"data row6 col3\" >28</td>\n",
              "      <td id=\"T_3abb2_row6_col4\" class=\"data row6 col4\" >127</td>\n",
              "    </tr>\n",
              "    <tr>\n",
              "      <th id=\"T_3abb2_level1_row7\" class=\"row_heading level1 row7\" >2</th>\n",
              "      <td id=\"T_3abb2_row7_col0\" class=\"data row7 col0\" >6</td>\n",
              "      <td id=\"T_3abb2_row7_col1\" class=\"data row7 col1\" >61</td>\n",
              "      <td id=\"T_3abb2_row7_col2\" class=\"data row7 col2\" >82</td>\n",
              "      <td id=\"T_3abb2_row7_col3\" class=\"data row7 col3\" >15</td>\n",
              "      <td id=\"T_3abb2_row7_col4\" class=\"data row7 col4\" >164</td>\n",
              "    </tr>\n",
              "    <tr>\n",
              "      <th id=\"T_3abb2_level1_row8\" class=\"row_heading level1 row8\" >3</th>\n",
              "      <td id=\"T_3abb2_row8_col0\" class=\"data row8 col0\" >55</td>\n",
              "      <td id=\"T_3abb2_row8_col1\" class=\"data row8 col1\" >33</td>\n",
              "      <td id=\"T_3abb2_row8_col2\" class=\"data row8 col2\" >231</td>\n",
              "      <td id=\"T_3abb2_row8_col3\" class=\"data row8 col3\" >34</td>\n",
              "      <td id=\"T_3abb2_row8_col4\" class=\"data row8 col4\" >353</td>\n",
              "    </tr>\n",
              "    <tr>\n",
              "      <th id=\"T_3abb2_level0_row9\" class=\"row_heading level0 row9\" >All</th>\n",
              "      <th id=\"T_3abb2_level1_row9\" class=\"row_heading level1 row9\" ></th>\n",
              "      <td id=\"T_3abb2_row9_col0\" class=\"data row9 col0\" >81</td>\n",
              "      <td id=\"T_3abb2_row9_col1\" class=\"data row9 col1\" >231</td>\n",
              "      <td id=\"T_3abb2_row9_col2\" class=\"data row9 col2\" >468</td>\n",
              "      <td id=\"T_3abb2_row9_col3\" class=\"data row9 col3\" >109</td>\n",
              "      <td id=\"T_3abb2_row9_col4\" class=\"data row9 col4\" >889</td>\n",
              "    </tr>\n",
              "  </tbody>\n",
              "</table>\n"
            ],
            "text/plain": [
              "<pandas.io.formats.style.Styler at 0x7f8dcf51e1d0>"
            ]
          },
          "metadata": {},
          "execution_count": 28
        }
      ]
    },
    {
      "cell_type": "markdown",
      "source": [
        "**Embarkation에 따른 생존 기회**"
      ],
      "metadata": {
        "execution": {
          "iopub.status.busy": "2022-02-02T11:03:23.623203Z",
          "iopub.execute_input": "2022-02-02T11:03:23.623504Z",
          "iopub.status.idle": "2022-02-02T11:03:23.628942Z",
          "shell.execute_reply.started": "2022-02-02T11:03:23.62347Z",
          "shell.execute_reply": "2022-02-02T11:03:23.62799Z"
        },
        "id": "089nFIZVLei9"
      }
    },
    {
      "cell_type": "code",
      "source": [
        "sns.factorplot('Embarked', 'Survived', data=data)\n",
        "fig = plt.gcf()\n",
        "fig.set_size_inches(5,3)\n",
        "plt.show()"
      ],
      "metadata": {
        "execution": {
          "iopub.status.busy": "2022-02-02T12:41:16.728258Z",
          "iopub.execute_input": "2022-02-02T12:41:16.728507Z",
          "iopub.status.idle": "2022-02-02T12:41:17.07963Z",
          "shell.execute_reply.started": "2022-02-02T12:41:16.728476Z",
          "shell.execute_reply": "2022-02-02T12:41:17.07885Z"
        },
        "trusted": true,
        "colab": {
          "base_uri": "https://localhost:8080/",
          "height": 0
        },
        "id": "RfBEGVstLei9",
        "outputId": "703c8c53-7151-4859-d9bc-0a116030f96c"
      },
      "execution_count": 29,
      "outputs": [
        {
          "output_type": "display_data",
          "data": {
            "image/png": "[encoded data removed]",
            "text/plain": [
              "<Figure size 360x216 with 1 Axes>"
            ]
          },
          "metadata": {
            "needs_background": "light"
          }
        }
      ]
    },
    {
      "cell_type": "markdown",
      "source": [
        "C는 55%가까이인 반면, S가 가장 낮은 생존확률을 보여주었다."
      ],
      "metadata": {
        "id": "dDYQKhWmLei-"
      }
    },
    {
      "cell_type": "code",
      "source": [
        "f,ax = plt.subplots(2,2, figsize=(20,15))\n",
        "sns.countplot('Embarked', data=data, ax=ax[0,0])\n",
        "ax[0,0].set_title('No. Of Passengers Boarded')\n",
        "\n",
        "sns.countplot('Embarked', hue='Sex', data=data, ax=ax[0,1])\n",
        "ax[0,1].set_title('Male-Female Split for Embarked')\n",
        "\n",
        "sns.countplot('Embarked', hue='Survived', data=data, ax=ax[1,0])\n",
        "ax[1,0].set_title('Embarked vs Survived')\n",
        "\n",
        "sns.countplot('Embarked', hue='Pclass', data=data, ax=ax[1,1])\n",
        "ax[1,1].set_title('Embarked vs Pclass')\n",
        "\n",
        "plt.subplots_adjust(wspace=0.3, hspace=0.5)\n",
        "plt.show()"
      ],
      "metadata": {
        "execution": {
          "iopub.status.busy": "2022-02-02T12:41:17.080867Z",
          "iopub.execute_input": "2022-02-02T12:41:17.081326Z",
          "iopub.status.idle": "2022-02-02T12:41:17.680151Z",
          "shell.execute_reply.started": "2022-02-02T12:41:17.081284Z",
          "shell.execute_reply": "2022-02-02T12:41:17.679288Z"
        },
        "trusted": true,
        "colab": {
          "base_uri": "https://localhost:8080/",
          "height": 0
        },
        "id": "cy3O9-3gLei-",
        "outputId": "689c8de0-b6c1-4e67-dffd-fc71b77fd26f"
      },
      "execution_count": 30,
      "outputs": [
        {
          "output_type": "display_data",
          "data": {
            "image/png": "[encoded data removed]",
            "text/plain": [
              "<Figure size 1440x1080 with 4 Axes>"
            ]
          },
          "metadata": {
            "needs_background": "light"
          }
        }
      ]
    },
    {
      "cell_type": "markdown",
      "source": [
        "1. S에서 가장 많이 탑승했고 대부분은 Pclass 3\n",
        "2. C에서 탑승한 사람들이 생존을 많이 했는데, 생존자 중 대부분이 Pclass1,2 일 것으로 추정된다.\n",
        "3. S가 부유한 사람 대다수가 탑승 한 것으로 보이나 Pclass3 고객이 많이 살아남지 못해 생존확률이 낮아보인다.\n",
        "4. Q는 95%가 Pclass3 고객이다."
      ],
      "metadata": {
        "execution": {
          "iopub.status.busy": "2022-02-02T11:17:37.807422Z",
          "iopub.execute_input": "2022-02-02T11:17:37.807712Z",
          "iopub.status.idle": "2022-02-02T11:17:37.81416Z",
          "shell.execute_reply.started": "2022-02-02T11:17:37.807683Z",
          "shell.execute_reply": "2022-02-02T11:17:37.813053Z"
        },
        "id": "CTzuYW8ZLei-"
      }
    },
    {
      "cell_type": "code",
      "source": [
        "sns.factorplot('Pclass', 'Survived', hue='Sex', col='Embarked', data=data)\n",
        "plt.show()"
      ],
      "metadata": {
        "execution": {
          "iopub.status.busy": "2022-02-02T12:41:17.681308Z",
          "iopub.execute_input": "2022-02-02T12:41:17.681537Z",
          "iopub.status.idle": "2022-02-02T12:41:18.953902Z",
          "shell.execute_reply.started": "2022-02-02T12:41:17.681509Z",
          "shell.execute_reply": "2022-02-02T12:41:18.953082Z"
        },
        "trusted": true,
        "colab": {
          "base_uri": "https://localhost:8080/",
          "height": 0
        },
        "id": "roW3Sr7nLei-",
        "outputId": "c3ba4f66-7edc-4bbf-91b7-e6a535a24bcf"
      },
      "execution_count": 31,
      "outputs": [
        {
          "output_type": "display_data",
          "data": {
            "image/png": "[encoded data removed]",
            "text/plain": [
              "<Figure size 1150.5x360 with 3 Axes>"
            ]
          },
          "metadata": {
            "needs_background": "light"
          }
        }
      ]
    },
    {
      "cell_type": "markdown",
      "source": [
        "1. Pclass 관계없이 Pclass 1,2인 여자가 구조 우선순위가 높았다는 것을 알 수 있었다.\n",
        "2. port S의 경우 남녀 모두 Pclass3 생존률이 낮다.\n",
        "3. port Q에서 탑승한 Pclass3 남자가 가장 불운했다."
      ],
      "metadata": {
        "execution": {
          "iopub.status.busy": "2022-02-02T11:21:39.401639Z",
          "iopub.execute_input": "2022-02-02T11:21:39.401925Z",
          "iopub.status.idle": "2022-02-02T11:21:39.408148Z",
          "shell.execute_reply.started": "2022-02-02T11:21:39.401893Z",
          "shell.execute_reply": "2022-02-02T11:21:39.407064Z"
        },
        "id": "FZvec6JQLei-"
      }
    },
    {
      "cell_type": "markdown",
      "source": [
        "#### 결측치 채우기 <br>\n",
        "S에서 가장 많은 탑승객들이 탑승했기에 NaN을 S로 채우자."
      ],
      "metadata": {
        "execution": {
          "iopub.status.busy": "2022-02-02T11:21:50.960643Z",
          "iopub.execute_input": "2022-02-02T11:21:50.960911Z"
        },
        "id": "Z87Vlu9iLei_"
      }
    },
    {
      "cell_type": "code",
      "source": [
        "data['Embarked'].fillna('S', inplace=True)"
      ],
      "metadata": {
        "execution": {
          "iopub.status.busy": "2022-02-02T12:41:18.955305Z",
          "iopub.execute_input": "2022-02-02T12:41:18.95612Z",
          "iopub.status.idle": "2022-02-02T12:41:18.960856Z",
          "shell.execute_reply.started": "2022-02-02T12:41:18.95608Z",
          "shell.execute_reply": "2022-02-02T12:41:18.960054Z"
        },
        "trusted": true,
        "id": "zBkjIyg4Lei_"
      },
      "execution_count": 32,
      "outputs": []
    },
    {
      "cell_type": "code",
      "source": [
        "data.Embarked.isnull().any()"
      ],
      "metadata": {
        "execution": {
          "iopub.status.busy": "2022-02-02T12:41:18.961977Z",
          "iopub.execute_input": "2022-02-02T12:41:18.962484Z",
          "iopub.status.idle": "2022-02-02T12:41:18.9766Z",
          "shell.execute_reply.started": "2022-02-02T12:41:18.962449Z",
          "shell.execute_reply": "2022-02-02T12:41:18.975893Z"
        },
        "trusted": true,
        "colab": {
          "base_uri": "https://localhost:8080/"
        },
        "id": "g_QRjxIELei_",
        "outputId": "b91f5e68-0b02-4d98-e431-8c5f98c69574"
      },
      "execution_count": 33,
      "outputs": [
        {
          "output_type": "execute_result",
          "data": {
            "text/plain": [
              "False"
            ]
          },
          "metadata": {},
          "execution_count": 33
        }
      ]
    },
    {
      "cell_type": "markdown",
      "source": [
        "### (5) 이진 특징 (SibSp)\n",
        "혼자냐 가족과 함께 탔느냐를 나타내는 특징. Sibling = bro,sis,stepbro,stepsis / Spouse = husband,wife"
      ],
      "metadata": {
        "execution": {
          "iopub.status.busy": "2022-02-02T11:23:37.238459Z",
          "iopub.execute_input": "2022-02-02T11:23:37.23874Z",
          "iopub.status.idle": "2022-02-02T11:23:37.24239Z",
          "shell.execute_reply.started": "2022-02-02T11:23:37.238708Z",
          "shell.execute_reply": "2022-02-02T11:23:37.241782Z"
        },
        "id": "wf_gotv7Lei_"
      }
    },
    {
      "cell_type": "code",
      "source": [
        "data.head()"
      ],
      "metadata": {
        "execution": {
          "iopub.status.busy": "2022-02-02T12:41:18.977718Z",
          "iopub.execute_input": "2022-02-02T12:41:18.977936Z",
          "iopub.status.idle": "2022-02-02T12:41:19.000245Z",
          "shell.execute_reply.started": "2022-02-02T12:41:18.977902Z",
          "shell.execute_reply": "2022-02-02T12:41:18.999345Z"
        },
        "trusted": true,
        "colab": {
          "base_uri": "https://localhost:8080/",
          "height": 0
        },
        "id": "Fk6WG3vkLei_",
        "outputId": "2150411d-9009-44dc-b9b4-71c83e0559f7"
      },
      "execution_count": 34,
      "outputs": [
        {
          "output_type": "execute_result",
          "data": {
            "text/html": [
              "\n",
              "  <div id=\"df-ea6df5f8-c687-49ff-b684-f897b85fbefd\">\n",
              "    <div class=\"colab-df-container\">\n",
              "      <div>\n",
              "<style scoped>\n",
              "    .dataframe tbody tr th:only-of-type {\n",
              "        vertical-align: middle;\n",
              "    }\n",
              "\n",
              "    .dataframe tbody tr th {\n",
              "        vertical-align: top;\n",
              "    }\n",
              "\n",
              "    .dataframe thead th {\n",
              "        text-align: right;\n",
              "    }\n",
              "</style>\n",
              "<table border=\"1\" class=\"dataframe\">\n",
              "  <thead>\n",
              "    <tr style=\"text-align: right;\">\n",
              "      <th></th>\n",
              "      <th>PassengerId</th>\n",
              "      <th>Survived</th>\n",
              "      <th>Pclass</th>\n",
              "      <th>Name</th>\n",
              "      <th>Sex</th>\n",
              "      <th>Age</th>\n",
              "      <th>SibSp</th>\n",
              "      <th>Parch</th>\n",
              "      <th>Ticket</th>\n",
              "      <th>Fare</th>\n",
              "      <th>Cabin</th>\n",
              "      <th>Embarked</th>\n",
              "      <th>Initial</th>\n",
              "    </tr>\n",
              "  </thead>\n",
              "  <tbody>\n",
              "    <tr>\n",
              "      <th>0</th>\n",
              "      <td>1</td>\n",
              "      <td>0</td>\n",
              "      <td>3</td>\n",
              "      <td>Braund, Mr. Owen Harris</td>\n",
              "      <td>male</td>\n",
              "      <td>22.0</td>\n",
              "      <td>1</td>\n",
              "      <td>0</td>\n",
              "      <td>A/5 21171</td>\n",
              "      <td>7.2500</td>\n",
              "      <td>NaN</td>\n",
              "      <td>S</td>\n",
              "      <td>Mr</td>\n",
              "    </tr>\n",
              "    <tr>\n",
              "      <th>1</th>\n",
              "      <td>2</td>\n",
              "      <td>1</td>\n",
              "      <td>1</td>\n",
              "      <td>Cumings, Mrs. John Bradley (Florence Briggs Th...</td>\n",
              "      <td>female</td>\n",
              "      <td>38.0</td>\n",
              "      <td>1</td>\n",
              "      <td>0</td>\n",
              "      <td>PC 17599</td>\n",
              "      <td>71.2833</td>\n",
              "      <td>C85</td>\n",
              "      <td>C</td>\n",
              "      <td>Mrs</td>\n",
              "    </tr>\n",
              "    <tr>\n",
              "      <th>2</th>\n",
              "      <td>3</td>\n",
              "      <td>1</td>\n",
              "      <td>3</td>\n",
              "      <td>Heikkinen, Miss. Laina</td>\n",
              "      <td>female</td>\n",
              "      <td>26.0</td>\n",
              "      <td>0</td>\n",
              "      <td>0</td>\n",
              "      <td>STON/O2. 3101282</td>\n",
              "      <td>7.9250</td>\n",
              "      <td>NaN</td>\n",
              "      <td>S</td>\n",
              "      <td>Miss</td>\n",
              "    </tr>\n",
              "    <tr>\n",
              "      <th>3</th>\n",
              "      <td>4</td>\n",
              "      <td>1</td>\n",
              "      <td>1</td>\n",
              "      <td>Futrelle, Mrs. Jacques Heath (Lily May Peel)</td>\n",
              "      <td>female</td>\n",
              "      <td>35.0</td>\n",
              "      <td>1</td>\n",
              "      <td>0</td>\n",
              "      <td>113803</td>\n",
              "      <td>53.1000</td>\n",
              "      <td>C123</td>\n",
              "      <td>S</td>\n",
              "      <td>Mrs</td>\n",
              "    </tr>\n",
              "    <tr>\n",
              "      <th>4</th>\n",
              "      <td>5</td>\n",
              "      <td>0</td>\n",
              "      <td>3</td>\n",
              "      <td>Allen, Mr. William Henry</td>\n",
              "      <td>male</td>\n",
              "      <td>35.0</td>\n",
              "      <td>0</td>\n",
              "      <td>0</td>\n",
              "      <td>373450</td>\n",
              "      <td>8.0500</td>\n",
              "      <td>NaN</td>\n",
              "      <td>S</td>\n",
              "      <td>Mr</td>\n",
              "    </tr>\n",
              "  </tbody>\n",
              "</table>\n",
              "</div>\n",
              "      <button class=\"colab-df-convert\" onclick=\"convertToInteractive('df-ea6df5f8-c687-49ff-b684-f897b85fbefd')\"\n",
              "              title=\"Convert this dataframe to an interactive table.\"\n",
              "              style=\"display:none;\">\n",
              "        \n",
              "  <svg xmlns=\"http://www.w3.org/2000/svg\" height=\"24px\"viewBox=\"0 0 24 24\"\n",
              "       width=\"24px\">\n",
              "    <path d=\"M0 0h24v24H0V0z\" fill=\"none\"/>\n",
              "    <path d=\"M18.56 5.44l.94 2.06.94-2.06 2.06-.94-2.06-.94-.94-2.06-.94 2.06-2.06.94zm-11 1L8.5 8.5l.94-2.06 2.06-.94-2.06-.94L8.5 2.5l-.94 2.06-2.06.94zm10 10l.94 2.06.94-2.06 2.06-.94-2.06-.94-.94-2.06-.94 2.06-2.06.94z\"/><path d=\"M17.41 7.96l-1.37-1.37c-.4-.4-.92-.59-1.43-.59-.52 0-1.04.2-1.43.59L10.3 9.45l-7.72 7.72c-.78.78-.78 2.05 0 2.83L4 21.41c.39.39.9.59 1.41.59.51 0 1.02-.2 1.41-.59l7.78-7.78 2.81-2.81c.8-.78.8-2.07 0-2.86zM5.41 20L4 18.59l7.72-7.72 1.47 1.35L5.41 20z\"/>\n",
              "  </svg>\n",
              "      </button>\n",
              "      \n",
              "  <style>\n",
              "    .colab-df-container {\n",
              "      display:flex;\n",
              "      flex-wrap:wrap;\n",
              "      gap: 12px;\n",
              "    }\n",
              "\n",
              "    .colab-df-convert {\n",
              "      background-color: #E8F0FE;\n",
              "      border: none;\n",
              "      border-radius: 50%;\n",
              "      cursor: pointer;\n",
              "      display: none;\n",
              "      fill: #1967D2;\n",
              "      height: 32px;\n",
              "      padding: 0 0 0 0;\n",
              "      width: 32px;\n",
              "    }\n",
              "\n",
              "    .colab-df-convert:hover {\n",
              "      background-color: #E2EBFA;\n",
              "      box-shadow: 0px 1px 2px rgba(60, 64, 67, 0.3), 0px 1px 3px 1px rgba(60, 64, 67, 0.15);\n",
              "      fill: #174EA6;\n",
              "    }\n",
              "\n",
              "    [theme=dark] .colab-df-convert {\n",
              "      background-color: #3B4455;\n",
              "      fill: #D2E3FC;\n",
              "    }\n",
              "\n",
              "    [theme=dark] .colab-df-convert:hover {\n",
              "      background-color: #434B5C;\n",
              "      box-shadow: 0px 1px 3px 1px rgba(0, 0, 0, 0.15);\n",
              "      filter: drop-shadow(0px 1px 2px rgba(0, 0, 0, 0.3));\n",
              "      fill: #FFFFFF;\n",
              "    }\n",
              "  </style>\n",
              "\n",
              "      <script>\n",
              "        const buttonEl =\n",
              "          document.querySelector('#df-ea6df5f8-c687-49ff-b684-f897b85fbefd button.colab-df-convert');\n",
              "        buttonEl.style.display =\n",
              "          google.colab.kernel.accessAllowed ? 'block' : 'none';\n",
              "\n",
              "        async function convertToInteractive(key) {\n",
              "          const element = document.querySelector('#df-ea6df5f8-c687-49ff-b684-f897b85fbefd');\n",
              "          const dataTable =\n",
              "            await google.colab.kernel.invokeFunction('convertToInteractive',\n",
              "                                                     [key], {});\n",
              "          if (!dataTable) return;\n",
              "\n",
              "          const docLinkHtml = 'Like what you see? Visit the ' +\n",
              "            '<a target=\"_blank\" href=https://colab.research.google.com/notebooks/data_table.ipynb>data table notebook</a>'\n",
              "            + ' to learn more about interactive tables.';\n",
              "          element.innerHTML = '';\n",
              "          dataTable['output_type'] = 'display_data';\n",
              "          await google.colab.output.renderOutput(dataTable, element);\n",
              "          const docLink = document.createElement('div');\n",
              "          docLink.innerHTML = docLinkHtml;\n",
              "          element.appendChild(docLink);\n",
              "        }\n",
              "      </script>\n",
              "    </div>\n",
              "  </div>\n",
              "  "
            ],
            "text/plain": [
              "   PassengerId  Survived  Pclass  \\\n",
              "0            1         0       3   \n",
              "1            2         1       1   \n",
              "2            3         1       3   \n",
              "3            4         1       1   \n",
              "4            5         0       3   \n",
              "\n",
              "                                                Name     Sex   Age  SibSp  \\\n",
              "0                            Braund, Mr. Owen Harris    male  22.0      1   \n",
              "1  Cumings, Mrs. John Bradley (Florence Briggs Th...  female  38.0      1   \n",
              "2                             Heikkinen, Miss. Laina  female  26.0      0   \n",
              "3       Futrelle, Mrs. Jacques Heath (Lily May Peel)  female  35.0      1   \n",
              "4                           Allen, Mr. William Henry    male  35.0      0   \n",
              "\n",
              "   Parch            Ticket     Fare Cabin Embarked Initial  \n",
              "0      0         A/5 21171   7.2500   NaN        S      Mr  \n",
              "1      0          PC 17599  71.2833   C85        C     Mrs  \n",
              "2      0  STON/O2. 3101282   7.9250   NaN        S    Miss  \n",
              "3      0            113803  53.1000  C123        S     Mrs  \n",
              "4      0            373450   8.0500   NaN        S      Mr  "
            ]
          },
          "metadata": {},
          "execution_count": 34
        }
      ]
    },
    {
      "cell_type": "code",
      "source": [
        "pd.crosstab([data.SibSp], data.Survived).style.background_gradient('Pastel2')"
      ],
      "metadata": {
        "execution": {
          "iopub.status.busy": "2022-02-02T12:41:19.001668Z",
          "iopub.execute_input": "2022-02-02T12:41:19.001882Z",
          "iopub.status.idle": "2022-02-02T12:41:19.035309Z",
          "shell.execute_reply.started": "2022-02-02T12:41:19.001857Z",
          "shell.execute_reply": "2022-02-02T12:41:19.034518Z"
        },
        "trusted": true,
        "colab": {
          "base_uri": "https://localhost:8080/",
          "height": 0
        },
        "id": "8Vs3PWclLei_",
        "outputId": "de7bb9f7-8078-467c-a2e3-55909bde9191"
      },
      "execution_count": 35,
      "outputs": [
        {
          "output_type": "execute_result",
          "data": {
            "text/html": [
              "<style type=\"text/css\">\n",
              "#T_cefa3_row0_col0, #T_cefa3_row0_col1 {\n",
              "  background-color: #cccccc;\n",
              "  color: #000000;\n",
              "}\n",
              "#T_cefa3_row1_col0 {\n",
              "  background-color: #fdcdac;\n",
              "  color: #000000;\n",
              "}\n",
              "#T_cefa3_row1_col1 {\n",
              "  background-color: #e6f5c9;\n",
              "  color: #000000;\n",
              "}\n",
              "#T_cefa3_row2_col0, #T_cefa3_row2_col1, #T_cefa3_row3_col0, #T_cefa3_row3_col1, #T_cefa3_row4_col0, #T_cefa3_row4_col1, #T_cefa3_row5_col0, #T_cefa3_row5_col1, #T_cefa3_row6_col0, #T_cefa3_row6_col1 {\n",
              "  background-color: #b3e2cd;\n",
              "  color: #000000;\n",
              "}\n",
              "</style>\n",
              "<table id=\"T_cefa3_\" class=\"dataframe\">\n",
              "  <thead>\n",
              "    <tr>\n",
              "      <th class=\"index_name level0\" >Survived</th>\n",
              "      <th class=\"col_heading level0 col0\" >0</th>\n",
              "      <th class=\"col_heading level0 col1\" >1</th>\n",
              "    </tr>\n",
              "    <tr>\n",
              "      <th class=\"index_name level0\" >SibSp</th>\n",
              "      <th class=\"blank col0\" >&nbsp;</th>\n",
              "      <th class=\"blank col1\" >&nbsp;</th>\n",
              "    </tr>\n",
              "  </thead>\n",
              "  <tbody>\n",
              "    <tr>\n",
              "      <th id=\"T_cefa3_level0_row0\" class=\"row_heading level0 row0\" >0</th>\n",
              "      <td id=\"T_cefa3_row0_col0\" class=\"data row0 col0\" >398</td>\n",
              "      <td id=\"T_cefa3_row0_col1\" class=\"data row0 col1\" >210</td>\n",
              "    </tr>\n",
              "    <tr>\n",
              "      <th id=\"T_cefa3_level0_row1\" class=\"row_heading level0 row1\" >1</th>\n",
              "      <td id=\"T_cefa3_row1_col0\" class=\"data row1 col0\" >97</td>\n",
              "      <td id=\"T_cefa3_row1_col1\" class=\"data row1 col1\" >112</td>\n",
              "    </tr>\n",
              "    <tr>\n",
              "      <th id=\"T_cefa3_level0_row2\" class=\"row_heading level0 row2\" >2</th>\n",
              "      <td id=\"T_cefa3_row2_col0\" class=\"data row2 col0\" >15</td>\n",
              "      <td id=\"T_cefa3_row2_col1\" class=\"data row2 col1\" >13</td>\n",
              "    </tr>\n",
              "    <tr>\n",
              "      <th id=\"T_cefa3_level0_row3\" class=\"row_heading level0 row3\" >3</th>\n",
              "      <td id=\"T_cefa3_row3_col0\" class=\"data row3 col0\" >12</td>\n",
              "      <td id=\"T_cefa3_row3_col1\" class=\"data row3 col1\" >4</td>\n",
              "    </tr>\n",
              "    <tr>\n",
              "      <th id=\"T_cefa3_level0_row4\" class=\"row_heading level0 row4\" >4</th>\n",
              "      <td id=\"T_cefa3_row4_col0\" class=\"data row4 col0\" >15</td>\n",
              "      <td id=\"T_cefa3_row4_col1\" class=\"data row4 col1\" >3</td>\n",
              "    </tr>\n",
              "    <tr>\n",
              "      <th id=\"T_cefa3_level0_row5\" class=\"row_heading level0 row5\" >5</th>\n",
              "      <td id=\"T_cefa3_row5_col0\" class=\"data row5 col0\" >5</td>\n",
              "      <td id=\"T_cefa3_row5_col1\" class=\"data row5 col1\" >0</td>\n",
              "    </tr>\n",
              "    <tr>\n",
              "      <th id=\"T_cefa3_level0_row6\" class=\"row_heading level0 row6\" >8</th>\n",
              "      <td id=\"T_cefa3_row6_col0\" class=\"data row6 col0\" >7</td>\n",
              "      <td id=\"T_cefa3_row6_col1\" class=\"data row6 col1\" >0</td>\n",
              "    </tr>\n",
              "  </tbody>\n",
              "</table>\n"
            ],
            "text/plain": [
              "<pandas.io.formats.style.Styler at 0x7f8dcf1dda90>"
            ]
          },
          "metadata": {},
          "execution_count": 35
        }
      ]
    },
    {
      "cell_type": "code",
      "source": [
        "f, ax = plt.subplots(1,2, figsize=(20,8))\n",
        "\n",
        "sns.barplot('SibSp', 'Survived', data=data, ax=ax[0])\n",
        "ax[0].set_title('SibSp vs Survived')\n",
        "\n",
        "sns.pointplot('SibSp', 'Survived', data=data, ax=ax[1])\n",
        "ax[1].set_title('SibSp vs Survived')\n",
        "\n",
        "plt.show()"
      ],
      "metadata": {
        "execution": {
          "iopub.status.busy": "2022-02-02T12:41:19.036554Z",
          "iopub.execute_input": "2022-02-02T12:41:19.036762Z",
          "iopub.status.idle": "2022-02-02T12:41:19.870905Z",
          "shell.execute_reply.started": "2022-02-02T12:41:19.036736Z",
          "shell.execute_reply": "2022-02-02T12:41:19.870094Z"
        },
        "trusted": true,
        "colab": {
          "base_uri": "https://localhost:8080/",
          "height": 0
        },
        "id": "FygUr5DLLejA",
        "outputId": "3d52a660-cf19-4651-d0ad-ff072ba318be"
      },
      "execution_count": 36,
      "outputs": [
        {
          "output_type": "display_data",
          "data": {
            "image/png": "[encoded data removed]",
            "text/plain": [
              "<Figure size 1440x576 with 2 Axes>"
            ]
          },
          "metadata": {
            "needs_background": "light"
          }
        }
      ]
    },
    {
      "cell_type": "code",
      "source": [
        "pd.crosstab(data.SibSp, data.Pclass).style.background_gradient('Pastel2')"
      ],
      "metadata": {
        "execution": {
          "iopub.status.busy": "2022-02-02T12:41:19.872103Z",
          "iopub.execute_input": "2022-02-02T12:41:19.872464Z",
          "iopub.status.idle": "2022-02-02T12:41:19.897263Z",
          "shell.execute_reply.started": "2022-02-02T12:41:19.872431Z",
          "shell.execute_reply": "2022-02-02T12:41:19.89646Z"
        },
        "trusted": true,
        "colab": {
          "base_uri": "https://localhost:8080/",
          "height": 0
        },
        "id": "w6ljcgCDLejA",
        "outputId": "390dd93b-6012-4b84-8ed7-0efff1829bdb"
      },
      "execution_count": 37,
      "outputs": [
        {
          "output_type": "execute_result",
          "data": {
            "text/html": [
              "<style type=\"text/css\">\n",
              "#T_5f127_row0_col0, #T_5f127_row0_col1, #T_5f127_row0_col2 {\n",
              "  background-color: #cccccc;\n",
              "  color: #000000;\n",
              "}\n",
              "#T_5f127_row1_col0 {\n",
              "  background-color: #e6f5c9;\n",
              "  color: #000000;\n",
              "}\n",
              "#T_5f127_row1_col1 {\n",
              "  background-color: #f4cae4;\n",
              "  color: #000000;\n",
              "}\n",
              "#T_5f127_row1_col2 {\n",
              "  background-color: #fdcdac;\n",
              "  color: #000000;\n",
              "}\n",
              "#T_5f127_row2_col0, #T_5f127_row2_col1, #T_5f127_row2_col2, #T_5f127_row3_col0, #T_5f127_row3_col1, #T_5f127_row3_col2, #T_5f127_row4_col0, #T_5f127_row4_col1, #T_5f127_row4_col2, #T_5f127_row5_col0, #T_5f127_row5_col1, #T_5f127_row5_col2, #T_5f127_row6_col0, #T_5f127_row6_col1, #T_5f127_row6_col2 {\n",
              "  background-color: #b3e2cd;\n",
              "  color: #000000;\n",
              "}\n",
              "</style>\n",
              "<table id=\"T_5f127_\" class=\"dataframe\">\n",
              "  <thead>\n",
              "    <tr>\n",
              "      <th class=\"index_name level0\" >Pclass</th>\n",
              "      <th class=\"col_heading level0 col0\" >1</th>\n",
              "      <th class=\"col_heading level0 col1\" >2</th>\n",
              "      <th class=\"col_heading level0 col2\" >3</th>\n",
              "    </tr>\n",
              "    <tr>\n",
              "      <th class=\"index_name level0\" >SibSp</th>\n",
              "      <th class=\"blank col0\" >&nbsp;</th>\n",
              "      <th class=\"blank col1\" >&nbsp;</th>\n",
              "      <th class=\"blank col2\" >&nbsp;</th>\n",
              "    </tr>\n",
              "  </thead>\n",
              "  <tbody>\n",
              "    <tr>\n",
              "      <th id=\"T_5f127_level0_row0\" class=\"row_heading level0 row0\" >0</th>\n",
              "      <td id=\"T_5f127_row0_col0\" class=\"data row0 col0\" >137</td>\n",
              "      <td id=\"T_5f127_row0_col1\" class=\"data row0 col1\" >120</td>\n",
              "      <td id=\"T_5f127_row0_col2\" class=\"data row0 col2\" >351</td>\n",
              "    </tr>\n",
              "    <tr>\n",
              "      <th id=\"T_5f127_level0_row1\" class=\"row_heading level0 row1\" >1</th>\n",
              "      <td id=\"T_5f127_row1_col0\" class=\"data row1 col0\" >71</td>\n",
              "      <td id=\"T_5f127_row1_col1\" class=\"data row1 col1\" >55</td>\n",
              "      <td id=\"T_5f127_row1_col2\" class=\"data row1 col2\" >83</td>\n",
              "    </tr>\n",
              "    <tr>\n",
              "      <th id=\"T_5f127_level0_row2\" class=\"row_heading level0 row2\" >2</th>\n",
              "      <td id=\"T_5f127_row2_col0\" class=\"data row2 col0\" >5</td>\n",
              "      <td id=\"T_5f127_row2_col1\" class=\"data row2 col1\" >8</td>\n",
              "      <td id=\"T_5f127_row2_col2\" class=\"data row2 col2\" >15</td>\n",
              "    </tr>\n",
              "    <tr>\n",
              "      <th id=\"T_5f127_level0_row3\" class=\"row_heading level0 row3\" >3</th>\n",
              "      <td id=\"T_5f127_row3_col0\" class=\"data row3 col0\" >3</td>\n",
              "      <td id=\"T_5f127_row3_col1\" class=\"data row3 col1\" >1</td>\n",
              "      <td id=\"T_5f127_row3_col2\" class=\"data row3 col2\" >12</td>\n",
              "    </tr>\n",
              "    <tr>\n",
              "      <th id=\"T_5f127_level0_row4\" class=\"row_heading level0 row4\" >4</th>\n",
              "      <td id=\"T_5f127_row4_col0\" class=\"data row4 col0\" >0</td>\n",
              "      <td id=\"T_5f127_row4_col1\" class=\"data row4 col1\" >0</td>\n",
              "      <td id=\"T_5f127_row4_col2\" class=\"data row4 col2\" >18</td>\n",
              "    </tr>\n",
              "    <tr>\n",
              "      <th id=\"T_5f127_level0_row5\" class=\"row_heading level0 row5\" >5</th>\n",
              "      <td id=\"T_5f127_row5_col0\" class=\"data row5 col0\" >0</td>\n",
              "      <td id=\"T_5f127_row5_col1\" class=\"data row5 col1\" >0</td>\n",
              "      <td id=\"T_5f127_row5_col2\" class=\"data row5 col2\" >5</td>\n",
              "    </tr>\n",
              "    <tr>\n",
              "      <th id=\"T_5f127_level0_row6\" class=\"row_heading level0 row6\" >8</th>\n",
              "      <td id=\"T_5f127_row6_col0\" class=\"data row6 col0\" >0</td>\n",
              "      <td id=\"T_5f127_row6_col1\" class=\"data row6 col1\" >0</td>\n",
              "      <td id=\"T_5f127_row6_col2\" class=\"data row6 col2\" >7</td>\n",
              "    </tr>\n",
              "  </tbody>\n",
              "</table>\n"
            ],
            "text/plain": [
              "<pandas.io.formats.style.Styler at 0x7f8dcf126a50>"
            ]
          },
          "metadata": {},
          "execution_count": 37
        }
      ]
    },
    {
      "cell_type": "markdown",
      "source": [
        "가족이 없는 탑승객은 34.5%의 생존률을 보였다. 가족이 있을 경우 생존확률이 급격히 떨어졌고 이는 나보다 가족이 우선이라는 의식 때문에 떨어진 것으로 보인다. 다만 5명 이후에는 생존률이 0%인데 Pclass때문일까 ? <br>\n",
        "crosstab 그래프를 참고하였을 때 **Pclass를 이유로 5명 이후에는 생존률이 낮았다고 볼 수 있다.**"
      ],
      "metadata": {
        "execution": {
          "iopub.status.busy": "2022-02-02T12:01:10.736098Z",
          "iopub.execute_input": "2022-02-02T12:01:10.736413Z",
          "iopub.status.idle": "2022-02-02T12:01:10.743276Z",
          "shell.execute_reply.started": "2022-02-02T12:01:10.736378Z",
          "shell.execute_reply": "2022-02-02T12:01:10.742473Z"
        },
        "id": "1s2P1BhbLejA"
      }
    },
    {
      "cell_type": "markdown",
      "source": [
        "### (6) Discrete 특징 (Parch (부모, 자녀))"
      ],
      "metadata": {
        "execution": {
          "iopub.status.busy": "2022-02-02T12:02:32.922119Z"
        },
        "id": "2g2NkcFrLejA"
      }
    },
    {
      "cell_type": "code",
      "source": [
        "pd.crosstab(data.Parch, data.Pclass).style.background_gradient('Pastel1_r')"
      ],
      "metadata": {
        "execution": {
          "iopub.status.busy": "2022-02-02T12:41:19.898599Z",
          "iopub.execute_input": "2022-02-02T12:41:19.898829Z",
          "iopub.status.idle": "2022-02-02T12:41:19.924678Z",
          "shell.execute_reply.started": "2022-02-02T12:41:19.898793Z",
          "shell.execute_reply": "2022-02-02T12:41:19.923831Z"
        },
        "trusted": true,
        "colab": {
          "base_uri": "https://localhost:8080/",
          "height": 0
        },
        "id": "JQhBHlzoLejA",
        "outputId": "b41a8aa6-811a-439c-f77a-76450767b2a3"
      },
      "execution_count": 38,
      "outputs": [
        {
          "output_type": "execute_result",
          "data": {
            "text/html": [
              "<style type=\"text/css\">\n",
              "#T_4cf5b_row0_col0, #T_4cf5b_row0_col1, #T_4cf5b_row0_col2 {\n",
              "  background-color: #fbb4ae;\n",
              "  color: #000000;\n",
              "}\n",
              "#T_4cf5b_row1_col0, #T_4cf5b_row1_col2, #T_4cf5b_row2_col0, #T_4cf5b_row2_col1 {\n",
              "  background-color: #fddaec;\n",
              "  color: #000000;\n",
              "}\n",
              "#T_4cf5b_row1_col1 {\n",
              "  background-color: #e5d8bd;\n",
              "  color: #000000;\n",
              "}\n",
              "#T_4cf5b_row2_col2, #T_4cf5b_row3_col0, #T_4cf5b_row3_col1, #T_4cf5b_row3_col2, #T_4cf5b_row4_col0, #T_4cf5b_row4_col1, #T_4cf5b_row4_col2, #T_4cf5b_row5_col0, #T_4cf5b_row5_col1, #T_4cf5b_row5_col2, #T_4cf5b_row6_col0, #T_4cf5b_row6_col1, #T_4cf5b_row6_col2 {\n",
              "  background-color: #f2f2f2;\n",
              "  color: #000000;\n",
              "}\n",
              "</style>\n",
              "<table id=\"T_4cf5b_\" class=\"dataframe\">\n",
              "  <thead>\n",
              "    <tr>\n",
              "      <th class=\"index_name level0\" >Pclass</th>\n",
              "      <th class=\"col_heading level0 col0\" >1</th>\n",
              "      <th class=\"col_heading level0 col1\" >2</th>\n",
              "      <th class=\"col_heading level0 col2\" >3</th>\n",
              "    </tr>\n",
              "    <tr>\n",
              "      <th class=\"index_name level0\" >Parch</th>\n",
              "      <th class=\"blank col0\" >&nbsp;</th>\n",
              "      <th class=\"blank col1\" >&nbsp;</th>\n",
              "      <th class=\"blank col2\" >&nbsp;</th>\n",
              "    </tr>\n",
              "  </thead>\n",
              "  <tbody>\n",
              "    <tr>\n",
              "      <th id=\"T_4cf5b_level0_row0\" class=\"row_heading level0 row0\" >0</th>\n",
              "      <td id=\"T_4cf5b_row0_col0\" class=\"data row0 col0\" >163</td>\n",
              "      <td id=\"T_4cf5b_row0_col1\" class=\"data row0 col1\" >134</td>\n",
              "      <td id=\"T_4cf5b_row0_col2\" class=\"data row0 col2\" >381</td>\n",
              "    </tr>\n",
              "    <tr>\n",
              "      <th id=\"T_4cf5b_level0_row1\" class=\"row_heading level0 row1\" >1</th>\n",
              "      <td id=\"T_4cf5b_row1_col0\" class=\"data row1 col0\" >31</td>\n",
              "      <td id=\"T_4cf5b_row1_col1\" class=\"data row1 col1\" >32</td>\n",
              "      <td id=\"T_4cf5b_row1_col2\" class=\"data row1 col2\" >55</td>\n",
              "    </tr>\n",
              "    <tr>\n",
              "      <th id=\"T_4cf5b_level0_row2\" class=\"row_heading level0 row2\" >2</th>\n",
              "      <td id=\"T_4cf5b_row2_col0\" class=\"data row2 col0\" >21</td>\n",
              "      <td id=\"T_4cf5b_row2_col1\" class=\"data row2 col1\" >16</td>\n",
              "      <td id=\"T_4cf5b_row2_col2\" class=\"data row2 col2\" >43</td>\n",
              "    </tr>\n",
              "    <tr>\n",
              "      <th id=\"T_4cf5b_level0_row3\" class=\"row_heading level0 row3\" >3</th>\n",
              "      <td id=\"T_4cf5b_row3_col0\" class=\"data row3 col0\" >0</td>\n",
              "      <td id=\"T_4cf5b_row3_col1\" class=\"data row3 col1\" >2</td>\n",
              "      <td id=\"T_4cf5b_row3_col2\" class=\"data row3 col2\" >3</td>\n",
              "    </tr>\n",
              "    <tr>\n",
              "      <th id=\"T_4cf5b_level0_row4\" class=\"row_heading level0 row4\" >4</th>\n",
              "      <td id=\"T_4cf5b_row4_col0\" class=\"data row4 col0\" >1</td>\n",
              "      <td id=\"T_4cf5b_row4_col1\" class=\"data row4 col1\" >0</td>\n",
              "      <td id=\"T_4cf5b_row4_col2\" class=\"data row4 col2\" >3</td>\n",
              "    </tr>\n",
              "    <tr>\n",
              "      <th id=\"T_4cf5b_level0_row5\" class=\"row_heading level0 row5\" >5</th>\n",
              "      <td id=\"T_4cf5b_row5_col0\" class=\"data row5 col0\" >0</td>\n",
              "      <td id=\"T_4cf5b_row5_col1\" class=\"data row5 col1\" >0</td>\n",
              "      <td id=\"T_4cf5b_row5_col2\" class=\"data row5 col2\" >5</td>\n",
              "    </tr>\n",
              "    <tr>\n",
              "      <th id=\"T_4cf5b_level0_row6\" class=\"row_heading level0 row6\" >6</th>\n",
              "      <td id=\"T_4cf5b_row6_col0\" class=\"data row6 col0\" >0</td>\n",
              "      <td id=\"T_4cf5b_row6_col1\" class=\"data row6 col1\" >0</td>\n",
              "      <td id=\"T_4cf5b_row6_col2\" class=\"data row6 col2\" >1</td>\n",
              "    </tr>\n",
              "  </tbody>\n",
              "</table>\n"
            ],
            "text/plain": [
              "<pandas.io.formats.style.Styler at 0x7f8dcf07d810>"
            ]
          },
          "metadata": {},
          "execution_count": 38
        }
      ]
    },
    {
      "cell_type": "markdown",
      "source": [
        "더많은 가족들이 Pclass3에 소속되어 있다는 것을 알 수 있었다."
      ],
      "metadata": {
        "execution": {
          "iopub.status.busy": "2022-02-02T12:04:14.907341Z",
          "iopub.execute_input": "2022-02-02T12:04:14.907877Z",
          "iopub.status.idle": "2022-02-02T12:04:14.912797Z",
          "shell.execute_reply.started": "2022-02-02T12:04:14.90784Z",
          "shell.execute_reply": "2022-02-02T12:04:14.911789Z"
        },
        "id": "8dLeeaqSLejB"
      }
    },
    {
      "cell_type": "code",
      "source": [
        "f, ax = plt.subplots(1,2, figsize=(20,8))\n",
        "sns.barplot('Parch', 'Survived', data=data, ax=ax[0])\n",
        "ax[0].set_title('Parch vs Survived')\n",
        "\n",
        "sns.pointplot('Parch', 'Survived', data=data, ax=ax[1])\n",
        "ax[1].set_title('Parch vs Survived')\n",
        "\n",
        "plt.show()"
      ],
      "metadata": {
        "execution": {
          "iopub.status.busy": "2022-02-02T12:41:19.926046Z",
          "iopub.execute_input": "2022-02-02T12:41:19.926283Z",
          "iopub.status.idle": "2022-02-02T12:41:20.685736Z",
          "shell.execute_reply.started": "2022-02-02T12:41:19.926251Z",
          "shell.execute_reply": "2022-02-02T12:41:20.684986Z"
        },
        "trusted": true,
        "colab": {
          "base_uri": "https://localhost:8080/",
          "height": 0
        },
        "id": "1V1_98iDLejB",
        "outputId": "5b7d16a3-ba95-4121-9e9d-748cd647661f"
      },
      "execution_count": 39,
      "outputs": [
        {
          "output_type": "display_data",
          "data": {
            "image/png": "[encoded data removed]",
            "text/plain": [
              "<Figure size 1440x576 with 2 Axes>"
            ]
          },
          "metadata": {
            "needs_background": "light"
          }
        }
      ]
    },
    {
      "cell_type": "markdown",
      "source": [
        "2개의 결과가 비슷한데, 가족이 1-3명 있을 경우 생존률이 높아지지만, 일정 수 이상의 경우 급격히 떨어졌으며, 혼자일 경우에도 낮은 경향을 보였다."
      ],
      "metadata": {
        "execution": {
          "iopub.status.busy": "2022-02-02T12:08:46.155428Z",
          "iopub.execute_input": "2022-02-02T12:08:46.156515Z",
          "iopub.status.idle": "2022-02-02T12:08:46.16443Z",
          "shell.execute_reply.started": "2022-02-02T12:08:46.156445Z",
          "shell.execute_reply": "2022-02-02T12:08:46.163698Z"
        },
        "id": "G3SWQLHcLejB"
      }
    },
    {
      "cell_type": "markdown",
      "source": [
        "### (7) Continous 특징 (Fare)"
      ],
      "metadata": {
        "execution": {
          "iopub.status.busy": "2022-02-02T12:10:02.971993Z",
          "iopub.execute_input": "2022-02-02T12:10:02.972309Z",
          "iopub.status.idle": "2022-02-02T12:10:02.97662Z",
          "shell.execute_reply.started": "2022-02-02T12:10:02.972279Z",
          "shell.execute_reply": "2022-02-02T12:10:02.975686Z"
        },
        "id": "kWD3Ghr3LejB"
      }
    },
    {
      "cell_type": "code",
      "source": [
        "print('Highest Fare was:', data['Fare'].max())\n",
        "print('Lowest Fare was:', data['Fare'].min())\n",
        "print('Average Fare was:', data['Fare'].mean())"
      ],
      "metadata": {
        "execution": {
          "iopub.status.busy": "2022-02-02T12:41:20.687093Z",
          "iopub.execute_input": "2022-02-02T12:41:20.687532Z",
          "iopub.status.idle": "2022-02-02T12:41:20.693953Z",
          "shell.execute_reply.started": "2022-02-02T12:41:20.687482Z",
          "shell.execute_reply": "2022-02-02T12:41:20.693422Z"
        },
        "trusted": true,
        "colab": {
          "base_uri": "https://localhost:8080/"
        },
        "id": "wYlykDptLejB",
        "outputId": "5ac97a9c-4109-4b56-e39c-6f6b05bffb2c"
      },
      "execution_count": 40,
      "outputs": [
        {
          "output_type": "stream",
          "name": "stdout",
          "text": [
            "Highest Fare was: 512.3292\n",
            "Lowest Fare was: 0.0\n",
            "Average Fare was: 32.2042079685746\n"
          ]
        }
      ]
    },
    {
      "cell_type": "code",
      "source": [
        "f, ax = plt.subplots(1,3, figsize=(20,8))\n",
        "\n",
        "sns.distplot(data[data['Pclass']==1].Fare, ax=ax[0])\n",
        "ax[0].set_title('Fares in Pclass 1')\n",
        "\n",
        "sns.distplot(data[data['Pclass']==2].Fare, ax=ax[1])\n",
        "ax[1].set_title('Fares in Pclass 2')\n",
        "\n",
        "sns.distplot(data[data['Pclass']==3].Fare, ax=ax[2])\n",
        "ax[2].set_title('Fares in Pclass 3')\n",
        "\n",
        "plt.show()"
      ],
      "metadata": {
        "execution": {
          "iopub.status.busy": "2022-02-02T12:41:20.695119Z",
          "iopub.execute_input": "2022-02-02T12:41:20.695509Z",
          "iopub.status.idle": "2022-02-02T12:41:21.332395Z",
          "shell.execute_reply.started": "2022-02-02T12:41:20.695478Z",
          "shell.execute_reply": "2022-02-02T12:41:21.331508Z"
        },
        "trusted": true,
        "colab": {
          "base_uri": "https://localhost:8080/",
          "height": 0
        },
        "id": "pEA2x7fDLejB",
        "outputId": "7a8f80c3-4875-415a-d347-d671471663fd"
      },
      "execution_count": 41,
      "outputs": [
        {
          "output_type": "display_data",
          "data": {
            "image/png": "[encoded data removed]",
            "text/plain": [
              "<Figure size 1440x576 with 3 Axes>"
            ]
          },
          "metadata": {
            "needs_background": "light"
          }
        }
      ]
    },
    {
      "cell_type": "markdown",
      "source": [
        "연속적인 값에 대해 binning을 이용하여 discrete values로 변환할 필요가 있다."
      ],
      "metadata": {
        "execution": {
          "iopub.status.busy": "2022-02-02T12:15:34.140804Z",
          "iopub.execute_input": "2022-02-02T12:15:34.14112Z",
          "iopub.status.idle": "2022-02-02T12:15:34.146761Z",
          "shell.execute_reply.started": "2022-02-02T12:15:34.141086Z",
          "shell.execute_reply": "2022-02-02T12:15:34.145889Z"
        },
        "id": "gQ6aIhl6LejC"
      }
    },
    {
      "cell_type": "markdown",
      "source": [
        "## 특징들 정리"
      ],
      "metadata": {
        "id": "peXe2PRSYh_V"
      }
    },
    {
      "cell_type": "markdown",
      "source": [
        "1. Sex\n",
        "  - 여성이 남성보다 더 많이 생존\n",
        "2. Pclass\n",
        "  - 통상 1st class가 생존에 더 많은 기회를 얻은 반면, 3rd Pclass는 매우 낮다.\n",
        "  - 여성의 경우, 2nd class보다 1st class가 더 많이 생존하였다,\n",
        "3. Age\n",
        "  - 5-10세의 아이들이 생존을 많이 했고, 15-35세가 가장 많이 생존하지 못 했다.\n",
        "4. Embarked\n",
        "  - C항구에서 탑승한 승객들이 좋은 생존률을 보였다. 심지어 S항구 + 1st class보다 높은 수치를 보였음\n",
        "  - Q항구는 모두 3rd class 승객들이었다.\n",
        "5. Parch + SibSp\n",
        "  - 혼자거나 4명 이상의 가족과 함께 탑승한 승객들은 생존률이 좋지 못 했다.\n",
        "  \n"
      ],
      "metadata": {
        "id": "7b09a9t2Yo8J"
      }
    },
    {
      "cell_type": "markdown",
      "source": [
        "## 특징들 사이에서의 상관관계\n"
      ],
      "metadata": {
        "id": "x7-vqp0LaH1k"
      }
    },
    {
      "cell_type": "code",
      "source": [
        "sns.heatmap(data.corr(), annot=True, cmap='RdYlGn', linewidths=0.2) # data.corr()를 상관관계 행렬로 변환\n",
        "fig = plt.gcf()\n",
        "fig.set_size_inches(10,8)\n",
        "plt.show()"
      ],
      "metadata": {
        "colab": {
          "base_uri": "https://localhost:8080/",
          "height": 0
        },
        "id": "uxG_bUFsaVAg",
        "outputId": "eae01f72-95e7-4b8a-9935-20c3668ffa6d"
      },
      "execution_count": 45,
      "outputs": [
        {
          "output_type": "display_data",
          "data": {
            "image/png": "[encoded data removed]",
            "text/plain": [
              "<Figure size 720x576 with 2 Axes>"
            ]
          },
          "metadata": {
            "needs_background": "light"
          }
        }
      ]
    },
    {
      "cell_type": "markdown",
      "source": [
        "- 우선 알아야할 것이, String값이나 알파벳값들은 비교하기 애매해서 숫자 특징들만 비교되었음\n",
        "\n",
        "- A와 B가 1에 가까운 값을 갖고 있다면 서로 비례관계임\n",
        "\n",
        "### 다중공선성 MultiColinearity\n",
        "  - 서로 높은 비례관계를 가진 상태이므로 redundant feature\n",
        "  - 서로 비슷한 정보를 가지고 있으므로 제거할 필요가 있음\n",
        "\n",
        "위의 경우, SibSp - Parch가 0.41로 가장 큰데, 따로 제거할 필요 없어보인다.\n",
        "\n",
        "  "
      ],
      "metadata": {
        "id": "4YWw3F6JaoD4"
      }
    },
    {
      "cell_type": "markdown",
      "source": [
        "# (2) Feature Engineering and Data Cleaning"
      ],
      "metadata": {
        "id": "inSgsDmxbjz2"
      }
    },
    {
      "cell_type": "markdown",
      "source": [
        "특징공학 Feature Engineering 이란 ?\n",
        "- 새로운 특징을 뽑아내거나, MultiColinearity를 확인해 redundant feature를 제거하는 것 \n",
        "\n",
        "여기서는 Name의 특징을 이용해 새로운 특징을 얻을 것이고, 적절한 특징 들을 모델에 예측하기에 알맞는 형태로 바꿀 것임"
      ],
      "metadata": {
        "id": "cogxirhYaQli"
      }
    },
    {
      "cell_type": "markdown",
      "source": [
        "## Age_band\n",
        "**Age 특징의 문제점**\n",
        " \n",
        "Age는 continous특징이기 때문에 ML estimator에 train할 때 문제가 있을 수 있음\n",
        "이러한 값을 **binning or 정규화**를 이용해 **범주형 특징**으로 바꿀 것임\n",
        "<br>\n",
        "여기서는 binning을 이용할 건데, grouping하는 거임 그냥"
      ],
      "metadata": {
        "id": "HaEWoIh_n3VR"
      }
    },
    {
      "cell_type": "markdown",
      "source": [
        "### binning\n",
        "0-80 Age를 5개의 그룹으로 나누자"
      ],
      "metadata": {
        "id": "3wlbb_UArVb8"
      }
    },
    {
      "cell_type": "code",
      "source": [
        "data['Age_band'] = 0\n",
        "data.loc[data['Age']<=16, 'Age_band'] = 0\n",
        "data.loc[data['Age']>16, 'Age_band'] = 1\n",
        "data.loc[data['Age']>32, 'Age_band'] = 2\n",
        "data.loc[data['Age']>48, 'Age_band'] = 3\n",
        "data.loc[data['Age']>64, 'Age_band'] = 4\n",
        "data.head(2)"
      ],
      "metadata": {
        "colab": {
          "base_uri": "https://localhost:8080/",
          "height": 0
        },
        "id": "GeK4TQeWrZ3w",
        "outputId": "a583a397-27ed-4c01-c4e1-bd46c1eb41d4"
      },
      "execution_count": 46,
      "outputs": [
        {
          "output_type": "execute_result",
          "data": {
            "text/html": [
              "\n",
              "  <div id=\"df-4015425c-3102-442a-829a-969cd5a93b1d\">\n",
              "    <div class=\"colab-df-container\">\n",
              "      <div>\n",
              "<style scoped>\n",
              "    .dataframe tbody tr th:only-of-type {\n",
              "        vertical-align: middle;\n",
              "    }\n",
              "\n",
              "    .dataframe tbody tr th {\n",
              "        vertical-align: top;\n",
              "    }\n",
              "\n",
              "    .dataframe thead th {\n",
              "        text-align: right;\n",
              "    }\n",
              "</style>\n",
              "<table border=\"1\" class=\"dataframe\">\n",
              "  <thead>\n",
              "    <tr style=\"text-align: right;\">\n",
              "      <th></th>\n",
              "      <th>PassengerId</th>\n",
              "      <th>Survived</th>\n",
              "      <th>Pclass</th>\n",
              "      <th>Name</th>\n",
              "      <th>Sex</th>\n",
              "      <th>Age</th>\n",
              "      <th>SibSp</th>\n",
              "      <th>Parch</th>\n",
              "      <th>Ticket</th>\n",
              "      <th>Fare</th>\n",
              "      <th>Cabin</th>\n",
              "      <th>Embarked</th>\n",
              "      <th>Initial</th>\n",
              "      <th>Age_band</th>\n",
              "    </tr>\n",
              "  </thead>\n",
              "  <tbody>\n",
              "    <tr>\n",
              "      <th>0</th>\n",
              "      <td>1</td>\n",
              "      <td>0</td>\n",
              "      <td>3</td>\n",
              "      <td>Braund, Mr. Owen Harris</td>\n",
              "      <td>male</td>\n",
              "      <td>22.0</td>\n",
              "      <td>1</td>\n",
              "      <td>0</td>\n",
              "      <td>A/5 21171</td>\n",
              "      <td>7.2500</td>\n",
              "      <td>NaN</td>\n",
              "      <td>S</td>\n",
              "      <td>Mr</td>\n",
              "      <td>1</td>\n",
              "    </tr>\n",
              "    <tr>\n",
              "      <th>1</th>\n",
              "      <td>2</td>\n",
              "      <td>1</td>\n",
              "      <td>1</td>\n",
              "      <td>Cumings, Mrs. John Bradley (Florence Briggs Th...</td>\n",
              "      <td>female</td>\n",
              "      <td>38.0</td>\n",
              "      <td>1</td>\n",
              "      <td>0</td>\n",
              "      <td>PC 17599</td>\n",
              "      <td>71.2833</td>\n",
              "      <td>C85</td>\n",
              "      <td>C</td>\n",
              "      <td>Mrs</td>\n",
              "      <td>2</td>\n",
              "    </tr>\n",
              "  </tbody>\n",
              "</table>\n",
              "</div>\n",
              "      <button class=\"colab-df-convert\" onclick=\"convertToInteractive('df-4015425c-3102-442a-829a-969cd5a93b1d')\"\n",
              "              title=\"Convert this dataframe to an interactive table.\"\n",
              "              style=\"display:none;\">\n",
              "        \n",
              "  <svg xmlns=\"http://www.w3.org/2000/svg\" height=\"24px\"viewBox=\"0 0 24 24\"\n",
              "       width=\"24px\">\n",
              "    <path d=\"M0 0h24v24H0V0z\" fill=\"none\"/>\n",
              "    <path d=\"M18.56 5.44l.94 2.06.94-2.06 2.06-.94-2.06-.94-.94-2.06-.94 2.06-2.06.94zm-11 1L8.5 8.5l.94-2.06 2.06-.94-2.06-.94L8.5 2.5l-.94 2.06-2.06.94zm10 10l.94 2.06.94-2.06 2.06-.94-2.06-.94-.94-2.06-.94 2.06-2.06.94z\"/><path d=\"M17.41 7.96l-1.37-1.37c-.4-.4-.92-.59-1.43-.59-.52 0-1.04.2-1.43.59L10.3 9.45l-7.72 7.72c-.78.78-.78 2.05 0 2.83L4 21.41c.39.39.9.59 1.41.59.51 0 1.02-.2 1.41-.59l7.78-7.78 2.81-2.81c.8-.78.8-2.07 0-2.86zM5.41 20L4 18.59l7.72-7.72 1.47 1.35L5.41 20z\"/>\n",
              "  </svg>\n",
              "      </button>\n",
              "      \n",
              "  <style>\n",
              "    .colab-df-container {\n",
              "      display:flex;\n",
              "      flex-wrap:wrap;\n",
              "      gap: 12px;\n",
              "    }\n",
              "\n",
              "    .colab-df-convert {\n",
              "      background-color: #E8F0FE;\n",
              "      border: none;\n",
              "      border-radius: 50%;\n",
              "      cursor: pointer;\n",
              "      display: none;\n",
              "      fill: #1967D2;\n",
              "      height: 32px;\n",
              "      padding: 0 0 0 0;\n",
              "      width: 32px;\n",
              "    }\n",
              "\n",
              "    .colab-df-convert:hover {\n",
              "      background-color: #E2EBFA;\n",
              "      box-shadow: 0px 1px 2px rgba(60, 64, 67, 0.3), 0px 1px 3px 1px rgba(60, 64, 67, 0.15);\n",
              "      fill: #174EA6;\n",
              "    }\n",
              "\n",
              "    [theme=dark] .colab-df-convert {\n",
              "      background-color: #3B4455;\n",
              "      fill: #D2E3FC;\n",
              "    }\n",
              "\n",
              "    [theme=dark] .colab-df-convert:hover {\n",
              "      background-color: #434B5C;\n",
              "      box-shadow: 0px 1px 3px 1px rgba(0, 0, 0, 0.15);\n",
              "      filter: drop-shadow(0px 1px 2px rgba(0, 0, 0, 0.3));\n",
              "      fill: #FFFFFF;\n",
              "    }\n",
              "  </style>\n",
              "\n",
              "      <script>\n",
              "        const buttonEl =\n",
              "          document.querySelector('#df-4015425c-3102-442a-829a-969cd5a93b1d button.colab-df-convert');\n",
              "        buttonEl.style.display =\n",
              "          google.colab.kernel.accessAllowed ? 'block' : 'none';\n",
              "\n",
              "        async function convertToInteractive(key) {\n",
              "          const element = document.querySelector('#df-4015425c-3102-442a-829a-969cd5a93b1d');\n",
              "          const dataTable =\n",
              "            await google.colab.kernel.invokeFunction('convertToInteractive',\n",
              "                                                     [key], {});\n",
              "          if (!dataTable) return;\n",
              "\n",
              "          const docLinkHtml = 'Like what you see? Visit the ' +\n",
              "            '<a target=\"_blank\" href=https://colab.research.google.com/notebooks/data_table.ipynb>data table notebook</a>'\n",
              "            + ' to learn more about interactive tables.';\n",
              "          element.innerHTML = '';\n",
              "          dataTable['output_type'] = 'display_data';\n",
              "          await google.colab.output.renderOutput(dataTable, element);\n",
              "          const docLink = document.createElement('div');\n",
              "          docLink.innerHTML = docLinkHtml;\n",
              "          element.appendChild(docLink);\n",
              "        }\n",
              "      </script>\n",
              "    </div>\n",
              "  </div>\n",
              "  "
            ],
            "text/plain": [
              "   PassengerId  Survived  Pclass  \\\n",
              "0            1         0       3   \n",
              "1            2         1       1   \n",
              "\n",
              "                                                Name     Sex   Age  SibSp  \\\n",
              "0                            Braund, Mr. Owen Harris    male  22.0      1   \n",
              "1  Cumings, Mrs. John Bradley (Florence Briggs Th...  female  38.0      1   \n",
              "\n",
              "   Parch     Ticket     Fare Cabin Embarked Initial  Age_band  \n",
              "0      0  A/5 21171   7.2500   NaN        S      Mr         1  \n",
              "1      0   PC 17599  71.2833   C85        C     Mrs         2  "
            ]
          },
          "metadata": {},
          "execution_count": 46
        }
      ]
    },
    {
      "cell_type": "code",
      "source": [
        "data['Age_band'].value_counts().to_frame().style.background_gradient(cmap='summer')"
      ],
      "metadata": {
        "colab": {
          "base_uri": "https://localhost:8080/",
          "height": 0
        },
        "id": "htoffk_1rXiG",
        "outputId": "74463149-379a-4501-c368-a88885dca17f"
      },
      "execution_count": 53,
      "outputs": [
        {
          "output_type": "execute_result",
          "data": {
            "text/html": [
              "<style type=\"text/css\">\n",
              "#T_465c1_row0_col0 {\n",
              "  background-color: #ffff66;\n",
              "  color: #000000;\n",
              "}\n",
              "#T_465c1_row1_col0 {\n",
              "  background-color: #d8ec66;\n",
              "  color: #000000;\n",
              "}\n",
              "#T_465c1_row2_col0 {\n",
              "  background-color: #40a066;\n",
              "  color: #f1f1f1;\n",
              "}\n",
              "#T_465c1_row3_col0 {\n",
              "  background-color: #289366;\n",
              "  color: #f1f1f1;\n",
              "}\n",
              "#T_465c1_row4_col0 {\n",
              "  background-color: #008066;\n",
              "  color: #f1f1f1;\n",
              "}\n",
              "</style>\n",
              "<table id=\"T_465c1_\" class=\"dataframe\">\n",
              "  <thead>\n",
              "    <tr>\n",
              "      <th class=\"blank level0\" >&nbsp;</th>\n",
              "      <th class=\"col_heading level0 col0\" >Age_band</th>\n",
              "    </tr>\n",
              "  </thead>\n",
              "  <tbody>\n",
              "    <tr>\n",
              "      <th id=\"T_465c1_level0_row0\" class=\"row_heading level0 row0\" >1</th>\n",
              "      <td id=\"T_465c1_row0_col0\" class=\"data row0 col0\" >382</td>\n",
              "    </tr>\n",
              "    <tr>\n",
              "      <th id=\"T_465c1_level0_row1\" class=\"row_heading level0 row1\" >2</th>\n",
              "      <td id=\"T_465c1_row1_col0\" class=\"data row1 col0\" >325</td>\n",
              "    </tr>\n",
              "    <tr>\n",
              "      <th id=\"T_465c1_level0_row2\" class=\"row_heading level0 row2\" >0</th>\n",
              "      <td id=\"T_465c1_row2_col0\" class=\"data row2 col0\" >104</td>\n",
              "    </tr>\n",
              "    <tr>\n",
              "      <th id=\"T_465c1_level0_row3\" class=\"row_heading level0 row3\" >3</th>\n",
              "      <td id=\"T_465c1_row3_col0\" class=\"data row3 col0\" >69</td>\n",
              "    </tr>\n",
              "    <tr>\n",
              "      <th id=\"T_465c1_level0_row4\" class=\"row_heading level0 row4\" >4</th>\n",
              "      <td id=\"T_465c1_row4_col0\" class=\"data row4 col0\" >11</td>\n",
              "    </tr>\n",
              "  </tbody>\n",
              "</table>\n"
            ],
            "text/plain": [
              "<pandas.io.formats.style.Styler at 0x7f8dcd140190>"
            ]
          },
          "metadata": {},
          "execution_count": 53
        }
      ]
    },
    {
      "cell_type": "code",
      "source": [
        "sns.factorplot('Age_band','Survived', data=data, col='Pclass')\n",
        "plt.show()"
      ],
      "metadata": {
        "id": "ib7rWa_RsqFR",
        "colab": {
          "base_uri": "https://localhost:8080/",
          "height": 0
        },
        "outputId": "ca766542-8958-4810-ddd8-cccb9858ffcf"
      },
      "execution_count": 55,
      "outputs": [
        {
          "output_type": "display_data",
          "data": {
            "image/png": "[encoded data removed]",
            "text/plain": [
              "<Figure size 1080x360 with 3 Axes>"
            ]
          },
          "metadata": {
            "needs_background": "light"
          }
        }
      ]
    },
    {
      "cell_type": "markdown",
      "source": [
        "Pclass보다 Age가 생존여부에 더 많은 영향을 끼치는 것을 볼 수 있다."
      ],
      "metadata": {
        "id": "kcNyFWIkte1u"
      }
    },
    {
      "cell_type": "markdown",
      "source": [
        "## Family Size와 혼자탑승 여부\n",
        "SibSp와 Parch 특징의 합계값이 생존여부와 관계있는지 확인해보자"
      ],
      "metadata": {
        "id": "L0dUtetJttyX"
      }
    },
    {
      "cell_type": "code",
      "source": [
        "data['Family_Size'] = 0\n",
        "data['Family_Size'] = data['Parch'] + data['SibSp']\n",
        "\n",
        "data['Alone'] = 0\n",
        "data.loc[data.Family_Size == 0, 'Alone'] = 1\n",
        "\n",
        "f,ax = plt.subplots(1,2,figsize = (18,6))\n",
        "sns.pointplot('Family_Size', 'Survived', data = data, ax=ax[0])\n",
        "ax[0].set_title('Family_Size vs Survived')\n",
        "\n",
        "sns.pointplot('Alone', 'Survived', data=data, ax = ax[1])\n",
        "ax[1].set_title('Alone vs Survived')\n",
        "\n",
        "plt.show()"
      ],
      "metadata": {
        "colab": {
          "base_uri": "https://localhost:8080/",
          "height": 0
        },
        "id": "vMBsMdgPuQjv",
        "outputId": "0a658b3f-30b5-4555-da2d-d612f462db55"
      },
      "execution_count": 59,
      "outputs": [
        {
          "output_type": "display_data",
          "data": {
            "image/png": "[encoded data removed]",
            "text/plain": [
              "<Figure size 1296x432 with 2 Axes>"
            ]
          },
          "metadata": {
            "needs_background": "light"
          }
        }
      ]
    },
    {
      "cell_type": "markdown",
      "source": [
        "혼자이거나 Family_Size가 4이상이면 생존확률이 떨어진 것을 볼 수 있음"
      ],
      "metadata": {
        "id": "FShH6rHAwIkB"
      }
    },
    {
      "cell_type": "code",
      "source": [
        "sns.factorplot('Alone', 'Survived', data=data, hue='Sex', col='Pclass')\n",
        "plt.show()"
      ],
      "metadata": {
        "colab": {
          "base_uri": "https://localhost:8080/",
          "height": 0
        },
        "id": "NHDYTMFi6b4A",
        "outputId": "6226518c-99d0-4985-829e-2a99a5c75a04"
      },
      "execution_count": 60,
      "outputs": [
        {
          "output_type": "display_data",
          "data": {
            "image/png": "[encoded data removed]",
            "text/plain": [
              "<Figure size 1150.5x360 with 3 Axes>"
            ]
          },
          "metadata": {
            "needs_background": "light"
          }
        }
      ]
    },
    {
      "cell_type": "markdown",
      "source": [
        "3rd class의 가족이 있는 여성을 제외하고, Sex와 Pclass보다 혼자 여부가 더 영향이 크다는 것을 알 수 있다."
      ],
      "metadata": {
        "id": "4tq63Qdo6j1l"
      }
    },
    {
      "cell_type": "markdown",
      "source": [
        "## Fare_Range\n",
        "Fare또한 continous 특징이기에 ordinal 값으로 변환할 필요가 있다."
      ],
      "metadata": {
        "id": "bgeXyH1f8xRk"
      }
    },
    {
      "cell_type": "markdown",
      "source": [
        "### binning \n",
        "\n",
        "**pandas.qcut**\n",
        " \n",
        "bins값만 넘겨주면 알아서 split해준다."
      ],
      "metadata": {
        "id": "JnQ_itGW9UY1"
      }
    },
    {
      "cell_type": "code",
      "source": [
        "data['Fare_Range'] = pd.qcut(data['Fare'],4)\n",
        "data.groupby(['Fare_Range'])['Survived'].mean().to_frame().style.background_gradient(cmap='summer_r')"
      ],
      "metadata": {
        "id": "fvdX15h69Yo2",
        "colab": {
          "base_uri": "https://localhost:8080/",
          "height": 0
        },
        "outputId": "0837ec43-1f64-47ef-8850-93afe87ca537"
      },
      "execution_count": 65,
      "outputs": [
        {
          "output_type": "execute_result",
          "data": {
            "text/html": [
              "<style type=\"text/css\">\n",
              "#T_03c83_row0_col0 {\n",
              "  background-color: #ffff66;\n",
              "  color: #000000;\n",
              "}\n",
              "#T_03c83_row1_col0 {\n",
              "  background-color: #b9dc66;\n",
              "  color: #000000;\n",
              "}\n",
              "#T_03c83_row2_col0 {\n",
              "  background-color: #54aa66;\n",
              "  color: #f1f1f1;\n",
              "}\n",
              "#T_03c83_row3_col0 {\n",
              "  background-color: #008066;\n",
              "  color: #f1f1f1;\n",
              "}\n",
              "</style>\n",
              "<table id=\"T_03c83_\" class=\"dataframe\">\n",
              "  <thead>\n",
              "    <tr>\n",
              "      <th class=\"blank level0\" >&nbsp;</th>\n",
              "      <th class=\"col_heading level0 col0\" >Survived</th>\n",
              "    </tr>\n",
              "    <tr>\n",
              "      <th class=\"index_name level0\" >Fare_Range</th>\n",
              "      <th class=\"blank col0\" >&nbsp;</th>\n",
              "    </tr>\n",
              "  </thead>\n",
              "  <tbody>\n",
              "    <tr>\n",
              "      <th id=\"T_03c83_level0_row0\" class=\"row_heading level0 row0\" >(-0.001, 7.91]</th>\n",
              "      <td id=\"T_03c83_row0_col0\" class=\"data row0 col0\" >0.197309</td>\n",
              "    </tr>\n",
              "    <tr>\n",
              "      <th id=\"T_03c83_level0_row1\" class=\"row_heading level0 row1\" >(7.91, 14.454]</th>\n",
              "      <td id=\"T_03c83_row1_col0\" class=\"data row1 col0\" >0.303571</td>\n",
              "    </tr>\n",
              "    <tr>\n",
              "      <th id=\"T_03c83_level0_row2\" class=\"row_heading level0 row2\" >(14.454, 31.0]</th>\n",
              "      <td id=\"T_03c83_row2_col0\" class=\"data row2 col0\" >0.454955</td>\n",
              "    </tr>\n",
              "    <tr>\n",
              "      <th id=\"T_03c83_level0_row3\" class=\"row_heading level0 row3\" >(31.0, 512.329]</th>\n",
              "      <td id=\"T_03c83_row3_col0\" class=\"data row3 col0\" >0.581081</td>\n",
              "    </tr>\n",
              "  </tbody>\n",
              "</table>\n"
            ],
            "text/plain": [
              "<pandas.io.formats.style.Styler at 0x7f8dccf43b10>"
            ]
          },
          "metadata": {},
          "execution_count": 65
        }
      ]
    },
    {
      "cell_type": "markdown",
      "source": [
        "운임료가 올라가면 생존확률도 올라감\n",
        "\n",
        "이제, Age에서 한 것 처럼 Fare_Range도 binning 하자"
      ],
      "metadata": {
        "id": "dCtq_xwR90z_"
      }
    },
    {
      "cell_type": "code",
      "source": [
        "data['Fare_cat'] = 0\n",
        "data.loc[data['Fare'] > 0, 'Fare_cat'] = 0\n",
        "data.loc[data['Fare'] > 7.91, 'Fare_cat'] = 1\n",
        "data.loc[data['Fare'] > 14.454, 'Fare_cat'] = 2\n",
        "data.loc[data['Fare'] > 31, 'Fare_cat'] = 3"
      ],
      "metadata": {
        "id": "B0sDWORvBQaA"
      },
      "execution_count": 66,
      "outputs": []
    },
    {
      "cell_type": "code",
      "source": [
        "sns.factorplot('Fare_cat', 'Survived', data=data, hue='Sex')\n",
        "plt.show()"
      ],
      "metadata": {
        "colab": {
          "base_uri": "https://localhost:8080/",
          "height": 0
        },
        "id": "s9xJXUgGBiow",
        "outputId": "95bf18d0-5ea0-4891-ce84-6a7cdc958d26"
      },
      "execution_count": 67,
      "outputs": [
        {
          "output_type": "display_data",
          "data": {
            "image/png": "[encoded data removed]",
            "text/plain": [
              "<Figure size 430.5x360 with 1 Axes>"
            ]
          },
          "metadata": {
            "needs_background": "light"
          }
        }
      ]
    },
    {
      "cell_type": "markdown",
      "source": [
        "Fare_cat이 올라가면 생존확률도 올라가는데, Sex값과 함께 중요한 값이 될 것 같다"
      ],
      "metadata": {
        "id": "_QBHxsncBpzy"
      }
    },
    {
      "cell_type": "markdown",
      "source": [
        "## String -> Numeric 범주형 특징 변환하기\n",
        "\n",
        "이제 Sex, Embarked 등..을 숫자형 값으로 변환하자"
      ],
      "metadata": {
        "id": "kBLo0Wq8B6Fw"
      }
    },
    {
      "cell_type": "code",
      "source": [
        "data['Sex'].replace(['male','female'],[0,1],inplace=True)\n",
        "data['Embarked'].replace(['S','C','Q'],[0,1,2], inplace=True)\n",
        "data['Initial'].replace(['Mr','Mrs','Miss','Master','Other'],[0,1,2,3,4],inplace=True)"
      ],
      "metadata": {
        "id": "y_YT_GwACjSd"
      },
      "execution_count": 70,
      "outputs": []
    },
    {
      "cell_type": "markdown",
      "source": [
        "## 필요없는 특징 지우기\n",
        "\n",
        "- Name : 범주형 값으로 변환할 수 없음\n",
        "- Age : Age_band 값으로 변환\n",
        "- Ticket : 범주형 값으로 변환할 수 없음\n",
        "- Fare : Fare_cat 으로 변환\n",
        "- Cabin : 결측치가 많고, 두 개 이상의 cabins값들이 있어 쓸모없음\n",
        "- Fare_Range : Fare_cat 으로 변환\n",
        "- PassengerId : 범주형 값으로 변환할 수 없음"
      ],
      "metadata": {
        "id": "HL4DT1nKC71h"
      }
    },
    {
      "cell_type": "code",
      "source": [
        "data.drop(['Name','Age','Ticket','Fare','Cabin','Fare_Range','PassengerId'],axis=1,inplace=True)\n",
        "sns.heatmap(data.corr(), cmap='RdYlGn', linewidths=0.2, annot=True, annot_kws={'size':20})\n",
        "fig = plt.gcf()\n",
        "fig.set_size_inches(18,15)\n",
        "plt.xticks(fontsize=14)\n",
        "plt.yticks(fontsize=14)\n",
        "plt.show()"
      ],
      "metadata": {
        "colab": {
          "base_uri": "https://localhost:8080/",
          "height": 0
        },
        "id": "PXOzdRagDl_M",
        "outputId": "ba1a34ce-56bc-4da2-a2df-25ce7a6a6672"
      },
      "execution_count": 72,
      "outputs": [
        {
          "output_type": "error",
          "ename": "KeyError",
          "evalue": "ignored",
          "traceback": [
            "\u001b[0;31m---------------------------------------------------------------------------\u001b[0m",
            "\u001b[0;31mKeyError\u001b[0m                                  Traceback (most recent call last)",
            "\u001b[0;32m<ipython-input-72-d5824b1de028>\u001b[0m in \u001b[0;36m<module>\u001b[0;34m()\u001b[0m\n\u001b[0;32m----> 1\u001b[0;31m \u001b[0mdata\u001b[0m\u001b[0;34m.\u001b[0m\u001b[0mdrop\u001b[0m\u001b[0;34m(\u001b[0m\u001b[0;34m[\u001b[0m\u001b[0;34m'Name'\u001b[0m\u001b[0;34m,\u001b[0m\u001b[0;34m'Age'\u001b[0m\u001b[0;34m,\u001b[0m\u001b[0;34m'Ticket'\u001b[0m\u001b[0;34m,\u001b[0m\u001b[0;34m'Fare'\u001b[0m\u001b[0;34m,\u001b[0m\u001b[0;34m'Cabin'\u001b[0m\u001b[0;34m,\u001b[0m\u001b[0;34m'Fare_Range'\u001b[0m\u001b[0;34m,\u001b[0m\u001b[0;34m'PassengerId'\u001b[0m\u001b[0;34m]\u001b[0m\u001b[0;34m,\u001b[0m\u001b[0maxis\u001b[0m\u001b[0;34m=\u001b[0m\u001b[0;36m1\u001b[0m\u001b[0;34m,\u001b[0m\u001b[0minplace\u001b[0m\u001b[0;34m=\u001b[0m\u001b[0;32mTrue\u001b[0m\u001b[0;34m)\u001b[0m\u001b[0;34m\u001b[0m\u001b[0;34m\u001b[0m\u001b[0m\n\u001b[0m\u001b[1;32m      2\u001b[0m \u001b[0msns\u001b[0m\u001b[0;34m.\u001b[0m\u001b[0mheatmap\u001b[0m\u001b[0;34m(\u001b[0m\u001b[0mdata\u001b[0m\u001b[0;34m.\u001b[0m\u001b[0mcorr\u001b[0m\u001b[0;34m(\u001b[0m\u001b[0;34m)\u001b[0m\u001b[0;34m,\u001b[0m \u001b[0mcmap\u001b[0m\u001b[0;34m=\u001b[0m\u001b[0;34m'RdYlGn'\u001b[0m\u001b[0;34m,\u001b[0m \u001b[0mlinewidths\u001b[0m\u001b[0;34m=\u001b[0m\u001b[0;36m0.2\u001b[0m\u001b[0;34m,\u001b[0m \u001b[0mannot\u001b[0m\u001b[0;34m=\u001b[0m\u001b[0;32mTrue\u001b[0m\u001b[0;34m,\u001b[0m \u001b[0mannot_kws\u001b[0m\u001b[0;34m=\u001b[0m\u001b[0;34m{\u001b[0m\u001b[0;34m'size'\u001b[0m\u001b[0;34m:\u001b[0m\u001b[0;36m20\u001b[0m\u001b[0;34m}\u001b[0m\u001b[0;34m)\u001b[0m\u001b[0;34m\u001b[0m\u001b[0;34m\u001b[0m\u001b[0m\n\u001b[1;32m      3\u001b[0m \u001b[0mfig\u001b[0m \u001b[0;34m=\u001b[0m \u001b[0mplt\u001b[0m\u001b[0;34m.\u001b[0m\u001b[0mgcf\u001b[0m\u001b[0;34m(\u001b[0m\u001b[0;34m)\u001b[0m\u001b[0;34m\u001b[0m\u001b[0;34m\u001b[0m\u001b[0m\n\u001b[1;32m      4\u001b[0m \u001b[0mfig\u001b[0m\u001b[0;34m.\u001b[0m\u001b[0mset_size_inches\u001b[0m\u001b[0;34m(\u001b[0m\u001b[0;36m18\u001b[0m\u001b[0;34m,\u001b[0m\u001b[0;36m15\u001b[0m\u001b[0;34m)\u001b[0m\u001b[0;34m\u001b[0m\u001b[0;34m\u001b[0m\u001b[0m\n\u001b[1;32m      5\u001b[0m \u001b[0mplt\u001b[0m\u001b[0;34m.\u001b[0m\u001b[0mxticks\u001b[0m\u001b[0;34m(\u001b[0m\u001b[0mfontsize\u001b[0m\u001b[0;34m=\u001b[0m\u001b[0;36m14\u001b[0m\u001b[0;34m)\u001b[0m\u001b[0;34m\u001b[0m\u001b[0;34m\u001b[0m\u001b[0m\n",
            "\u001b[0;32m/usr/local/lib/python3.7/dist-packages/pandas/util/_decorators.py\u001b[0m in \u001b[0;36mwrapper\u001b[0;34m(*args, **kwargs)\u001b[0m\n\u001b[1;32m    309\u001b[0m                     \u001b[0mstacklevel\u001b[0m\u001b[0;34m=\u001b[0m\u001b[0mstacklevel\u001b[0m\u001b[0;34m,\u001b[0m\u001b[0;34m\u001b[0m\u001b[0;34m\u001b[0m\u001b[0m\n\u001b[1;32m    310\u001b[0m                 )\n\u001b[0;32m--> 311\u001b[0;31m             \u001b[0;32mreturn\u001b[0m \u001b[0mfunc\u001b[0m\u001b[0;34m(\u001b[0m\u001b[0;34m*\u001b[0m\u001b[0margs\u001b[0m\u001b[0;34m,\u001b[0m \u001b[0;34m**\u001b[0m\u001b[0mkwargs\u001b[0m\u001b[0;34m)\u001b[0m\u001b[0;34m\u001b[0m\u001b[0;34m\u001b[0m\u001b[0m\n\u001b[0m\u001b[1;32m    312\u001b[0m \u001b[0;34m\u001b[0m\u001b[0m\n\u001b[1;32m    313\u001b[0m         \u001b[0;32mreturn\u001b[0m \u001b[0mwrapper\u001b[0m\u001b[0;34m\u001b[0m\u001b[0;34m\u001b[0m\u001b[0m\n",
            "\u001b[0;32m/usr/local/lib/python3.7/dist-packages/pandas/core/frame.py\u001b[0m in \u001b[0;36mdrop\u001b[0;34m(self, labels, axis, index, columns, level, inplace, errors)\u001b[0m\n\u001b[1;32m   4911\u001b[0m             \u001b[0mlevel\u001b[0m\u001b[0;34m=\u001b[0m\u001b[0mlevel\u001b[0m\u001b[0;34m,\u001b[0m\u001b[0;34m\u001b[0m\u001b[0;34m\u001b[0m\u001b[0m\n\u001b[1;32m   4912\u001b[0m             \u001b[0minplace\u001b[0m\u001b[0;34m=\u001b[0m\u001b[0minplace\u001b[0m\u001b[0;34m,\u001b[0m\u001b[0;34m\u001b[0m\u001b[0;34m\u001b[0m\u001b[0m\n\u001b[0;32m-> 4913\u001b[0;31m             \u001b[0merrors\u001b[0m\u001b[0;34m=\u001b[0m\u001b[0merrors\u001b[0m\u001b[0;34m,\u001b[0m\u001b[0;34m\u001b[0m\u001b[0;34m\u001b[0m\u001b[0m\n\u001b[0m\u001b[1;32m   4914\u001b[0m         )\n\u001b[1;32m   4915\u001b[0m \u001b[0;34m\u001b[0m\u001b[0m\n",
            "\u001b[0;32m/usr/local/lib/python3.7/dist-packages/pandas/core/generic.py\u001b[0m in \u001b[0;36mdrop\u001b[0;34m(self, labels, axis, index, columns, level, inplace, errors)\u001b[0m\n\u001b[1;32m   4148\u001b[0m         \u001b[0;32mfor\u001b[0m \u001b[0maxis\u001b[0m\u001b[0;34m,\u001b[0m \u001b[0mlabels\u001b[0m \u001b[0;32min\u001b[0m \u001b[0maxes\u001b[0m\u001b[0;34m.\u001b[0m\u001b[0mitems\u001b[0m\u001b[0;34m(\u001b[0m\u001b[0;34m)\u001b[0m\u001b[0;34m:\u001b[0m\u001b[0;34m\u001b[0m\u001b[0;34m\u001b[0m\u001b[0m\n\u001b[1;32m   4149\u001b[0m             \u001b[0;32mif\u001b[0m \u001b[0mlabels\u001b[0m \u001b[0;32mis\u001b[0m \u001b[0;32mnot\u001b[0m \u001b[0;32mNone\u001b[0m\u001b[0;34m:\u001b[0m\u001b[0;34m\u001b[0m\u001b[0;34m\u001b[0m\u001b[0m\n\u001b[0;32m-> 4150\u001b[0;31m                 \u001b[0mobj\u001b[0m \u001b[0;34m=\u001b[0m \u001b[0mobj\u001b[0m\u001b[0;34m.\u001b[0m\u001b[0m_drop_axis\u001b[0m\u001b[0;34m(\u001b[0m\u001b[0mlabels\u001b[0m\u001b[0;34m,\u001b[0m \u001b[0maxis\u001b[0m\u001b[0;34m,\u001b[0m \u001b[0mlevel\u001b[0m\u001b[0;34m=\u001b[0m\u001b[0mlevel\u001b[0m\u001b[0;34m,\u001b[0m \u001b[0merrors\u001b[0m\u001b[0;34m=\u001b[0m\u001b[0merrors\u001b[0m\u001b[0;34m)\u001b[0m\u001b[0;34m\u001b[0m\u001b[0;34m\u001b[0m\u001b[0m\n\u001b[0m\u001b[1;32m   4151\u001b[0m \u001b[0;34m\u001b[0m\u001b[0m\n\u001b[1;32m   4152\u001b[0m         \u001b[0;32mif\u001b[0m \u001b[0minplace\u001b[0m\u001b[0;34m:\u001b[0m\u001b[0;34m\u001b[0m\u001b[0;34m\u001b[0m\u001b[0m\n",
            "\u001b[0;32m/usr/local/lib/python3.7/dist-packages/pandas/core/generic.py\u001b[0m in \u001b[0;36m_drop_axis\u001b[0;34m(self, labels, axis, level, errors)\u001b[0m\n\u001b[1;32m   4183\u001b[0m                 \u001b[0mnew_axis\u001b[0m \u001b[0;34m=\u001b[0m \u001b[0maxis\u001b[0m\u001b[0;34m.\u001b[0m\u001b[0mdrop\u001b[0m\u001b[0;34m(\u001b[0m\u001b[0mlabels\u001b[0m\u001b[0;34m,\u001b[0m \u001b[0mlevel\u001b[0m\u001b[0;34m=\u001b[0m\u001b[0mlevel\u001b[0m\u001b[0;34m,\u001b[0m \u001b[0merrors\u001b[0m\u001b[0;34m=\u001b[0m\u001b[0merrors\u001b[0m\u001b[0;34m)\u001b[0m\u001b[0;34m\u001b[0m\u001b[0;34m\u001b[0m\u001b[0m\n\u001b[1;32m   4184\u001b[0m             \u001b[0;32melse\u001b[0m\u001b[0;34m:\u001b[0m\u001b[0;34m\u001b[0m\u001b[0;34m\u001b[0m\u001b[0m\n\u001b[0;32m-> 4185\u001b[0;31m                 \u001b[0mnew_axis\u001b[0m \u001b[0;34m=\u001b[0m \u001b[0maxis\u001b[0m\u001b[0;34m.\u001b[0m\u001b[0mdrop\u001b[0m\u001b[0;34m(\u001b[0m\u001b[0mlabels\u001b[0m\u001b[0;34m,\u001b[0m \u001b[0merrors\u001b[0m\u001b[0;34m=\u001b[0m\u001b[0merrors\u001b[0m\u001b[0;34m)\u001b[0m\u001b[0;34m\u001b[0m\u001b[0;34m\u001b[0m\u001b[0m\n\u001b[0m\u001b[1;32m   4186\u001b[0m             \u001b[0mresult\u001b[0m \u001b[0;34m=\u001b[0m \u001b[0mself\u001b[0m\u001b[0;34m.\u001b[0m\u001b[0mreindex\u001b[0m\u001b[0;34m(\u001b[0m\u001b[0;34m**\u001b[0m\u001b[0;34m{\u001b[0m\u001b[0maxis_name\u001b[0m\u001b[0;34m:\u001b[0m \u001b[0mnew_axis\u001b[0m\u001b[0;34m}\u001b[0m\u001b[0;34m)\u001b[0m\u001b[0;34m\u001b[0m\u001b[0;34m\u001b[0m\u001b[0m\n\u001b[1;32m   4187\u001b[0m \u001b[0;34m\u001b[0m\u001b[0m\n",
            "\u001b[0;32m/usr/local/lib/python3.7/dist-packages/pandas/core/indexes/base.py\u001b[0m in \u001b[0;36mdrop\u001b[0;34m(self, labels, errors)\u001b[0m\n\u001b[1;32m   6015\u001b[0m         \u001b[0;32mif\u001b[0m \u001b[0mmask\u001b[0m\u001b[0;34m.\u001b[0m\u001b[0many\u001b[0m\u001b[0;34m(\u001b[0m\u001b[0;34m)\u001b[0m\u001b[0;34m:\u001b[0m\u001b[0;34m\u001b[0m\u001b[0;34m\u001b[0m\u001b[0m\n\u001b[1;32m   6016\u001b[0m             \u001b[0;32mif\u001b[0m \u001b[0merrors\u001b[0m \u001b[0;34m!=\u001b[0m \u001b[0;34m\"ignore\"\u001b[0m\u001b[0;34m:\u001b[0m\u001b[0;34m\u001b[0m\u001b[0;34m\u001b[0m\u001b[0m\n\u001b[0;32m-> 6017\u001b[0;31m                 \u001b[0;32mraise\u001b[0m \u001b[0mKeyError\u001b[0m\u001b[0;34m(\u001b[0m\u001b[0;34mf\"{labels[mask]} not found in axis\"\u001b[0m\u001b[0;34m)\u001b[0m\u001b[0;34m\u001b[0m\u001b[0;34m\u001b[0m\u001b[0m\n\u001b[0m\u001b[1;32m   6018\u001b[0m             \u001b[0mindexer\u001b[0m \u001b[0;34m=\u001b[0m \u001b[0mindexer\u001b[0m\u001b[0;34m[\u001b[0m\u001b[0;34m~\u001b[0m\u001b[0mmask\u001b[0m\u001b[0;34m]\u001b[0m\u001b[0;34m\u001b[0m\u001b[0;34m\u001b[0m\u001b[0m\n\u001b[1;32m   6019\u001b[0m         \u001b[0;32mreturn\u001b[0m \u001b[0mself\u001b[0m\u001b[0;34m.\u001b[0m\u001b[0mdelete\u001b[0m\u001b[0;34m(\u001b[0m\u001b[0mindexer\u001b[0m\u001b[0;34m)\u001b[0m\u001b[0;34m\u001b[0m\u001b[0;34m\u001b[0m\u001b[0m\n",
            "\u001b[0;31mKeyError\u001b[0m: \"['Name' 'Age' 'Ticket' 'Fare' 'Cabin' 'Fare_Range' 'PassengerId'] not found in axis\""
          ]
        }
      ]
    },
    {
      "cell_type": "markdown",
      "source": [
        "절댓값이 큰 몇몇 상관관계를 확인할 수 있다"
      ],
      "metadata": {
        "id": "Be2l3kWOEV0E"
      }
    },
    {
      "cell_type": "markdown",
      "source": [
        "# (3) 예측 모델링\n",
        "\n",
        "EDA파트, 데이터 전처리 파트에서 진행한 걸로는 생존 여부를 정확히 예측할 수 없다.\n",
        "분류 알고리즘을 이용하자"
      ],
      "metadata": {
        "id": "aGV1sQdyFrUy"
      }
    },
    {
      "cell_type": "code",
      "source": [
        "from sklearn.linear_model import LogisticRegression\n",
        "from sklearn import svm\n",
        "from sklearn.ensemble import RandomForestClassifier\n",
        "from sklearn.neighbors import KNeighborsClassifier\n",
        "from sklearn.naive_bayes import GaussianNB \n",
        "from sklearn.tree import DecisionTreeClassifier \n",
        "#\n",
        "from sklearn.model_selection import train_test_split \n",
        "from sklearn import metrics \n",
        "from sklearn.metrics import confusion_matrix "
      ],
      "metadata": {
        "id": "FZGzZe21GIDS"
      },
      "execution_count": 73,
      "outputs": []
    },
    {
      "cell_type": "code",
      "source": [
        "train,test = train_test_split(data, test_size=0.3, random_state = 0, stratify=data['Survived'])\n",
        "train_X = train[train.columns[1:]]\n",
        "train_Y = train[train.columns[:1]]\n",
        "test_X=test[test.columns[1:]]\n",
        "test_Y=test[test.columns[:1]]\n",
        "X=data[data.columns[1:]]\n",
        "Y=data['Survived']"
      ],
      "metadata": {
        "id": "vaPwqxpUGkhU"
      },
      "execution_count": 74,
      "outputs": []
    },
    {
      "cell_type": "markdown",
      "source": [
        "## rbf-SVM"
      ],
      "metadata": {
        "id": "cuQEWs6xG2zH"
      }
    },
    {
      "cell_type": "code",
      "source": [
        "model=svm.SVC(kernel='rbf',C=1,gamma=0.1)\n",
        "model.fit(train_X,train_Y)\n",
        "prediction1=model.predict(test_X)\n",
        "print('Accuracy for rbf SVM is ',metrics.accuracy_score(prediction1,test_Y))"
      ],
      "metadata": {
        "id": "IXer7NxoHJX9"
      },
      "execution_count": null,
      "outputs": []
    },
    {
      "cell_type": "markdown",
      "source": [
        "## linear-SVM"
      ],
      "metadata": {
        "id": "J0d-nuQtG9fW"
      }
    },
    {
      "cell_type": "code",
      "source": [
        "model=svm.SVC(kernel='linear',C=0.1,gamma=0.1)\n",
        "model.fit(train_X,train_Y)\n",
        "prediction2=model.predict(test_X)\n",
        "print('Accuracy for linear SVM is',metrics.accuracy_score(prediction2,test_Y))"
      ],
      "metadata": {
        "id": "77gKaio3HII3"
      },
      "execution_count": null,
      "outputs": []
    },
    {
      "cell_type": "markdown",
      "source": [
        "## 로지스틱 회귀"
      ],
      "metadata": {
        "id": "ns2q18F6G--w"
      }
    },
    {
      "cell_type": "code",
      "source": [
        "model=svm.SVC(kernel='linear',C=0.1,gamma=0.1)\n",
        "model.fit(train_X,train_Y)\n",
        "prediction2=model.predict(test_X)\n",
        "print('Accuracy for linear SVM is',metrics.accuracy_score(prediction2,test_Y))"
      ],
      "metadata": {
        "colab": {
          "base_uri": "https://localhost:8080/"
        },
        "id": "NkMBP9AiHUWz",
        "outputId": "ac8bee27-aa4b-45ab-9735-a6b5836cdaaa"
      },
      "execution_count": 76,
      "outputs": [
        {
          "output_type": "stream",
          "name": "stdout",
          "text": [
            "Accuracy for linear SVM is 0.8171641791044776\n"
          ]
        }
      ]
    },
    {
      "cell_type": "markdown",
      "source": [
        "## 결정트리"
      ],
      "metadata": {
        "id": "lXkrc2gVG_PN"
      }
    },
    {
      "cell_type": "code",
      "source": [
        "model=DecisionTreeClassifier()\n",
        "model.fit(train_X,train_Y)\n",
        "prediction4=model.predict(test_X)\n",
        "print('The accuracy of the Decision Tree is',metrics.accuracy_score(prediction4,test_Y))"
      ],
      "metadata": {
        "colab": {
          "base_uri": "https://localhost:8080/"
        },
        "id": "k772WTPmHnr8",
        "outputId": "b9d2150d-42b8-40bb-9f6c-5e09b1439278"
      },
      "execution_count": 77,
      "outputs": [
        {
          "output_type": "stream",
          "name": "stdout",
          "text": [
            "The accuracy of the Decision Tree is 0.8059701492537313\n"
          ]
        }
      ]
    },
    {
      "cell_type": "markdown",
      "source": [
        "## KNN"
      ],
      "metadata": {
        "id": "qYwDtnjWG_Vn"
      }
    },
    {
      "cell_type": "code",
      "source": [
        "model=KNeighborsClassifier() \n",
        "model.fit(train_X,train_Y)\n",
        "prediction5=model.predict(test_X)\n",
        "print('The accuracy of the KNN is',metrics.accuracy_score(prediction5,test_Y))"
      ],
      "metadata": {
        "colab": {
          "base_uri": "https://localhost:8080/"
        },
        "id": "dP6nY6SEHrwe",
        "outputId": "055cab87-dc90-4ebd-c8d9-5d73a19b5749"
      },
      "execution_count": 78,
      "outputs": [
        {
          "output_type": "stream",
          "name": "stdout",
          "text": [
            "The accuracy of the KNN is 0.8134328358208955\n"
          ]
        }
      ]
    },
    {
      "cell_type": "markdown",
      "source": [
        "KNN의 정확도는 몇 개의 n 값을 설정해주냐에 따라 달라진다. (default = 5)"
      ],
      "metadata": {
        "id": "EuFC9LSeG_aJ"
      }
    },
    {
      "cell_type": "code",
      "source": [
        "temp_data_index = list(range(1,11))\n",
        "temp_data = pd.Series()\n",
        "x = list(range(1,11))\n",
        "for i in list(range(1,11)) :\n",
        "  model = KNeighborsClassifier(n_neighbors= i)\n",
        "  model.fit(train_X, train_Y)\n",
        "  prediction=model.predict(test_X)\n",
        "  temp_data=temp_data.append(pd.Series(metrics.accuracy_score(prediction, test_Y)))\n",
        "plt.plot(temp_data_index, temp_data)\n",
        "plt.xticks(x)\n",
        "fig=plt.gcf()\n",
        "fig.set_size_inches(12,6)\n",
        "plt.show()\n",
        "print('최대 값은', temp_data.values.max())"
      ],
      "metadata": {
        "colab": {
          "base_uri": "https://localhost:8080/",
          "height": 0
        },
        "id": "OS4thu2XID7W",
        "outputId": "1c9e0e17-c574-4281-98fb-0ec7936b2a26"
      },
      "execution_count": 82,
      "outputs": [
        {
          "output_type": "display_data",
          "data": {
            "image/png": "[encoded data removed]",
            "text/plain": [
              "<Figure size 864x432 with 1 Axes>"
            ]
          },
          "metadata": {
            "needs_background": "light"
          }
        },
        {
          "output_type": "stream",
          "name": "stdout",
          "text": [
            "최대 값은 0.8470149253731343\n"
          ]
        }
      ]
    },
    {
      "cell_type": "markdown",
      "source": [
        "## 가우시안 Naive Bayes"
      ],
      "metadata": {
        "id": "_meGAzn2JaWm"
      }
    },
    {
      "cell_type": "code",
      "source": [
        "model=GaussianNB()\n",
        "model.fit(train_X,train_Y)\n",
        "prediction6=model.predict(test_X)\n",
        "print('The accuracy of the NaiveBayes is',metrics.accuracy_score(prediction6,test_Y))"
      ],
      "metadata": {
        "id": "3ieBFP-yJjtv"
      },
      "execution_count": null,
      "outputs": []
    },
    {
      "cell_type": "markdown",
      "source": [
        "## 랜덤포레스트"
      ],
      "metadata": {
        "id": "PzeScee1G_da"
      }
    },
    {
      "cell_type": "code",
      "source": [
        "model=RandomForestClassifier(n_estimators=100)\n",
        "model.fit(train_X,train_Y)\n",
        "prediction7=model.predict(test_X)\n",
        "print('The accuracy of the Random Forests is',metrics.accuracy_score(prediction7,test_Y))"
      ],
      "metadata": {
        "colab": {
          "base_uri": "https://localhost:8080/"
        },
        "id": "SlVGZs1NG_gt",
        "outputId": "c13004c5-d897-4b06-8dd5-c3eb901ccf96"
      },
      "execution_count": 83,
      "outputs": [
        {
          "output_type": "stream",
          "name": "stdout",
          "text": [
            "The accuracy of the Random Forests is 0.8134328358208955\n"
          ]
        }
      ]
    },
    {
      "cell_type": "markdown",
      "source": [
        "분류기가 90퍼를 달성했을 때, 새로운 훈련데이터와 테스트 데이터 또한 90%정확도를 기록할리가 없다. -> **model variance**\n"
      ],
      "metadata": {
        "id": "7B0-D-zyJo4X"
      }
    },
    {
      "cell_type": "markdown",
      "source": [
        "# (4) Cross Validation\n",
        "model variance문제를 해결하고 일반화된 모델을 얻기위해 사용\n",
        "\n",
        "여기서는 k-fold CV방법을 이용한다."
      ],
      "metadata": {
        "id": "wkpDeFjpP_SM"
      }
    },
    {
      "cell_type": "code",
      "source": [
        "from sklearn.model_selection import KFold,cross_val_score, cross_val_score, cross_val_predict\n",
        "\n",
        "kfold = KFold(n_splits = 10, random_state = 22, shuffle=True)\n",
        "accuracy = []\n",
        "std = []\n",
        "xyz = []\n",
        "\n",
        "classifiers=['Linear Svm','Radial Svm','Logistic Regression','KNN','Decision Tree','Naive Bayes','Random Forest']\n",
        "models=[svm.SVC(kernel='linear'),svm.SVC(kernel='rbf'),LogisticRegression(),KNeighborsClassifier(n_neighbors=9),DecisionTreeClassifier(),GaussianNB(),RandomForestClassifier(n_estimators=100)]\n",
        "\n",
        "for i in models :\n",
        "  model = i\n",
        "  cv_result = cross_val_score(model,X,Y, cv = kfold, scoring = \"accuracy\")\n",
        "  xyz.append(cv_result.mean())\n",
        "  std.append(cv_result.std())\n",
        "  accuracy.append(cv_result)\n",
        "new_models_dataframe2 = pd.DataFrame({'CV Mean': xyz, 'Std':std}, index=classifiers)\n",
        "new_models_dataframe2"
      ],
      "metadata": {
        "colab": {
          "base_uri": "https://localhost:8080/",
          "height": 269
        },
        "id": "BesLSwGhQ8iq",
        "outputId": "a1f8ef5f-3203-4d64-c1a7-526b66e380fd"
      },
      "execution_count": 93,
      "outputs": [
        {
          "output_type": "execute_result",
          "data": {
            "text/html": [
              "\n",
              "  <div id=\"df-6718d696-de20-4dca-af3b-8f223331ccec\">\n",
              "    <div class=\"colab-df-container\">\n",
              "      <div>\n",
              "<style scoped>\n",
              "    .dataframe tbody tr th:only-of-type {\n",
              "        vertical-align: middle;\n",
              "    }\n",
              "\n",
              "    .dataframe tbody tr th {\n",
              "        vertical-align: top;\n",
              "    }\n",
              "\n",
              "    .dataframe thead th {\n",
              "        text-align: right;\n",
              "    }\n",
              "</style>\n",
              "<table border=\"1\" class=\"dataframe\">\n",
              "  <thead>\n",
              "    <tr style=\"text-align: right;\">\n",
              "      <th></th>\n",
              "      <th>CV Mean</th>\n",
              "      <th>Std</th>\n",
              "    </tr>\n",
              "  </thead>\n",
              "  <tbody>\n",
              "    <tr>\n",
              "      <th>Linear Svm</th>\n",
              "      <td>0.784607</td>\n",
              "      <td>0.057841</td>\n",
              "    </tr>\n",
              "    <tr>\n",
              "      <th>Radial Svm</th>\n",
              "      <td>0.828377</td>\n",
              "      <td>0.057096</td>\n",
              "    </tr>\n",
              "    <tr>\n",
              "      <th>Logistic Regression</th>\n",
              "      <td>0.799176</td>\n",
              "      <td>0.040154</td>\n",
              "    </tr>\n",
              "    <tr>\n",
              "      <th>KNN</th>\n",
              "      <td>0.808140</td>\n",
              "      <td>0.035630</td>\n",
              "    </tr>\n",
              "    <tr>\n",
              "      <th>Decision Tree</th>\n",
              "      <td>0.802497</td>\n",
              "      <td>0.047588</td>\n",
              "    </tr>\n",
              "    <tr>\n",
              "      <th>Naive Bayes</th>\n",
              "      <td>0.795843</td>\n",
              "      <td>0.054861</td>\n",
              "    </tr>\n",
              "    <tr>\n",
              "      <th>Random Forest</th>\n",
              "      <td>0.811486</td>\n",
              "      <td>0.050776</td>\n",
              "    </tr>\n",
              "  </tbody>\n",
              "</table>\n",
              "</div>\n",
              "      <button class=\"colab-df-convert\" onclick=\"convertToInteractive('df-6718d696-de20-4dca-af3b-8f223331ccec')\"\n",
              "              title=\"Convert this dataframe to an interactive table.\"\n",
              "              style=\"display:none;\">\n",
              "        \n",
              "  <svg xmlns=\"http://www.w3.org/2000/svg\" height=\"24px\"viewBox=\"0 0 24 24\"\n",
              "       width=\"24px\">\n",
              "    <path d=\"M0 0h24v24H0V0z\" fill=\"none\"/>\n",
              "    <path d=\"M18.56 5.44l.94 2.06.94-2.06 2.06-.94-2.06-.94-.94-2.06-.94 2.06-2.06.94zm-11 1L8.5 8.5l.94-2.06 2.06-.94-2.06-.94L8.5 2.5l-.94 2.06-2.06.94zm10 10l.94 2.06.94-2.06 2.06-.94-2.06-.94-.94-2.06-.94 2.06-2.06.94z\"/><path d=\"M17.41 7.96l-1.37-1.37c-.4-.4-.92-.59-1.43-.59-.52 0-1.04.2-1.43.59L10.3 9.45l-7.72 7.72c-.78.78-.78 2.05 0 2.83L4 21.41c.39.39.9.59 1.41.59.51 0 1.02-.2 1.41-.59l7.78-7.78 2.81-2.81c.8-.78.8-2.07 0-2.86zM5.41 20L4 18.59l7.72-7.72 1.47 1.35L5.41 20z\"/>\n",
              "  </svg>\n",
              "      </button>\n",
              "      \n",
              "  <style>\n",
              "    .colab-df-container {\n",
              "      display:flex;\n",
              "      flex-wrap:wrap;\n",
              "      gap: 12px;\n",
              "    }\n",
              "\n",
              "    .colab-df-convert {\n",
              "      background-color: #E8F0FE;\n",
              "      border: none;\n",
              "      border-radius: 50%;\n",
              "      cursor: pointer;\n",
              "      display: none;\n",
              "      fill: #1967D2;\n",
              "      height: 32px;\n",
              "      padding: 0 0 0 0;\n",
              "      width: 32px;\n",
              "    }\n",
              "\n",
              "    .colab-df-convert:hover {\n",
              "      background-color: #E2EBFA;\n",
              "      box-shadow: 0px 1px 2px rgba(60, 64, 67, 0.3), 0px 1px 3px 1px rgba(60, 64, 67, 0.15);\n",
              "      fill: #174EA6;\n",
              "    }\n",
              "\n",
              "    [theme=dark] .colab-df-convert {\n",
              "      background-color: #3B4455;\n",
              "      fill: #D2E3FC;\n",
              "    }\n",
              "\n",
              "    [theme=dark] .colab-df-convert:hover {\n",
              "      background-color: #434B5C;\n",
              "      box-shadow: 0px 1px 3px 1px rgba(0, 0, 0, 0.15);\n",
              "      filter: drop-shadow(0px 1px 2px rgba(0, 0, 0, 0.3));\n",
              "      fill: #FFFFFF;\n",
              "    }\n",
              "  </style>\n",
              "\n",
              "      <script>\n",
              "        const buttonEl =\n",
              "          document.querySelector('#df-6718d696-de20-4dca-af3b-8f223331ccec button.colab-df-convert');\n",
              "        buttonEl.style.display =\n",
              "          google.colab.kernel.accessAllowed ? 'block' : 'none';\n",
              "\n",
              "        async function convertToInteractive(key) {\n",
              "          const element = document.querySelector('#df-6718d696-de20-4dca-af3b-8f223331ccec');\n",
              "          const dataTable =\n",
              "            await google.colab.kernel.invokeFunction('convertToInteractive',\n",
              "                                                     [key], {});\n",
              "          if (!dataTable) return;\n",
              "\n",
              "          const docLinkHtml = 'Like what you see? Visit the ' +\n",
              "            '<a target=\"_blank\" href=https://colab.research.google.com/notebooks/data_table.ipynb>data table notebook</a>'\n",
              "            + ' to learn more about interactive tables.';\n",
              "          element.innerHTML = '';\n",
              "          dataTable['output_type'] = 'display_data';\n",
              "          await google.colab.output.renderOutput(dataTable, element);\n",
              "          const docLink = document.createElement('div');\n",
              "          docLink.innerHTML = docLinkHtml;\n",
              "          element.appendChild(docLink);\n",
              "        }\n",
              "      </script>\n",
              "    </div>\n",
              "  </div>\n",
              "  "
            ],
            "text/plain": [
              "                      CV Mean       Std\n",
              "Linear Svm           0.784607  0.057841\n",
              "Radial Svm           0.828377  0.057096\n",
              "Logistic Regression  0.799176  0.040154\n",
              "KNN                  0.808140  0.035630\n",
              "Decision Tree        0.802497  0.047588\n",
              "Naive Bayes          0.795843  0.054861\n",
              "Random Forest        0.811486  0.050776"
            ]
          },
          "metadata": {},
          "execution_count": 93
        }
      ]
    },
    {
      "cell_type": "code",
      "source": [
        "plt.subplots(figsize=(12,6))\n",
        "box = pd.DataFrame(accuracy, index=[classifiers])\n",
        "box.T.boxplot()"
      ],
      "metadata": {
        "colab": {
          "base_uri": "https://localhost:8080/",
          "height": 390
        },
        "id": "vnV5C2O-TCqB",
        "outputId": "180f1a9f-0bd6-4e5e-8620-30e1e4db082c"
      },
      "execution_count": 95,
      "outputs": [
        {
          "output_type": "execute_result",
          "data": {
            "text/plain": [
              "<matplotlib.axes._subplots.AxesSubplot at 0x7f8dcacb0350>"
            ]
          },
          "metadata": {},
          "execution_count": 95
        },
        {
          "output_type": "display_data",
          "data": {
            "image/png": "[encoded data removed]",
            "text/plain": [
              "<Figure size 864x432 with 1 Axes>"
            ]
          },
          "metadata": {
            "needs_background": "light"
          }
        }
      ]
    },
    {
      "cell_type": "code",
      "source": [
        "new_models_dataframe2['CV Mean'].plot.barh(width=0.8)\n",
        "plt.title('Average CV Mean Accuracy')\n",
        "fig=plt.gcf()\n",
        "fig.set_size_inches(8,5)\n",
        "plt.show()"
      ],
      "metadata": {
        "colab": {
          "base_uri": "https://localhost:8080/",
          "height": 333
        },
        "id": "hCyRQ2MdStLk",
        "outputId": "ceff1492-d822-4268-c230-717a9853f8d2"
      },
      "execution_count": 97,
      "outputs": [
        {
          "output_type": "display_data",
          "data": {
            "image/png": "[encoded data removed]",
            "text/plain": [
              "<Figure size 576x360 with 1 Axes>"
            ]
          },
          "metadata": {
            "needs_background": "light"
          }
        }
      ]
    },
    {
      "cell_type": "markdown",
      "source": [
        "분류 정확도는 때때로 data imbalance에 의해 달라질 수 있음. confusion matrix의 도움으로 요약된 결과를 얻을 수 있다."
      ],
      "metadata": {
        "id": "eTh53vbfTj2N"
      }
    },
    {
      "cell_type": "markdown",
      "source": [
        "### Confusion Matrix\n",
        "분류기에 의해 만들어진 분류가 맞는지 틀린지 확인"
      ],
      "metadata": {
        "id": "IqemX-FYT_eA"
      }
    },
    {
      "cell_type": "code",
      "source": [
        "f,ax=plt.subplots(3,3,figsize=(12,10))\n",
        "y_pred = cross_val_predict(svm.SVC(kernel='rbf'),X,Y,cv=10)\n",
        "sns.heatmap(confusion_matrix(Y,y_pred),ax=ax[0,0],annot=True,fmt='2.0f')\n",
        "ax[0,0].set_title('Matrix for rbf-SVM')\n",
        "y_pred = cross_val_predict(svm.SVC(kernel='linear'),X,Y,cv=10)\n",
        "sns.heatmap(confusion_matrix(Y,y_pred),ax=ax[0,1],annot=True,fmt='2.0f')\n",
        "ax[0,1].set_title('Matrix for Linear-SVM')\n",
        "y_pred = cross_val_predict(KNeighborsClassifier(n_neighbors=9),X,Y,cv=10)\n",
        "sns.heatmap(confusion_matrix(Y,y_pred),ax=ax[0,2],annot=True,fmt='2.0f')\n",
        "ax[0,2].set_title('Matrix for KNN')\n",
        "y_pred = cross_val_predict(RandomForestClassifier(n_estimators=100),X,Y,cv=10)\n",
        "sns.heatmap(confusion_matrix(Y,y_pred),ax=ax[1,0],annot=True,fmt='2.0f')\n",
        "ax[1,0].set_title('Matrix for Random-Forests')\n",
        "y_pred = cross_val_predict(LogisticRegression(),X,Y,cv=10)\n",
        "sns.heatmap(confusion_matrix(Y,y_pred),ax=ax[1,1],annot=True,fmt='2.0f')\n",
        "ax[1,1].set_title('Matrix for Logistic Regression')\n",
        "y_pred = cross_val_predict(DecisionTreeClassifier(),X,Y,cv=10)\n",
        "sns.heatmap(confusion_matrix(Y,y_pred),ax=ax[1,2],annot=True,fmt='2.0f')\n",
        "ax[1,2].set_title('Matrix for Decision Tree')\n",
        "y_pred = cross_val_predict(GaussianNB(),X,Y,cv=10)\n",
        "sns.heatmap(confusion_matrix(Y,y_pred),ax=ax[2,0],annot=True,fmt='2.0f')\n",
        "ax[2,0].set_title('Matrix for Naive Bayes')\n",
        "plt.subplots_adjust(hspace=0.2,wspace=0.2)\n",
        "plt.show()"
      ],
      "metadata": {
        "id": "rS6HlYJLUCB1",
        "colab": {
          "base_uri": "https://localhost:8080/",
          "height": 0
        },
        "outputId": "980817b6-90df-4776-f37e-bea563327583"
      },
      "execution_count": 99,
      "outputs": [
        {
          "output_type": "display_data",
          "data": {
            "image/png": "[encoded data removed]",
            "text/plain": [
              "<Figure size 864x720 with 16 Axes>"
            ]
          },
          "metadata": {
            "needs_background": "light"
          }
        }
      ]
    },
    {
      "cell_type": "markdown",
      "source": [
        "왼쪽은 맞는지, 오른쪽은 틀린지를 확인할 수 있다.\n",
        "i.g. rbf-SVM\n",
        "- 491(사망) + 247(생존) + CV 정확도 82.8%\n",
        "- 58명의 사망자를 생존으로, 95명의 생존자를 사망자로 처리\n",
        "\n",
        "결론적으로 rbf-SVM이 사망자를, NavieBayes가 생존자를 제일 잘 예측함을 알아낼 수 있었다."
      ],
      "metadata": {
        "id": "WyeXm_QsUdu4"
      }
    },
    {
      "cell_type": "markdown",
      "source": [
        "## Hyper-Parameters 튜닝\n",
        "파라미터를 무엇으로 주느냐에 따라 분류기의 성능이 달라지므로 최적의 파라미터 튜닝이 필요하다\n",
        "\n",
        "여기선 제일 성능 좋은 분류기만 진행하겠음 i.g. SVM, 랜덤포레스트"
      ],
      "metadata": {
        "id": "TIk3-vxMV247"
      }
    },
    {
      "cell_type": "markdown",
      "source": [
        "### a. SVM"
      ],
      "metadata": {
        "id": "UTs4No_iWV5j"
      }
    },
    {
      "cell_type": "code",
      "source": [
        "from sklearn.model_selection import GridSearchCV\n",
        "C=[0.05,0.1,0.2,0.25, 0.3,0.4,0.5,0.6,0.7,0.8,0.9,1]\n",
        "gamma = list(np.arange(0.1, 1.1, 0.1))\n",
        "kernel = ['rbf', 'linear']\n",
        "hyper = {'kernel': kernel, 'C':C, 'gamma':gamma}\n",
        "gd = GridSearchCV(estimator=svm.SVC(), param_grid = hyper, verbose=True)\n",
        "gd.fit(X,Y)\n",
        "print(gd.best_score_)\n",
        "print(gd.best_estimator_)"
      ],
      "metadata": {
        "colab": {
          "base_uri": "https://localhost:8080/"
        },
        "id": "mEJFsU1zW0Dj",
        "outputId": "358f72fa-6707-49b5-8a21-c30adae48f93"
      },
      "execution_count": 110,
      "outputs": [
        {
          "output_type": "stream",
          "name": "stdout",
          "text": [
            "Fitting 5 folds for each of 216 candidates, totalling 1080 fits\n",
            "0.8282593685267716\n",
            "SVC(C=0.4, gamma=0.30000000000000004)\n"
          ]
        }
      ]
    },
    {
      "cell_type": "markdown",
      "source": [
        "### b. 랜덤포레스트"
      ],
      "metadata": {
        "id": "NvBeLJGhYY_I"
      }
    },
    {
      "cell_type": "code",
      "source": [
        "n_estimators=range(100,1000,100)\n",
        "hyper={'n_estimators':n_estimators}\n",
        "gd=GridSearchCV(estimator=RandomForestClassifier(random_state=0),param_grid=hyper,verbose=True)\n",
        "gd.fit(X,Y)\n",
        "print(gd.best_score_)\n",
        "print(gd.best_estimator_)"
      ],
      "metadata": {
        "colab": {
          "base_uri": "https://localhost:8080/"
        },
        "id": "CeJp5p5pYbLk",
        "outputId": "47f5183e-12d5-4aca-dc7c-bedbd9893dce"
      },
      "execution_count": 117,
      "outputs": [
        {
          "output_type": "stream",
          "name": "stdout",
          "text": [
            "Fitting 5 folds for each of 9 candidates, totalling 45 fits\n",
            "0.819327098110602\n",
            "RandomForestClassifier(n_estimators=300, random_state=0)\n"
          ]
        }
      ]
    },
    {
      "cell_type": "markdown",
      "source": [
        "Rbf-SVM의 경우 82.82% with C=4, gamma=0.3, 랜덤포레스트의 경우 81.9% with n_estimators=300 일때 최고의 정확도를 냈다."
      ],
      "metadata": {
        "id": "KfmQ7FIxZXVW"
      }
    },
    {
      "cell_type": "markdown",
      "source": [
        "# (5) 앙상블"
      ],
      "metadata": {
        "id": "Y4Jh0Ix5Z3QX"
      }
    }
  ]
}