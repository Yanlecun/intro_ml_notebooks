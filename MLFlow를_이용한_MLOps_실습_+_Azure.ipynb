{
  "cells": [
    {
      "cell_type": "markdown",
      "metadata": {
        "id": "view-in-github",
        "colab_type": "text"
      },
      "source": [
        "<a href=\"https://colab.research.google.com/github/thddn19/intro_ml_notebooks/blob/main/MLFlow%EB%A5%BC_%EC%9D%B4%EC%9A%A9%ED%95%9C_MLOps_%EC%8B%A4%EC%8A%B5_%2B_Azure.ipynb\" target=\"_parent\"><img src=\"https://colab.research.google.com/assets/colab-badge.svg\" alt=\"Open In Colab\"/></a>"
      ]
    },
    {
      "cell_type": "code",
      "source": [
        "!pip install --force-install mlflow==1.23.0"
      ],
      "metadata": {
        "id": "BgSdoIT4dFjT",
        "colab": {
          "base_uri": "https://localhost:8080/"
        },
        "outputId": "71fcf837-d38c-4427-cbf2-1d60972fd320",
        "application/vnd.databricks.v1+cell": {
          "title": "",
          "showTitle": false,
          "inputWidgets": {},
          "nuid": "75661413-96f4-48c1-b2fe-8106437766cb"
        }
      },
      "outputs": [
        {
          "output_type": "stream",
          "name": "stdout",
          "text": [
            "Requirement already satisfied: mlflow==1.23.0 in /usr/local/lib/python3.7/dist-packages (1.23.0)\n",
            "Requirement already satisfied: click>=7.0 in /usr/local/lib/python3.7/dist-packages (from mlflow==1.23.0) (8.0.4)\n",
            "Requirement already satisfied: cloudpickle in /usr/local/lib/python3.7/dist-packages (from mlflow==1.23.0) (2.0.0)\n",
            "Requirement already satisfied: alembic in /usr/local/lib/python3.7/dist-packages (from mlflow==1.23.0) (1.7.7)\n",
            "Requirement already satisfied: gunicorn in /usr/local/lib/python3.7/dist-packages (from mlflow==1.23.0) (20.1.0)\n",
            "Requirement already satisfied: querystring-parser in /usr/local/lib/python3.7/dist-packages (from mlflow==1.23.0) (1.2.4)\n",
            "Requirement already satisfied: entrypoints in /usr/local/lib/python3.7/dist-packages (from mlflow==1.23.0) (0.4)\n",
            "Requirement already satisfied: databricks-cli>=0.8.7 in /usr/local/lib/python3.7/dist-packages (from mlflow==1.23.0) (0.16.4)\n",
            "Requirement already satisfied: docker>=4.0.0 in /usr/local/lib/python3.7/dist-packages (from mlflow==1.23.0) (5.0.3)\n",
            "Requirement already satisfied: scipy in /usr/local/lib/python3.7/dist-packages (from mlflow==1.23.0) (1.7.3)\n",
            "Requirement already satisfied: sqlparse>=0.3.1 in /usr/local/lib/python3.7/dist-packages (from mlflow==1.23.0) (0.4.2)\n",
            "Requirement already satisfied: pytz in /usr/local/lib/python3.7/dist-packages (from mlflow==1.23.0) (2022.1)\n",
            "Requirement already satisfied: Flask in /usr/local/lib/python3.7/dist-packages (from mlflow==1.23.0) (2.0.3)\n",
            "Requirement already satisfied: pandas in /usr/local/lib/python3.7/dist-packages (from mlflow==1.23.0) (1.3.5)\n",
            "Requirement already satisfied: prometheus-flask-exporter in /usr/local/lib/python3.7/dist-packages (from mlflow==1.23.0) (0.19.0)\n",
            "Requirement already satisfied: packaging in /usr/local/lib/python3.7/dist-packages (from mlflow==1.23.0) (21.3)\n",
            "Requirement already satisfied: numpy in /usr/local/lib/python3.7/dist-packages (from mlflow==1.23.0) (1.21.5)\n",
            "Requirement already satisfied: protobuf>=3.7.0 in /usr/local/lib/python3.7/dist-packages (from mlflow==1.23.0) (3.19.4)\n",
            "Requirement already satisfied: requests>=2.17.3 in /usr/local/lib/python3.7/dist-packages (from mlflow==1.23.0) (2.27.1)\n",
            "Requirement already satisfied: sqlalchemy in /usr/local/lib/python3.7/dist-packages (from mlflow==1.23.0) (1.4.32)\n",
            "Requirement already satisfied: importlib-metadata!=4.7.0,>=3.7.0 in /usr/local/lib/python3.7/dist-packages (from mlflow==1.23.0) (4.11.3)\n",
            "Requirement already satisfied: gitpython>=2.1.0 in /usr/local/lib/python3.7/dist-packages (from mlflow==1.23.0) (3.1.27)\n",
            "Requirement already satisfied: pyyaml>=5.1 in /usr/local/lib/python3.7/dist-packages (from mlflow==1.23.0) (6.0)\n",
            "Requirement already satisfied: tabulate>=0.7.7 in /usr/local/lib/python3.7/dist-packages (from databricks-cli>=0.8.7->mlflow==1.23.0) (0.8.9)\n",
            "Requirement already satisfied: six>=1.10.0 in /usr/local/lib/python3.7/dist-packages (from databricks-cli>=0.8.7->mlflow==1.23.0) (1.16.0)\n",
            "Requirement already satisfied: websocket-client>=0.32.0 in /usr/local/lib/python3.7/dist-packages (from docker>=4.0.0->mlflow==1.23.0) (1.3.1)\n",
            "Requirement already satisfied: gitdb<5,>=4.0.1 in /usr/local/lib/python3.7/dist-packages (from gitpython>=2.1.0->mlflow==1.23.0) (4.0.9)\n",
            "Requirement already satisfied: typing-extensions>=3.7.4.3 in /usr/local/lib/python3.7/dist-packages (from gitpython>=2.1.0->mlflow==1.23.0) (4.1.1)\n",
            "Requirement already satisfied: smmap<6,>=3.0.1 in /usr/local/lib/python3.7/dist-packages (from gitdb<5,>=4.0.1->gitpython>=2.1.0->mlflow==1.23.0) (5.0.0)\n",
            "Requirement already satisfied: zipp>=0.5 in /usr/local/lib/python3.7/dist-packages (from importlib-metadata!=4.7.0,>=3.7.0->mlflow==1.23.0) (3.7.0)\n",
            "Requirement already satisfied: charset-normalizer~=2.0.0 in /usr/local/lib/python3.7/dist-packages (from requests>=2.17.3->mlflow==1.23.0) (2.0.12)\n",
            "Requirement already satisfied: idna<4,>=2.5 in /usr/local/lib/python3.7/dist-packages (from requests>=2.17.3->mlflow==1.23.0) (3.3)\n",
            "Requirement already satisfied: certifi>=2017.4.17 in /usr/local/lib/python3.7/dist-packages (from requests>=2.17.3->mlflow==1.23.0) (2021.10.8)\n",
            "Requirement already satisfied: urllib3<1.27,>=1.21.1 in /usr/local/lib/python3.7/dist-packages (from requests>=2.17.3->mlflow==1.23.0) (1.26.9)\n",
            "Requirement already satisfied: Mako in /usr/local/lib/python3.7/dist-packages (from alembic->mlflow==1.23.0) (1.2.0)\n",
            "Requirement already satisfied: importlib-resources in /usr/local/lib/python3.7/dist-packages (from alembic->mlflow==1.23.0) (5.6.0)\n",
            "Requirement already satisfied: greenlet!=0.4.17 in /usr/local/lib/python3.7/dist-packages (from sqlalchemy->mlflow==1.23.0) (1.1.2)\n",
            "Requirement already satisfied: Jinja2>=3.0 in /usr/local/lib/python3.7/dist-packages (from Flask->mlflow==1.23.0) (3.1.1)\n",
            "Requirement already satisfied: itsdangerous>=2.0 in /usr/local/lib/python3.7/dist-packages (from Flask->mlflow==1.23.0) (2.1.2)\n",
            "Requirement already satisfied: Werkzeug>=2.0 in /usr/local/lib/python3.7/dist-packages (from Flask->mlflow==1.23.0) (2.0.3)\n",
            "Requirement already satisfied: MarkupSafe>=2.0 in /usr/local/lib/python3.7/dist-packages (from Jinja2>=3.0->Flask->mlflow==1.23.0) (2.1.1)\n",
            "Requirement already satisfied: setuptools>=3.0 in /usr/local/lib/python3.7/dist-packages (from gunicorn->mlflow==1.23.0) (61.2.0)\n",
            "Requirement already satisfied: pyparsing!=3.0.5,>=2.0.2 in /usr/local/lib/python3.7/dist-packages (from packaging->mlflow==1.23.0) (3.0.7)\n",
            "Requirement already satisfied: python-dateutil>=2.7.3 in /usr/local/lib/python3.7/dist-packages (from pandas->mlflow==1.23.0) (2.8.2)\n",
            "Requirement already satisfied: prometheus-client in /usr/local/lib/python3.7/dist-packages (from prometheus-flask-exporter->mlflow==1.23.0) (0.13.1)\n"
          ]
        }
      ],
      "execution_count": null
    },
    {
      "cell_type": "code",
      "source": [
        "import mlflow \n",
        "print(mlflow.__version__)"
      ],
      "metadata": {
        "colab": {
          "base_uri": "https://localhost:8080/"
        },
        "id": "bYmfNumt1DJN",
        "outputId": "01a3d328-3485-4625-ba34-34c7bb5b6b2a"
      },
      "execution_count": null,
      "outputs": [
        {
          "output_type": "stream",
          "name": "stdout",
          "text": [
            "1.23.0\n"
          ]
        }
      ]
    },
    {
      "cell_type": "markdown",
      "source": [
        "databricks를 이용할 경우"
      ],
      "metadata": {
        "id": "PIt-fffKU7AQ",
        "application/vnd.databricks.v1+cell": {
          "title": "",
          "showTitle": false,
          "inputWidgets": {},
          "nuid": "1dfee40f-e2d0-4345-9012-6922f259f27f"
        }
      }
    },
    {
      "cell_type": "code",
      "source": [
        "!databricks configure --host https://community.cloud.databricks.com/\n",
        "mlflow.set_tracking_uri(\"databricks\")\n",
        "\n",
        "mlflow.set_experiment(\"/Users/thddn19@yonsei.ac.kr/scikit_learn_experiment\") # databricks에 experiment가 없는 경우 새로 생성한다."
      ],
      "metadata": {
        "id": "DacZLkKgU5yB",
        "application/vnd.databricks.v1+cell": {
          "title": "",
          "showTitle": false,
          "inputWidgets": {},
          "nuid": "39904080-afe6-4401-b41d-6f73b9f15035"
        }
      },
      "outputs": [],
      "execution_count": null
    },
    {
      "cell_type": "markdown",
      "source": [
        "Colab을 이용할 경우"
      ],
      "metadata": {
        "id": "b5kL07llxdLc"
      }
    },
    {
      "cell_type": "code",
      "source": [
        "# 캐글 접속 후 인증 \n",
        "!pip install kaggle\n",
        "from google.colab import files\n",
        "files.upload()\n"
      ],
      "metadata": {
        "id": "0Yp5E7NvmhJe",
        "application/vnd.databricks.v1+cell": {
          "title": "",
          "showTitle": false,
          "inputWidgets": {},
          "nuid": "c2f1ce64-e48c-4c3e-b3b3-7c0147a7222d"
        }
      },
      "outputs": [],
      "execution_count": null
    },
    {
      "cell_type": "code",
      "source": [
        "\n",
        "# kaggle 데이터 다운로드를 위해 kaggle인증키 파일 복사이동\n",
        "!mkdir -p ~/.kaggle\n",
        "!cp kaggle.json ~/.kaggle/\n",
        "! chmod 600 ~/.kaggle/kaggle.json"
      ],
      "metadata": {
        "id": "tqSMp33nmpaL",
        "application/vnd.databricks.v1+cell": {
          "title": "",
          "showTitle": false,
          "inputWidgets": {},
          "nuid": "96c671a6-c0e7-4693-8771-944a1a3780f2"
        }
      },
      "outputs": [],
      "execution_count": null
    },
    {
      "cell_type": "code",
      "source": [
        "! kaggle datasets download -d mlg-ulb/creditcardfraud\n",
        "! unzip creditcardfraud.zip "
      ],
      "metadata": {
        "application/vnd.databricks.v1+cell": {
          "title": "",
          "showTitle": false,
          "inputWidgets": {},
          "nuid": "8f995df4-61e6-4f7e-b418-cb8da627164d"
        },
        "colab": {
          "base_uri": "https://localhost:8080/"
        },
        "id": "CVAbZWNRxdLd",
        "outputId": "11941c32-f3de-4d99-9537-3ee53dddec9e"
      },
      "outputs": [
        {
          "output_type": "stream",
          "name": "stdout",
          "text": [
            "Downloading creditcardfraud.zip to /content\n",
            " 86% 57.0M/66.0M [00:00<00:00, 214MB/s]\n",
            "100% 66.0M/66.0M [00:00<00:00, 206MB/s]\n",
            "Archive:  creditcardfraud.zip\n",
            "  inflating: creditcard.csv          \n"
          ]
        }
      ],
      "execution_count": null
    },
    {
      "cell_type": "code",
      "source": [
        "! pip install --force-reinstall scikit-learn==0.22.1"
      ],
      "metadata": {
        "colab": {
          "base_uri": "https://localhost:8080/",
          "height": 718
        },
        "id": "bDfpLpR85WHd",
        "outputId": "1a783782-79d2-42d4-9882-5ee36e54e023"
      },
      "execution_count": null,
      "outputs": [
        {
          "output_type": "stream",
          "name": "stdout",
          "text": [
            "Collecting scikit-learn==0.22.1\n",
            "  Using cached scikit_learn-0.22.1-cp37-cp37m-manylinux1_x86_64.whl (7.0 MB)\n",
            "Collecting scipy>=0.17.0\n",
            "  Using cached scipy-1.7.3-cp37-cp37m-manylinux_2_12_x86_64.manylinux2010_x86_64.whl (38.1 MB)\n",
            "Collecting joblib>=0.11\n",
            "  Using cached joblib-1.1.0-py2.py3-none-any.whl (306 kB)\n",
            "Collecting numpy>=1.11.0\n",
            "  Using cached numpy-1.21.5-cp37-cp37m-manylinux_2_12_x86_64.manylinux2010_x86_64.whl (15.7 MB)\n",
            "Installing collected packages: numpy, scipy, joblib, scikit-learn\n",
            "  Attempting uninstall: numpy\n",
            "    Found existing installation: numpy 1.21.5\n",
            "    Uninstalling numpy-1.21.5:\n",
            "      Successfully uninstalled numpy-1.21.5\n",
            "  Attempting uninstall: scipy\n",
            "    Found existing installation: scipy 1.7.3\n",
            "    Uninstalling scipy-1.7.3:\n",
            "      Successfully uninstalled scipy-1.7.3\n",
            "  Attempting uninstall: joblib\n",
            "    Found existing installation: joblib 1.1.0\n",
            "    Uninstalling joblib-1.1.0:\n",
            "      Successfully uninstalled joblib-1.1.0\n",
            "\u001b[31mERROR: pip's dependency resolver does not currently take into account all the packages that are installed. This behaviour is the source of the following dependency conflicts.\n",
            "tensorflow 2.8.0 requires tf-estimator-nightly==2.8.0.dev2021122109, which is not installed.\n",
            "yellowbrick 1.4 requires scikit-learn>=1.0.0, but you have scikit-learn 0.22.1 which is incompatible.\n",
            "imbalanced-learn 0.8.1 requires scikit-learn>=0.24, but you have scikit-learn 0.22.1 which is incompatible.\n",
            "gym 0.17.3 requires cloudpickle<1.7.0,>=1.2.0, but you have cloudpickle 2.0.0 which is incompatible.\n",
            "google-colab 1.0.0 requires requests~=2.23.0, but you have requests 2.27.1 which is incompatible.\n",
            "google-colab 1.0.0 requires six~=1.15.0, but you have six 1.16.0 which is incompatible.\n",
            "datascience 0.10.6 requires folium==0.2.1, but you have folium 0.8.3 which is incompatible.\n",
            "arviz 0.11.4 requires typing-extensions<4,>=3.7.4.3, but you have typing-extensions 4.1.1 which is incompatible.\n",
            "albumentations 0.1.12 requires imgaug<0.2.7,>=0.2.5, but you have imgaug 0.2.9 which is incompatible.\u001b[0m\n",
            "Successfully installed joblib-1.1.0 numpy-1.21.5 scikit-learn-0.22.1 scipy-1.7.3\n"
          ]
        },
        {
          "output_type": "display_data",
          "data": {
            "application/vnd.colab-display-data+json": {
              "pip_warning": {
                "packages": [
                  "joblib",
                  "numpy",
                  "scipy",
                  "sklearn"
                ]
              }
            }
          },
          "metadata": {}
        }
      ]
    },
    {
      "cell_type": "code",
      "source": [
        "import sklearn\n",
        "import imp\n",
        "imp.reload(sklearn)"
      ],
      "metadata": {
        "colab": {
          "base_uri": "https://localhost:8080/"
        },
        "id": "ycr7dDc27OE9",
        "outputId": "3d56ca0b-bd89-477b-8708-fc8d39ff24ec"
      },
      "execution_count": null,
      "outputs": [
        {
          "output_type": "execute_result",
          "data": {
            "text/plain": [
              "<module 'sklearn' from '/usr/local/lib/python3.7/dist-packages/sklearn/__init__.py'>"
            ]
          },
          "metadata": {},
          "execution_count": 87
        }
      ]
    },
    {
      "cell_type": "code",
      "source": [
        "import sklearn\n",
        "print(sklearn.__version__)"
      ],
      "metadata": {
        "colab": {
          "base_uri": "https://localhost:8080/"
        },
        "id": "OGRgQ5o16pEj",
        "outputId": "88641b5f-08a7-4919-8470-c20bd1cf9374"
      },
      "execution_count": null,
      "outputs": [
        {
          "output_type": "stream",
          "name": "stdout",
          "text": [
            "0.22.1\n"
          ]
        }
      ]
    },
    {
      "cell_type": "code",
      "source": [
        "%matplotlib inline\n",
        "import numpy as np\n",
        "import pandas as pd\n",
        "import matplotlib\n",
        "import matplotlib.pyplot as plt\n",
        "import seaborn as sns\n",
        "import sklearn\n",
        "from sklearn.linear_model import LogisticRegression\n",
        "from sklearn.model_selection import train_test_split\n",
        "from sklearn.preprocessing import StandardScaler\n",
        "from sklearn.metrics import roc_auc_score, plot_roc_curve, confusion_matrix\n",
        "from sklearn.model_selection import KFold\n",
        "\n",
        "import mlflow\n",
        "import mlflow.sklearn\n",
        "\n",
        "print(f\"numpy: {np.__version__}\")\n",
        "print(f\"pandas: {pd.__version__}\")\n",
        "print(f\"matplotlib: {matplotlib.__version__}\")\n",
        "print(f\"seaborn: {sns.__version__}\")\n",
        "print(f\"sklearn: {sklearn.__version__}\")\n",
        "print(f\"mlflow: {mlflow.__version__}\")"
      ],
      "metadata": {
        "id": "aiV63eC6b_Lh",
        "colab": {
          "base_uri": "https://localhost:8080/"
        },
        "outputId": "85bee316-49c6-4513-fd44-11fd90fe5fce",
        "application/vnd.databricks.v1+cell": {
          "title": "",
          "showTitle": false,
          "inputWidgets": {},
          "nuid": "0f4fe91e-a2be-4b54-a1b9-01e2a1afc3db"
        }
      },
      "outputs": [
        {
          "output_type": "stream",
          "name": "stdout",
          "text": [
            "numpy: 1.21.5\n",
            "pandas: 1.3.5\n",
            "matplotlib: 3.2.2\n",
            "seaborn: 0.11.2\n",
            "sklearn: 0.22.1\n",
            "mlflow: 1.23.0\n"
          ]
        }
      ],
      "execution_count": null
    },
    {
      "cell_type": "code",
      "source": [
        "data_path = \"./creditcard.csv\"\n",
        "df = pd.read_csv(data_path)\n",
        "df = df.drop(\"Time\", axis=1)"
      ],
      "metadata": {
        "id": "W0qYK5rHmJDE",
        "application/vnd.databricks.v1+cell": {
          "title": "",
          "showTitle": false,
          "inputWidgets": {},
          "nuid": "cfccc86b-2c2c-4c52-b43e-8fff609b0747"
        }
      },
      "outputs": [],
      "execution_count": null
    },
    {
      "cell_type": "code",
      "source": [
        "normal = df[df.Class==0].sample(frac=0.5, random_state = 100).reset_index(drop=True)\n",
        "anomaly = df[df.Class==1]"
      ],
      "metadata": {
        "id": "dxKc9zd-oYgX",
        "application/vnd.databricks.v1+cell": {
          "title": "",
          "showTitle": false,
          "inputWidgets": {},
          "nuid": "7726b0fd-e29a-4b24-820c-ef93d2653a9a"
        }
      },
      "outputs": [],
      "execution_count": null
    },
    {
      "cell_type": "code",
      "source": [
        "# train - test 데이터셋 분리\n",
        "normal_train, normal_test = train_test_split(normal, test_size = 0.2, random_state= 100)\n",
        "anomaly_train, anomaly_test = train_test_split(anomaly,test_size = 0.2, random_state= 100)\n",
        "\n",
        "# 80%의 train set내에서 20%차지하도록 25% validation set 으로 분리\n",
        "normal_train, normal_val = train_test_split(normal_train, test_size = 0.25, random_state = 100)\n",
        "anomaly_train, anomaly_val = train_test_split(anomaly_train, test_size = 0.25, random_state = 100)"
      ],
      "metadata": {
        "id": "-6hVZ7a8o6th",
        "application/vnd.databricks.v1+cell": {
          "title": "",
          "showTitle": false,
          "inputWidgets": {},
          "nuid": "cc0eb869-97b9-4e15-ba10-d4ed84d61d6a"
        }
      },
      "outputs": [],
      "execution_count": null
    },
    {
      "cell_type": "code",
      "source": [
        "x_train = pd.concat((normal_train, anomaly_train))\n",
        "x_test = pd.concat((normal_test, anomaly_test))\n",
        "x_val = pd.concat((normal_val, anomaly_val))\n",
        "\n",
        "y_train = np.array(x_train[\"Class\"])\n",
        "y_test = np.array(x_test[\"Class\"])\n",
        "y_val = np.array(x_val[\"Class\"])\n",
        "\n",
        "x_train = x_train.drop(\"Class\", axis=1)\n",
        "x_test = x_test.drop(\"Class\", axis=1)\n",
        "x_val = x_val.drop(\"Class\", axis=1)\n",
        "\n",
        "print(f'train dataset : {x_train.shape}, {y_train.shape}')\n",
        "print(f'test dataset : {x_test.shape}, {y_test.shape}')\n",
        "print(f'validation dataset : {x_val.shape}, {y_val.shape}')"
      ],
      "metadata": {
        "id": "vokq04jEpiKC",
        "colab": {
          "base_uri": "https://localhost:8080/"
        },
        "outputId": "004ead57-d08d-4a81-ee0c-efb81cd83c1a",
        "application/vnd.databricks.v1+cell": {
          "title": "",
          "showTitle": false,
          "inputWidgets": {},
          "nuid": "9e112154-1eba-4a63-8041-5aa63187ff0e"
        }
      },
      "outputs": [
        {
          "output_type": "stream",
          "name": "stdout",
          "text": [
            "train dataset : (85588, 29), (85588,)\n",
            "test dataset : (28531, 29), (28531,)\n",
            "validation dataset : (28531, 29), (28531,)\n"
          ]
        }
      ],
      "execution_count": null
    },
    {
      "cell_type": "code",
      "source": [
        "scaler = StandardScaler()\n",
        "scaler.fit(pd.concat((normal, anomaly)).drop(\"Class\",axis=1))\n",
        "\n",
        "x_train = scaler.transform(x_train)\n",
        "x_test = scaler.transform(x_test)\n",
        "x_val = scaler.transform(x_val)"
      ],
      "metadata": {
        "id": "Fqi8YNQ3qdmM",
        "application/vnd.databricks.v1+cell": {
          "title": "",
          "showTitle": false,
          "inputWidgets": {},
          "nuid": "665b0463-174b-4d49-95b0-652c156ea643"
        }
      },
      "outputs": [],
      "execution_count": null
    },
    {
      "cell_type": "markdown",
      "source": [
        "#  MLFlow를 이용한 모델 학습 및 평가"
      ],
      "metadata": {
        "id": "xg9MzNj9xTkW",
        "application/vnd.databricks.v1+cell": {
          "title": "",
          "showTitle": false,
          "inputWidgets": {},
          "nuid": "e1b140b4-f047-462b-8d6b-a513f62c66b3"
        }
      }
    },
    {
      "cell_type": "markdown",
      "source": [
        "## 모델 학습 및 학습 정확도 지표"
      ],
      "metadata": {
        "id": "ayy_i9RwxYBS",
        "application/vnd.databricks.v1+cell": {
          "title": "",
          "showTitle": false,
          "inputWidgets": {},
          "nuid": "b4f55558-fd55-4d81-b221-deecff9eff9d"
        }
      }
    },
    {
      "cell_type": "code",
      "source": [
        "def train(sk_model, x_train, y_train) :\n",
        "  sk_model = sk_model.fit(x_train, y_train)\n",
        "  train_acc = sk_model.score(x_train, y_train)\n",
        "\n",
        "  mlflow.log_metric(\"train_acc\", train_acc)\n",
        "  \n",
        "  print(f\"Train Accuracy: {train_acc:.3%}\")"
      ],
      "metadata": {
        "id": "ebrfucJmvnvy",
        "application/vnd.databricks.v1+cell": {
          "title": "",
          "showTitle": false,
          "inputWidgets": {},
          "nuid": "0d9fa661-f731-4a2a-bb1d-2206d34ed7a8"
        }
      },
      "outputs": [],
      "execution_count": null
    },
    {
      "cell_type": "markdown",
      "source": [
        "학습이 진행되며, 학습정확도 지표는 mlflow에 로깅된다."
      ],
      "metadata": {
        "id": "1nDV6ia4z53c",
        "application/vnd.databricks.v1+cell": {
          "title": "",
          "showTitle": false,
          "inputWidgets": {},
          "nuid": "bdac3cbf-c8a6-4c72-a15a-fda671ab4845"
        }
      }
    },
    {
      "cell_type": "code",
      "source": [
        "def evaluate(sk_model, x_test, y_test) :\n",
        "  eval_acc = sk_model.score(x_test, y_test)\n",
        "  preds= sk_model.predict(x_test)\n",
        "  auc_score = roc_auc_score(y_test, preds)\n",
        "\n",
        "  mlflow.log_metric(\"eval_acc\", eval_acc)\n",
        "  mlflow.log_metric(\"auc_score\", auc_score)\n",
        "  \n",
        "  print(f\"Evaluate Accuracy: {auc_score:.3%}\")\n",
        "  print(f\"Accuracy Accuracy: {eval_acc:.3%}\")\n",
        "  roc_plot = plot_roc_curve(sk_model, x_test, y_test, name='scikit_learn ROC Curve')\n",
        "  plt.savefig(\"sklearn_roc_plot.png\")\n",
        "  plt.show()\n",
        "  plt.clf()\n",
        "  conf_matrix = confusion_matrix(y_test, preds)\n",
        "  ax = sns.heatmap(conf_matrix, annot=True, fmt='g')\n",
        "  ax.invert_xaxis()\n",
        "  ax.invert_yaxis()\n",
        "  plt.xlabel('Predicted')\n",
        "  plt.ylabel('Actual')\n",
        "  plt.title('Confusion Matrix')\n",
        "  plt.savefig(\"sklearn_conf_matrix.png\")\n",
        "\n",
        "  mlflow.log_artifact(\"sklearn_roc_plot.png\")\n",
        "  mlflow.log_artifact(\"sklearn_conf_matrix.png\")\n"
      ],
      "metadata": {
        "id": "8ROrzDaBxg8z",
        "application/vnd.databricks.v1+cell": {
          "title": "",
          "showTitle": false,
          "inputWidgets": {},
          "nuid": "ca153ea1-7e72-4137-a830-17235664d722"
        }
      },
      "outputs": [],
      "execution_count": null
    },
    {
      "cell_type": "markdown",
      "source": [
        "평가지표 및 Confusion Matrix, ROC 곡선에 대한 그림이 생성되며, 그래프와 지표 모두 MLFlow에 로깅된다."
      ],
      "metadata": {
        "id": "0ZH8IbOY0AEh",
        "application/vnd.databricks.v1+cell": {
          "title": "",
          "showTitle": false,
          "inputWidgets": {},
          "nuid": "ba8f62d6-a164-42a9-98aa-f28e132936a4"
        }
      }
    },
    {
      "cell_type": "markdown",
      "source": [
        "##  MLFlow 실행 로깅 및 확인"
      ],
      "metadata": {
        "id": "4tpfY7Ez0LVf",
        "application/vnd.databricks.v1+cell": {
          "title": "",
          "showTitle": false,
          "inputWidgets": {},
          "nuid": "42962611-ceed-4217-9935-781e5d765ea2"
        }
      }
    },
    {
      "cell_type": "markdown",
      "source": [
        "실제로 실행시켜보자"
      ],
      "metadata": {
        "id": "2q784YM90u7k",
        "application/vnd.databricks.v1+cell": {
          "title": "",
          "showTitle": false,
          "inputWidgets": {},
          "nuid": "7b0d20cd-0ad9-416d-bf35-719cb8b0fb31"
        }
      }
    },
    {
      "cell_type": "code",
      "source": [
        "sk_model = LogisticRegression(max_iter = 400, solver='newton-cg')\n",
        "mlflow.set_experiment(\"/Users/thddn19@yonsei.ac.kr/scikit_learn_experiment\") # expriment 설정, 없는 경우 새로 생성\n",
        "with mlflow.start_run():  # expreiment 생성하면서 실행되는 코드\n",
        "  train(sk_model, x_train, y_train)\n",
        "  evaluate(sk_model, x_test, y_test)\n",
        "  mlflow.sklearn.log_model(sk_model, \"log_reg_model\") # 모델 로깅 시에 사용되는 일반적인 규칙이며 저장되는 모델과 모델명을 설정한다.\n",
        "  print(\"model run : \", mlflow.active_run().info.run_uuid)\n",
        "mlflow.end_run() "
      ],
      "metadata": {
        "id": "GmgwpNub00Tv",
        "colab": {
          "base_uri": "https://localhost:8080/",
          "height": 690
        },
        "outputId": "41f25b01-382a-494c-9f5d-6bf0a658059a",
        "application/vnd.databricks.v1+cell": {
          "title": "",
          "showTitle": false,
          "inputWidgets": {},
          "nuid": "71989ece-41a0-431e-8b3b-0903dc9d3e69"
        }
      },
      "outputs": [
        {
          "output_type": "stream",
          "name": "stdout",
          "text": [
            "Train Accuracy: 99.884%\n",
            "Evaluate Accuracy: 87.361%\n",
            "Accuracy Accuracy: 99.888%\n"
          ]
        },
        {
          "output_type": "stream",
          "name": "stderr",
          "text": [
            "/usr/local/lib/python3.7/dist-packages/sklearn/utils/deprecation.py:87: FutureWarning: Function plot_roc_curve is deprecated; Function :func:`plot_roc_curve` is deprecated in 1.0 and will be removed in 1.2. Use one of the class methods: :meth:`sklearn.metric.RocCurveDisplay.from_predictions` or :meth:`sklearn.metric.RocCurveDisplay.from_estimator`.\n",
            "  warnings.warn(msg, category=FutureWarning)\n"
          ]
        },
        {
          "output_type": "display_data",
          "data": {
            "text/plain": [
              "<Figure size 432x288 with 1 Axes>"
            ],
            "image/png": "[encoded data removed]"
          },
          "metadata": {
            "needs_background": "light"
          }
        },
        {
          "output_type": "stream",
          "name": "stdout",
          "text": [
            "model run :  3427cabfd81d4d8fa090a9f95565e52a\n"
          ]
        },
        {
          "output_type": "display_data",
          "data": {
            "text/plain": [
              "<Figure size 432x288 with 2 Axes>"
            ],
            "image/png": "[encoded data removed]"
          },
          "metadata": {
            "needs_background": "light"
          }
        }
      ],
      "execution_count": null
    },
    {
      "cell_type": "markdown",
      "source": [
        "https://community.cloud.databricks.com/ 에 접속해서 확인하면 지표와 지표를 기반으로 생성한 이미지들을 확인할 수 있다."
      ],
      "metadata": {
        "id": "mecYb4ln6KTf",
        "application/vnd.databricks.v1+cell": {
          "title": "",
          "showTitle": false,
          "inputWidgets": {},
          "nuid": "72d83c76-0954-47b2-8f07-449c2f3f9a36"
        }
      }
    },
    {
      "cell_type": "markdown",
      "source": [
        "## 저장한 모델 다시 가져오기"
      ],
      "metadata": {
        "id": "GNyeDQmUnx3L",
        "application/vnd.databricks.v1+cell": {
          "title": "",
          "showTitle": false,
          "inputWidgets": {},
          "nuid": "add589f1-c9a4-4d21-aa12-ce49dc2ec2c5"
        }
      }
    },
    {
      "cell_type": "code",
      "source": [
        "loaded_model = mlflow.sklearn.load_model(\"runs:/b95e615c15e14ed69b6cca4c11f7eb04/log_reg_model\") # 로깅 root 폴더 이름이며, experiment 생성 시에 지정할 수 있었다."
      ],
      "metadata": {
        "id": "Wb2w2r0vos6f",
        "application/vnd.databricks.v1+cell": {
          "title": "",
          "showTitle": false,
          "inputWidgets": {},
          "nuid": "2fd5f63c-6edf-49f1-8cf5-b12e3dc96949"
        }
      },
      "outputs": [],
      "execution_count": null
    },
    {
      "cell_type": "markdown",
      "source": [
        "가져온 모델의 정확도를 측정해보자"
      ],
      "metadata": {
        "id": "jqoWtfFsrrNa",
        "application/vnd.databricks.v1+cell": {
          "title": "",
          "showTitle": false,
          "inputWidgets": {},
          "nuid": "779c238a-a2ba-4af2-b55b-09d71238ff0f"
        }
      }
    },
    {
      "cell_type": "code",
      "source": [
        "loaded_model.score(x_test, y_test)"
      ],
      "metadata": {
        "id": "zctMf1pqpFH2",
        "colab": {
          "base_uri": "https://localhost:8080/"
        },
        "outputId": "0e02f2af-b8b5-4df1-c5bc-a189ffb9bd95",
        "application/vnd.databricks.v1+cell": {
          "title": "",
          "showTitle": false,
          "inputWidgets": {},
          "nuid": "caed28dc-ce31-40dd-a155-74798b9299ae"
        }
      },
      "outputs": [
        {
          "output_type": "execute_result",
          "data": {
            "text/plain": [
              "0.9988784129543303"
            ]
          },
          "metadata": {},
          "execution_count": 30
        }
      ],
      "execution_count": null
    },
    {
      "cell_type": "markdown",
      "source": [
        "반올림까지 무시하고 어느 정도 일치하는 것을 알 수 있다."
      ],
      "metadata": {
        "id": "3cLjdWaIsZ8M",
        "application/vnd.databricks.v1+cell": {
          "title": "",
          "showTitle": false,
          "inputWidgets": {},
          "nuid": "79769ad7-ebb4-4756-8962-49ffe6eeee14"
        }
      }
    },
    {
      "cell_type": "markdown",
      "source": [
        "이부분 까지가 파이프라인을 재현, 테스트하고 검증하는데 필요한 부분을 준비하였다."
      ],
      "metadata": {
        "id": "BXsCd97wry6r",
        "application/vnd.databricks.v1+cell": {
          "title": "",
          "showTitle": false,
          "inputWidgets": {},
          "nuid": "7d6c24a5-6809-49e0-93fd-a942d91b8598"
        }
      }
    },
    {
      "cell_type": "markdown",
      "source": [
        "# MLFlow를 사용한 모델 검증(파라미터 튜닝)"
      ],
      "metadata": {
        "id": "3qqmAMepsivJ",
        "application/vnd.databricks.v1+cell": {
          "title": "",
          "showTitle": false,
          "inputWidgets": {},
          "nuid": "8131931c-aa47-4f1c-b1a1-bb2db2cd85ab"
        }
      }
    },
    {
      "cell_type": "markdown",
      "source": [
        "## 파라미터 튜닝 - Broad Search\n",
        "앞서 위에서 진행한 모델 검증 스크립트는 대부분 동일하지만, MLFlow 몇 개 추가하였다."
      ],
      "metadata": {
        "id": "D2AOmFEkuKBl",
        "application/vnd.databricks.v1+cell": {
          "title": "",
          "showTitle": false,
          "inputWidgets": {},
          "nuid": "54a36c35-9960-40ad-8e2a-15971143ffce"
        }
      }
    },
    {
      "cell_type": "code",
      "source": [
        "anomaly_weights = [1,5,10,15]\n",
        "num_folds = 5\n",
        "kfold = KFold(n_splits=num_folds, shuffle=True, random_state = 100)"
      ],
      "metadata": {
        "id": "j0pMMXOlukMt",
        "application/vnd.databricks.v1+cell": {
          "title": "",
          "showTitle": false,
          "inputWidgets": {},
          "nuid": "e3d93afb-c00a-4f94-949c-7ff4ba61260f"
        }
      },
      "outputs": [],
      "execution_count": null
    },
    {
      "cell_type": "code",
      "source": [
        "mlflow.set_experiment(\"/Users/thddn19@yonsei.ac.kr/sklearn_creditcard_broad_search\")\n",
        "logs = []\n",
        "for i in range(len(anomaly_weights)):\n",
        "  fold = 1\n",
        "  accuracies = []\n",
        "  auc_scores = []\n",
        "  for train, test in kfold.split(x_val, y_val):\n",
        "    with mlflow.start_run() : \n",
        "      weight = anomaly_weights[i]\n",
        "      mlflow.log_param(\"anomaly_weight\", weight)\n",
        "      class_weights= {\n",
        "          0: 1,\n",
        "          1: weight\n",
        "      }\n",
        "      sk_model = LogisticRegression(random_state = None, \n",
        "                                     max_iter = 400,\n",
        "                                     solver = 'newton-cg',\n",
        "                                     class_weight=class_weights).fit(x_val[train], y_val[train])\n",
        "      for j in range(40): print('-', end = \"\")\n",
        "      print(f\"\\n fold {fold} \\n Anomaly Weight: {weight}\")\n",
        "      train_acc = sk_model.score(x_val[train], y_val[train])\n",
        "      mlflow.log_metric(\"trian_acc\", train_acc)\n",
        "      eval_acc = sk_model.score(x_val[test], y_val[test])\n",
        "      preds = sk_model.predict(x_val[test])\n",
        "\n",
        "      mlflow.log_metric(\"eval_acc\", eval_acc)\n",
        "\n",
        "      try :\n",
        "        auc_score = roc_auc_score(y_val[test], preds)\n",
        "      except :\n",
        "        auc_score = -1\n",
        "\n",
        "      mlflow.log_metric(\"auc_score\", auc_score)\n",
        "\n",
        "      print(f\"AUC: {auc_score}\\n eval_acc: {eval_acc}\")\n",
        "\n",
        "      accuracies.append(eval_acc)\n",
        "      auc_scores.append(auc_score)\n",
        "\n",
        "      log = [sk_model, x_val[test], y_val[test], preds]\n",
        "      logs.append(log)\n",
        "      mlflow.sklearn.log_model(sk_model, f\"anom_weight_{weight}_fold_{fold}\")\n",
        "      fold+=1\n",
        "      mlflow.end_run()"
      ],
      "metadata": {
        "id": "-4U0R2HjuxtA",
        "colab": {
          "base_uri": "https://localhost:8080/"
        },
        "outputId": "1f5a8a11-af05-48ef-ad22-1e7a25b00757",
        "application/vnd.databricks.v1+cell": {
          "title": "",
          "showTitle": false,
          "inputWidgets": {},
          "nuid": "cb9ab510-51a3-4981-afe9-fb3ea4826996"
        }
      },
      "outputs": [
        {
          "output_type": "stream",
          "name": "stdout",
          "text": [
            "----------------------------------------\n",
            " fold 1 \n",
            " Anomaly Weight: 1\n",
            "AUC: 0.924648320731493\n",
            " eval_acc: 0.9987734361310671\n",
            "----------------------------------------\n",
            " fold 2 \n",
            " Anomaly Weight: 1\n",
            "AUC: 0.7856263349667044\n",
            " eval_acc: 0.9982474588152822\n",
            "----------------------------------------\n",
            " fold 3 \n",
            " Anomaly Weight: 1\n",
            "AUC: 0.7856263349667044\n",
            " eval_acc: 0.9982474588152822\n",
            "----------------------------------------\n",
            " fold 4 \n",
            " Anomaly Weight: 1\n",
            "AUC: 0.815613634049957\n",
            " eval_acc: 0.998422712933754\n",
            "----------------------------------------\n",
            " fold 5 \n",
            " Anomaly Weight: 1\n",
            "AUC: 0.9164908579465543\n",
            " eval_acc: 0.999123729407641\n",
            "----------------------------------------\n",
            " fold 1 \n",
            " Anomaly Weight: 5\n",
            "AUC: 0.9245604009143662\n",
            " eval_acc: 0.9985982127212195\n",
            "----------------------------------------\n",
            " fold 2 \n",
            " Anomaly Weight: 5\n",
            "AUC: 0.8329815303430078\n",
            " eval_acc: 0.9980722046968104\n",
            "----------------------------------------\n",
            " fold 3 \n",
            " Anomaly Weight: 5\n",
            "AUC: 0.8570549063952759\n",
            " eval_acc: 0.9987732211706976\n",
            "----------------------------------------\n",
            " fold 4 \n",
            " Anomaly Weight: 5\n",
            "AUC: 0.8417535838893877\n",
            " eval_acc: 0.9982474588152822\n",
            "----------------------------------------\n",
            " fold 5 \n",
            " Anomaly Weight: 5\n",
            "AUC: 0.9440049226441631\n",
            " eval_acc: 0.9987732211706976\n",
            "----------------------------------------\n",
            " fold 1 \n",
            " Anomaly Weight: 10\n",
            "AUC: 0.9491208018287322\n",
            " eval_acc: 0.9978973190818293\n",
            "----------------------------------------\n",
            " fold 2 \n",
            " Anomaly Weight: 10\n",
            "AUC: 0.8326297273526825\n",
            " eval_acc: 0.9973711882229233\n",
            "----------------------------------------\n",
            " fold 3 \n",
            " Anomaly Weight: 10\n",
            "AUC: 0.8806005779620555\n",
            " eval_acc: 0.998422712933754\n",
            "----------------------------------------\n",
            " fold 4 \n",
            " Anomaly Weight: 10\n",
            "AUC: 0.8416656640722607\n",
            " eval_acc: 0.9980722046968104\n",
            "----------------------------------------\n",
            " fold 5 \n",
            " Anomaly Weight: 10\n",
            "AUC: 0.9712552742616034\n",
            " eval_acc: 0.9978969505783386\n",
            "----------------------------------------\n",
            " fold 1 \n",
            " Anomaly Weight: 15\n",
            "AUC: 0.9489449621944787\n",
            " eval_acc: 0.9975468722621342\n",
            "----------------------------------------\n",
            " fold 2 \n",
            " Anomaly Weight: 15\n",
            "AUC: 0.9038823972860912\n",
            " eval_acc: 0.997546442341395\n",
            "----------------------------------------\n",
            " fold 3 \n",
            " Anomaly Weight: 15\n",
            "AUC: 0.8804246764668929\n",
            " eval_acc: 0.9980722046968104\n",
            "----------------------------------------\n",
            " fold 4 \n",
            " Anomaly Weight: 15\n",
            "AUC: 0.8414898244380072\n",
            " eval_acc: 0.9977216964598669\n",
            "----------------------------------------\n",
            " fold 5 \n",
            " Anomaly Weight: 15\n",
            "AUC: 0.9709036568213782\n",
            " eval_acc: 0.9971959341044515\n"
          ]
        }
      ],
      "execution_count": null
    },
    {
      "cell_type": "code",
      "source": [
        "print(\"\\n Averages :\")\n",
        "print(f\"Accuracy: {np.mean(accuracies)}\")\n",
        "print(\"Best: \")\n",
        "print(f\"Accuracy: {np.max(accuracies)}\")\n",
        "print(f\"AUC: {np.max(auc_scores)}\" )"
      ],
      "metadata": {
        "id": "wIwKrtAv1G33",
        "colab": {
          "base_uri": "https://localhost:8080/"
        },
        "outputId": "359198d8-f8be-431b-e351-4b8fc18dc5f1",
        "application/vnd.databricks.v1+cell": {
          "title": "",
          "showTitle": false,
          "inputWidgets": {},
          "nuid": "1ec6b646-4cf3-4b07-a82a-36cc407a4f63"
        }
      },
      "outputs": [
        {
          "output_type": "stream",
          "name": "stdout",
          "text": [
            "\n",
            " Averages :\n",
            "Accuracy: 0.9976166299729317\n",
            "Best: \n",
            "Accuracy: 0.9980722046968104\n",
            "AUC: 0.9709036568213782\n"
          ]
        }
      ],
      "execution_count": null
    },
    {
      "cell_type": "markdown",
      "source": [
        ""
      ],
      "metadata": {
        "id": "bEvElVvd09Cj",
        "application/vnd.databricks.v1+cell": {
          "title": "",
          "showTitle": false,
          "inputWidgets": {},
          "nuid": "5e6d5ebf-0ba4-4c9e-ac5c-2a3fcd50b84c"
        }
      }
    },
    {
      "cell_type": "markdown",
      "source": [
        "다시 https://community.cloud.databricks.com/ 에서 생성한 expriment를 확인해보면 auc 점수를 확인 할 수 있다."
      ],
      "metadata": {
        "id": "8qiPKJFHw_aP",
        "application/vnd.databricks.v1+cell": {
          "title": "",
          "showTitle": false,
          "inputWidgets": {},
          "nuid": "34ff86e2-249c-4551-91d2-30c11463fcde"
        }
      }
    },
    {
      "cell_type": "code",
      "source": [
        "# metrics.\"auc_score\" >= 0.9 "
      ],
      "metadata": {
        "id": "fL7Q_svI1kxX",
        "application/vnd.databricks.v1+cell": {
          "title": "",
          "showTitle": false,
          "inputWidgets": {},
          "nuid": "5c0c9a5b-2290-42b8-ba35-81d20d94e1f8"
        }
      },
      "outputs": [],
      "execution_count": null
    },
    {
      "cell_type": "markdown",
      "source": [
        "SQL절을 따르는데 0.9이상의 값들만 필터링 할 수 있다."
      ],
      "metadata": {
        "id": "y5aD6i9N1mgc",
        "application/vnd.databricks.v1+cell": {
          "title": "",
          "showTitle": false,
          "inputWidgets": {},
          "nuid": "3869d280-dbc8-4e2f-8f2c-d3a64b2d9b5c"
        }
      }
    },
    {
      "cell_type": "code",
      "source": [
        "# metrics.\"auc_score\" >= 0.9 AND param.anomaly_weight = \"5\" \n",
        "# metrics.\"auc_score\" >= 0.9 AND param.anomaly_weight = \"10\" \n",
        "\n",
        "# metrics.\"auc_score\" >= 0.95 AND param.anomaly_weight = \"5\" \n",
        "# metrics.\"auc_score\" >= 0.95 AND param.anomaly_weight = \"10\" \n",
        "# metrics.\"auc_score\" >= 0.95 AND param.anomaly_weight = \"15\" \n",
        "\n",
        "# param.anomaly_weight = \"1\" "
      ],
      "metadata": {
        "id": "c85S-EMH15Cz",
        "application/vnd.databricks.v1+cell": {
          "title": "",
          "showTitle": false,
          "inputWidgets": {},
          "nuid": "a7f7b8a2-05cc-4db8-9a51-4fdd54b08b3f"
        }
      },
      "outputs": [],
      "execution_count": null
    },
    {
      "cell_type": "markdown",
      "source": [
        "AND연산자를 이용해 특정 가중치에 대해 AUC 점수를 확인할 수 있다. 적절한 가중치 판단은 평균 AUC 점수를 기준으로 삼았다."
      ],
      "metadata": {
        "id": "NmzwJ2T50pMa",
        "application/vnd.databricks.v1+cell": {
          "title": "",
          "showTitle": false,
          "inputWidgets": {},
          "nuid": "0fe411ea-3c71-4153-bd8d-c00bebe97543"
        }
      }
    },
    {
      "cell_type": "markdown",
      "source": [
        "## 파라미터 튜닝 - Guided Search\n",
        "이상 가중치에 대해 살펴본 결과 적절한 가중치라고 생각되는 값을 찾지 못 했다.\n",
        "<br>\n",
        "이상 가중치 범위를 좀 더 늘리고, 첫번째 experiment 결과를 유지하기 위해 다시 생성해보자"
      ],
      "metadata": {
        "id": "NGpuf1OeG_SJ",
        "application/vnd.databricks.v1+cell": {
          "title": "",
          "showTitle": false,
          "inputWidgets": {},
          "nuid": "f910789c-b73d-4227-95a3-4c45eee4a268"
        }
      }
    },
    {
      "cell_type": "code",
      "source": [
        "anomaly_weights = [10,50,100,150, 200]\n",
        "num_folds = 5\n",
        "kfold = KFold(n_splits=num_folds, shuffle=True, random_state = 100)"
      ],
      "metadata": {
        "id": "0IHGUhYbHWVH",
        "application/vnd.databricks.v1+cell": {
          "title": "",
          "showTitle": false,
          "inputWidgets": {},
          "nuid": "9ec950ef-d9ad-4296-bbee-a11e85e17b1d"
        }
      },
      "outputs": [],
      "execution_count": null
    },
    {
      "cell_type": "code",
      "source": [
        "mlflow.set_experiment(\"/Users/thddn19@yonsei.ac.kr/sklearn_creditcard_guided_search\")\n",
        "logs = []\n",
        "for i in range(len(anomaly_weights)):\n",
        "  fold = 1\n",
        "  accuracies = []\n",
        "  auc_scores = []\n",
        "  for train, test in kfold.split(x_val, y_val):\n",
        "    with mlflow.start_run() : \n",
        "      weight = anomaly_weights[i]\n",
        "      mlflow.log_param(\"anomaly_weight\", weight)\n",
        "      class_weights= {\n",
        "          0: 1,\n",
        "          1: weight\n",
        "      }\n",
        "      sk_model = LogisticRegression(random_state = None, \n",
        "                                     max_iter = 400,\n",
        "                                     solver = 'newton-cg',\n",
        "                                     class_weight=class_weights).fit(x_val[train], y_val[train])\n",
        "      for j in range(40): print('-', end = \"\")\n",
        "      print(f\"\\n fold {fold} \\n Anomaly Weight: {weight}\")\n",
        "      train_acc = sk_model.score(x_val[train], y_val[train])\n",
        "      mlflow.log_metric(\"trian_acc\", train_acc)\n",
        "      eval_acc = sk_model.score(x_val[test], y_val[test])\n",
        "      preds = sk_model.predict(x_val[test])\n",
        "\n",
        "      mlflow.log_metric(\"eval_acc\", eval_acc)\n",
        "\n",
        "      try :\n",
        "        auc_score = roc_auc_score(y_val[test], preds)\n",
        "      except :\n",
        "        auc_score = -1\n",
        "\n",
        "      mlflow.log_metric(\"auc_score\", auc_score)\n",
        "\n",
        "      print(f\"AUC: {auc_score}\\n eval_acc: {eval_acc}\")\n",
        "\n",
        "      accuracies.append(eval_acc)\n",
        "      auc_scores.append(auc_score)\n",
        "\n",
        "      log = [sk_model, x_val[test], y_val[test], preds]\n",
        "      logs.append(log)\n",
        "      mlflow.sklearn.log_model(sk_model, f\"anom_weight_{weight}_fold_{fold}\")\n",
        "      fold+=1\n",
        "      mlflow.end_run()"
      ],
      "metadata": {
        "id": "eF6lwro8HWVY",
        "colab": {
          "base_uri": "https://localhost:8080/"
        },
        "outputId": "200125aa-ecda-4ff6-f963-0cdf3204c1cb",
        "application/vnd.databricks.v1+cell": {
          "title": "",
          "showTitle": false,
          "inputWidgets": {},
          "nuid": "c71dd49d-3655-478f-beae-625310d5225d"
        }
      },
      "outputs": [
        {
          "output_type": "stream",
          "name": "stdout",
          "text": [
            "----------------------------------------\n",
            " fold 1 \n",
            " Anomaly Weight: 10\n",
            "AUC: 0.9491208018287322\n",
            " eval_acc: 0.9978973190818293\n",
            "----------------------------------------\n",
            " fold 2 \n",
            " Anomaly Weight: 10\n",
            "AUC: 0.8326297273526825\n",
            " eval_acc: 0.9973711882229233\n",
            "----------------------------------------\n",
            " fold 3 \n",
            " Anomaly Weight: 10\n",
            "AUC: 0.8806005779620555\n",
            " eval_acc: 0.998422712933754\n",
            "----------------------------------------\n",
            " fold 4 \n",
            " Anomaly Weight: 10\n",
            "AUC: 0.8416656640722607\n",
            " eval_acc: 0.9980722046968104\n",
            "----------------------------------------\n",
            " fold 5 \n",
            " Anomaly Weight: 10\n",
            "AUC: 0.9712552742616034\n",
            " eval_acc: 0.9978969505783386\n",
            "----------------------------------------\n",
            " fold 1 \n",
            " Anomaly Weight: 50\n",
            "AUC: 0.9470986460348162\n",
            " eval_acc: 0.9938671806553355\n",
            "----------------------------------------\n",
            " fold 2 \n",
            " Anomaly Weight: 50\n",
            "AUC: 0.9016836285965574\n",
            " eval_acc: 0.9931650893796005\n",
            "----------------------------------------\n",
            " fold 3 \n",
            " Anomaly Weight: 50\n",
            "AUC: 0.9027390375675336\n",
            " eval_acc: 0.9952681388012619\n",
            "----------------------------------------\n",
            " fold 4 \n",
            " Anomaly Weight: 50\n",
            "AUC: 0.8925388466770937\n",
            " eval_acc: 0.9949176305643183\n",
            "----------------------------------------\n",
            " fold 5 \n",
            " Anomaly Weight: 50\n",
            "AUC: 0.9687060478199719\n",
            " eval_acc: 0.9928145811426569\n",
            "----------------------------------------\n",
            " fold 1 \n",
            " Anomaly Weight: 100\n",
            "AUC: 0.944373131703886\n",
            " eval_acc: 0.9884352549500613\n",
            "----------------------------------------\n",
            " fold 2 \n",
            " Anomaly Weight: 100\n",
            "AUC: 0.9226787284834779\n",
            " eval_acc: 0.9877322117069751\n",
            "----------------------------------------\n",
            " fold 3 \n",
            " Anomaly Weight: 100\n",
            "AUC: 0.9236461867068727\n",
            " eval_acc: 0.9896600070101648\n",
            "----------------------------------------\n",
            " fold 4 \n",
            " Anomaly Weight: 100\n",
            "AUC: 0.890780450334558\n",
            " eval_acc: 0.9914125481948826\n",
            "----------------------------------------\n",
            " fold 5 \n",
            " Anomaly Weight: 100\n",
            "AUC: 0.9651019690576652\n",
            " eval_acc: 0.9856291622853137\n",
            "----------------------------------------\n",
            " fold 1 \n",
            " Anomaly Weight: 150\n",
            "AUC: 0.9422630560928432\n",
            " eval_acc: 0.98422989311372\n",
            "----------------------------------------\n",
            " fold 2 \n",
            " Anomaly Weight: 150\n",
            "AUC: 0.9450810403316999\n",
            " eval_acc: 0.9851033999298984\n",
            "----------------------------------------\n",
            " fold 3 \n",
            " Anomaly Weight: 150\n",
            "AUC: 0.9194245508229677\n",
            " eval_acc: 0.9812478093235191\n",
            "----------------------------------------\n",
            " fold 4 \n",
            " Anomaly Weight: 150\n",
            "AUC: 0.8883186954550082\n",
            " eval_acc: 0.9865054328776727\n",
            "----------------------------------------\n",
            " fold 5 \n",
            " Anomaly Weight: 150\n",
            "AUC: 0.9624648382559775\n",
            " eval_acc: 0.9803715387311602\n",
            "----------------------------------------\n",
            " fold 1 \n",
            " Anomaly Weight: 200\n",
            "AUC: 0.9403288201160541\n",
            " eval_acc: 0.9803749780970737\n",
            "----------------------------------------\n",
            " fold 2 \n",
            " Anomaly Weight: 200\n",
            "AUC: 0.9422666164090966\n",
            " eval_acc: 0.9794952681388013\n",
            "----------------------------------------\n",
            " fold 3 \n",
            " Anomaly Weight: 200\n",
            "AUC: 0.9398039954768186\n",
            " eval_acc: 0.9745881528215913\n",
            "----------------------------------------\n",
            " fold 4 \n",
            " Anomaly Weight: 200\n",
            "AUC: 0.8863844594782191\n",
            " eval_acc: 0.9826498422712934\n",
            "----------------------------------------\n",
            " fold 5 \n",
            " Anomaly Weight: 200\n",
            "AUC: 0.9871659634317862\n",
            " eval_acc: 0.9744128987031195\n"
          ]
        }
      ],
      "execution_count": null
    },
    {
      "cell_type": "code",
      "source": [
        "print(\"\\n Averages :\")\n",
        "print(f\"Accuracy: {np.mean(accuracies)}\")\n",
        "print(\"Best: \")\n",
        "print(f\"Accuracy: {np.max(accuracies)}\")\n",
        "print(f\"AUC: {np.max(auc_scores)}\" )"
      ],
      "metadata": {
        "id": "TO3NCiX_H_An",
        "colab": {
          "base_uri": "https://localhost:8080/"
        },
        "outputId": "3ce77303-2c28-425f-bc55-93a54e3f29ea",
        "application/vnd.databricks.v1+cell": {
          "title": "",
          "showTitle": false,
          "inputWidgets": {},
          "nuid": "6c8e1df8-8493-4ddd-9847-f037b301c128"
        }
      },
      "outputs": [
        {
          "output_type": "stream",
          "name": "stdout",
          "text": [
            "\n",
            " Averages :\n",
            "Accuracy: 0.9783042280063758\n",
            "Best: \n",
            "Accuracy: 0.9826498422712934\n",
            "AUC: 0.9871659634317862\n"
          ]
        }
      ],
      "execution_count": null
    },
    {
      "cell_type": "markdown",
      "source": [
        "이후 다시 필터링으로 가중치를 살펴보자"
      ],
      "metadata": {
        "id": "n9ePPv1GQsOx",
        "application/vnd.databricks.v1+cell": {
          "title": "",
          "showTitle": false,
          "inputWidgets": {},
          "nuid": "183e64d4-e281-4d75-876b-f7cfa27ba693"
        }
      }
    },
    {
      "cell_type": "code",
      "source": [
        "# param.anomaly_weight = \"5\" \n",
        "# param.anomaly_weight = \"50\" \n",
        "# param.anomaly_weight = \"100\" \n",
        "# param.anomaly_weight = \"150\" \n",
        "# param.anomaly_weight = \"200\" "
      ],
      "metadata": {
        "id": "Dgbf6cls2THn",
        "application/vnd.databricks.v1+cell": {
          "title": "",
          "showTitle": false,
          "inputWidgets": {},
          "nuid": "6769fad8-8cdd-46f1-a5f7-48f3fb13c4c6"
        }
      },
      "outputs": [],
      "execution_count": null
    },
    {
      "cell_type": "markdown",
      "source": [
        "AUC 점수가 가중치값과 비례관계를 갖고 있다는 것을 고려해야하기는 하지만, 200이 가장 적절한 값이었다."
      ],
      "metadata": {
        "id": "nQ0FqXt80orm",
        "application/vnd.databricks.v1+cell": {
          "title": "",
          "showTitle": false,
          "inputWidgets": {},
          "nuid": "7696d505-71e6-4023-9c12-71ac7005a339"
        }
      }
    },
    {
      "cell_type": "markdown",
      "source": [
        "# MLFlow 및 TensorFlow 2.0(Keras)\n",
        "MNIST손글씨 dataset을 이용해 MLFlow 테스트를 진행한다.\n",
        "사이킷런 라이브러와 비슷하다."
      ],
      "metadata": {
        "id": "aYcTiDrORi_4",
        "application/vnd.databricks.v1+cell": {
          "title": "",
          "showTitle": false,
          "inputWidgets": {},
          "nuid": "6e73b98b-2adb-4499-8fcd-df749870eedd"
        }
      }
    },
    {
      "cell_type": "code",
      "source": [
        "import tensorflow as tf\n",
        "from tensorflow.keras.models import Sequential\n",
        "from tensorflow.keras.layers import Dense, Conv2D, Flatten\n",
        "from tensorflow.keras.datasets import mnist\n",
        "import numpy as np\n",
        "import matplotlib\n",
        "import matplotlib.pyplot as plt\n",
        "import sklearn\n",
        "from sklearn.metrics import roc_auc_score\n",
        "import mlflow\n",
        "import mlflow.tensorflow\n",
        "\n",
        "print(f\"TensorFlow: {tf.__version__}\")\n",
        "print(f\"MLFlow: {mlflow.__version__}\")"
      ],
      "metadata": {
        "id": "6LrMaBA3Rxu1",
        "colab": {
          "base_uri": "https://localhost:8080/"
        },
        "outputId": "a071c51e-05f5-4a0d-b103-f84c1e331a6d",
        "application/vnd.databricks.v1+cell": {
          "title": "",
          "showTitle": false,
          "inputWidgets": {},
          "nuid": "d51284dd-7085-4dfc-9e50-d3b3bf32c5b2"
        }
      },
      "outputs": [
        {
          "output_type": "stream",
          "name": "stdout",
          "text": [
            "TensorFlow: 2.8.0\n",
            "MLFlow: 1.23.0\n"
          ]
        }
      ],
      "execution_count": null
    },
    {
      "cell_type": "code",
      "source": [
        "(x_train, y_train), (x_test, y_test) = mnist.load_data()"
      ],
      "metadata": {
        "id": "kwG0RWQsSmtD",
        "colab": {
          "base_uri": "https://localhost:8080/"
        },
        "outputId": "00ca0986-db45-485c-b2ed-07b5502b5276",
        "application/vnd.databricks.v1+cell": {
          "title": "",
          "showTitle": false,
          "inputWidgets": {},
          "nuid": "3623a0e3-109d-4546-bd86-29f531c419f0"
        }
      },
      "outputs": [
        {
          "output_type": "stream",
          "name": "stdout",
          "text": [
            "Downloading data from https://storage.googleapis.com/tensorflow/tf-keras-datasets/mnist.npz\n",
            "11493376/11490434 [==============================] - 0s 0us/step\n",
            "11501568/11490434 [==============================] - 0s 0us/step\n"
          ]
        }
      ],
      "execution_count": null
    },
    {
      "cell_type": "code",
      "source": [
        "plt.imshow(x_train[0], cmap='gray'), print(\"Class: \", y_train[0])"
      ],
      "metadata": {
        "id": "8A89ERmKSvqv",
        "colab": {
          "base_uri": "https://localhost:8080/",
          "height": 303
        },
        "outputId": "ec9d1979-86c1-4e16-aad5-c4567ce5d632",
        "application/vnd.databricks.v1+cell": {
          "title": "",
          "showTitle": false,
          "inputWidgets": {},
          "nuid": "b8a9c5fa-1890-4c38-9586-c69fe2f76751"
        }
      },
      "outputs": [
        {
          "output_type": "stream",
          "name": "stdout",
          "text": [
            "Class:  5\n"
          ]
        },
        {
          "output_type": "execute_result",
          "data": {
            "text/plain": [
              "(<matplotlib.image.AxesImage at 0x7f2a6ee42790>, None)"
            ]
          },
          "metadata": {},
          "execution_count": 42
        },
        {
          "output_type": "display_data",
          "data": {
            "text/plain": [
              "<Figure size 432x288 with 1 Axes>"
            ],
            "image/png": "[encoded data removed]"
          },
          "metadata": {
            "needs_background": "light"
          }
        }
      ],
      "execution_count": null
    },
    {
      "cell_type": "markdown",
      "source": [
        "한편, CNN은 샘플수, 높이, 너비, 채널을 인자로 받기 때문에 데이터를 다시 구성해야한다. <br>\n",
        "\n",
        "y값 또한 원-핫 인코딩 형식으로 변환하자."
      ],
      "metadata": {
        "id": "gdR3Ymj_TSXN",
        "application/vnd.databricks.v1+cell": {
          "title": "",
          "showTitle": false,
          "inputWidgets": {},
          "nuid": "557eee72-d0de-44b9-ac05-af9229c11832"
        }
      }
    },
    {
      "cell_type": "code",
      "source": [
        "x_train = x_train.reshape(x_train.shape[0], x_train.shape[1], x_train.shape[2], 1) # 흑백이므로 1\n",
        "x_test = x_test.reshape(x_test.shape[0], x_test.shape[1], x_test.shape[2], 1) \n",
        "\n",
        "print(f\"x_train_shape: {x_train.shape}\")  # x_train_shape: (60000, 28, 28, 1)\n",
        "print(f\"x_test_shape: {x_test.shape}\")  # x_test_shape: (10000, 28, 28, 1)"
      ],
      "metadata": {
        "id": "iQ4uhm8KTIDV",
        "colab": {
          "base_uri": "https://localhost:8080/"
        },
        "outputId": "e0e4520d-ea8b-4055-88c3-4b787d87f5c5",
        "application/vnd.databricks.v1+cell": {
          "title": "",
          "showTitle": false,
          "inputWidgets": {},
          "nuid": "4d418a6f-b94d-49fb-97fd-49f61eaf06a5"
        }
      },
      "outputs": [
        {
          "output_type": "stream",
          "name": "stdout",
          "text": [
            "x_train_shape: (60000, 28, 28, 1)\n",
            "x_test_shape: (10000, 28, 28, 1)\n"
          ]
        }
      ],
      "execution_count": null
    },
    {
      "cell_type": "code",
      "source": [
        "y_train = tf.keras.utils.to_categorical(y_train, 10)  # 원-핫 인코딩. 1차원 -> 2차원\n",
        "y_test = tf.keras.utils.to_categorical(y_test, 10)\n",
        "\n",
        "print(f\"y_train_shape: {y_train.shape}\")  # y_train_shape: (60000, 10)\n",
        "print(f\"y_test_shape: {y_test.shape}\")  # y_test_shape: (10000, 10)"
      ],
      "metadata": {
        "colab": {
          "base_uri": "https://localhost:8080/"
        },
        "id": "gOQSEwB-9vyN",
        "outputId": "0118ff6f-d88c-4269-95c7-d1771ba4aa0e",
        "application/vnd.databricks.v1+cell": {
          "title": "",
          "showTitle": false,
          "inputWidgets": {},
          "nuid": "a3812205-1a2c-4786-af76-f9dda9af334a"
        }
      },
      "outputs": [
        {
          "output_type": "stream",
          "name": "stdout",
          "text": [
            "y_train_shape: (60000, 10)\n",
            "y_test_shape: (10000, 10)\n"
          ]
        }
      ],
      "execution_count": null
    },
    {
      "cell_type": "markdown",
      "source": [
        "## MLFlow 실행 - 학습 및 평가\n",
        "이미지이므로 CNN 모델을 생성하자"
      ],
      "metadata": {
        "id": "jAuMYrFVUrvj",
        "application/vnd.databricks.v1+cell": {
          "title": "",
          "showTitle": false,
          "inputWidgets": {},
          "nuid": "a100a326-fd4c-41b8-8b66-d2f81716cffc"
        }
      }
    },
    {
      "cell_type": "code",
      "source": [
        "model = Sequential()\n",
        "model.add(Conv2D(filters=16, kernel_size=3, strides=2, padding='same', input_shape=(28,28,1), activation='relu'))\n",
        "model.add(Conv2D(filters=8, kernel_size=3, strides=2, padding='same', input_shape=(28,28,1), activation='relu'))\n",
        "model.add(Flatten())\n",
        "model.add(Dense(30, activation='relu'))\n",
        "model.add(Dense(20, activation='relu'))\n",
        "model.add(Dense(10, activation='softmax'))\n",
        "model.summary()"
      ],
      "metadata": {
        "id": "9Ke6_ACNUvEi",
        "colab": {
          "base_uri": "https://localhost:8080/"
        },
        "outputId": "a416f450-dfcf-4cec-c704-cfebb45c4c3f",
        "application/vnd.databricks.v1+cell": {
          "title": "",
          "showTitle": false,
          "inputWidgets": {},
          "nuid": "621344eb-6adc-44bd-85dc-2485e4451e47"
        }
      },
      "outputs": [
        {
          "output_type": "stream",
          "name": "stdout",
          "text": [
            "Model: \"sequential\"\n",
            "_________________________________________________________________\n",
            " Layer (type)                Output Shape              Param #   \n",
            "=================================================================\n",
            " conv2d (Conv2D)             (None, 14, 14, 16)        160       \n",
            "                                                                 \n",
            " conv2d_1 (Conv2D)           (None, 7, 7, 8)           1160      \n",
            "                                                                 \n",
            " flatten (Flatten)           (None, 392)               0         \n",
            "                                                                 \n",
            " dense (Dense)               (None, 30)                11790     \n",
            "                                                                 \n",
            " dense_1 (Dense)             (None, 20)                620       \n",
            "                                                                 \n",
            " dense_2 (Dense)             (None, 10)                210       \n",
            "                                                                 \n",
            "=================================================================\n",
            "Total params: 13,940\n",
            "Trainable params: 13,940\n",
            "Non-trainable params: 0\n",
            "_________________________________________________________________\n"
          ]
        }
      ],
      "execution_count": null
    },
    {
      "cell_type": "markdown",
      "source": [
        "다음 Adam Optimizer를 사용, 손실함수는 Categorical_crossentropy"
      ],
      "metadata": {
        "id": "UgAp1f__VUb1",
        "application/vnd.databricks.v1+cell": {
          "title": "",
          "showTitle": false,
          "inputWidgets": {},
          "nuid": "a5e02226-e5ce-4d9d-aaf0-9b54a29f5d82"
        }
      }
    },
    {
      "cell_type": "code",
      "source": [
        "model.compile(optimizer=\"Adam\", loss=\"categorical_crossentropy\", metrics=[\"accuracy\"])"
      ],
      "metadata": {
        "id": "AgB9CnnTWxKO",
        "application/vnd.databricks.v1+cell": {
          "title": "",
          "showTitle": false,
          "inputWidgets": {},
          "nuid": "9e88bc66-b1ff-46d3-84a7-8dcf848a6c7f"
        }
      },
      "outputs": [],
      "execution_count": null
    },
    {
      "cell_type": "markdown",
      "source": [
        "이제 MLFlow를 이용해 모델을 저장 및 로깅해보자"
      ],
      "metadata": {
        "id": "pINAncZlYElP",
        "application/vnd.databricks.v1+cell": {
          "title": "",
          "showTitle": false,
          "inputWidgets": {},
          "nuid": "dbf49e78-5479-4a90-8337-bf0e4069fe23"
        }
      }
    },
    {
      "cell_type": "code",
      "source": [
        "mlflow.set_experiment(\"/Users/thddn19@yonsei.ac.kr/TF_Keras_MNIST\")\n",
        "with mlflow.start_run():  \n",
        "  mlflow.tensorflow.autolog() # 이 부분이 추가되었는데, 모델과 관련된 모든 파라미터와 지표를 기록하도록 한다.\n",
        "  model.fit(x_train, y_train, batch_size=256, epochs = 10)\n",
        "  preds = np.round(model.predict(x_test))\n",
        "  eval_acc = model.evaluate(x_test, y_test)[1]\n",
        "  auc_score = roc_auc_score(y_test, preds)\n",
        "\n",
        "  print(f\"eval_acc: {eval_acc}\")\n",
        "  print(f\"auc_score: {auc_score}\")\n",
        "\n",
        "  mlflow.tensorflow.mlflow.log_metric(\"eval_acc\", eval_acc)\n",
        "  mlflow.tensorflow.mlflow.log_metric(\"auc_score\", auc_score)\n",
        "mlflow.end_run() "
      ],
      "metadata": {
        "id": "rNgj2dtPYW3P",
        "colab": {
          "base_uri": "https://localhost:8080/"
        },
        "outputId": "b22d70d4-16bc-4b36-c3ea-e9cd0b40ab59",
        "application/vnd.databricks.v1+cell": {
          "title": "",
          "showTitle": false,
          "inputWidgets": {},
          "nuid": "55b0dc44-448e-4aea-aa8a-57ded5496c03"
        }
      },
      "outputs": [
        {
          "output_type": "stream",
          "name": "stderr",
          "text": [
            "2022/03/28 09:28:45 WARNING mlflow.utils.autologging_utils: You are using an unsupported version of tensorflow. If you encounter errors during autologging, try upgrading / downgrading tensorflow to a supported version, or try upgrading MLflow.\n"
          ]
        },
        {
          "output_type": "stream",
          "name": "stdout",
          "text": [
            "Epoch 1/10\n",
            "235/235 [==============================] - 9s 34ms/step - loss: 1.2203 - accuracy: 0.6515\n",
            "Epoch 2/10\n",
            "235/235 [==============================] - 9s 37ms/step - loss: 0.2443 - accuracy: 0.9279\n",
            "Epoch 3/10\n",
            "235/235 [==============================] - 8s 33ms/step - loss: 0.1574 - accuracy: 0.9528\n",
            "Epoch 4/10\n",
            "235/235 [==============================] - 8s 34ms/step - loss: 0.1172 - accuracy: 0.9644\n",
            "Epoch 5/10\n",
            "235/235 [==============================] - 9s 36ms/step - loss: 0.0960 - accuracy: 0.9701\n",
            "Epoch 6/10\n",
            "235/235 [==============================] - 9s 39ms/step - loss: 0.0812 - accuracy: 0.9754\n",
            "Epoch 7/10\n",
            "235/235 [==============================] - 8s 33ms/step - loss: 0.0703 - accuracy: 0.9783\n",
            "Epoch 8/10\n",
            "235/235 [==============================] - 8s 33ms/step - loss: 0.0640 - accuracy: 0.9800\n",
            "Epoch 9/10\n",
            "235/235 [==============================] - 8s 33ms/step - loss: 0.0575 - accuracy: 0.9814\n",
            "Epoch 10/10\n",
            "235/235 [==============================] - 8s 33ms/step - loss: 0.0532 - accuracy: 0.9834\n",
            "INFO:tensorflow:Assets written to: /tmp/tmplrsnmro0/model/data/model/assets\n"
          ]
        },
        {
          "output_type": "stream",
          "name": "stderr",
          "text": [
            "2022/03/28 09:30:18 WARNING mlflow.utils.requirements_utils: Found jaxlib version (0.3.2+cuda11.cudnn805) contains a local version label (+cuda11.cudnn805). MLflow logged a pip requirement for this package as 'jaxlib==0.3.2' without the local version label to make it installable from PyPI. To specify pip requirements containing local version labels, please use `conda_env` or `pip_requirements`.\n"
          ]
        },
        {
          "output_type": "stream",
          "name": "stdout",
          "text": [
            "313/313 [==============================] - 2s 7ms/step - loss: 0.0714 - accuracy: 0.9780\n",
            "eval_acc: 0.9779999852180481\n",
            "auc_score: 0.9869752220446607\n"
          ]
        }
      ],
      "execution_count": null
    },
    {
      "cell_type": "markdown",
      "source": [
        "다시 databricks 커뮤니티에 들어가서 확인하면 정상적으로 기록 된 것을 볼 수 있다."
      ],
      "metadata": {
        "id": "qDF_nPVIfEYd",
        "application/vnd.databricks.v1+cell": {
          "title": "",
          "showTitle": false,
          "inputWidgets": {},
          "nuid": "463879c2-956b-4dfe-bbda-e299a8aa1efa"
        }
      }
    },
    {
      "cell_type": "markdown",
      "source": [
        "## MLFlow에 저장한 모델 다시 불러오기"
      ],
      "metadata": {
        "id": "Uci1akc_hLug",
        "application/vnd.databricks.v1+cell": {
          "title": "",
          "showTitle": false,
          "inputWidgets": {},
          "nuid": "7ba15cf7-a2d6-4628-ba00-a81e4554ede9"
        }
      }
    },
    {
      "cell_type": "code",
      "source": [
        "loaded_model = mlflow.keras.load_model(\"runs:/498bb410cbeb47e29f5869be2ab9270b/model\") # RUN_ID, 따로 이름 설정하지 않았다면 model이 default"
      ],
      "metadata": {
        "id": "G34K6aZyhPfE",
        "application/vnd.databricks.v1+cell": {
          "title": "",
          "showTitle": false,
          "inputWidgets": {},
          "nuid": "1327be01-a1ce-4c50-bb8e-e3c2a135c073"
        }
      },
      "outputs": [],
      "execution_count": null
    },
    {
      "cell_type": "code",
      "source": [
        "eval_loss, eval_acc = loaded_model.evaluate(x_test, y_test)\n",
        "pred = np.round(loaded_model.predict(x_test))\n",
        "eval_auc = roc_auc_score(y_test, preds)\n",
        "print(\"Eval Loss:\", eval_loss) \n",
        "print(\"Eval Acc:\", eval_acc)\n",
        "print(\"Eval AUC:\", eval_auc)"
      ],
      "metadata": {
        "id": "IjDFt11thidO",
        "colab": {
          "base_uri": "https://localhost:8080/"
        },
        "outputId": "2b70f101-f8a8-40e0-8248-126c83f2c999",
        "application/vnd.databricks.v1+cell": {
          "title": "",
          "showTitle": false,
          "inputWidgets": {},
          "nuid": "ce07c817-93d3-4cf5-8248-44872141d2f6"
        }
      },
      "outputs": [
        {
          "output_type": "stream",
          "name": "stdout",
          "text": [
            "313/313 [==============================] - 2s 5ms/step - loss: 0.1268 - accuracy: 0.9803\n",
            "Eval Loss: 0.12675032019615173\n",
            "Eval Acc: 0.9803000092506409\n",
            "Eval AUC: 0.9869752220446607\n"
          ]
        }
      ],
      "execution_count": null
    },
    {
      "cell_type": "markdown",
      "source": [
        "평가지표를 보면 저장할 때의 모델과 비슷하다는 것을 알 수 있다."
      ],
      "metadata": {
        "id": "2-yo63fliP0L",
        "application/vnd.databricks.v1+cell": {
          "title": "",
          "showTitle": false,
          "inputWidgets": {},
          "nuid": "208d98d6-8bf3-4d2e-a96f-2346a9b73463"
        }
      }
    },
    {
      "cell_type": "markdown",
      "source": [
        "# MLFlow와 PyTorch, PySpark\n",
        "문법은 조금씩 다르지만, 전체적인 흐름은 거의 비슷하다."
      ],
      "metadata": {
        "id": "CPbG2DXUiXk6",
        "application/vnd.databricks.v1+cell": {
          "title": "",
          "showTitle": false,
          "inputWidgets": {},
          "nuid": "9e313300-6b60-4256-be28-7f845befbdb9"
        }
      }
    },
    {
      "cell_type": "markdown",
      "source": [
        "# 모델 서빙 및 배포 (Azure, databricks)\n",
        "databricks에 experiment를 저장 및 notebook실행, Azure workspace에서는 model registry와 model deployment를 진행하도록 하는 설정이다.\n",
        "책에서 진행한 과정이며, 책에 나온 버전대로 잘 맞춰줘야하고, 그렇지 않을 경우 실패한다."
      ],
      "metadata": {
        "id": "1_QmBJJexdLx"
      }
    },
    {
      "cell_type": "code",
      "source": [
        "! pip install azureml-sdk"
      ],
      "metadata": {
        "application/vnd.databricks.v1+cell": {
          "title": "",
          "showTitle": false,
          "inputWidgets": {},
          "nuid": "10d50e0c-ec3a-4486-a72a-84d5d3590a17"
        },
        "id": "YER8U8zxxdLx"
      },
      "outputs": [],
      "execution_count": null
    },
    {
      "cell_type": "code",
      "source": [
        "import azureml\n",
        "from azureml.core import Workspace\n",
        "workspace_name = \"songmlopswork\"\n",
        "workspace_location = \"koreacentral\"\n",
        "resource_group = \"song_mlops\"\n",
        "subscription_id = \"XXXXXXX-XXXX\"\n",
        "\n",
        "workspace = Workspace.create(name = workspace_name,\n",
        "                            location = workspace_location,\n",
        "                            resource_group = resource_group,\n",
        "                            subscription_id = subscription_id,\n",
        "                            exist_ok = True)"
      ],
      "metadata": {
        "application/vnd.databricks.v1+cell": {
          "title": "",
          "showTitle": false,
          "inputWidgets": {},
          "nuid": "902045fb-8937-4b8a-ab1e-b80c7388fca3"
        },
        "id": "pV7cz2cRxdLx"
      },
      "outputs": [],
      "execution_count": null
    },
    {
      "cell_type": "code",
      "source": [
        "run_id = 'b95e615c15e14ed69b6cca4c11f7eb04'\n",
        "model_name = \"log_reg_model\"\n",
        "model_uri = f\"runs:/{run_id}/{model_name}\""
      ],
      "metadata": {
        "application/vnd.databricks.v1+cell": {
          "title": "",
          "showTitle": false,
          "inputWidgets": {},
          "nuid": "5123531b-65e4-41dc-908c-a5ee0d3649a2"
        },
        "id": "Laz6Aeh0xdLy"
      },
      "outputs": [],
      "execution_count": null
    },
    {
      "cell_type": "code",
      "source": [
        "import mlflow.azureml\n",
        "model_image, azure_model = mlflow.azureml.build_image (model_uri = model_uri, workspace=workspace, model_name=\"log_reg_model\", image_name=\"model\", description=\"sklearn logreg model for description\", synchronous=False)\n",
        "model_image.wait_for_creation(show_output=True)"
      ],
      "metadata": {
        "application/vnd.databricks.v1+cell": {
          "title": "",
          "showTitle": false,
          "inputWidgets": {},
          "nuid": "4342731a-814d-48be-afee-6174f064bb56"
        },
        "id": "Btgih8mAxdLy"
      },
      "outputs": [],
      "execution_count": null
    },
    {
      "cell_type": "code",
      "source": [
        "model_uri = 'runs:/b95e615c15e14ed69b6cca4c11f7eb04/log_reg_model' "
      ],
      "metadata": {
        "id": "mdKFfiuR8ZPE"
      },
      "execution_count": null,
      "outputs": []
    },
    {
      "cell_type": "code",
      "source": [
        "azure_service, azure_model  = mlflow.azureml.deploy(model_uri, workspace, service_name=\"sklearn-creditcardfraud-srvc1\", model_name=\"sklearn_creditcard_model1\")"
      ],
      "metadata": {
        "application/vnd.databricks.v1+cell": {
          "title": "",
          "showTitle": false,
          "inputWidgets": {},
          "nuid": "eeea014a-036a-470a-a284-f0f49a363dd7"
        },
        "id": "tYY4zUVGxdLy"
      },
      "outputs": [],
      "execution_count": null
    },
    {
      "cell_type": "code",
      "source": [
        "azure_service.scoring_uri"
      ],
      "metadata": {
        "application/vnd.databricks.v1+cell": {
          "title": "",
          "showTitle": false,
          "inputWidgets": {},
          "nuid": "d76545d4-8822-4ede-9470-f239996e297c"
        },
        "id": "9uEwoz9UxdLy"
      },
      "outputs": [],
      "execution_count": null
    },
    {
      "cell_type": "code",
      "source": [
        "import requests\n",
        "import json\n",
        "def query(scoring_uri, inputs) :\n",
        "    headers = {\n",
        "        \"Content-Type\": \"application.json\",\n",
        "    }\n",
        "    response = requests.post(scoring_uri, data=inputs,\n",
        "                            headers=headers)\n",
        "    headers=headers,\n",
        "    preds = json,"
      ],
      "metadata": {
        "application/vnd.databricks.v1+cell": {
          "title": "",
          "showTitle": false,
          "inputWidgets": {},
          "nuid": "a30e789f-eb32-4705-ba25-02df5ae15834"
        },
        "id": "ImKatxrmxdLy"
      },
      "outputs": [],
      "execution_count": null
    },
    {
      "cell_type": "markdown",
      "source": [
        "# 모델 등록 및 배포하기 (Azure, Azure Notebook)\n",
        "Azure notebook에 ipynb로 export하는 칸이 따로 없어서 그냥 참고용으로 붙인다."
      ],
      "metadata": {
        "id": "8LUXtOwoEn2W"
      }
    },
    {
      "cell_type": "markdown",
      "source": [
        "## 모델 등록"
      ],
      "metadata": {
        "id": "EgoDvH4fEyPO"
      }
    },
    {
      "cell_type": "code",
      "source": [
        "model_uri = \"runs:/{}/model\".format(run.info.run_id)\n",
        "model = mlflow.register_model(model_uri, \"sklearn_creditcard_model\")"
      ],
      "metadata": {
        "id": "Mzn9g6ivE442"
      },
      "execution_count": null,
      "outputs": []
    },
    {
      "cell_type": "code",
      "source": [
        "model.id = 'sklearn_creditcard_model:6'"
      ],
      "metadata": {
        "id": "_nZCK8EoE4_u"
      },
      "execution_count": null,
      "outputs": []
    },
    {
      "cell_type": "markdown",
      "source": [
        "## 모델 배포\n",
        "Azure환경에서는 배포까지 성공했다. <br>\n",
        "다만, inferenceConfig클래스에 사용되는 entry_script를 설정할 때 score.py의 init, run을 어떻게 구성해야할지 모르겠어서 좀 더 공부하고 진행하기로 했다."
      ],
      "metadata": {
        "id": "vxi8rSQVFH2x"
      }
    },
    {
      "cell_type": "code",
      "source": [
        "# 배포를 위한 환경설정\n",
        "from azureml.core.environment import Environment\n",
        "from azureml.core.conda_dependencies import CondaDependencies\n",
        "from azureml.core.webservice import AciWebservice\n",
        "\n",
        "# 엔드포인트 처리 컴퓨팅 사양 설정\n",
        "env = Environment.get(\n",
        "    workspace=ws, \n",
        "    name=\"AzureML-sklearn-0.24.1-ubuntu18.04-py37-cpu-inference\",\n",
        "    version=1\n",
        ")\n",
        "env.inferencing_stack_version='latest'\n",
        "\n",
        "# 배포 관련 설정 i.e. compute resources\n",
        "aciconfig = AciWebservice.deploy_configuration(\n",
        "    cpu_cores=1,\n",
        "    memory_gb=1,\n",
        "    tags={\"data\": \"kaggle_CreaditCard\", \"method\": \"sklearn\"},\n",
        "    description=\"Predict CreditCard fraud with sklearn\",\n",
        ")\n"
      ],
      "metadata": {
        "id": "LSOn6U8ZE5FL"
      },
      "execution_count": null,
      "outputs": []
    },
    {
      "cell_type": "code",
      "source": [
        "from azureml.core.model import InferenceConfig\n",
        "from azureml.core.environment import Environment\n",
        "from azureml.core.model import Model\n",
        "\n",
        "\n",
        "# 추론 설정 i.e. the scoring script and environment\n",
        "inference_config = InferenceConfig(entry_script=\"echo_score.py\", environment=env)\n",
        "\n",
        "# 서비스 배포\n",
        "service_name = \"sklearn-creditcardfraud-srvc\"\n",
        "service = Model.deploy(\n",
        "    workspace=ws,\n",
        "    name=service_name,\n",
        "    models=[model],\n",
        "    inference_config=inference_config,\n",
        "    deployment_config=aciconfig,\n",
        "    overwrite=True\n",
        ")\n",
        "\n",
        "service.wait_for_deployment(show_output=True)"
      ],
      "metadata": {
        "id": "MgHBREoNE5MK"
      },
      "execution_count": null,
      "outputs": []
    },
    {
      "cell_type": "code",
      "source": [
        "# 서비스 배포 관련 로그 출력\n",
        "print(service.get_logs())"
      ],
      "metadata": {
        "id": "5xc6O0iYE5PR"
      },
      "execution_count": null,
      "outputs": []
    },
    {
      "cell_type": "code",
      "source": [
        "# 엔드포인트 종료 및 삭제\n",
        "service.delete()"
      ],
      "metadata": {
        "id": "fLnXZ4iVE5St"
      },
      "execution_count": null,
      "outputs": []
    },
    {
      "cell_type": "markdown",
      "source": [
        "# 정리\n",
        "MLOps원칙을 통합해 다양한 프레임워크를 지원하는 API인 MLFlow를 이용해 지표, 파라미터, 그래프 및 모델 자체를 로깅하는 방법에 대해 알아봤다."
      ],
      "metadata": {
        "id": "xHqkDh9W-ksT",
        "application/vnd.databricks.v1+cell": {
          "title": "",
          "showTitle": false,
          "inputWidgets": {},
          "nuid": "8c84f452-cd51-4958-a5b6-34a06c6a12a3"
        }
      }
    }
  ],
  "metadata": {
    "colab": {
      "name": "MLFlow를 이용한 MLOps 실습 + Azure",
      "provenance": [],
      "collapsed_sections": [],
      "include_colab_link": true
    },
    "kernelspec": {
      "name": "python3",
      "display_name": "Python 3"
    },
    "language_info": {
      "name": "python"
    },
    "application/vnd.databricks.v1+notebook": {
      "notebookName": "MLFlow_테스트",
      "dashboards": [],
      "notebookMetadata": {
        "pythonIndentUnit": 4
      },
      "language": "python",
      "widgets": {},
      "notebookOrigID": 4251496271909166
    }
  },
  "nbformat": 4,
  "nbformat_minor": 0
}