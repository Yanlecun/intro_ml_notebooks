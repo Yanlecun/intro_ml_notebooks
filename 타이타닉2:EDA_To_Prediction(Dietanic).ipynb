{
  "metadata": {
    "kernelspec": {
      "language": "python",
      "display_name": "Python 3",
      "name": "python3"
    },
    "language_info": {
      "pygments_lexer": "ipython3",
      "nbconvert_exporter": "python",
      "version": "3.6.4",
      "file_extension": ".py",
      "codemirror_mode": {
        "name": "ipython",
        "version": 3
      },
      "name": "python",
      "mimetype": "text/x-python"
    },
    "colab": {
      "name": "타이타닉2 : EDA To Prediction(Dietanic).ipynb",
      "provenance": [],
      "collapsed_sections": [],
      "toc_visible": true,
      "include_colab_link": true
    }
  },
  "nbformat_minor": 0,
  "nbformat": 4,
  "cells": [
    {
      "cell_type": "markdown",
      "metadata": {
        "id": "view-in-github",
        "colab_type": "text"
      },
      "source": [
        "<a href=\"https://colab.research.google.com/github/Yanlecun/intro_ml_notebooks/blob/main/%ED%83%80%EC%9D%B4%ED%83%80%EB%8B%892%3AEDA_To_Prediction(Dietanic).ipynb\" target=\"_parent\"><img src=\"https://colab.research.google.com/assets/colab-badge.svg\" alt=\"Open In Colab\"/></a>"
      ]
    },
    {
      "cell_type": "markdown",
      "source": [
        "sometimes life has a cruel sense of humor, giving you the thing you always wanted at the worst time possible"
      ],
      "metadata": {
        "execution": {
          "iopub.status.busy": "2022-02-02T07:24:46.497786Z",
          "iopub.execute_input": "2022-02-02T07:24:46.49811Z"
        },
        "id": "NK_vjdbLLeil"
      }
    },
    {
      "cell_type": "markdown",
      "source": [
        "sources by : https://www.kaggle.com/ash316/eda-to-prediction-dietanic"
      ],
      "metadata": {
        "id": "T6KsFlyWOK2G"
      }
    },
    {
      "cell_type": "code",
      "source": [
        "# 캐글 설치하기\n",
        "#!pip install kaggle\n",
        "#from google.colab import files\n",
        "#files.upload()"
      ],
      "metadata": {
        "id": "QjwlKJZ9BGg0"
      },
      "execution_count": 14,
      "outputs": []
    },
    {
      "cell_type": "code",
      "source": [
        "#!mkdir -p ~/.kaggle\n",
        "#!cp kaggle.json ~/.kaggle/\n",
        "# !chmod 600 ~/.kaggle/kaggle.json"
      ],
      "metadata": {
        "id": "y-kG-X1gBInB"
      },
      "execution_count": 15,
      "outputs": []
    },
    {
      "cell_type": "code",
      "source": [
        "# ! kaggle competitions download -c titanic"
      ],
      "metadata": {
        "id": "OrqVYP1yDcGd"
      },
      "execution_count": 16,
      "outputs": []
    },
    {
      "cell_type": "code",
      "source": [
        "#import os\n",
        "#for dirname, _, filenames in os.walk('/kaggle/input'):\n",
        "#    for filename in filenames:\n",
        "        #print(os.path.join(dirname, filename))\n"
      ],
      "metadata": {
        "_uuid": "8f2839f25d086af736a60e9eeb907d3b93b6e0e5",
        "_cell_guid": "b1076dfc-b9ad-4769-8c92-a6c4dae69d19",
        "execution": {
          "iopub.status.busy": "2022-01-29T13:24:55.20593Z",
          "iopub.execute_input": "2022-01-29T13:24:55.206349Z",
          "iopub.status.idle": "2022-01-29T13:24:55.215099Z",
          "shell.execute_reply.started": "2022-01-29T13:24:55.206317Z",
          "shell.execute_reply": "2022-01-29T13:24:55.214272Z"
        },
        "id": "_xPjH2nML4WP"
      },
      "execution_count": 17,
      "outputs": []
    },
    {
      "cell_type": "markdown",
      "source": [
        "# (0) 개요\n",
        "<p>\n",
        "2224명 중 1502의 사상자를 내어 'Dietanic'이라고 지었다.\n",
        "특징을 체크, 새로운 특징을 추가하며 머신러닝의 개념을 곁들이는 과정으로 <br> 예측 모델링 문제의 작업흐름이 어떤지에 대한 관점을 줄 것이다.\n",
        "</p>\n",
        "\n",
        "1. EDA\n",
        "    1. 특징에 대한 분석\n",
        "    2. 다양한 특징을 고려한 특징 사이의 관계성이나 방향성 탐색\n",
        "2. Feature Engineering and Data Cleaning\n",
        "    1. 특징 추가\n",
        "    2. 관계 의존도 높은 특징 제거\n",
        "    3. 특징들을 모델링을 위해 적절한 형태로 변형\n",
        "3. Predictive Modeling\n",
        "    1. 기본 알고리즘\n",
        "    2. Cross Validation\n",
        "    3. 앙상블\n",
        "    4. 중요한 특징 추출"
      ],
      "metadata": {
        "id": "0L4Nq-CrLeio"
      }
    },
    {
      "cell_type": "markdown",
      "source": [
        "# (1) EDA"
      ],
      "metadata": {
        "execution": {
          "iopub.status.busy": "2022-02-02T07:58:10.4231Z",
          "iopub.execute_input": "2022-02-02T07:58:10.423408Z",
          "iopub.status.idle": "2022-02-02T07:58:10.427728Z",
          "shell.execute_reply.started": "2022-02-02T07:58:10.423377Z",
          "shell.execute_reply": "2022-02-02T07:58:10.427121Z"
        },
        "id": "SbCUrgvKLeiq"
      }
    },
    {
      "cell_type": "code",
      "source": [
        "import numpy as np\n",
        "import pandas as pd\n",
        "import matplotlib.pyplot as plt\n",
        "import seaborn as sns\n",
        "plt.style.use('fivethirtyeight')\n",
        "import warnings\n",
        "warnings.filterwarnings('ignore')\n",
        "%matplotlib inline"
      ],
      "metadata": {
        "execution": {
          "iopub.status.busy": "2022-02-02T12:41:12.190401Z",
          "iopub.execute_input": "2022-02-02T12:41:12.191153Z",
          "iopub.status.idle": "2022-02-02T12:41:12.200309Z",
          "shell.execute_reply.started": "2022-02-02T12:41:12.191105Z",
          "shell.execute_reply": "2022-02-02T12:41:12.199343Z"
        },
        "trusted": true,
        "id": "QtlCOBQnLeir"
      },
      "execution_count": 18,
      "outputs": []
    },
    {
      "cell_type": "code",
      "source": [
        "data = pd.read_csv('train.csv')"
      ],
      "metadata": {
        "execution": {
          "iopub.status.busy": "2022-02-02T12:41:12.201721Z",
          "iopub.execute_input": "2022-02-02T12:41:12.202124Z",
          "iopub.status.idle": "2022-02-02T12:41:12.219348Z",
          "shell.execute_reply.started": "2022-02-02T12:41:12.202068Z",
          "shell.execute_reply": "2022-02-02T12:41:12.218588Z"
        },
        "trusted": true,
        "id": "MVSEwjHELeis"
      },
      "execution_count": 19,
      "outputs": []
    },
    {
      "cell_type": "code",
      "source": [
        "data.head()"
      ],
      "metadata": {
        "execution": {
          "iopub.status.busy": "2022-02-02T12:41:12.221143Z",
          "iopub.execute_input": "2022-02-02T12:41:12.221501Z",
          "iopub.status.idle": "2022-02-02T12:41:12.237035Z",
          "shell.execute_reply.started": "2022-02-02T12:41:12.221468Z",
          "shell.execute_reply": "2022-02-02T12:41:12.236141Z"
        },
        "trusted": true,
        "colab": {
          "base_uri": "https://localhost:8080/",
          "height": 285
        },
        "id": "Lj5k7xL3Leit",
        "outputId": "db066257-79e4-4d77-b550-bb30b64ddda1"
      },
      "execution_count": 20,
      "outputs": [
        {
          "output_type": "execute_result",
          "data": {
            "text/html": [
              "\n",
              "  <div id=\"df-0aa9445f-07ef-48ea-bd86-58db1f721d23\">\n",
              "    <div class=\"colab-df-container\">\n",
              "      <div>\n",
              "<style scoped>\n",
              "    .dataframe tbody tr th:only-of-type {\n",
              "        vertical-align: middle;\n",
              "    }\n",
              "\n",
              "    .dataframe tbody tr th {\n",
              "        vertical-align: top;\n",
              "    }\n",
              "\n",
              "    .dataframe thead th {\n",
              "        text-align: right;\n",
              "    }\n",
              "</style>\n",
              "<table border=\"1\" class=\"dataframe\">\n",
              "  <thead>\n",
              "    <tr style=\"text-align: right;\">\n",
              "      <th></th>\n",
              "      <th>PassengerId</th>\n",
              "      <th>Survived</th>\n",
              "      <th>Pclass</th>\n",
              "      <th>Name</th>\n",
              "      <th>Sex</th>\n",
              "      <th>Age</th>\n",
              "      <th>SibSp</th>\n",
              "      <th>Parch</th>\n",
              "      <th>Ticket</th>\n",
              "      <th>Fare</th>\n",
              "      <th>Cabin</th>\n",
              "      <th>Embarked</th>\n",
              "    </tr>\n",
              "  </thead>\n",
              "  <tbody>\n",
              "    <tr>\n",
              "      <th>0</th>\n",
              "      <td>1</td>\n",
              "      <td>0</td>\n",
              "      <td>3</td>\n",
              "      <td>Braund, Mr. Owen Harris</td>\n",
              "      <td>male</td>\n",
              "      <td>22.0</td>\n",
              "      <td>1</td>\n",
              "      <td>0</td>\n",
              "      <td>A/5 21171</td>\n",
              "      <td>7.2500</td>\n",
              "      <td>NaN</td>\n",
              "      <td>S</td>\n",
              "    </tr>\n",
              "    <tr>\n",
              "      <th>1</th>\n",
              "      <td>2</td>\n",
              "      <td>1</td>\n",
              "      <td>1</td>\n",
              "      <td>Cumings, Mrs. John Bradley (Florence Briggs Th...</td>\n",
              "      <td>female</td>\n",
              "      <td>38.0</td>\n",
              "      <td>1</td>\n",
              "      <td>0</td>\n",
              "      <td>PC 17599</td>\n",
              "      <td>71.2833</td>\n",
              "      <td>C85</td>\n",
              "      <td>C</td>\n",
              "    </tr>\n",
              "    <tr>\n",
              "      <th>2</th>\n",
              "      <td>3</td>\n",
              "      <td>1</td>\n",
              "      <td>3</td>\n",
              "      <td>Heikkinen, Miss. Laina</td>\n",
              "      <td>female</td>\n",
              "      <td>26.0</td>\n",
              "      <td>0</td>\n",
              "      <td>0</td>\n",
              "      <td>STON/O2. 3101282</td>\n",
              "      <td>7.9250</td>\n",
              "      <td>NaN</td>\n",
              "      <td>S</td>\n",
              "    </tr>\n",
              "    <tr>\n",
              "      <th>3</th>\n",
              "      <td>4</td>\n",
              "      <td>1</td>\n",
              "      <td>1</td>\n",
              "      <td>Futrelle, Mrs. Jacques Heath (Lily May Peel)</td>\n",
              "      <td>female</td>\n",
              "      <td>35.0</td>\n",
              "      <td>1</td>\n",
              "      <td>0</td>\n",
              "      <td>113803</td>\n",
              "      <td>53.1000</td>\n",
              "      <td>C123</td>\n",
              "      <td>S</td>\n",
              "    </tr>\n",
              "    <tr>\n",
              "      <th>4</th>\n",
              "      <td>5</td>\n",
              "      <td>0</td>\n",
              "      <td>3</td>\n",
              "      <td>Allen, Mr. William Henry</td>\n",
              "      <td>male</td>\n",
              "      <td>35.0</td>\n",
              "      <td>0</td>\n",
              "      <td>0</td>\n",
              "      <td>373450</td>\n",
              "      <td>8.0500</td>\n",
              "      <td>NaN</td>\n",
              "      <td>S</td>\n",
              "    </tr>\n",
              "  </tbody>\n",
              "</table>\n",
              "</div>\n",
              "      <button class=\"colab-df-convert\" onclick=\"convertToInteractive('df-0aa9445f-07ef-48ea-bd86-58db1f721d23')\"\n",
              "              title=\"Convert this dataframe to an interactive table.\"\n",
              "              style=\"display:none;\">\n",
              "        \n",
              "  <svg xmlns=\"http://www.w3.org/2000/svg\" height=\"24px\"viewBox=\"0 0 24 24\"\n",
              "       width=\"24px\">\n",
              "    <path d=\"M0 0h24v24H0V0z\" fill=\"none\"/>\n",
              "    <path d=\"M18.56 5.44l.94 2.06.94-2.06 2.06-.94-2.06-.94-.94-2.06-.94 2.06-2.06.94zm-11 1L8.5 8.5l.94-2.06 2.06-.94-2.06-.94L8.5 2.5l-.94 2.06-2.06.94zm10 10l.94 2.06.94-2.06 2.06-.94-2.06-.94-.94-2.06-.94 2.06-2.06.94z\"/><path d=\"M17.41 7.96l-1.37-1.37c-.4-.4-.92-.59-1.43-.59-.52 0-1.04.2-1.43.59L10.3 9.45l-7.72 7.72c-.78.78-.78 2.05 0 2.83L4 21.41c.39.39.9.59 1.41.59.51 0 1.02-.2 1.41-.59l7.78-7.78 2.81-2.81c.8-.78.8-2.07 0-2.86zM5.41 20L4 18.59l7.72-7.72 1.47 1.35L5.41 20z\"/>\n",
              "  </svg>\n",
              "      </button>\n",
              "      \n",
              "  <style>\n",
              "    .colab-df-container {\n",
              "      display:flex;\n",
              "      flex-wrap:wrap;\n",
              "      gap: 12px;\n",
              "    }\n",
              "\n",
              "    .colab-df-convert {\n",
              "      background-color: #E8F0FE;\n",
              "      border: none;\n",
              "      border-radius: 50%;\n",
              "      cursor: pointer;\n",
              "      display: none;\n",
              "      fill: #1967D2;\n",
              "      height: 32px;\n",
              "      padding: 0 0 0 0;\n",
              "      width: 32px;\n",
              "    }\n",
              "\n",
              "    .colab-df-convert:hover {\n",
              "      background-color: #E2EBFA;\n",
              "      box-shadow: 0px 1px 2px rgba(60, 64, 67, 0.3), 0px 1px 3px 1px rgba(60, 64, 67, 0.15);\n",
              "      fill: #174EA6;\n",
              "    }\n",
              "\n",
              "    [theme=dark] .colab-df-convert {\n",
              "      background-color: #3B4455;\n",
              "      fill: #D2E3FC;\n",
              "    }\n",
              "\n",
              "    [theme=dark] .colab-df-convert:hover {\n",
              "      background-color: #434B5C;\n",
              "      box-shadow: 0px 1px 3px 1px rgba(0, 0, 0, 0.15);\n",
              "      filter: drop-shadow(0px 1px 2px rgba(0, 0, 0, 0.3));\n",
              "      fill: #FFFFFF;\n",
              "    }\n",
              "  </style>\n",
              "\n",
              "      <script>\n",
              "        const buttonEl =\n",
              "          document.querySelector('#df-0aa9445f-07ef-48ea-bd86-58db1f721d23 button.colab-df-convert');\n",
              "        buttonEl.style.display =\n",
              "          google.colab.kernel.accessAllowed ? 'block' : 'none';\n",
              "\n",
              "        async function convertToInteractive(key) {\n",
              "          const element = document.querySelector('#df-0aa9445f-07ef-48ea-bd86-58db1f721d23');\n",
              "          const dataTable =\n",
              "            await google.colab.kernel.invokeFunction('convertToInteractive',\n",
              "                                                     [key], {});\n",
              "          if (!dataTable) return;\n",
              "\n",
              "          const docLinkHtml = 'Like what you see? Visit the ' +\n",
              "            '<a target=\"_blank\" href=https://colab.research.google.com/notebooks/data_table.ipynb>data table notebook</a>'\n",
              "            + ' to learn more about interactive tables.';\n",
              "          element.innerHTML = '';\n",
              "          dataTable['output_type'] = 'display_data';\n",
              "          await google.colab.output.renderOutput(dataTable, element);\n",
              "          const docLink = document.createElement('div');\n",
              "          docLink.innerHTML = docLinkHtml;\n",
              "          element.appendChild(docLink);\n",
              "        }\n",
              "      </script>\n",
              "    </div>\n",
              "  </div>\n",
              "  "
            ],
            "text/plain": [
              "   PassengerId  Survived  Pclass  \\\n",
              "0            1         0       3   \n",
              "1            2         1       1   \n",
              "2            3         1       3   \n",
              "3            4         1       1   \n",
              "4            5         0       3   \n",
              "\n",
              "                                                Name     Sex   Age  SibSp  \\\n",
              "0                            Braund, Mr. Owen Harris    male  22.0      1   \n",
              "1  Cumings, Mrs. John Bradley (Florence Briggs Th...  female  38.0      1   \n",
              "2                             Heikkinen, Miss. Laina  female  26.0      0   \n",
              "3       Futrelle, Mrs. Jacques Heath (Lily May Peel)  female  35.0      1   \n",
              "4                           Allen, Mr. William Henry    male  35.0      0   \n",
              "\n",
              "   Parch            Ticket     Fare Cabin Embarked  \n",
              "0      0         A/5 21171   7.2500   NaN        S  \n",
              "1      0          PC 17599  71.2833   C85        C  \n",
              "2      0  STON/O2. 3101282   7.9250   NaN        S  \n",
              "3      0            113803  53.1000  C123        S  \n",
              "4      0            373450   8.0500   NaN        S  "
            ]
          },
          "metadata": {},
          "execution_count": 20
        }
      ]
    },
    {
      "cell_type": "markdown",
      "source": [
        "## 데이터 결측치 확인"
      ],
      "metadata": {
        "execution": {
          "iopub.status.busy": "2022-02-02T08:08:03.172895Z",
          "iopub.execute_input": "2022-02-02T08:08:03.173194Z",
          "iopub.status.idle": "2022-02-02T08:08:03.177406Z",
          "shell.execute_reply.started": "2022-02-02T08:08:03.173148Z",
          "shell.execute_reply": "2022-02-02T08:08:03.176498Z"
        },
        "id": "gh_jJDHdLeiu"
      }
    },
    {
      "cell_type": "code",
      "source": [
        "data.isnull().sum()"
      ],
      "metadata": {
        "execution": {
          "iopub.status.busy": "2022-02-02T12:41:12.238261Z",
          "iopub.execute_input": "2022-02-02T12:41:12.239143Z",
          "iopub.status.idle": "2022-02-02T12:41:12.2524Z",
          "shell.execute_reply.started": "2022-02-02T12:41:12.239095Z",
          "shell.execute_reply": "2022-02-02T12:41:12.251294Z"
        },
        "trusted": true,
        "colab": {
          "base_uri": "https://localhost:8080/"
        },
        "id": "v7-vI28iLeiv",
        "outputId": "23ad19d9-53c6-4396-f4e1-78644de659fd"
      },
      "execution_count": 21,
      "outputs": [
        {
          "output_type": "execute_result",
          "data": {
            "text/plain": [
              "PassengerId      0\n",
              "Survived         0\n",
              "Pclass           0\n",
              "Name             0\n",
              "Sex              0\n",
              "Age            177\n",
              "SibSp            0\n",
              "Parch            0\n",
              "Ticket           0\n",
              "Fare             0\n",
              "Cabin          687\n",
              "Embarked         2\n",
              "dtype: int64"
            ]
          },
          "metadata": {},
          "execution_count": 21
        }
      ]
    },
    {
      "cell_type": "markdown",
      "source": [
        "Age, Embarked 값에 결측치가 있음"
      ],
      "metadata": {
        "id": "P4_i4euBLeiw"
      }
    },
    {
      "cell_type": "markdown",
      "source": [
        "## 얼마나 많이 살아남았을까?"
      ],
      "metadata": {
        "id": "Et449-8ILeix"
      }
    },
    {
      "cell_type": "code",
      "source": [
        "f, ax = plt.subplots(1,2,figsize=(18,8))\n",
        "\n",
        "# Pie Chart\n",
        "data['Survived'].value_counts().plot.pie(explode=[0,0.1], autopct='%1.1f%%', ax= ax[0], shadow=True)\n",
        "ax[0].set_title('Survived')\n",
        "ax[0].set_ylabel('')\n",
        "\n",
        "sns.countplot('Survived', data=data, ax=ax[1])\n",
        "ax[1].set_title('Survived')\n"
      ],
      "metadata": {
        "execution": {
          "iopub.status.busy": "2022-02-02T12:41:12.254121Z",
          "iopub.execute_input": "2022-02-02T12:41:12.254727Z",
          "iopub.status.idle": "2022-02-02T12:41:12.553969Z",
          "shell.execute_reply.started": "2022-02-02T12:41:12.254681Z",
          "shell.execute_reply": "2022-02-02T12:41:12.553055Z"
        },
        "trusted": true,
        "colab": {
          "base_uri": "https://localhost:8080/",
          "height": 532
        },
        "id": "pbP_HeHALeiy",
        "outputId": "7c2b1750-481a-455f-9b68-277b296edc06"
      },
      "execution_count": 22,
      "outputs": [
        {
          "output_type": "execute_result",
          "data": {
            "text/plain": [
              "Text(0.5, 1.0, 'Survived')"
            ]
          },
          "metadata": {},
          "execution_count": 22
        },
        {
          "output_type": "display_data",
          "data": {
            "image/png": "[encoded data removed]",
            "text/plain": [
              "<Figure size 1296x576 with 2 Axes>"
            ]
          },
          "metadata": {
            "needs_background": "light"
          }
        }
      ]
    },
    {
      "cell_type": "markdown",
      "source": [
        "train dataset에 의하면 38.4%가 생존했다는 것을 알 수 있었는데, 더 나은 관점을 위해 각 특징과 생존비율에 대한 관계성을 살펴보자."
      ],
      "metadata": {
        "execution": {
          "iopub.status.busy": "2022-02-02T08:11:44.558145Z",
          "iopub.execute_input": "2022-02-02T08:11:44.558434Z",
          "iopub.status.idle": "2022-02-02T08:11:44.565022Z",
          "shell.execute_reply.started": "2022-02-02T08:11:44.558406Z",
          "shell.execute_reply": "2022-02-02T08:11:44.563957Z"
        },
        "id": "wkjmcb_wLeiz"
      }
    },
    {
      "cell_type": "markdown",
      "source": [
        "## Feature 살펴보기"
      ],
      "metadata": {
        "execution": {
          "iopub.status.busy": "2022-02-02T08:12:05.649903Z",
          "iopub.execute_input": "2022-02-02T08:12:05.650891Z",
          "iopub.status.idle": "2022-02-02T08:12:05.655244Z",
          "shell.execute_reply.started": "2022-02-02T08:12:05.650834Z",
          "shell.execute_reply": "2022-02-02T08:12:05.654276Z"
        },
        "id": "2HHoseBbLeiz"
      }
    },
    {
      "cell_type": "markdown",
      "source": [
        "### 1. 범주형 특징\n",
        "- sex, embarked같이 상대적 순서는 없어 순서 정렬할 수 없는 특징"
      ],
      "metadata": {
        "execution": {
          "iopub.status.busy": "2022-02-02T08:12:19.04693Z",
          "iopub.execute_input": "2022-02-02T08:12:19.047237Z",
          "iopub.status.idle": "2022-02-02T08:12:19.051008Z",
          "shell.execute_reply.started": "2022-02-02T08:12:19.047204Z",
          "shell.execute_reply": "2022-02-02T08:12:19.049992Z"
        },
        "id": "iwvTfkBBLei0"
      }
    },
    {
      "cell_type": "markdown",
      "source": [
        "### 2. Ordinal 특징\n",
        "- Height(Tall, Midium, short)값에 상대적 순서가 있어 순서정렬이 가능한 범주형 특징"
      ],
      "metadata": {
        "id": "raasVbFMNAD3"
      }
    },
    {
      "cell_type": "markdown",
      "source": [
        "\n",
        "### 3. Continous 특징\n",
        "- Age처럼 이진값이나 최대/최소값을 가진 특징 "
      ],
      "metadata": {
        "id": "KjMmQEGOM-8d"
      }
    },
    {
      "cell_type": "markdown",
      "source": [
        "## Feature 분석"
      ],
      "metadata": {
        "execution": {
          "iopub.status.busy": "2022-02-02T08:23:41.190218Z"
        },
        "id": "o4LyAxsaLei0"
      }
    },
    {
      "cell_type": "markdown",
      "source": [
        "### (1) 범주형 특징(sex)    "
      ],
      "metadata": {
        "execution": {
          "iopub.status.busy": "2022-02-02T12:18:52.216904Z",
          "iopub.execute_input": "2022-02-02T12:18:52.217203Z",
          "iopub.status.idle": "2022-02-02T12:18:52.220845Z",
          "shell.execute_reply.started": "2022-02-02T12:18:52.217172Z",
          "shell.execute_reply": "2022-02-02T12:18:52.220218Z"
        },
        "id": "mDFsqyDuLei0"
      }
    },
    {
      "cell_type": "code",
      "source": [
        "data.groupby(['Sex', 'Survived'])['Survived'].count()"
      ],
      "metadata": {
        "execution": {
          "iopub.status.busy": "2022-02-02T12:41:12.555409Z",
          "iopub.execute_input": "2022-02-02T12:41:12.555712Z",
          "iopub.status.idle": "2022-02-02T12:41:12.566818Z",
          "shell.execute_reply.started": "2022-02-02T12:41:12.55567Z",
          "shell.execute_reply": "2022-02-02T12:41:12.566052Z"
        },
        "trusted": true,
        "colab": {
          "base_uri": "https://localhost:8080/"
        },
        "id": "262nYn38Lei1",
        "outputId": "34fb163c-75ba-4eec-f1d5-06cc146bcdb4"
      },
      "execution_count": 23,
      "outputs": [
        {
          "output_type": "execute_result",
          "data": {
            "text/plain": [
              "Sex     Survived\n",
              "female  0            81\n",
              "        1           233\n",
              "male    0           468\n",
              "        1           109\n",
              "Name: Survived, dtype: int64"
            ]
          },
          "metadata": {},
          "execution_count": 23
        }
      ]
    },
    {
      "cell_type": "code",
      "source": [
        "f, ax = plt.subplots(1,2, figsize=(18,8))\n",
        "\n",
        "data[['Sex', 'Survived']].groupby('Sex').mean().plot.bar(ax=ax[0])\n",
        "ax[0].set_title('Survived vs Sex')\n",
        "\n",
        "sns.countplot('Sex', hue='Survived', data=data,ax=ax[1])\n",
        "ax[1].set_title('Sex: Survived vs Sex')"
      ],
      "metadata": {
        "execution": {
          "iopub.status.busy": "2022-02-02T12:41:12.56852Z",
          "iopub.execute_input": "2022-02-02T12:41:12.56916Z",
          "iopub.status.idle": "2022-02-02T12:41:12.939259Z",
          "shell.execute_reply.started": "2022-02-02T12:41:12.569117Z",
          "shell.execute_reply": "2022-02-02T12:41:12.938452Z"
        },
        "trusted": true,
        "colab": {
          "base_uri": "https://localhost:8080/",
          "height": 535
        },
        "id": "syZYirOhLei1",
        "outputId": "a5b2565b-7c1f-455d-987a-715808880b5c"
      },
      "execution_count": 24,
      "outputs": [
        {
          "output_type": "execute_result",
          "data": {
            "text/plain": [
              "Text(0.5, 1.0, 'Sex: Survived vs Sex')"
            ]
          },
          "metadata": {},
          "execution_count": 24
        },
        {
          "output_type": "display_data",
          "data": {
            "image/png": "[encoded data removed]",
            "text/plain": [
              "<Figure size 1296x576 with 2 Axes>"
            ]
          },
          "metadata": {
            "needs_background": "light"
          }
        }
      ]
    },
    {
      "cell_type": "markdown",
      "source": [
        "### (2) Ordinal 특징 (Pclass)"
      ],
      "metadata": {
        "execution": {
          "iopub.status.busy": "2022-02-02T08:32:50.843831Z",
          "iopub.execute_input": "2022-02-02T08:32:50.844134Z",
          "iopub.status.idle": "2022-02-02T08:32:50.848511Z",
          "shell.execute_reply.started": "2022-02-02T08:32:50.844094Z",
          "shell.execute_reply": "2022-02-02T08:32:50.847418Z"
        },
        "id": "Poaf_VuZLei2"
      }
    },
    {
      "cell_type": "code",
      "source": [
        "pd.crosstab(data.Pclass, data.Survived, margins=True).style.background_gradient(cmap='summer_r')"
      ],
      "metadata": {
        "execution": {
          "iopub.status.busy": "2022-02-02T12:41:12.941596Z",
          "iopub.execute_input": "2022-02-02T12:41:12.941983Z",
          "iopub.status.idle": "2022-02-02T12:41:12.988862Z",
          "shell.execute_reply.started": "2022-02-02T12:41:12.94195Z",
          "shell.execute_reply": "2022-02-02T12:41:12.988079Z"
        },
        "trusted": true,
        "colab": {
          "base_uri": "https://localhost:8080/",
          "height": 206
        },
        "id": "VIB_3X49Lei2",
        "outputId": "51b84d37-cfc1-4476-b4c9-b3b3a8bdd248"
      },
      "execution_count": 25,
      "outputs": [
        {
          "output_type": "execute_result",
          "data": {
            "text/html": [
              "<style type=\"text/css\">\n",
              "#T_95607_row0_col0, #T_95607_row1_col1, #T_95607_row1_col2 {\n",
              "  background-color: #ffff66;\n",
              "  color: #000000;\n",
              "}\n",
              "#T_95607_row0_col1 {\n",
              "  background-color: #cee666;\n",
              "  color: #000000;\n",
              "}\n",
              "#T_95607_row0_col2 {\n",
              "  background-color: #f4fa66;\n",
              "  color: #000000;\n",
              "}\n",
              "#T_95607_row1_col0 {\n",
              "  background-color: #f6fa66;\n",
              "  color: #000000;\n",
              "}\n",
              "#T_95607_row2_col0 {\n",
              "  background-color: #60b066;\n",
              "  color: #f1f1f1;\n",
              "}\n",
              "#T_95607_row2_col1 {\n",
              "  background-color: #dfef66;\n",
              "  color: #000000;\n",
              "}\n",
              "#T_95607_row2_col2 {\n",
              "  background-color: #90c866;\n",
              "  color: #000000;\n",
              "}\n",
              "#T_95607_row3_col0, #T_95607_row3_col1, #T_95607_row3_col2 {\n",
              "  background-color: #008066;\n",
              "  color: #f1f1f1;\n",
              "}\n",
              "</style>\n",
              "<table id=\"T_95607_\" class=\"dataframe\">\n",
              "  <thead>\n",
              "    <tr>\n",
              "      <th class=\"index_name level0\" >Survived</th>\n",
              "      <th class=\"col_heading level0 col0\" >0</th>\n",
              "      <th class=\"col_heading level0 col1\" >1</th>\n",
              "      <th class=\"col_heading level0 col2\" >All</th>\n",
              "    </tr>\n",
              "    <tr>\n",
              "      <th class=\"index_name level0\" >Pclass</th>\n",
              "      <th class=\"blank col0\" >&nbsp;</th>\n",
              "      <th class=\"blank col1\" >&nbsp;</th>\n",
              "      <th class=\"blank col2\" >&nbsp;</th>\n",
              "    </tr>\n",
              "  </thead>\n",
              "  <tbody>\n",
              "    <tr>\n",
              "      <th id=\"T_95607_level0_row0\" class=\"row_heading level0 row0\" >1</th>\n",
              "      <td id=\"T_95607_row0_col0\" class=\"data row0 col0\" >80</td>\n",
              "      <td id=\"T_95607_row0_col1\" class=\"data row0 col1\" >136</td>\n",
              "      <td id=\"T_95607_row0_col2\" class=\"data row0 col2\" >216</td>\n",
              "    </tr>\n",
              "    <tr>\n",
              "      <th id=\"T_95607_level0_row1\" class=\"row_heading level0 row1\" >2</th>\n",
              "      <td id=\"T_95607_row1_col0\" class=\"data row1 col0\" >97</td>\n",
              "      <td id=\"T_95607_row1_col1\" class=\"data row1 col1\" >87</td>\n",
              "      <td id=\"T_95607_row1_col2\" class=\"data row1 col2\" >184</td>\n",
              "    </tr>\n",
              "    <tr>\n",
              "      <th id=\"T_95607_level0_row2\" class=\"row_heading level0 row2\" >3</th>\n",
              "      <td id=\"T_95607_row2_col0\" class=\"data row2 col0\" >372</td>\n",
              "      <td id=\"T_95607_row2_col1\" class=\"data row2 col1\" >119</td>\n",
              "      <td id=\"T_95607_row2_col2\" class=\"data row2 col2\" >491</td>\n",
              "    </tr>\n",
              "    <tr>\n",
              "      <th id=\"T_95607_level0_row3\" class=\"row_heading level0 row3\" >All</th>\n",
              "      <td id=\"T_95607_row3_col0\" class=\"data row3 col0\" >549</td>\n",
              "      <td id=\"T_95607_row3_col1\" class=\"data row3 col1\" >342</td>\n",
              "      <td id=\"T_95607_row3_col2\" class=\"data row3 col2\" >891</td>\n",
              "    </tr>\n",
              "  </tbody>\n",
              "</table>\n"
            ],
            "text/plain": [
              "<pandas.io.formats.style.Styler at 0x7f4bf5bb6b10>"
            ]
          },
          "metadata": {},
          "execution_count": 25
        }
      ]
    },
    {
      "cell_type": "code",
      "source": [
        "f, ax = plt.subplots(1,2, figsize=(18,8))\n",
        "data['Pclass'].value_counts().plot.bar(color=['skyblue','gray','pink'], ax=ax[0])\n",
        "ax[0].set_title('Number of Passengers By Pclass')\n",
        "ax[0].set_ylabel('Count')\n",
        "\n",
        "sns.countplot('Pclass', hue='Survived', palette='Set3', data=data, ax=ax[1])\n",
        "ax[1].set_title('Pclass: Survived vs Dead')\n"
      ],
      "metadata": {
        "execution": {
          "iopub.status.busy": "2022-02-02T12:41:12.990382Z",
          "iopub.execute_input": "2022-02-02T12:41:12.990675Z",
          "iopub.status.idle": "2022-02-02T12:41:13.357722Z",
          "shell.execute_reply.started": "2022-02-02T12:41:12.990636Z",
          "shell.execute_reply": "2022-02-02T12:41:13.356992Z"
        },
        "trusted": true,
        "colab": {
          "base_uri": "https://localhost:8080/",
          "height": 503
        },
        "id": "bQtf1dMWLei3",
        "outputId": "24a0fd66-8595-4c46-d27c-a377be007495"
      },
      "execution_count": 26,
      "outputs": [
        {
          "output_type": "execute_result",
          "data": {
            "text/plain": [
              "Text(0.5, 1.0, 'Pclass: Survived vs Dead')"
            ]
          },
          "metadata": {},
          "execution_count": 26
        },
        {
          "output_type": "display_data",
          "data": {
            "image/png": "[encoded data removed]",
            "text/plain": [
              "<Figure size 1296x576 with 2 Axes>"
            ]
          },
          "metadata": {
            "needs_background": "light"
          }
        }
      ]
    },
    {
      "cell_type": "markdown",
      "source": [
        "퍼스트 클래스가 가장 높은 생존확률을 나타내고 있다. <br>Sex와 Pclass 간의 관계를 살펴보자"
      ],
      "metadata": {
        "id": "CA02V76ALei3"
      }
    },
    {
      "cell_type": "code",
      "source": [
        "pd.crosstab([data.Sex, data.Survived], data.Pclass, margins=True).style.background_gradient('summer_r')"
      ],
      "metadata": {
        "execution": {
          "iopub.status.busy": "2022-02-02T12:41:13.358936Z",
          "iopub.execute_input": "2022-02-02T12:41:13.359278Z",
          "iopub.status.idle": "2022-02-02T12:41:13.410808Z",
          "shell.execute_reply.started": "2022-02-02T12:41:13.359234Z",
          "shell.execute_reply": "2022-02-02T12:41:13.409873Z"
        },
        "trusted": true,
        "colab": {
          "base_uri": "https://localhost:8080/",
          "height": 238
        },
        "id": "OzrwunmoLei4",
        "outputId": "c8934849-33e4-4fca-e084-b4f93a9a042e"
      },
      "execution_count": 27,
      "outputs": [
        {
          "output_type": "execute_result",
          "data": {
            "text/html": [
              "<style type=\"text/css\">\n",
              "#T_85108_row0_col0, #T_85108_row0_col1, #T_85108_row0_col3, #T_85108_row3_col2 {\n",
              "  background-color: #ffff66;\n",
              "  color: #000000;\n",
              "}\n",
              "#T_85108_row0_col2, #T_85108_row1_col2 {\n",
              "  background-color: #f1f866;\n",
              "  color: #000000;\n",
              "}\n",
              "#T_85108_row1_col0 {\n",
              "  background-color: #96cb66;\n",
              "  color: #000000;\n",
              "}\n",
              "#T_85108_row1_col1 {\n",
              "  background-color: #a3d166;\n",
              "  color: #000000;\n",
              "}\n",
              "#T_85108_row1_col3 {\n",
              "  background-color: #cfe766;\n",
              "  color: #000000;\n",
              "}\n",
              "#T_85108_row2_col0 {\n",
              "  background-color: #a7d366;\n",
              "  color: #000000;\n",
              "}\n",
              "#T_85108_row2_col1, #T_85108_row2_col3 {\n",
              "  background-color: #85c266;\n",
              "  color: #000000;\n",
              "}\n",
              "#T_85108_row2_col2 {\n",
              "  background-color: #6eb666;\n",
              "  color: #f1f1f1;\n",
              "}\n",
              "#T_85108_row3_col0 {\n",
              "  background-color: #cde666;\n",
              "  color: #000000;\n",
              "}\n",
              "#T_85108_row3_col1 {\n",
              "  background-color: #f0f866;\n",
              "  color: #000000;\n",
              "}\n",
              "#T_85108_row3_col3 {\n",
              "  background-color: #f7fb66;\n",
              "  color: #000000;\n",
              "}\n",
              "#T_85108_row4_col0, #T_85108_row4_col1, #T_85108_row4_col2, #T_85108_row4_col3 {\n",
              "  background-color: #008066;\n",
              "  color: #f1f1f1;\n",
              "}\n",
              "</style>\n",
              "<table id=\"T_85108_\" class=\"dataframe\">\n",
              "  <thead>\n",
              "    <tr>\n",
              "      <th class=\"blank\" >&nbsp;</th>\n",
              "      <th class=\"index_name level0\" >Pclass</th>\n",
              "      <th class=\"col_heading level0 col0\" >1</th>\n",
              "      <th class=\"col_heading level0 col1\" >2</th>\n",
              "      <th class=\"col_heading level0 col2\" >3</th>\n",
              "      <th class=\"col_heading level0 col3\" >All</th>\n",
              "    </tr>\n",
              "    <tr>\n",
              "      <th class=\"index_name level0\" >Sex</th>\n",
              "      <th class=\"index_name level1\" >Survived</th>\n",
              "      <th class=\"blank col0\" >&nbsp;</th>\n",
              "      <th class=\"blank col1\" >&nbsp;</th>\n",
              "      <th class=\"blank col2\" >&nbsp;</th>\n",
              "      <th class=\"blank col3\" >&nbsp;</th>\n",
              "    </tr>\n",
              "  </thead>\n",
              "  <tbody>\n",
              "    <tr>\n",
              "      <th id=\"T_85108_level0_row0\" class=\"row_heading level0 row0\" rowspan=\"2\">female</th>\n",
              "      <th id=\"T_85108_level1_row0\" class=\"row_heading level1 row0\" >0</th>\n",
              "      <td id=\"T_85108_row0_col0\" class=\"data row0 col0\" >3</td>\n",
              "      <td id=\"T_85108_row0_col1\" class=\"data row0 col1\" >6</td>\n",
              "      <td id=\"T_85108_row0_col2\" class=\"data row0 col2\" >72</td>\n",
              "      <td id=\"T_85108_row0_col3\" class=\"data row0 col3\" >81</td>\n",
              "    </tr>\n",
              "    <tr>\n",
              "      <th id=\"T_85108_level1_row1\" class=\"row_heading level1 row1\" >1</th>\n",
              "      <td id=\"T_85108_row1_col0\" class=\"data row1 col0\" >91</td>\n",
              "      <td id=\"T_85108_row1_col1\" class=\"data row1 col1\" >70</td>\n",
              "      <td id=\"T_85108_row1_col2\" class=\"data row1 col2\" >72</td>\n",
              "      <td id=\"T_85108_row1_col3\" class=\"data row1 col3\" >233</td>\n",
              "    </tr>\n",
              "    <tr>\n",
              "      <th id=\"T_85108_level0_row2\" class=\"row_heading level0 row2\" rowspan=\"2\">male</th>\n",
              "      <th id=\"T_85108_level1_row2\" class=\"row_heading level1 row2\" >0</th>\n",
              "      <td id=\"T_85108_row2_col0\" class=\"data row2 col0\" >77</td>\n",
              "      <td id=\"T_85108_row2_col1\" class=\"data row2 col1\" >91</td>\n",
              "      <td id=\"T_85108_row2_col2\" class=\"data row2 col2\" >300</td>\n",
              "      <td id=\"T_85108_row2_col3\" class=\"data row2 col3\" >468</td>\n",
              "    </tr>\n",
              "    <tr>\n",
              "      <th id=\"T_85108_level1_row3\" class=\"row_heading level1 row3\" >1</th>\n",
              "      <td id=\"T_85108_row3_col0\" class=\"data row3 col0\" >45</td>\n",
              "      <td id=\"T_85108_row3_col1\" class=\"data row3 col1\" >17</td>\n",
              "      <td id=\"T_85108_row3_col2\" class=\"data row3 col2\" >47</td>\n",
              "      <td id=\"T_85108_row3_col3\" class=\"data row3 col3\" >109</td>\n",
              "    </tr>\n",
              "    <tr>\n",
              "      <th id=\"T_85108_level0_row4\" class=\"row_heading level0 row4\" >All</th>\n",
              "      <th id=\"T_85108_level1_row4\" class=\"row_heading level1 row4\" ></th>\n",
              "      <td id=\"T_85108_row4_col0\" class=\"data row4 col0\" >216</td>\n",
              "      <td id=\"T_85108_row4_col1\" class=\"data row4 col1\" >184</td>\n",
              "      <td id=\"T_85108_row4_col2\" class=\"data row4 col2\" >491</td>\n",
              "      <td id=\"T_85108_row4_col3\" class=\"data row4 col3\" >891</td>\n",
              "    </tr>\n",
              "  </tbody>\n",
              "</table>\n"
            ],
            "text/plain": [
              "<pandas.io.formats.style.Styler at 0x7f4bf48b6cd0>"
            ]
          },
          "metadata": {},
          "execution_count": 27
        }
      ]
    },
    {
      "cell_type": "code",
      "source": [
        "sns.factorplot('Pclass', 'Survived', hue='Sex', data=data)"
      ],
      "metadata": {
        "execution": {
          "iopub.status.busy": "2022-02-02T12:41:13.413774Z",
          "iopub.execute_input": "2022-02-02T12:41:13.414023Z",
          "iopub.status.idle": "2022-02-02T12:41:14.025876Z",
          "shell.execute_reply.started": "2022-02-02T12:41:13.413977Z",
          "shell.execute_reply": "2022-02-02T12:41:14.024965Z"
        },
        "trusted": true,
        "colab": {
          "base_uri": "https://localhost:8080/",
          "height": 388
        },
        "id": "B5OAQ85nLei4",
        "outputId": "e3dffc30-fd1d-4717-c7e1-9b7d6550b08d"
      },
      "execution_count": 28,
      "outputs": [
        {
          "output_type": "execute_result",
          "data": {
            "text/plain": [
              "<seaborn.axisgrid.FacetGrid at 0x7f4bf480e050>"
            ]
          },
          "metadata": {},
          "execution_count": 28
        },
        {
          "output_type": "display_data",
          "data": {
            "image/png": "[encoded data removed]",
            "text/plain": [
              "<Figure size 430.5x360 with 1 Axes>"
            ]
          },
          "metadata": {
            "needs_background": "light"
          }
        }
      ]
    },
    {
      "cell_type": "markdown",
      "source": [
        "**factorplot는 범주형의 데이터를 쉽게 분리한다는 장점이 있다.**\n",
        "<br> <p>Pclass 1인 여성이 94%의 생존률을 보여주고 있으며, Pclass 관계없이 여성의 생존률이 높은 것을 보았을 때 여성 먼저 구조된 것을 추론할 수 있다.</p>"
      ],
      "metadata": {
        "execution": {
          "iopub.status.busy": "2022-02-02T08:46:15.279459Z",
          "iopub.execute_input": "2022-02-02T08:46:15.279766Z",
          "iopub.status.idle": "2022-02-02T08:46:15.285793Z",
          "shell.execute_reply.started": "2022-02-02T08:46:15.279736Z",
          "shell.execute_reply": "2022-02-02T08:46:15.284339Z"
        },
        "id": "KNZqyxNoLei4"
      }
    },
    {
      "cell_type": "markdown",
      "source": [
        "### (3) Continous 특징 (Age)"
      ],
      "metadata": {
        "id": "O3G3mbsjLei5"
      }
    },
    {
      "cell_type": "code",
      "source": [
        "print('Oldest Passenger was of:', data['Age'].max(), 'Years')\n",
        "print('Youngest Passenger was of:', data['Age'].min(), 'Years')\n",
        "print('Average age ont the ship:', data['Age'].mean(), 'Years')"
      ],
      "metadata": {
        "execution": {
          "iopub.status.busy": "2022-02-02T12:41:14.027087Z",
          "iopub.execute_input": "2022-02-02T12:41:14.027306Z",
          "iopub.status.idle": "2022-02-02T12:41:14.033681Z",
          "shell.execute_reply.started": "2022-02-02T12:41:14.02728Z",
          "shell.execute_reply": "2022-02-02T12:41:14.033086Z"
        },
        "trusted": true,
        "colab": {
          "base_uri": "https://localhost:8080/"
        },
        "id": "B8sK8xUGLei5",
        "outputId": "8d08cc87-cb9d-44b5-cf9d-1ad509b3708c"
      },
      "execution_count": 29,
      "outputs": [
        {
          "output_type": "stream",
          "name": "stdout",
          "text": [
            "Oldest Passenger was of: 80.0 Years\n",
            "Youngest Passenger was of: 0.42 Years\n",
            "Average age ont the ship: 29.69911764705882 Years\n"
          ]
        }
      ]
    },
    {
      "cell_type": "code",
      "source": [
        "f, ax = plt.subplots(1,2, figsize=(18,8))\n",
        "\n",
        "sns.violinplot('Pclass', 'Age', hue=\"Survived\", data=data, split=True, ax=ax[0])\n",
        "ax[0].set_title('Pclass and Age vs Survived')\n",
        "ax[0].set_yticks(range(0,110,10))\n",
        "\n",
        "sns.violinplot('Sex', 'Age', hue='Survived', data=data, split=True, ax=ax[1])\n",
        "ax[1].set_title('Sex and Age vs Survived')\n",
        "ax[1].set_yticks(range(0,110,10))\n",
        "\n",
        "plt.show()"
      ],
      "metadata": {
        "execution": {
          "iopub.status.busy": "2022-02-02T12:41:14.034601Z",
          "iopub.execute_input": "2022-02-02T12:41:14.035441Z",
          "iopub.status.idle": "2022-02-02T12:41:14.731561Z",
          "shell.execute_reply.started": "2022-02-02T12:41:14.035405Z",
          "shell.execute_reply": "2022-02-02T12:41:14.730697Z"
        },
        "trusted": true,
        "colab": {
          "base_uri": "https://localhost:8080/",
          "height": 485
        },
        "id": "NQLSA3BLLei5",
        "outputId": "35ea020c-37a2-4492-ef38-1481871cc673"
      },
      "execution_count": 30,
      "outputs": [
        {
          "output_type": "display_data",
          "data": {
            "image/png": "[encoded data removed]",
            "text/plain": [
              "<Figure size 1296x576 with 2 Axes>"
            ]
          },
          "metadata": {
            "needs_background": "light"
          }
        }
      ]
    },
    {
      "cell_type": "markdown",
      "source": [
        "1. 10살 이하의 경우, Pclass 특징의 영향에 관계없다.\n",
        "2. 20-50살 사이의 대한 생존은 Pclass의 영향을 받으며, 역시 여자 쪽에서 좀 더 높은 생존률을 보이고 있다.\n",
        "3. 남자의 경우, 나이와 생존률이 반비례 관계임을 확인할 수 있다."
      ],
      "metadata": {
        "id": "fzBOV-EpLei6"
      }
    },
    {
      "cell_type": "markdown",
      "source": [
        "#### 결측치 채우기"
      ],
      "metadata": {
        "execution": {
          "iopub.status.busy": "2022-02-02T09:05:59.764273Z",
          "iopub.execute_input": "2022-02-02T09:05:59.764561Z",
          "iopub.status.idle": "2022-02-02T09:05:59.76893Z",
          "shell.execute_reply.started": "2022-02-02T09:05:59.76453Z",
          "shell.execute_reply": "2022-02-02T09:05:59.768038Z"
        },
        "id": "awWLz4CCLei6"
      }
    },
    {
      "cell_type": "markdown",
      "source": [
        "Age의 결측치는 평균치로 채우는데, 4살 배기한테 29살을 넣을 수는 없다.. **Name 특징**을 이용해보자\n",
        "<br> Mr, Mrs 처럼 각각의 Name 특징 그룹으로 나눠 그 그룹의 나이의 평균값으로 결측치를 채우면 더 나을 것이다."
      ],
      "metadata": {
        "execution": {
          "iopub.status.busy": "2022-02-02T09:03:31.431976Z",
          "iopub.execute_input": "2022-02-02T09:03:31.43228Z"
        },
        "id": "o2AGWmQpLei6"
      }
    },
    {
      "cell_type": "code",
      "source": [
        "data['Initial'] = 0\n",
        "for i in data :\n",
        "    data['Initial'] = data.Name.str.extract('([A-Za-z]+)\\.') # Salutations 추출"
      ],
      "metadata": {
        "execution": {
          "iopub.status.busy": "2022-02-02T12:41:14.732973Z",
          "iopub.execute_input": "2022-02-02T12:41:14.733215Z",
          "iopub.status.idle": "2022-02-02T12:41:14.790792Z",
          "shell.execute_reply.started": "2022-02-02T12:41:14.733186Z",
          "shell.execute_reply": "2022-02-02T12:41:14.790145Z"
        },
        "trusted": true,
        "id": "oVWbK9TWLei6"
      },
      "execution_count": 31,
      "outputs": []
    },
    {
      "cell_type": "code",
      "source": [
        "pd.crosstab(data.Initial, data.Sex).T.style.background_gradient('summer_r')"
      ],
      "metadata": {
        "execution": {
          "iopub.status.busy": "2022-02-02T12:41:14.791859Z",
          "iopub.execute_input": "2022-02-02T12:41:14.792287Z",
          "iopub.status.idle": "2022-02-02T12:41:14.851625Z",
          "shell.execute_reply.started": "2022-02-02T12:41:14.792256Z",
          "shell.execute_reply": "2022-02-02T12:41:14.850841Z"
        },
        "trusted": true,
        "colab": {
          "base_uri": "https://localhost:8080/",
          "height": 143
        },
        "id": "P0P1CJ4VLei7",
        "outputId": "81ee7384-18a0-4cac-9d2b-1ed3ede06e83"
      },
      "execution_count": 32,
      "outputs": [
        {
          "output_type": "execute_result",
          "data": {
            "text/html": [
              "<style type=\"text/css\">\n",
              "#T_c54e0_row0_col0, #T_c54e0_row0_col1, #T_c54e0_row0_col3, #T_c54e0_row0_col4, #T_c54e0_row0_col5, #T_c54e0_row0_col7, #T_c54e0_row0_col8, #T_c54e0_row0_col12, #T_c54e0_row0_col15, #T_c54e0_row0_col16, #T_c54e0_row1_col2, #T_c54e0_row1_col6, #T_c54e0_row1_col9, #T_c54e0_row1_col10, #T_c54e0_row1_col11, #T_c54e0_row1_col13, #T_c54e0_row1_col14 {\n",
              "  background-color: #ffff66;\n",
              "  color: #000000;\n",
              "}\n",
              "#T_c54e0_row0_col2, #T_c54e0_row0_col6, #T_c54e0_row0_col9, #T_c54e0_row0_col10, #T_c54e0_row0_col11, #T_c54e0_row0_col13, #T_c54e0_row0_col14, #T_c54e0_row1_col0, #T_c54e0_row1_col1, #T_c54e0_row1_col3, #T_c54e0_row1_col4, #T_c54e0_row1_col5, #T_c54e0_row1_col7, #T_c54e0_row1_col8, #T_c54e0_row1_col12, #T_c54e0_row1_col15, #T_c54e0_row1_col16 {\n",
              "  background-color: #008066;\n",
              "  color: #f1f1f1;\n",
              "}\n",
              "</style>\n",
              "<table id=\"T_c54e0_\" class=\"dataframe\">\n",
              "  <thead>\n",
              "    <tr>\n",
              "      <th class=\"index_name level0\" >Initial</th>\n",
              "      <th class=\"col_heading level0 col0\" >Capt</th>\n",
              "      <th class=\"col_heading level0 col1\" >Col</th>\n",
              "      <th class=\"col_heading level0 col2\" >Countess</th>\n",
              "      <th class=\"col_heading level0 col3\" >Don</th>\n",
              "      <th class=\"col_heading level0 col4\" >Dr</th>\n",
              "      <th class=\"col_heading level0 col5\" >Jonkheer</th>\n",
              "      <th class=\"col_heading level0 col6\" >Lady</th>\n",
              "      <th class=\"col_heading level0 col7\" >Major</th>\n",
              "      <th class=\"col_heading level0 col8\" >Master</th>\n",
              "      <th class=\"col_heading level0 col9\" >Miss</th>\n",
              "      <th class=\"col_heading level0 col10\" >Mlle</th>\n",
              "      <th class=\"col_heading level0 col11\" >Mme</th>\n",
              "      <th class=\"col_heading level0 col12\" >Mr</th>\n",
              "      <th class=\"col_heading level0 col13\" >Mrs</th>\n",
              "      <th class=\"col_heading level0 col14\" >Ms</th>\n",
              "      <th class=\"col_heading level0 col15\" >Rev</th>\n",
              "      <th class=\"col_heading level0 col16\" >Sir</th>\n",
              "    </tr>\n",
              "    <tr>\n",
              "      <th class=\"index_name level0\" >Sex</th>\n",
              "      <th class=\"blank col0\" >&nbsp;</th>\n",
              "      <th class=\"blank col1\" >&nbsp;</th>\n",
              "      <th class=\"blank col2\" >&nbsp;</th>\n",
              "      <th class=\"blank col3\" >&nbsp;</th>\n",
              "      <th class=\"blank col4\" >&nbsp;</th>\n",
              "      <th class=\"blank col5\" >&nbsp;</th>\n",
              "      <th class=\"blank col6\" >&nbsp;</th>\n",
              "      <th class=\"blank col7\" >&nbsp;</th>\n",
              "      <th class=\"blank col8\" >&nbsp;</th>\n",
              "      <th class=\"blank col9\" >&nbsp;</th>\n",
              "      <th class=\"blank col10\" >&nbsp;</th>\n",
              "      <th class=\"blank col11\" >&nbsp;</th>\n",
              "      <th class=\"blank col12\" >&nbsp;</th>\n",
              "      <th class=\"blank col13\" >&nbsp;</th>\n",
              "      <th class=\"blank col14\" >&nbsp;</th>\n",
              "      <th class=\"blank col15\" >&nbsp;</th>\n",
              "      <th class=\"blank col16\" >&nbsp;</th>\n",
              "    </tr>\n",
              "  </thead>\n",
              "  <tbody>\n",
              "    <tr>\n",
              "      <th id=\"T_c54e0_level0_row0\" class=\"row_heading level0 row0\" >female</th>\n",
              "      <td id=\"T_c54e0_row0_col0\" class=\"data row0 col0\" >0</td>\n",
              "      <td id=\"T_c54e0_row0_col1\" class=\"data row0 col1\" >0</td>\n",
              "      <td id=\"T_c54e0_row0_col2\" class=\"data row0 col2\" >1</td>\n",
              "      <td id=\"T_c54e0_row0_col3\" class=\"data row0 col3\" >0</td>\n",
              "      <td id=\"T_c54e0_row0_col4\" class=\"data row0 col4\" >1</td>\n",
              "      <td id=\"T_c54e0_row0_col5\" class=\"data row0 col5\" >0</td>\n",
              "      <td id=\"T_c54e0_row0_col6\" class=\"data row0 col6\" >1</td>\n",
              "      <td id=\"T_c54e0_row0_col7\" class=\"data row0 col7\" >0</td>\n",
              "      <td id=\"T_c54e0_row0_col8\" class=\"data row0 col8\" >0</td>\n",
              "      <td id=\"T_c54e0_row0_col9\" class=\"data row0 col9\" >182</td>\n",
              "      <td id=\"T_c54e0_row0_col10\" class=\"data row0 col10\" >2</td>\n",
              "      <td id=\"T_c54e0_row0_col11\" class=\"data row0 col11\" >1</td>\n",
              "      <td id=\"T_c54e0_row0_col12\" class=\"data row0 col12\" >0</td>\n",
              "      <td id=\"T_c54e0_row0_col13\" class=\"data row0 col13\" >125</td>\n",
              "      <td id=\"T_c54e0_row0_col14\" class=\"data row0 col14\" >1</td>\n",
              "      <td id=\"T_c54e0_row0_col15\" class=\"data row0 col15\" >0</td>\n",
              "      <td id=\"T_c54e0_row0_col16\" class=\"data row0 col16\" >0</td>\n",
              "    </tr>\n",
              "    <tr>\n",
              "      <th id=\"T_c54e0_level0_row1\" class=\"row_heading level0 row1\" >male</th>\n",
              "      <td id=\"T_c54e0_row1_col0\" class=\"data row1 col0\" >1</td>\n",
              "      <td id=\"T_c54e0_row1_col1\" class=\"data row1 col1\" >2</td>\n",
              "      <td id=\"T_c54e0_row1_col2\" class=\"data row1 col2\" >0</td>\n",
              "      <td id=\"T_c54e0_row1_col3\" class=\"data row1 col3\" >1</td>\n",
              "      <td id=\"T_c54e0_row1_col4\" class=\"data row1 col4\" >6</td>\n",
              "      <td id=\"T_c54e0_row1_col5\" class=\"data row1 col5\" >1</td>\n",
              "      <td id=\"T_c54e0_row1_col6\" class=\"data row1 col6\" >0</td>\n",
              "      <td id=\"T_c54e0_row1_col7\" class=\"data row1 col7\" >2</td>\n",
              "      <td id=\"T_c54e0_row1_col8\" class=\"data row1 col8\" >40</td>\n",
              "      <td id=\"T_c54e0_row1_col9\" class=\"data row1 col9\" >0</td>\n",
              "      <td id=\"T_c54e0_row1_col10\" class=\"data row1 col10\" >0</td>\n",
              "      <td id=\"T_c54e0_row1_col11\" class=\"data row1 col11\" >0</td>\n",
              "      <td id=\"T_c54e0_row1_col12\" class=\"data row1 col12\" >517</td>\n",
              "      <td id=\"T_c54e0_row1_col13\" class=\"data row1 col13\" >0</td>\n",
              "      <td id=\"T_c54e0_row1_col14\" class=\"data row1 col14\" >0</td>\n",
              "      <td id=\"T_c54e0_row1_col15\" class=\"data row1 col15\" >6</td>\n",
              "      <td id=\"T_c54e0_row1_col16\" class=\"data row1 col16\" >1</td>\n",
              "    </tr>\n",
              "  </tbody>\n",
              "</table>\n"
            ],
            "text/plain": [
              "<pandas.io.formats.style.Styler at 0x7f4befe26d50>"
            ]
          },
          "metadata": {},
          "execution_count": 32
        }
      ]
    },
    {
      "cell_type": "markdown",
      "source": [
        "misspelled 이니셜들을 한 단위로 모으자"
      ],
      "metadata": {
        "execution": {
          "iopub.status.busy": "2022-02-02T10:46:57.023875Z",
          "iopub.execute_input": "2022-02-02T10:46:57.024346Z",
          "iopub.status.idle": "2022-02-02T10:46:57.049476Z",
          "shell.execute_reply.started": "2022-02-02T10:46:57.02424Z",
          "shell.execute_reply": "2022-02-02T10:46:57.048318Z"
        },
        "id": "4oSCXaAJLei7"
      }
    },
    {
      "cell_type": "code",
      "source": [
        "data['Initial'].replace(['Mlle','Mme','Ms','Dr','Major','Lady','Countess','Jonkheer','Col','Rev','Capt','Sir','Don'],['Miss','Miss','Miss','Mr','Mr','Mrs','Mrs','Other','Other','Other','Mr','Mr','Mr'],inplace=True)"
      ],
      "metadata": {
        "execution": {
          "iopub.status.busy": "2022-02-02T12:41:14.85298Z",
          "iopub.execute_input": "2022-02-02T12:41:14.853662Z",
          "iopub.status.idle": "2022-02-02T12:41:14.862023Z",
          "shell.execute_reply.started": "2022-02-02T12:41:14.853631Z",
          "shell.execute_reply": "2022-02-02T12:41:14.861102Z"
        },
        "trusted": true,
        "id": "LyXwB_ejLei7"
      },
      "execution_count": 33,
      "outputs": []
    },
    {
      "cell_type": "code",
      "source": [
        "data.groupby('Initial')['Age'].mean()"
      ],
      "metadata": {
        "execution": {
          "iopub.status.busy": "2022-02-02T12:41:14.863218Z",
          "iopub.execute_input": "2022-02-02T12:41:14.86382Z",
          "iopub.status.idle": "2022-02-02T12:41:14.884503Z",
          "shell.execute_reply.started": "2022-02-02T12:41:14.863786Z",
          "shell.execute_reply": "2022-02-02T12:41:14.883639Z"
        },
        "trusted": true,
        "colab": {
          "base_uri": "https://localhost:8080/"
        },
        "id": "Xrs-UaVrLei7",
        "outputId": "53308624-e33c-4770-8025-de8558dca929"
      },
      "execution_count": 34,
      "outputs": [
        {
          "output_type": "execute_result",
          "data": {
            "text/plain": [
              "Initial\n",
              "Master     4.574167\n",
              "Miss      21.860000\n",
              "Mr        32.739609\n",
              "Mrs       35.981818\n",
              "Other     45.888889\n",
              "Name: Age, dtype: float64"
            ]
          },
          "metadata": {},
          "execution_count": 34
        }
      ]
    },
    {
      "cell_type": "code",
      "source": [
        "data.loc[(data.Age.isnull())&(data.Initial=='Mr'), 'Age']=33\n",
        "data.loc[(data.Age.isnull())&(data.Initial=='Mrs'), 'Age']=36\n",
        "data.loc[(data.Age.isnull())&(data.Initial=='Master'), 'Age']=5\n",
        "data.loc[(data.Age.isnull())&(data.Initial=='Miss'), 'Age']=22\n",
        "data.loc[(data.Age.isnull())&(data.Initial=='Other'), 'Age']=46"
      ],
      "metadata": {
        "execution": {
          "iopub.status.busy": "2022-02-02T12:41:14.885682Z",
          "iopub.execute_input": "2022-02-02T12:41:14.885894Z",
          "iopub.status.idle": "2022-02-02T12:41:14.902526Z",
          "shell.execute_reply.started": "2022-02-02T12:41:14.885869Z",
          "shell.execute_reply": "2022-02-02T12:41:14.901926Z"
        },
        "trusted": true,
        "id": "PnhYZey2Lei8"
      },
      "execution_count": 35,
      "outputs": []
    },
    {
      "cell_type": "code",
      "source": [
        "data.Age.isnull().any()"
      ],
      "metadata": {
        "execution": {
          "iopub.status.busy": "2022-02-02T12:41:14.903542Z",
          "iopub.execute_input": "2022-02-02T12:41:14.904206Z",
          "iopub.status.idle": "2022-02-02T12:41:14.917656Z",
          "shell.execute_reply.started": "2022-02-02T12:41:14.904159Z",
          "shell.execute_reply": "2022-02-02T12:41:14.917073Z"
        },
        "trusted": true,
        "colab": {
          "base_uri": "https://localhost:8080/"
        },
        "id": "rjeljmKnLei8",
        "outputId": "154a01ba-1690-416a-dcb8-06daf303be50"
      },
      "execution_count": 36,
      "outputs": [
        {
          "output_type": "execute_result",
          "data": {
            "text/plain": [
              "False"
            ]
          },
          "metadata": {},
          "execution_count": 36
        }
      ]
    },
    {
      "cell_type": "code",
      "source": [
        "f, ax = plt.subplots(1,2,figsize=(20,10))\n",
        "data[data['Survived']==0].Age.plot.hist(ax=ax[0], bins=20, edgecolor='black', color='red')\n",
        "ax[0].set_title('Sirvived= 0')\n",
        "x1=list(range(0,85,5))\n",
        "ax[0].set_xticks(x1)\n",
        "\n",
        "data[data['Survived']==1].Age.plot.hist(ax=ax[1], bins=20, edgecolor='black', color='green')\n",
        "ax[1].set_title('Survived= 1')\n",
        "x2=list(range(0,85,5))\n",
        "ax[1].set_xticks(x2)\n",
        "\n",
        "plt.show()        "
      ],
      "metadata": {
        "execution": {
          "iopub.status.busy": "2022-02-02T12:41:14.918757Z",
          "iopub.execute_input": "2022-02-02T12:41:14.919481Z",
          "iopub.status.idle": "2022-02-02T12:41:15.404064Z",
          "shell.execute_reply.started": "2022-02-02T12:41:14.919448Z",
          "shell.execute_reply": "2022-02-02T12:41:15.40298Z"
        },
        "trusted": true,
        "colab": {
          "base_uri": "https://localhost:8080/",
          "height": 518
        },
        "id": "LbG9PAZdLei8",
        "outputId": "9930d84b-3608-4d72-9b0f-12ea6ff96c1d"
      },
      "execution_count": 37,
      "outputs": [
        {
          "output_type": "display_data",
          "data": {
            "image/png": "[encoded data removed]",
            "text/plain": [
              "<Figure size 1440x720 with 2 Axes>"
            ]
          },
          "metadata": {
            "needs_background": "light"
          }
        }
      ]
    },
    {
      "cell_type": "markdown",
      "source": [
        "1. 5살 미만의 애기들 또한 높은 구조 우선순위였음\n",
        "2. 80 years was saved\n",
        "3. 30-40대가 제일 많이 사망하였음"
      ],
      "metadata": {
        "execution": {
          "iopub.status.busy": "2022-02-02T10:57:24.064981Z"
        },
        "id": "qGMI737VLei8"
      }
    },
    {
      "cell_type": "code",
      "source": [
        "sns.factorplot('Pclass', 'Survived', col='Initial', data=data)\n",
        "plt.show()"
      ],
      "metadata": {
        "execution": {
          "iopub.status.busy": "2022-02-02T12:41:15.405434Z",
          "iopub.execute_input": "2022-02-02T12:41:15.405666Z",
          "iopub.status.idle": "2022-02-02T12:41:16.643179Z",
          "shell.execute_reply.started": "2022-02-02T12:41:15.405636Z",
          "shell.execute_reply": "2022-02-02T12:41:16.642297Z"
        },
        "trusted": true,
        "colab": {
          "base_uri": "https://localhost:8080/",
          "height": 236
        },
        "id": "9WqS_moKLei8",
        "outputId": "bc8a7566-9ed3-4d6a-f6aa-52c67a793f87"
      },
      "execution_count": 38,
      "outputs": [
        {
          "output_type": "display_data",
          "data": {
            "image/png": "[encoded data removed]",
            "text/plain": [
              "<Figure size 1800x360 with 5 Axes>"
            ]
          },
          "metadata": {
            "needs_background": "light"
          }
        }
      ]
    },
    {
      "cell_type": "markdown",
      "source": [
        "class상관없이 여자와 아이가 우선으로 구조되었음을 알 수 있다."
      ],
      "metadata": {
        "execution": {
          "iopub.status.busy": "2022-02-02T10:59:35.780967Z",
          "iopub.execute_input": "2022-02-02T10:59:35.781288Z",
          "iopub.status.idle": "2022-02-02T10:59:35.786276Z",
          "shell.execute_reply.started": "2022-02-02T10:59:35.781255Z",
          "shell.execute_reply": "2022-02-02T10:59:35.785389Z"
        },
        "id": "HPe8mzbLLei9"
      }
    },
    {
      "cell_type": "markdown",
      "source": [
        "### (4) 범주형 특징 (Embarked)"
      ],
      "metadata": {
        "execution": {
          "iopub.status.busy": "2022-02-02T11:00:06.81581Z",
          "iopub.execute_input": "2022-02-02T11:00:06.816719Z",
          "iopub.status.idle": "2022-02-02T11:00:06.819989Z",
          "shell.execute_reply.started": "2022-02-02T11:00:06.816677Z",
          "shell.execute_reply": "2022-02-02T11:00:06.819365Z"
        },
        "id": "-tROA-9iLei9"
      }
    },
    {
      "cell_type": "code",
      "source": [
        "pd.crosstab([data.Embarked, data.Pclass], [data.Sex, data.Survived], margins=True).style.background_gradient('summer_r')"
      ],
      "metadata": {
        "execution": {
          "iopub.status.busy": "2022-02-02T12:41:16.644475Z",
          "iopub.execute_input": "2022-02-02T12:41:16.644709Z",
          "iopub.status.idle": "2022-02-02T12:41:16.723747Z",
          "shell.execute_reply.started": "2022-02-02T12:41:16.64468Z",
          "shell.execute_reply": "2022-02-02T12:41:16.722862Z"
        },
        "trusted": true,
        "colab": {
          "base_uri": "https://localhost:8080/",
          "height": 426
        },
        "id": "eG8pertwLei9",
        "outputId": "cceb0a60-e792-4a59-81db-921edbcbe438"
      },
      "execution_count": 39,
      "outputs": [
        {
          "output_type": "execute_result",
          "data": {
            "text/html": [
              "<style type=\"text/css\">\n",
              "#T_d9a44_row0_col0, #T_d9a44_row1_col2 {\n",
              "  background-color: #fcfe66;\n",
              "  color: #000000;\n",
              "}\n",
              "#T_d9a44_row0_col1 {\n",
              "  background-color: #d2e866;\n",
              "  color: #000000;\n",
              "}\n",
              "#T_d9a44_row0_col2 {\n",
              "  background-color: #f2f866;\n",
              "  color: #000000;\n",
              "}\n",
              "#T_d9a44_row0_col3 {\n",
              "  background-color: #d8ec66;\n",
              "  color: #000000;\n",
              "}\n",
              "#T_d9a44_row0_col4, #T_d9a44_row2_col3 {\n",
              "  background-color: #e8f466;\n",
              "  color: #000000;\n",
              "}\n",
              "#T_d9a44_row1_col0, #T_d9a44_row3_col0, #T_d9a44_row3_col1, #T_d9a44_row3_col2, #T_d9a44_row3_col3, #T_d9a44_row3_col4, #T_d9a44_row4_col0, #T_d9a44_row4_col2, #T_d9a44_row4_col3, #T_d9a44_row4_col4 {\n",
              "  background-color: #ffff66;\n",
              "  color: #000000;\n",
              "}\n",
              "#T_d9a44_row1_col1, #T_d9a44_row6_col0 {\n",
              "  background-color: #f9fc66;\n",
              "  color: #000000;\n",
              "}\n",
              "#T_d9a44_row1_col3, #T_d9a44_row1_col4 {\n",
              "  background-color: #fbfd66;\n",
              "  color: #000000;\n",
              "}\n",
              "#T_d9a44_row2_col0, #T_d9a44_row5_col1 {\n",
              "  background-color: #e6f266;\n",
              "  color: #000000;\n",
              "}\n",
              "#T_d9a44_row2_col1 {\n",
              "  background-color: #f0f866;\n",
              "  color: #000000;\n",
              "}\n",
              "#T_d9a44_row2_col2 {\n",
              "  background-color: #eef666;\n",
              "  color: #000000;\n",
              "}\n",
              "#T_d9a44_row2_col4, #T_d9a44_row7_col0 {\n",
              "  background-color: #edf666;\n",
              "  color: #000000;\n",
              "}\n",
              "#T_d9a44_row4_col1 {\n",
              "  background-color: #fefe66;\n",
              "  color: #000000;\n",
              "}\n",
              "#T_d9a44_row5_col0 {\n",
              "  background-color: #e3f166;\n",
              "  color: #000000;\n",
              "}\n",
              "#T_d9a44_row5_col2 {\n",
              "  background-color: #ecf666;\n",
              "  color: #000000;\n",
              "}\n",
              "#T_d9a44_row5_col3 {\n",
              "  background-color: #f8fc66;\n",
              "  color: #000000;\n",
              "}\n",
              "#T_d9a44_row5_col4 {\n",
              "  background-color: #ebf566;\n",
              "  color: #000000;\n",
              "}\n",
              "#T_d9a44_row6_col1 {\n",
              "  background-color: #cde666;\n",
              "  color: #000000;\n",
              "}\n",
              "#T_d9a44_row6_col2 {\n",
              "  background-color: #e4f266;\n",
              "  color: #000000;\n",
              "}\n",
              "#T_d9a44_row6_col3 {\n",
              "  background-color: #bede66;\n",
              "  color: #000000;\n",
              "}\n",
              "#T_d9a44_row6_col4 {\n",
              "  background-color: #dbed66;\n",
              "  color: #000000;\n",
              "}\n",
              "#T_d9a44_row7_col1 {\n",
              "  background-color: #bdde66;\n",
              "  color: #000000;\n",
              "}\n",
              "#T_d9a44_row7_col2 {\n",
              "  background-color: #d3e966;\n",
              "  color: #000000;\n",
              "}\n",
              "#T_d9a44_row7_col3, #T_d9a44_row8_col1 {\n",
              "  background-color: #dcee66;\n",
              "  color: #000000;\n",
              "}\n",
              "#T_d9a44_row7_col4 {\n",
              "  background-color: #d1e866;\n",
              "  color: #000000;\n",
              "}\n",
              "#T_d9a44_row8_col0 {\n",
              "  background-color: #52a866;\n",
              "  color: #f1f1f1;\n",
              "}\n",
              "#T_d9a44_row8_col2 {\n",
              "  background-color: #81c066;\n",
              "  color: #000000;\n",
              "}\n",
              "#T_d9a44_row8_col3 {\n",
              "  background-color: #b0d866;\n",
              "  color: #000000;\n",
              "}\n",
              "#T_d9a44_row8_col4 {\n",
              "  background-color: #9acc66;\n",
              "  color: #000000;\n",
              "}\n",
              "#T_d9a44_row9_col0, #T_d9a44_row9_col1, #T_d9a44_row9_col2, #T_d9a44_row9_col3, #T_d9a44_row9_col4 {\n",
              "  background-color: #008066;\n",
              "  color: #f1f1f1;\n",
              "}\n",
              "</style>\n",
              "<table id=\"T_d9a44_\" class=\"dataframe\">\n",
              "  <thead>\n",
              "    <tr>\n",
              "      <th class=\"blank\" >&nbsp;</th>\n",
              "      <th class=\"index_name level0\" >Sex</th>\n",
              "      <th class=\"col_heading level0 col0\" colspan=\"2\">female</th>\n",
              "      <th class=\"col_heading level0 col2\" colspan=\"2\">male</th>\n",
              "      <th class=\"col_heading level0 col4\" >All</th>\n",
              "    </tr>\n",
              "    <tr>\n",
              "      <th class=\"blank\" >&nbsp;</th>\n",
              "      <th class=\"index_name level1\" >Survived</th>\n",
              "      <th class=\"col_heading level1 col0\" >0</th>\n",
              "      <th class=\"col_heading level1 col1\" >1</th>\n",
              "      <th class=\"col_heading level1 col2\" >0</th>\n",
              "      <th class=\"col_heading level1 col3\" >1</th>\n",
              "      <th class=\"col_heading level1 col4\" ></th>\n",
              "    </tr>\n",
              "    <tr>\n",
              "      <th class=\"index_name level0\" >Embarked</th>\n",
              "      <th class=\"index_name level1\" >Pclass</th>\n",
              "      <th class=\"blank col0\" >&nbsp;</th>\n",
              "      <th class=\"blank col1\" >&nbsp;</th>\n",
              "      <th class=\"blank col2\" >&nbsp;</th>\n",
              "      <th class=\"blank col3\" >&nbsp;</th>\n",
              "      <th class=\"blank col4\" >&nbsp;</th>\n",
              "    </tr>\n",
              "  </thead>\n",
              "  <tbody>\n",
              "    <tr>\n",
              "      <th id=\"T_d9a44_level0_row0\" class=\"row_heading level0 row0\" rowspan=\"3\">C</th>\n",
              "      <th id=\"T_d9a44_level1_row0\" class=\"row_heading level1 row0\" >1</th>\n",
              "      <td id=\"T_d9a44_row0_col0\" class=\"data row0 col0\" >1</td>\n",
              "      <td id=\"T_d9a44_row0_col1\" class=\"data row0 col1\" >42</td>\n",
              "      <td id=\"T_d9a44_row0_col2\" class=\"data row0 col2\" >25</td>\n",
              "      <td id=\"T_d9a44_row0_col3\" class=\"data row0 col3\" >17</td>\n",
              "      <td id=\"T_d9a44_row0_col4\" class=\"data row0 col4\" >85</td>\n",
              "    </tr>\n",
              "    <tr>\n",
              "      <th id=\"T_d9a44_level1_row1\" class=\"row_heading level1 row1\" >2</th>\n",
              "      <td id=\"T_d9a44_row1_col0\" class=\"data row1 col0\" >0</td>\n",
              "      <td id=\"T_d9a44_row1_col1\" class=\"data row1 col1\" >7</td>\n",
              "      <td id=\"T_d9a44_row1_col2\" class=\"data row1 col2\" >8</td>\n",
              "      <td id=\"T_d9a44_row1_col3\" class=\"data row1 col3\" >2</td>\n",
              "      <td id=\"T_d9a44_row1_col4\" class=\"data row1 col4\" >17</td>\n",
              "    </tr>\n",
              "    <tr>\n",
              "      <th id=\"T_d9a44_level1_row2\" class=\"row_heading level1 row2\" >3</th>\n",
              "      <td id=\"T_d9a44_row2_col0\" class=\"data row2 col0\" >8</td>\n",
              "      <td id=\"T_d9a44_row2_col1\" class=\"data row2 col1\" >15</td>\n",
              "      <td id=\"T_d9a44_row2_col2\" class=\"data row2 col2\" >33</td>\n",
              "      <td id=\"T_d9a44_row2_col3\" class=\"data row2 col3\" >10</td>\n",
              "      <td id=\"T_d9a44_row2_col4\" class=\"data row2 col4\" >66</td>\n",
              "    </tr>\n",
              "    <tr>\n",
              "      <th id=\"T_d9a44_level0_row3\" class=\"row_heading level0 row3\" rowspan=\"3\">Q</th>\n",
              "      <th id=\"T_d9a44_level1_row3\" class=\"row_heading level1 row3\" >1</th>\n",
              "      <td id=\"T_d9a44_row3_col0\" class=\"data row3 col0\" >0</td>\n",
              "      <td id=\"T_d9a44_row3_col1\" class=\"data row3 col1\" >1</td>\n",
              "      <td id=\"T_d9a44_row3_col2\" class=\"data row3 col2\" >1</td>\n",
              "      <td id=\"T_d9a44_row3_col3\" class=\"data row3 col3\" >0</td>\n",
              "      <td id=\"T_d9a44_row3_col4\" class=\"data row3 col4\" >2</td>\n",
              "    </tr>\n",
              "    <tr>\n",
              "      <th id=\"T_d9a44_level1_row4\" class=\"row_heading level1 row4\" >2</th>\n",
              "      <td id=\"T_d9a44_row4_col0\" class=\"data row4 col0\" >0</td>\n",
              "      <td id=\"T_d9a44_row4_col1\" class=\"data row4 col1\" >2</td>\n",
              "      <td id=\"T_d9a44_row4_col2\" class=\"data row4 col2\" >1</td>\n",
              "      <td id=\"T_d9a44_row4_col3\" class=\"data row4 col3\" >0</td>\n",
              "      <td id=\"T_d9a44_row4_col4\" class=\"data row4 col4\" >3</td>\n",
              "    </tr>\n",
              "    <tr>\n",
              "      <th id=\"T_d9a44_level1_row5\" class=\"row_heading level1 row5\" >3</th>\n",
              "      <td id=\"T_d9a44_row5_col0\" class=\"data row5 col0\" >9</td>\n",
              "      <td id=\"T_d9a44_row5_col1\" class=\"data row5 col1\" >24</td>\n",
              "      <td id=\"T_d9a44_row5_col2\" class=\"data row5 col2\" >36</td>\n",
              "      <td id=\"T_d9a44_row5_col3\" class=\"data row5 col3\" >3</td>\n",
              "      <td id=\"T_d9a44_row5_col4\" class=\"data row5 col4\" >72</td>\n",
              "    </tr>\n",
              "    <tr>\n",
              "      <th id=\"T_d9a44_level0_row6\" class=\"row_heading level0 row6\" rowspan=\"3\">S</th>\n",
              "      <th id=\"T_d9a44_level1_row6\" class=\"row_heading level1 row6\" >1</th>\n",
              "      <td id=\"T_d9a44_row6_col0\" class=\"data row6 col0\" >2</td>\n",
              "      <td id=\"T_d9a44_row6_col1\" class=\"data row6 col1\" >46</td>\n",
              "      <td id=\"T_d9a44_row6_col2\" class=\"data row6 col2\" >51</td>\n",
              "      <td id=\"T_d9a44_row6_col3\" class=\"data row6 col3\" >28</td>\n",
              "      <td id=\"T_d9a44_row6_col4\" class=\"data row6 col4\" >127</td>\n",
              "    </tr>\n",
              "    <tr>\n",
              "      <th id=\"T_d9a44_level1_row7\" class=\"row_heading level1 row7\" >2</th>\n",
              "      <td id=\"T_d9a44_row7_col0\" class=\"data row7 col0\" >6</td>\n",
              "      <td id=\"T_d9a44_row7_col1\" class=\"data row7 col1\" >61</td>\n",
              "      <td id=\"T_d9a44_row7_col2\" class=\"data row7 col2\" >82</td>\n",
              "      <td id=\"T_d9a44_row7_col3\" class=\"data row7 col3\" >15</td>\n",
              "      <td id=\"T_d9a44_row7_col4\" class=\"data row7 col4\" >164</td>\n",
              "    </tr>\n",
              "    <tr>\n",
              "      <th id=\"T_d9a44_level1_row8\" class=\"row_heading level1 row8\" >3</th>\n",
              "      <td id=\"T_d9a44_row8_col0\" class=\"data row8 col0\" >55</td>\n",
              "      <td id=\"T_d9a44_row8_col1\" class=\"data row8 col1\" >33</td>\n",
              "      <td id=\"T_d9a44_row8_col2\" class=\"data row8 col2\" >231</td>\n",
              "      <td id=\"T_d9a44_row8_col3\" class=\"data row8 col3\" >34</td>\n",
              "      <td id=\"T_d9a44_row8_col4\" class=\"data row8 col4\" >353</td>\n",
              "    </tr>\n",
              "    <tr>\n",
              "      <th id=\"T_d9a44_level0_row9\" class=\"row_heading level0 row9\" >All</th>\n",
              "      <th id=\"T_d9a44_level1_row9\" class=\"row_heading level1 row9\" ></th>\n",
              "      <td id=\"T_d9a44_row9_col0\" class=\"data row9 col0\" >81</td>\n",
              "      <td id=\"T_d9a44_row9_col1\" class=\"data row9 col1\" >231</td>\n",
              "      <td id=\"T_d9a44_row9_col2\" class=\"data row9 col2\" >468</td>\n",
              "      <td id=\"T_d9a44_row9_col3\" class=\"data row9 col3\" >109</td>\n",
              "      <td id=\"T_d9a44_row9_col4\" class=\"data row9 col4\" >889</td>\n",
              "    </tr>\n",
              "  </tbody>\n",
              "</table>\n"
            ],
            "text/plain": [
              "<pandas.io.formats.style.Styler at 0x7f4bee23f650>"
            ]
          },
          "metadata": {},
          "execution_count": 39
        }
      ]
    },
    {
      "cell_type": "markdown",
      "source": [
        "**Embarkation에 따른 생존 기회**"
      ],
      "metadata": {
        "execution": {
          "iopub.status.busy": "2022-02-02T11:03:23.623203Z",
          "iopub.execute_input": "2022-02-02T11:03:23.623504Z",
          "iopub.status.idle": "2022-02-02T11:03:23.628942Z",
          "shell.execute_reply.started": "2022-02-02T11:03:23.62347Z",
          "shell.execute_reply": "2022-02-02T11:03:23.62799Z"
        },
        "id": "089nFIZVLei9"
      }
    },
    {
      "cell_type": "code",
      "source": [
        "sns.factorplot('Embarked', 'Survived', data=data)\n",
        "fig = plt.gcf()\n",
        "fig.set_size_inches(5,3)\n",
        "plt.show()"
      ],
      "metadata": {
        "execution": {
          "iopub.status.busy": "2022-02-02T12:41:16.728258Z",
          "iopub.execute_input": "2022-02-02T12:41:16.728507Z",
          "iopub.status.idle": "2022-02-02T12:41:17.07963Z",
          "shell.execute_reply.started": "2022-02-02T12:41:16.728476Z",
          "shell.execute_reply": "2022-02-02T12:41:17.07885Z"
        },
        "trusted": true,
        "colab": {
          "base_uri": "https://localhost:8080/",
          "height": 246
        },
        "id": "RfBEGVstLei9",
        "outputId": "7e472d21-24d2-44d6-eb52-a9cf28bf234d"
      },
      "execution_count": 40,
      "outputs": [
        {
          "output_type": "display_data",
          "data": {
            "image/png": "[encoded data removed]",
            "text/plain": [
              "<Figure size 360x216 with 1 Axes>"
            ]
          },
          "metadata": {
            "needs_background": "light"
          }
        }
      ]
    },
    {
      "cell_type": "markdown",
      "source": [
        "C는 55%가까이인 반면, S가 가장 낮은 생존확률을 보여주었다."
      ],
      "metadata": {
        "id": "dDYQKhWmLei-"
      }
    },
    {
      "cell_type": "code",
      "source": [
        "f,ax = plt.subplots(2,2, figsize=(20,15))\n",
        "sns.countplot('Embarked', data=data, ax=ax[0,0])\n",
        "ax[0,0].set_title('No. Of Passengers Boarded')\n",
        "\n",
        "sns.countplot('Embarked', hue='Sex', data=data, ax=ax[0,1])\n",
        "ax[0,1].set_title('Male-Female Split for Embarked')\n",
        "\n",
        "sns.countplot('Embarked', hue='Survived', data=data, ax=ax[1,0])\n",
        "ax[1,0].set_title('Embarked vs Survived')\n",
        "\n",
        "sns.countplot('Embarked', hue='Pclass', data=data, ax=ax[1,1])\n",
        "ax[1,1].set_title('Embarked vs Pclass')\n",
        "\n",
        "plt.subplots_adjust(wspace=0.3, hspace=0.5)\n",
        "plt.show()"
      ],
      "metadata": {
        "execution": {
          "iopub.status.busy": "2022-02-02T12:41:17.080867Z",
          "iopub.execute_input": "2022-02-02T12:41:17.081326Z",
          "iopub.status.idle": "2022-02-02T12:41:17.680151Z",
          "shell.execute_reply.started": "2022-02-02T12:41:17.081284Z",
          "shell.execute_reply": "2022-02-02T12:41:17.679288Z"
        },
        "trusted": true,
        "colab": {
          "base_uri": "https://localhost:8080/",
          "height": 765
        },
        "id": "cy3O9-3gLei-",
        "outputId": "c090213e-e950-48ad-d484-e9840289e446"
      },
      "execution_count": 41,
      "outputs": [
        {
          "output_type": "display_data",
          "data": {
            "image/png": "[encoded data removed]",
            "text/plain": [
              "<Figure size 1440x1080 with 4 Axes>"
            ]
          },
          "metadata": {
            "needs_background": "light"
          }
        }
      ]
    },
    {
      "cell_type": "markdown",
      "source": [
        "1. S에서 가장 많이 탑승했고 대부분은 Pclass 3\n",
        "2. C에서 탑승한 사람들이 생존을 많이 했는데, 생존자 중 대부분이 Pclass1,2 일 것으로 추정된다.\n",
        "3. S가 부유한 사람 대다수가 탑승 한 것으로 보이나 Pclass3 고객이 많이 살아남지 못해 생존확률이 낮아보인다.\n",
        "4. Q는 95%가 Pclass3 고객이다."
      ],
      "metadata": {
        "execution": {
          "iopub.status.busy": "2022-02-02T11:17:37.807422Z",
          "iopub.execute_input": "2022-02-02T11:17:37.807712Z",
          "iopub.status.idle": "2022-02-02T11:17:37.81416Z",
          "shell.execute_reply.started": "2022-02-02T11:17:37.807683Z",
          "shell.execute_reply": "2022-02-02T11:17:37.813053Z"
        },
        "id": "CTzuYW8ZLei-"
      }
    },
    {
      "cell_type": "code",
      "source": [
        "sns.factorplot('Pclass', 'Survived', hue='Sex', col='Embarked', data=data)\n",
        "plt.show()"
      ],
      "metadata": {
        "execution": {
          "iopub.status.busy": "2022-02-02T12:41:17.681308Z",
          "iopub.execute_input": "2022-02-02T12:41:17.681537Z",
          "iopub.status.idle": "2022-02-02T12:41:18.953902Z",
          "shell.execute_reply.started": "2022-02-02T12:41:17.681509Z",
          "shell.execute_reply": "2022-02-02T12:41:18.953082Z"
        },
        "trusted": true,
        "colab": {
          "base_uri": "https://localhost:8080/",
          "height": 359
        },
        "id": "roW3Sr7nLei-",
        "outputId": "4c355980-f991-4117-b05f-f06601e9795d"
      },
      "execution_count": 42,
      "outputs": [
        {
          "output_type": "display_data",
          "data": {
            "image/png": "[encoded data removed]",
            "text/plain": [
              "<Figure size 1150.5x360 with 3 Axes>"
            ]
          },
          "metadata": {
            "needs_background": "light"
          }
        }
      ]
    },
    {
      "cell_type": "markdown",
      "source": [
        "1. Pclass 관계없이 Pclass 1,2인 여자가 구조 우선순위가 높았다는 것을 알 수 있었다.\n",
        "2. port S의 경우 남녀 모두 Pclass3 생존률이 낮다.\n",
        "3. port Q에서 탑승한 Pclass3 남자가 가장 불운했다."
      ],
      "metadata": {
        "execution": {
          "iopub.status.busy": "2022-02-02T11:21:39.401639Z",
          "iopub.execute_input": "2022-02-02T11:21:39.401925Z",
          "iopub.status.idle": "2022-02-02T11:21:39.408148Z",
          "shell.execute_reply.started": "2022-02-02T11:21:39.401893Z",
          "shell.execute_reply": "2022-02-02T11:21:39.407064Z"
        },
        "id": "FZvec6JQLei-"
      }
    },
    {
      "cell_type": "markdown",
      "source": [
        "#### 결측치 채우기 <br>\n",
        "S에서 가장 많은 탑승객들이 탑승했기에 NaN을 S로 채우자."
      ],
      "metadata": {
        "execution": {
          "iopub.status.busy": "2022-02-02T11:21:50.960643Z",
          "iopub.execute_input": "2022-02-02T11:21:50.960911Z"
        },
        "id": "Z87Vlu9iLei_"
      }
    },
    {
      "cell_type": "code",
      "source": [
        "data['Embarked'].fillna('S', inplace=True)"
      ],
      "metadata": {
        "execution": {
          "iopub.status.busy": "2022-02-02T12:41:18.955305Z",
          "iopub.execute_input": "2022-02-02T12:41:18.95612Z",
          "iopub.status.idle": "2022-02-02T12:41:18.960856Z",
          "shell.execute_reply.started": "2022-02-02T12:41:18.95608Z",
          "shell.execute_reply": "2022-02-02T12:41:18.960054Z"
        },
        "trusted": true,
        "id": "zBkjIyg4Lei_"
      },
      "execution_count": 43,
      "outputs": []
    },
    {
      "cell_type": "code",
      "source": [
        "data.Embarked.isnull().any()"
      ],
      "metadata": {
        "execution": {
          "iopub.status.busy": "2022-02-02T12:41:18.961977Z",
          "iopub.execute_input": "2022-02-02T12:41:18.962484Z",
          "iopub.status.idle": "2022-02-02T12:41:18.9766Z",
          "shell.execute_reply.started": "2022-02-02T12:41:18.962449Z",
          "shell.execute_reply": "2022-02-02T12:41:18.975893Z"
        },
        "trusted": true,
        "colab": {
          "base_uri": "https://localhost:8080/"
        },
        "id": "g_QRjxIELei_",
        "outputId": "a9cd6c1a-5bf6-4ccc-ecc7-0d3e135cfa47"
      },
      "execution_count": 44,
      "outputs": [
        {
          "output_type": "execute_result",
          "data": {
            "text/plain": [
              "False"
            ]
          },
          "metadata": {},
          "execution_count": 44
        }
      ]
    },
    {
      "cell_type": "markdown",
      "source": [
        "### (5) 이진 특징 (SibSp)\n",
        "혼자냐 가족과 함께 탔느냐를 나타내는 특징. Sibling = bro,sis,stepbro,stepsis / Spouse = husband,wife"
      ],
      "metadata": {
        "execution": {
          "iopub.status.busy": "2022-02-02T11:23:37.238459Z",
          "iopub.execute_input": "2022-02-02T11:23:37.23874Z",
          "iopub.status.idle": "2022-02-02T11:23:37.24239Z",
          "shell.execute_reply.started": "2022-02-02T11:23:37.238708Z",
          "shell.execute_reply": "2022-02-02T11:23:37.241782Z"
        },
        "id": "wf_gotv7Lei_"
      }
    },
    {
      "cell_type": "code",
      "source": [
        "data.head()"
      ],
      "metadata": {
        "execution": {
          "iopub.status.busy": "2022-02-02T12:41:18.977718Z",
          "iopub.execute_input": "2022-02-02T12:41:18.977936Z",
          "iopub.status.idle": "2022-02-02T12:41:19.000245Z",
          "shell.execute_reply.started": "2022-02-02T12:41:18.977902Z",
          "shell.execute_reply": "2022-02-02T12:41:18.999345Z"
        },
        "trusted": true,
        "colab": {
          "base_uri": "https://localhost:8080/",
          "height": 213
        },
        "id": "Fk6WG3vkLei_",
        "outputId": "e3541701-35f6-42ac-f72a-dd5c3e3d1b4d"
      },
      "execution_count": 45,
      "outputs": [
        {
          "output_type": "execute_result",
          "data": {
            "text/html": [
              "\n",
              "  <div id=\"df-6326fd7d-c01f-41b3-8c72-a89dbd3a3e49\">\n",
              "    <div class=\"colab-df-container\">\n",
              "      <div>\n",
              "<style scoped>\n",
              "    .dataframe tbody tr th:only-of-type {\n",
              "        vertical-align: middle;\n",
              "    }\n",
              "\n",
              "    .dataframe tbody tr th {\n",
              "        vertical-align: top;\n",
              "    }\n",
              "\n",
              "    .dataframe thead th {\n",
              "        text-align: right;\n",
              "    }\n",
              "</style>\n",
              "<table border=\"1\" class=\"dataframe\">\n",
              "  <thead>\n",
              "    <tr style=\"text-align: right;\">\n",
              "      <th></th>\n",
              "      <th>PassengerId</th>\n",
              "      <th>Survived</th>\n",
              "      <th>Pclass</th>\n",
              "      <th>Name</th>\n",
              "      <th>Sex</th>\n",
              "      <th>Age</th>\n",
              "      <th>SibSp</th>\n",
              "      <th>Parch</th>\n",
              "      <th>Ticket</th>\n",
              "      <th>Fare</th>\n",
              "      <th>Cabin</th>\n",
              "      <th>Embarked</th>\n",
              "      <th>Initial</th>\n",
              "    </tr>\n",
              "  </thead>\n",
              "  <tbody>\n",
              "    <tr>\n",
              "      <th>0</th>\n",
              "      <td>1</td>\n",
              "      <td>0</td>\n",
              "      <td>3</td>\n",
              "      <td>Braund, Mr. Owen Harris</td>\n",
              "      <td>male</td>\n",
              "      <td>22.0</td>\n",
              "      <td>1</td>\n",
              "      <td>0</td>\n",
              "      <td>A/5 21171</td>\n",
              "      <td>7.2500</td>\n",
              "      <td>NaN</td>\n",
              "      <td>S</td>\n",
              "      <td>Mr</td>\n",
              "    </tr>\n",
              "    <tr>\n",
              "      <th>1</th>\n",
              "      <td>2</td>\n",
              "      <td>1</td>\n",
              "      <td>1</td>\n",
              "      <td>Cumings, Mrs. John Bradley (Florence Briggs Th...</td>\n",
              "      <td>female</td>\n",
              "      <td>38.0</td>\n",
              "      <td>1</td>\n",
              "      <td>0</td>\n",
              "      <td>PC 17599</td>\n",
              "      <td>71.2833</td>\n",
              "      <td>C85</td>\n",
              "      <td>C</td>\n",
              "      <td>Mrs</td>\n",
              "    </tr>\n",
              "    <tr>\n",
              "      <th>2</th>\n",
              "      <td>3</td>\n",
              "      <td>1</td>\n",
              "      <td>3</td>\n",
              "      <td>Heikkinen, Miss. Laina</td>\n",
              "      <td>female</td>\n",
              "      <td>26.0</td>\n",
              "      <td>0</td>\n",
              "      <td>0</td>\n",
              "      <td>STON/O2. 3101282</td>\n",
              "      <td>7.9250</td>\n",
              "      <td>NaN</td>\n",
              "      <td>S</td>\n",
              "      <td>Miss</td>\n",
              "    </tr>\n",
              "    <tr>\n",
              "      <th>3</th>\n",
              "      <td>4</td>\n",
              "      <td>1</td>\n",
              "      <td>1</td>\n",
              "      <td>Futrelle, Mrs. Jacques Heath (Lily May Peel)</td>\n",
              "      <td>female</td>\n",
              "      <td>35.0</td>\n",
              "      <td>1</td>\n",
              "      <td>0</td>\n",
              "      <td>113803</td>\n",
              "      <td>53.1000</td>\n",
              "      <td>C123</td>\n",
              "      <td>S</td>\n",
              "      <td>Mrs</td>\n",
              "    </tr>\n",
              "    <tr>\n",
              "      <th>4</th>\n",
              "      <td>5</td>\n",
              "      <td>0</td>\n",
              "      <td>3</td>\n",
              "      <td>Allen, Mr. William Henry</td>\n",
              "      <td>male</td>\n",
              "      <td>35.0</td>\n",
              "      <td>0</td>\n",
              "      <td>0</td>\n",
              "      <td>373450</td>\n",
              "      <td>8.0500</td>\n",
              "      <td>NaN</td>\n",
              "      <td>S</td>\n",
              "      <td>Mr</td>\n",
              "    </tr>\n",
              "  </tbody>\n",
              "</table>\n",
              "</div>\n",
              "      <button class=\"colab-df-convert\" onclick=\"convertToInteractive('df-6326fd7d-c01f-41b3-8c72-a89dbd3a3e49')\"\n",
              "              title=\"Convert this dataframe to an interactive table.\"\n",
              "              style=\"display:none;\">\n",
              "        \n",
              "  <svg xmlns=\"http://www.w3.org/2000/svg\" height=\"24px\"viewBox=\"0 0 24 24\"\n",
              "       width=\"24px\">\n",
              "    <path d=\"M0 0h24v24H0V0z\" fill=\"none\"/>\n",
              "    <path d=\"M18.56 5.44l.94 2.06.94-2.06 2.06-.94-2.06-.94-.94-2.06-.94 2.06-2.06.94zm-11 1L8.5 8.5l.94-2.06 2.06-.94-2.06-.94L8.5 2.5l-.94 2.06-2.06.94zm10 10l.94 2.06.94-2.06 2.06-.94-2.06-.94-.94-2.06-.94 2.06-2.06.94z\"/><path d=\"M17.41 7.96l-1.37-1.37c-.4-.4-.92-.59-1.43-.59-.52 0-1.04.2-1.43.59L10.3 9.45l-7.72 7.72c-.78.78-.78 2.05 0 2.83L4 21.41c.39.39.9.59 1.41.59.51 0 1.02-.2 1.41-.59l7.78-7.78 2.81-2.81c.8-.78.8-2.07 0-2.86zM5.41 20L4 18.59l7.72-7.72 1.47 1.35L5.41 20z\"/>\n",
              "  </svg>\n",
              "      </button>\n",
              "      \n",
              "  <style>\n",
              "    .colab-df-container {\n",
              "      display:flex;\n",
              "      flex-wrap:wrap;\n",
              "      gap: 12px;\n",
              "    }\n",
              "\n",
              "    .colab-df-convert {\n",
              "      background-color: #E8F0FE;\n",
              "      border: none;\n",
              "      border-radius: 50%;\n",
              "      cursor: pointer;\n",
              "      display: none;\n",
              "      fill: #1967D2;\n",
              "      height: 32px;\n",
              "      padding: 0 0 0 0;\n",
              "      width: 32px;\n",
              "    }\n",
              "\n",
              "    .colab-df-convert:hover {\n",
              "      background-color: #E2EBFA;\n",
              "      box-shadow: 0px 1px 2px rgba(60, 64, 67, 0.3), 0px 1px 3px 1px rgba(60, 64, 67, 0.15);\n",
              "      fill: #174EA6;\n",
              "    }\n",
              "\n",
              "    [theme=dark] .colab-df-convert {\n",
              "      background-color: #3B4455;\n",
              "      fill: #D2E3FC;\n",
              "    }\n",
              "\n",
              "    [theme=dark] .colab-df-convert:hover {\n",
              "      background-color: #434B5C;\n",
              "      box-shadow: 0px 1px 3px 1px rgba(0, 0, 0, 0.15);\n",
              "      filter: drop-shadow(0px 1px 2px rgba(0, 0, 0, 0.3));\n",
              "      fill: #FFFFFF;\n",
              "    }\n",
              "  </style>\n",
              "\n",
              "      <script>\n",
              "        const buttonEl =\n",
              "          document.querySelector('#df-6326fd7d-c01f-41b3-8c72-a89dbd3a3e49 button.colab-df-convert');\n",
              "        buttonEl.style.display =\n",
              "          google.colab.kernel.accessAllowed ? 'block' : 'none';\n",
              "\n",
              "        async function convertToInteractive(key) {\n",
              "          const element = document.querySelector('#df-6326fd7d-c01f-41b3-8c72-a89dbd3a3e49');\n",
              "          const dataTable =\n",
              "            await google.colab.kernel.invokeFunction('convertToInteractive',\n",
              "                                                     [key], {});\n",
              "          if (!dataTable) return;\n",
              "\n",
              "          const docLinkHtml = 'Like what you see? Visit the ' +\n",
              "            '<a target=\"_blank\" href=https://colab.research.google.com/notebooks/data_table.ipynb>data table notebook</a>'\n",
              "            + ' to learn more about interactive tables.';\n",
              "          element.innerHTML = '';\n",
              "          dataTable['output_type'] = 'display_data';\n",
              "          await google.colab.output.renderOutput(dataTable, element);\n",
              "          const docLink = document.createElement('div');\n",
              "          docLink.innerHTML = docLinkHtml;\n",
              "          element.appendChild(docLink);\n",
              "        }\n",
              "      </script>\n",
              "    </div>\n",
              "  </div>\n",
              "  "
            ],
            "text/plain": [
              "   PassengerId  Survived  Pclass  \\\n",
              "0            1         0       3   \n",
              "1            2         1       1   \n",
              "2            3         1       3   \n",
              "3            4         1       1   \n",
              "4            5         0       3   \n",
              "\n",
              "                                                Name     Sex   Age  SibSp  \\\n",
              "0                            Braund, Mr. Owen Harris    male  22.0      1   \n",
              "1  Cumings, Mrs. John Bradley (Florence Briggs Th...  female  38.0      1   \n",
              "2                             Heikkinen, Miss. Laina  female  26.0      0   \n",
              "3       Futrelle, Mrs. Jacques Heath (Lily May Peel)  female  35.0      1   \n",
              "4                           Allen, Mr. William Henry    male  35.0      0   \n",
              "\n",
              "   Parch            Ticket     Fare Cabin Embarked Initial  \n",
              "0      0         A/5 21171   7.2500   NaN        S      Mr  \n",
              "1      0          PC 17599  71.2833   C85        C     Mrs  \n",
              "2      0  STON/O2. 3101282   7.9250   NaN        S    Miss  \n",
              "3      0            113803  53.1000  C123        S     Mrs  \n",
              "4      0            373450   8.0500   NaN        S      Mr  "
            ]
          },
          "metadata": {},
          "execution_count": 45
        }
      ]
    },
    {
      "cell_type": "code",
      "source": [
        "pd.crosstab([data.SibSp], data.Survived).style.background_gradient('Pastel2')"
      ],
      "metadata": {
        "execution": {
          "iopub.status.busy": "2022-02-02T12:41:19.001668Z",
          "iopub.execute_input": "2022-02-02T12:41:19.001882Z",
          "iopub.status.idle": "2022-02-02T12:41:19.035309Z",
          "shell.execute_reply.started": "2022-02-02T12:41:19.001857Z",
          "shell.execute_reply": "2022-02-02T12:41:19.034518Z"
        },
        "trusted": true,
        "colab": {
          "base_uri": "https://localhost:8080/",
          "height": 300
        },
        "id": "8Vs3PWclLei_",
        "outputId": "42df11d2-9386-4e51-d982-2e6a13c19f00"
      },
      "execution_count": 46,
      "outputs": [
        {
          "output_type": "execute_result",
          "data": {
            "text/html": [
              "<style type=\"text/css\">\n",
              "#T_4ede6_row0_col0, #T_4ede6_row0_col1 {\n",
              "  background-color: #cccccc;\n",
              "  color: #000000;\n",
              "}\n",
              "#T_4ede6_row1_col0 {\n",
              "  background-color: #fdcdac;\n",
              "  color: #000000;\n",
              "}\n",
              "#T_4ede6_row1_col1 {\n",
              "  background-color: #e6f5c9;\n",
              "  color: #000000;\n",
              "}\n",
              "#T_4ede6_row2_col0, #T_4ede6_row2_col1, #T_4ede6_row3_col0, #T_4ede6_row3_col1, #T_4ede6_row4_col0, #T_4ede6_row4_col1, #T_4ede6_row5_col0, #T_4ede6_row5_col1, #T_4ede6_row6_col0, #T_4ede6_row6_col1 {\n",
              "  background-color: #b3e2cd;\n",
              "  color: #000000;\n",
              "}\n",
              "</style>\n",
              "<table id=\"T_4ede6_\" class=\"dataframe\">\n",
              "  <thead>\n",
              "    <tr>\n",
              "      <th class=\"index_name level0\" >Survived</th>\n",
              "      <th class=\"col_heading level0 col0\" >0</th>\n",
              "      <th class=\"col_heading level0 col1\" >1</th>\n",
              "    </tr>\n",
              "    <tr>\n",
              "      <th class=\"index_name level0\" >SibSp</th>\n",
              "      <th class=\"blank col0\" >&nbsp;</th>\n",
              "      <th class=\"blank col1\" >&nbsp;</th>\n",
              "    </tr>\n",
              "  </thead>\n",
              "  <tbody>\n",
              "    <tr>\n",
              "      <th id=\"T_4ede6_level0_row0\" class=\"row_heading level0 row0\" >0</th>\n",
              "      <td id=\"T_4ede6_row0_col0\" class=\"data row0 col0\" >398</td>\n",
              "      <td id=\"T_4ede6_row0_col1\" class=\"data row0 col1\" >210</td>\n",
              "    </tr>\n",
              "    <tr>\n",
              "      <th id=\"T_4ede6_level0_row1\" class=\"row_heading level0 row1\" >1</th>\n",
              "      <td id=\"T_4ede6_row1_col0\" class=\"data row1 col0\" >97</td>\n",
              "      <td id=\"T_4ede6_row1_col1\" class=\"data row1 col1\" >112</td>\n",
              "    </tr>\n",
              "    <tr>\n",
              "      <th id=\"T_4ede6_level0_row2\" class=\"row_heading level0 row2\" >2</th>\n",
              "      <td id=\"T_4ede6_row2_col0\" class=\"data row2 col0\" >15</td>\n",
              "      <td id=\"T_4ede6_row2_col1\" class=\"data row2 col1\" >13</td>\n",
              "    </tr>\n",
              "    <tr>\n",
              "      <th id=\"T_4ede6_level0_row3\" class=\"row_heading level0 row3\" >3</th>\n",
              "      <td id=\"T_4ede6_row3_col0\" class=\"data row3 col0\" >12</td>\n",
              "      <td id=\"T_4ede6_row3_col1\" class=\"data row3 col1\" >4</td>\n",
              "    </tr>\n",
              "    <tr>\n",
              "      <th id=\"T_4ede6_level0_row4\" class=\"row_heading level0 row4\" >4</th>\n",
              "      <td id=\"T_4ede6_row4_col0\" class=\"data row4 col0\" >15</td>\n",
              "      <td id=\"T_4ede6_row4_col1\" class=\"data row4 col1\" >3</td>\n",
              "    </tr>\n",
              "    <tr>\n",
              "      <th id=\"T_4ede6_level0_row5\" class=\"row_heading level0 row5\" >5</th>\n",
              "      <td id=\"T_4ede6_row5_col0\" class=\"data row5 col0\" >5</td>\n",
              "      <td id=\"T_4ede6_row5_col1\" class=\"data row5 col1\" >0</td>\n",
              "    </tr>\n",
              "    <tr>\n",
              "      <th id=\"T_4ede6_level0_row6\" class=\"row_heading level0 row6\" >8</th>\n",
              "      <td id=\"T_4ede6_row6_col0\" class=\"data row6 col0\" >7</td>\n",
              "      <td id=\"T_4ede6_row6_col1\" class=\"data row6 col1\" >0</td>\n",
              "    </tr>\n",
              "  </tbody>\n",
              "</table>\n"
            ],
            "text/plain": [
              "<pandas.io.formats.style.Styler at 0x7f4bede727d0>"
            ]
          },
          "metadata": {},
          "execution_count": 46
        }
      ]
    },
    {
      "cell_type": "code",
      "source": [
        "f, ax = plt.subplots(1,2, figsize=(20,8))\n",
        "\n",
        "sns.barplot('SibSp', 'Survived', data=data, ax=ax[0])\n",
        "ax[0].set_title('SibSp vs Survived')\n",
        "\n",
        "sns.pointplot('SibSp', 'Survived', data=data, ax=ax[1])\n",
        "ax[1].set_title('SibSp vs Survived')\n",
        "\n",
        "plt.show()"
      ],
      "metadata": {
        "execution": {
          "iopub.status.busy": "2022-02-02T12:41:19.036554Z",
          "iopub.execute_input": "2022-02-02T12:41:19.036762Z",
          "iopub.status.idle": "2022-02-02T12:41:19.870905Z",
          "shell.execute_reply.started": "2022-02-02T12:41:19.036736Z",
          "shell.execute_reply": "2022-02-02T12:41:19.870094Z"
        },
        "trusted": true,
        "colab": {
          "base_uri": "https://localhost:8080/",
          "height": 441
        },
        "id": "FygUr5DLLejA",
        "outputId": "a2a72766-c9f4-4dc1-e946-2c267030321b"
      },
      "execution_count": 47,
      "outputs": [
        {
          "output_type": "display_data",
          "data": {
            "image/png": "[encoded data removed]",
            "text/plain": [
              "<Figure size 1440x576 with 2 Axes>"
            ]
          },
          "metadata": {
            "needs_background": "light"
          }
        }
      ]
    },
    {
      "cell_type": "code",
      "source": [
        "pd.crosstab(data.SibSp, data.Pclass).style.background_gradient('Pastel2')"
      ],
      "metadata": {
        "execution": {
          "iopub.status.busy": "2022-02-02T12:41:19.872103Z",
          "iopub.execute_input": "2022-02-02T12:41:19.872464Z",
          "iopub.status.idle": "2022-02-02T12:41:19.897263Z",
          "shell.execute_reply.started": "2022-02-02T12:41:19.872431Z",
          "shell.execute_reply": "2022-02-02T12:41:19.89646Z"
        },
        "trusted": true,
        "colab": {
          "base_uri": "https://localhost:8080/",
          "height": 300
        },
        "id": "w6ljcgCDLejA",
        "outputId": "2e6ee7c5-0478-4e53-ea55-bc5dec3a8b82"
      },
      "execution_count": 48,
      "outputs": [
        {
          "output_type": "execute_result",
          "data": {
            "text/html": [
              "<style type=\"text/css\">\n",
              "#T_49885_row0_col0, #T_49885_row0_col1, #T_49885_row0_col2 {\n",
              "  background-color: #cccccc;\n",
              "  color: #000000;\n",
              "}\n",
              "#T_49885_row1_col0 {\n",
              "  background-color: #e6f5c9;\n",
              "  color: #000000;\n",
              "}\n",
              "#T_49885_row1_col1 {\n",
              "  background-color: #f4cae4;\n",
              "  color: #000000;\n",
              "}\n",
              "#T_49885_row1_col2 {\n",
              "  background-color: #fdcdac;\n",
              "  color: #000000;\n",
              "}\n",
              "#T_49885_row2_col0, #T_49885_row2_col1, #T_49885_row2_col2, #T_49885_row3_col0, #T_49885_row3_col1, #T_49885_row3_col2, #T_49885_row4_col0, #T_49885_row4_col1, #T_49885_row4_col2, #T_49885_row5_col0, #T_49885_row5_col1, #T_49885_row5_col2, #T_49885_row6_col0, #T_49885_row6_col1, #T_49885_row6_col2 {\n",
              "  background-color: #b3e2cd;\n",
              "  color: #000000;\n",
              "}\n",
              "</style>\n",
              "<table id=\"T_49885_\" class=\"dataframe\">\n",
              "  <thead>\n",
              "    <tr>\n",
              "      <th class=\"index_name level0\" >Pclass</th>\n",
              "      <th class=\"col_heading level0 col0\" >1</th>\n",
              "      <th class=\"col_heading level0 col1\" >2</th>\n",
              "      <th class=\"col_heading level0 col2\" >3</th>\n",
              "    </tr>\n",
              "    <tr>\n",
              "      <th class=\"index_name level0\" >SibSp</th>\n",
              "      <th class=\"blank col0\" >&nbsp;</th>\n",
              "      <th class=\"blank col1\" >&nbsp;</th>\n",
              "      <th class=\"blank col2\" >&nbsp;</th>\n",
              "    </tr>\n",
              "  </thead>\n",
              "  <tbody>\n",
              "    <tr>\n",
              "      <th id=\"T_49885_level0_row0\" class=\"row_heading level0 row0\" >0</th>\n",
              "      <td id=\"T_49885_row0_col0\" class=\"data row0 col0\" >137</td>\n",
              "      <td id=\"T_49885_row0_col1\" class=\"data row0 col1\" >120</td>\n",
              "      <td id=\"T_49885_row0_col2\" class=\"data row0 col2\" >351</td>\n",
              "    </tr>\n",
              "    <tr>\n",
              "      <th id=\"T_49885_level0_row1\" class=\"row_heading level0 row1\" >1</th>\n",
              "      <td id=\"T_49885_row1_col0\" class=\"data row1 col0\" >71</td>\n",
              "      <td id=\"T_49885_row1_col1\" class=\"data row1 col1\" >55</td>\n",
              "      <td id=\"T_49885_row1_col2\" class=\"data row1 col2\" >83</td>\n",
              "    </tr>\n",
              "    <tr>\n",
              "      <th id=\"T_49885_level0_row2\" class=\"row_heading level0 row2\" >2</th>\n",
              "      <td id=\"T_49885_row2_col0\" class=\"data row2 col0\" >5</td>\n",
              "      <td id=\"T_49885_row2_col1\" class=\"data row2 col1\" >8</td>\n",
              "      <td id=\"T_49885_row2_col2\" class=\"data row2 col2\" >15</td>\n",
              "    </tr>\n",
              "    <tr>\n",
              "      <th id=\"T_49885_level0_row3\" class=\"row_heading level0 row3\" >3</th>\n",
              "      <td id=\"T_49885_row3_col0\" class=\"data row3 col0\" >3</td>\n",
              "      <td id=\"T_49885_row3_col1\" class=\"data row3 col1\" >1</td>\n",
              "      <td id=\"T_49885_row3_col2\" class=\"data row3 col2\" >12</td>\n",
              "    </tr>\n",
              "    <tr>\n",
              "      <th id=\"T_49885_level0_row4\" class=\"row_heading level0 row4\" >4</th>\n",
              "      <td id=\"T_49885_row4_col0\" class=\"data row4 col0\" >0</td>\n",
              "      <td id=\"T_49885_row4_col1\" class=\"data row4 col1\" >0</td>\n",
              "      <td id=\"T_49885_row4_col2\" class=\"data row4 col2\" >18</td>\n",
              "    </tr>\n",
              "    <tr>\n",
              "      <th id=\"T_49885_level0_row5\" class=\"row_heading level0 row5\" >5</th>\n",
              "      <td id=\"T_49885_row5_col0\" class=\"data row5 col0\" >0</td>\n",
              "      <td id=\"T_49885_row5_col1\" class=\"data row5 col1\" >0</td>\n",
              "      <td id=\"T_49885_row5_col2\" class=\"data row5 col2\" >5</td>\n",
              "    </tr>\n",
              "    <tr>\n",
              "      <th id=\"T_49885_level0_row6\" class=\"row_heading level0 row6\" >8</th>\n",
              "      <td id=\"T_49885_row6_col0\" class=\"data row6 col0\" >0</td>\n",
              "      <td id=\"T_49885_row6_col1\" class=\"data row6 col1\" >0</td>\n",
              "      <td id=\"T_49885_row6_col2\" class=\"data row6 col2\" >7</td>\n",
              "    </tr>\n",
              "  </tbody>\n",
              "</table>\n"
            ],
            "text/plain": [
              "<pandas.io.formats.style.Styler at 0x7f4bedd9b310>"
            ]
          },
          "metadata": {},
          "execution_count": 48
        }
      ]
    },
    {
      "cell_type": "markdown",
      "source": [
        "가족이 없는 탑승객은 34.5%의 생존률을 보였다. 가족이 있을 경우 생존확률이 급격히 떨어졌고 이는 나보다 가족이 우선이라는 의식 때문에 떨어진 것으로 보인다. 다만 5명 이후에는 생존률이 0%인데 Pclass때문일까 ? <br>\n",
        "crosstab 그래프를 참고하였을 때 **Pclass를 이유로 5명 이후에는 생존률이 낮았다고 볼 수 있다.**"
      ],
      "metadata": {
        "execution": {
          "iopub.status.busy": "2022-02-02T12:01:10.736098Z",
          "iopub.execute_input": "2022-02-02T12:01:10.736413Z",
          "iopub.status.idle": "2022-02-02T12:01:10.743276Z",
          "shell.execute_reply.started": "2022-02-02T12:01:10.736378Z",
          "shell.execute_reply": "2022-02-02T12:01:10.742473Z"
        },
        "id": "1s2P1BhbLejA"
      }
    },
    {
      "cell_type": "markdown",
      "source": [
        "### (6) Discrete 특징 (Parch (부모, 자녀))"
      ],
      "metadata": {
        "execution": {
          "iopub.status.busy": "2022-02-02T12:02:32.922119Z"
        },
        "id": "2g2NkcFrLejA"
      }
    },
    {
      "cell_type": "code",
      "source": [
        "pd.crosstab(data.Parch, data.Pclass).style.background_gradient('Pastel1_r')"
      ],
      "metadata": {
        "execution": {
          "iopub.status.busy": "2022-02-02T12:41:19.898599Z",
          "iopub.execute_input": "2022-02-02T12:41:19.898829Z",
          "iopub.status.idle": "2022-02-02T12:41:19.924678Z",
          "shell.execute_reply.started": "2022-02-02T12:41:19.898793Z",
          "shell.execute_reply": "2022-02-02T12:41:19.923831Z"
        },
        "trusted": true,
        "colab": {
          "base_uri": "https://localhost:8080/",
          "height": 300
        },
        "id": "JQhBHlzoLejA",
        "outputId": "8f7acb73-17fd-4969-a96b-a506209ffc32"
      },
      "execution_count": 49,
      "outputs": [
        {
          "output_type": "execute_result",
          "data": {
            "text/html": [
              "<style type=\"text/css\">\n",
              "#T_4db43_row0_col0, #T_4db43_row0_col1, #T_4db43_row0_col2 {\n",
              "  background-color: #fbb4ae;\n",
              "  color: #000000;\n",
              "}\n",
              "#T_4db43_row1_col0, #T_4db43_row1_col2, #T_4db43_row2_col0, #T_4db43_row2_col1 {\n",
              "  background-color: #fddaec;\n",
              "  color: #000000;\n",
              "}\n",
              "#T_4db43_row1_col1 {\n",
              "  background-color: #e5d8bd;\n",
              "  color: #000000;\n",
              "}\n",
              "#T_4db43_row2_col2, #T_4db43_row3_col0, #T_4db43_row3_col1, #T_4db43_row3_col2, #T_4db43_row4_col0, #T_4db43_row4_col1, #T_4db43_row4_col2, #T_4db43_row5_col0, #T_4db43_row5_col1, #T_4db43_row5_col2, #T_4db43_row6_col0, #T_4db43_row6_col1, #T_4db43_row6_col2 {\n",
              "  background-color: #f2f2f2;\n",
              "  color: #000000;\n",
              "}\n",
              "</style>\n",
              "<table id=\"T_4db43_\" class=\"dataframe\">\n",
              "  <thead>\n",
              "    <tr>\n",
              "      <th class=\"index_name level0\" >Pclass</th>\n",
              "      <th class=\"col_heading level0 col0\" >1</th>\n",
              "      <th class=\"col_heading level0 col1\" >2</th>\n",
              "      <th class=\"col_heading level0 col2\" >3</th>\n",
              "    </tr>\n",
              "    <tr>\n",
              "      <th class=\"index_name level0\" >Parch</th>\n",
              "      <th class=\"blank col0\" >&nbsp;</th>\n",
              "      <th class=\"blank col1\" >&nbsp;</th>\n",
              "      <th class=\"blank col2\" >&nbsp;</th>\n",
              "    </tr>\n",
              "  </thead>\n",
              "  <tbody>\n",
              "    <tr>\n",
              "      <th id=\"T_4db43_level0_row0\" class=\"row_heading level0 row0\" >0</th>\n",
              "      <td id=\"T_4db43_row0_col0\" class=\"data row0 col0\" >163</td>\n",
              "      <td id=\"T_4db43_row0_col1\" class=\"data row0 col1\" >134</td>\n",
              "      <td id=\"T_4db43_row0_col2\" class=\"data row0 col2\" >381</td>\n",
              "    </tr>\n",
              "    <tr>\n",
              "      <th id=\"T_4db43_level0_row1\" class=\"row_heading level0 row1\" >1</th>\n",
              "      <td id=\"T_4db43_row1_col0\" class=\"data row1 col0\" >31</td>\n",
              "      <td id=\"T_4db43_row1_col1\" class=\"data row1 col1\" >32</td>\n",
              "      <td id=\"T_4db43_row1_col2\" class=\"data row1 col2\" >55</td>\n",
              "    </tr>\n",
              "    <tr>\n",
              "      <th id=\"T_4db43_level0_row2\" class=\"row_heading level0 row2\" >2</th>\n",
              "      <td id=\"T_4db43_row2_col0\" class=\"data row2 col0\" >21</td>\n",
              "      <td id=\"T_4db43_row2_col1\" class=\"data row2 col1\" >16</td>\n",
              "      <td id=\"T_4db43_row2_col2\" class=\"data row2 col2\" >43</td>\n",
              "    </tr>\n",
              "    <tr>\n",
              "      <th id=\"T_4db43_level0_row3\" class=\"row_heading level0 row3\" >3</th>\n",
              "      <td id=\"T_4db43_row3_col0\" class=\"data row3 col0\" >0</td>\n",
              "      <td id=\"T_4db43_row3_col1\" class=\"data row3 col1\" >2</td>\n",
              "      <td id=\"T_4db43_row3_col2\" class=\"data row3 col2\" >3</td>\n",
              "    </tr>\n",
              "    <tr>\n",
              "      <th id=\"T_4db43_level0_row4\" class=\"row_heading level0 row4\" >4</th>\n",
              "      <td id=\"T_4db43_row4_col0\" class=\"data row4 col0\" >1</td>\n",
              "      <td id=\"T_4db43_row4_col1\" class=\"data row4 col1\" >0</td>\n",
              "      <td id=\"T_4db43_row4_col2\" class=\"data row4 col2\" >3</td>\n",
              "    </tr>\n",
              "    <tr>\n",
              "      <th id=\"T_4db43_level0_row5\" class=\"row_heading level0 row5\" >5</th>\n",
              "      <td id=\"T_4db43_row5_col0\" class=\"data row5 col0\" >0</td>\n",
              "      <td id=\"T_4db43_row5_col1\" class=\"data row5 col1\" >0</td>\n",
              "      <td id=\"T_4db43_row5_col2\" class=\"data row5 col2\" >5</td>\n",
              "    </tr>\n",
              "    <tr>\n",
              "      <th id=\"T_4db43_level0_row6\" class=\"row_heading level0 row6\" >6</th>\n",
              "      <td id=\"T_4db43_row6_col0\" class=\"data row6 col0\" >0</td>\n",
              "      <td id=\"T_4db43_row6_col1\" class=\"data row6 col1\" >0</td>\n",
              "      <td id=\"T_4db43_row6_col2\" class=\"data row6 col2\" >1</td>\n",
              "    </tr>\n",
              "  </tbody>\n",
              "</table>\n"
            ],
            "text/plain": [
              "<pandas.io.formats.style.Styler at 0x7f4bf4c106d0>"
            ]
          },
          "metadata": {},
          "execution_count": 49
        }
      ]
    },
    {
      "cell_type": "markdown",
      "source": [
        "더많은 가족들이 Pclass3에 소속되어 있다는 것을 알 수 있었다."
      ],
      "metadata": {
        "execution": {
          "iopub.status.busy": "2022-02-02T12:04:14.907341Z",
          "iopub.execute_input": "2022-02-02T12:04:14.907877Z",
          "iopub.status.idle": "2022-02-02T12:04:14.912797Z",
          "shell.execute_reply.started": "2022-02-02T12:04:14.90784Z",
          "shell.execute_reply": "2022-02-02T12:04:14.911789Z"
        },
        "id": "8dLeeaqSLejB"
      }
    },
    {
      "cell_type": "code",
      "source": [
        "f, ax = plt.subplots(1,2, figsize=(20,8))\n",
        "sns.barplot('Parch', 'Survived', data=data, ax=ax[0])\n",
        "ax[0].set_title('Parch vs Survived')\n",
        "\n",
        "sns.pointplot('Parch', 'Survived', data=data, ax=ax[1])\n",
        "ax[1].set_title('Parch vs Survived')\n",
        "\n",
        "plt.show()"
      ],
      "metadata": {
        "execution": {
          "iopub.status.busy": "2022-02-02T12:41:19.926046Z",
          "iopub.execute_input": "2022-02-02T12:41:19.926283Z",
          "iopub.status.idle": "2022-02-02T12:41:20.685736Z",
          "shell.execute_reply.started": "2022-02-02T12:41:19.926251Z",
          "shell.execute_reply": "2022-02-02T12:41:20.684986Z"
        },
        "trusted": true,
        "colab": {
          "base_uri": "https://localhost:8080/",
          "height": 441
        },
        "id": "1V1_98iDLejB",
        "outputId": "64461752-da69-4672-ae17-3b9cabf77a90"
      },
      "execution_count": 50,
      "outputs": [
        {
          "output_type": "display_data",
          "data": {
            "image/png": "[encoded data removed]",
            "text/plain": [
              "<Figure size 1440x576 with 2 Axes>"
            ]
          },
          "metadata": {
            "needs_background": "light"
          }
        }
      ]
    },
    {
      "cell_type": "markdown",
      "source": [
        "2개의 결과가 비슷한데, 가족이 1-3명 있을 경우 생존률이 높아지지만, 일정 수 이상의 경우 급격히 떨어졌으며, 혼자일 경우에도 낮은 경향을 보였다."
      ],
      "metadata": {
        "execution": {
          "iopub.status.busy": "2022-02-02T12:08:46.155428Z",
          "iopub.execute_input": "2022-02-02T12:08:46.156515Z",
          "iopub.status.idle": "2022-02-02T12:08:46.16443Z",
          "shell.execute_reply.started": "2022-02-02T12:08:46.156445Z",
          "shell.execute_reply": "2022-02-02T12:08:46.163698Z"
        },
        "id": "G3SWQLHcLejB"
      }
    },
    {
      "cell_type": "markdown",
      "source": [
        "### (7) Continous 특징 (Fare)"
      ],
      "metadata": {
        "execution": {
          "iopub.status.busy": "2022-02-02T12:10:02.971993Z",
          "iopub.execute_input": "2022-02-02T12:10:02.972309Z",
          "iopub.status.idle": "2022-02-02T12:10:02.97662Z",
          "shell.execute_reply.started": "2022-02-02T12:10:02.972279Z",
          "shell.execute_reply": "2022-02-02T12:10:02.975686Z"
        },
        "id": "kWD3Ghr3LejB"
      }
    },
    {
      "cell_type": "code",
      "source": [
        "print('Highest Fare was:', data['Fare'].max())\n",
        "print('Lowest Fare was:', data['Fare'].min())\n",
        "print('Average Fare was:', data['Fare'].mean())"
      ],
      "metadata": {
        "execution": {
          "iopub.status.busy": "2022-02-02T12:41:20.687093Z",
          "iopub.execute_input": "2022-02-02T12:41:20.687532Z",
          "iopub.status.idle": "2022-02-02T12:41:20.693953Z",
          "shell.execute_reply.started": "2022-02-02T12:41:20.687482Z",
          "shell.execute_reply": "2022-02-02T12:41:20.693422Z"
        },
        "trusted": true,
        "colab": {
          "base_uri": "https://localhost:8080/"
        },
        "id": "wYlykDptLejB",
        "outputId": "96d8782d-3fcb-47bb-f138-9b611423d584"
      },
      "execution_count": 51,
      "outputs": [
        {
          "output_type": "stream",
          "name": "stdout",
          "text": [
            "Highest Fare was: 512.3292\n",
            "Lowest Fare was: 0.0\n",
            "Average Fare was: 32.2042079685746\n"
          ]
        }
      ]
    },
    {
      "cell_type": "code",
      "source": [
        "f, ax = plt.subplots(1,3, figsize=(20,8))\n",
        "\n",
        "sns.distplot(data[data['Pclass']==1].Fare, ax=ax[0])\n",
        "ax[0].set_title('Fares in Pclass 1')\n",
        "\n",
        "sns.distplot(data[data['Pclass']==2].Fare, ax=ax[1])\n",
        "ax[1].set_title('Fares in Pclass 2')\n",
        "\n",
        "sns.distplot(data[data['Pclass']==3].Fare, ax=ax[2])\n",
        "ax[2].set_title('Fares in Pclass 3')\n",
        "\n",
        "plt.show()"
      ],
      "metadata": {
        "execution": {
          "iopub.status.busy": "2022-02-02T12:41:20.695119Z",
          "iopub.execute_input": "2022-02-02T12:41:20.695509Z",
          "iopub.status.idle": "2022-02-02T12:41:21.332395Z",
          "shell.execute_reply.started": "2022-02-02T12:41:20.695478Z",
          "shell.execute_reply": "2022-02-02T12:41:21.331508Z"
        },
        "trusted": true,
        "colab": {
          "base_uri": "https://localhost:8080/",
          "height": 437
        },
        "id": "pEA2x7fDLejB",
        "outputId": "322570a1-21d5-41fe-a170-84cfd9626f3e"
      },
      "execution_count": 52,
      "outputs": [
        {
          "output_type": "display_data",
          "data": {
            "image/png": "[encoded data removed]",
            "text/plain": [
              "<Figure size 1440x576 with 3 Axes>"
            ]
          },
          "metadata": {
            "needs_background": "light"
          }
        }
      ]
    },
    {
      "cell_type": "markdown",
      "source": [
        "binning을 이용하여 discrete values로 변환할 필요가 있다."
      ],
      "metadata": {
        "execution": {
          "iopub.status.busy": "2022-02-02T12:15:34.140804Z",
          "iopub.execute_input": "2022-02-02T12:15:34.14112Z",
          "iopub.status.idle": "2022-02-02T12:15:34.146761Z",
          "shell.execute_reply.started": "2022-02-02T12:15:34.141086Z",
          "shell.execute_reply": "2022-02-02T12:15:34.145889Z"
        },
        "id": "gQ6aIhl6LejC"
      }
    },
    {
      "cell_type": "code",
      "source": [
        ""
      ],
      "metadata": {
        "id": "u_P5-zzXLejC"
      },
      "execution_count": 52,
      "outputs": []
    }
  ]
}