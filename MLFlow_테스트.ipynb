{
  "nbformat": 4,
  "nbformat_minor": 0,
  "metadata": {
    "colab": {
      "name": "MLFlow 테스트",
      "provenance": [],
      "collapsed_sections": [],
      "toc_visible": true,
      "authorship_tag": "ABX9TyNCiqLejE4S038hdUJnK0yK",
      "include_colab_link": true
    },
    "kernelspec": {
      "name": "python3",
      "display_name": "Python 3"
    },
    "language_info": {
      "name": "python"
    }
  },
  "cells": [
    {
      "cell_type": "markdown",
      "metadata": {
        "id": "view-in-github",
        "colab_type": "text"
      },
      "source": [
        "<a href=\"https://colab.research.google.com/github/Yanlecun/intro_ml_notebooks/blob/main/MLFlow_%ED%85%8C%EC%8A%A4%ED%8A%B8.ipynb\" target=\"_parent\"><img src=\"https://colab.research.google.com/assets/colab-badge.svg\" alt=\"Open In Colab\"/></a>"
      ]
    },
    {
      "cell_type": "code",
      "source": [
        "!pip install mlflow\n",
        "!databricks configure --host https://community.cloud.databricks.com/"
      ],
      "metadata": {
        "id": "BgSdoIT4dFjT"
      },
      "execution_count": null,
      "outputs": []
    },
    {
      "cell_type": "code",
      "source": [
        "import mlflow\n",
        "mlflow.set_tracking_uri(\"databricks\")\n",
        "mlflow.set_experiment(\"/Users/thddn19@yonsei.ac.kr/Mlflow\")"
      ],
      "metadata": {
        "id": "kIUbt2emfWoW"
      },
      "execution_count": null,
      "outputs": []
    },
    {
      "cell_type": "code",
      "source": [
        "# 캐글\n",
        "!pip install kaggle\n",
        "from google.colab import files\n",
        "files.upload()"
      ],
      "metadata": {
        "id": "0Yp5E7NvmhJe"
      },
      "execution_count": null,
      "outputs": []
    },
    {
      "cell_type": "code",
      "source": [
        "!mkdir -p ~/.kaggle\n",
        "!cp kaggle.json ~/.kaggle/\n",
        "! chmod 600 ~/.kaggle/kaggle.json"
      ],
      "metadata": {
        "id": "tqSMp33nmpaL"
      },
      "execution_count": null,
      "outputs": []
    },
    {
      "cell_type": "code",
      "source": [
        "!kaggle datasets download -d mlg-ulb/creditcardfraud"
      ],
      "metadata": {
        "colab": {
          "base_uri": "https://localhost:8080/"
        },
        "id": "CALYbSH_m_JN",
        "outputId": "70c24cfd-a353-49a5-e76f-9e69845f3f3e"
      },
      "execution_count": null,
      "outputs": [
        {
          "output_type": "stream",
          "name": "stdout",
          "text": [
            "Downloading creditcardfraud.zip to /content\n",
            " 92% 61.0M/66.0M [00:00<00:00, 76.6MB/s]\n",
            "100% 66.0M/66.0M [00:00<00:00, 134MB/s] \n"
          ]
        }
      ]
    },
    {
      "cell_type": "code",
      "source": [
        "!unzip creditcardfraud.zip"
      ],
      "metadata": {
        "colab": {
          "base_uri": "https://localhost:8080/"
        },
        "id": "0lR3x32YoHJs",
        "outputId": "d913f4c0-81d6-4b56-e148-4a6f8ba96473"
      },
      "execution_count": null,
      "outputs": [
        {
          "output_type": "stream",
          "name": "stdout",
          "text": [
            "Archive:  creditcardfraud.zip\n",
            "  inflating: creditcard.csv          \n"
          ]
        }
      ]
    },
    {
      "cell_type": "code",
      "execution_count": null,
      "metadata": {
        "colab": {
          "base_uri": "https://localhost:8080/"
        },
        "id": "aiV63eC6b_Lh",
        "outputId": "bf3eb25e-05d0-4c79-fccf-0adfb19064b8"
      },
      "outputs": [
        {
          "output_type": "stream",
          "name": "stdout",
          "text": [
            "numpy: 1.21.5\n",
            "pandas: 1.3.5\n",
            "matplotlib: 3.2.2\n",
            "seaborn: 0.11.2\n",
            "sklearn: 1.0.2\n",
            "mlflow: 1.24.0\n"
          ]
        }
      ],
      "source": [
        "%matplotlib inline\n",
        "import numpy as np\n",
        "import pandas as pd\n",
        "import matplotlib\n",
        "import matplotlib.pyplot as plt\n",
        "import seaborn as sns\n",
        "import sklearn\n",
        "from sklearn.linear_model import LogisticRegression\n",
        "from sklearn.model_selection import train_test_split\n",
        "from sklearn.preprocessing import StandardScaler\n",
        "from sklearn.metrics import roc_auc_score, plot_roc_curve, confusion_matrix\n",
        "from sklearn.model_selection import KFold\n",
        "\n",
        "import mlflow\n",
        "import mlflow.sklearn\n",
        "\n",
        "print(f\"numpy: {np.__version__}\")\n",
        "print(f\"pandas: {pd.__version__}\")\n",
        "print(f\"matplotlib: {matplotlib.__version__}\")\n",
        "print(f\"seaborn: {sns.__version__}\")\n",
        "print(f\"sklearn: {sklearn.__version__}\")\n",
        "print(f\"mlflow: {mlflow.__version__}\")"
      ]
    },
    {
      "cell_type": "code",
      "source": [
        "data_path = \"./creditcard.csv\"\n",
        "df = pd.read_csv(data_path)\n",
        "df = df.drop(\"Time\", axis=1)"
      ],
      "metadata": {
        "id": "W0qYK5rHmJDE"
      },
      "execution_count": null,
      "outputs": []
    },
    {
      "cell_type": "code",
      "source": [
        "normal = df[df.Class==0].sample(frac=0.5, random_state = 100).reset_index(drop=True)\n",
        "anomaly = df[df.Class==1]"
      ],
      "metadata": {
        "id": "dxKc9zd-oYgX"
      },
      "execution_count": null,
      "outputs": []
    },
    {
      "cell_type": "code",
      "source": [
        "# train - test 데이터셋 분리\n",
        "normal_train, normal_test = train_test_split(normal, test_size = 0.2, random_state= 100)\n",
        "anomaly_train, anomaly_test = train_test_split(anomaly,test_size = 0.2, random_state= 100)\n",
        "\n",
        "# 80%의 train set내에서 20%차지하도록 25% validation set 으로 분리\n",
        "normal_train, normal_val = train_test_split(normal_train, test_size = 0.25, random_state = 100)\n",
        "anomaly_train, anomaly_val = train_test_split(anomaly_train, test_size = 0.25, random_state = 100)"
      ],
      "metadata": {
        "id": "-6hVZ7a8o6th"
      },
      "execution_count": null,
      "outputs": []
    },
    {
      "cell_type": "code",
      "source": [
        "x_train = pd.concat((normal_train, anomaly_train))\n",
        "x_test = pd.concat((normal_test, anomaly_test))\n",
        "x_val = pd.concat((normal_val, anomaly_val))\n",
        "\n",
        "y_train = np.array(x_train[\"Class\"])\n",
        "y_test = np.array(x_test[\"Class\"])\n",
        "y_val = np.array(x_val[\"Class\"])\n",
        "\n",
        "x_train = x_train.drop(\"Class\", axis=1)\n",
        "x_test = x_test.drop(\"Class\", axis=1)\n",
        "x_val = x_val.drop(\"Class\", axis=1)\n",
        "\n",
        "print(f'train dataset : {x_train.shape}, {y_train.shape}')\n",
        "print(f'test dataset : {x_test.shape}, {y_test.shape}')\n",
        "print(f'validation dataset : {x_val.shape}, {y_val.shape}')"
      ],
      "metadata": {
        "colab": {
          "base_uri": "https://localhost:8080/"
        },
        "id": "vokq04jEpiKC",
        "outputId": "fafdea9e-9f3c-4b2d-c3b9-fc684ce0642d"
      },
      "execution_count": null,
      "outputs": [
        {
          "output_type": "stream",
          "name": "stdout",
          "text": [
            "train dataset : (85588, 29), (85588,)\n",
            "test dataset : (28531, 29), (28531,)\n",
            "validation dataset : (28531, 29), (28531,)\n"
          ]
        }
      ]
    },
    {
      "cell_type": "code",
      "source": [
        "scaler = StandardScaler()\n",
        "scaler.fit(pd.concat((normal, anomaly)).drop(\"Class\",axis=1))\n",
        "\n",
        "x_train = scaler.transform(x_train)\n",
        "x_test = scaler.transform(x_test)\n",
        "x_val = scaler.transform(x_val)"
      ],
      "metadata": {
        "colab": {
          "base_uri": "https://localhost:8080/"
        },
        "id": "Fqi8YNQ3qdmM",
        "outputId": "a8749d21-faa3-4d3c-9907-aab88601eb3a"
      },
      "execution_count": null,
      "outputs": [
        {
          "output_type": "stream",
          "name": "stdout",
          "text": [
            "train dataset : (85588, 29), (85588,)\n",
            "test dataset : (28531, 29), (28531,)\n",
            "validation dataset : (28531, 29), (28531,)\n"
          ]
        },
        {
          "output_type": "stream",
          "name": "stderr",
          "text": [
            "/usr/local/lib/python3.7/dist-packages/sklearn/base.py:451: UserWarning: X does not have valid feature names, but StandardScaler was fitted with feature names\n",
            "  \"X does not have valid feature names, but\"\n",
            "/usr/local/lib/python3.7/dist-packages/sklearn/base.py:451: UserWarning: X does not have valid feature names, but StandardScaler was fitted with feature names\n",
            "  \"X does not have valid feature names, but\"\n",
            "/usr/local/lib/python3.7/dist-packages/sklearn/base.py:451: UserWarning: X does not have valid feature names, but StandardScaler was fitted with feature names\n",
            "  \"X does not have valid feature names, but\"\n"
          ]
        }
      ]
    },
    {
      "cell_type": "markdown",
      "source": [
        "#  MLFlow를 이용한 모델 학습 및 평가"
      ],
      "metadata": {
        "id": "xg9MzNj9xTkW"
      }
    },
    {
      "cell_type": "markdown",
      "source": [
        "\n",
        "## 학습 및 학습 정확도 지표"
      ],
      "metadata": {
        "id": "ayy_i9RwxYBS"
      }
    },
    {
      "cell_type": "code",
      "source": [
        "def train(sk_model, x_train, y_train) :\n",
        "  sk_model = sk_model.fit(x_train, y_train)\n",
        "  train_acc = sk_model.score(x_train, y_train)\n",
        "  mlflow.log_metric(\"train_acc\", train_acc)\n",
        "  print(f\"Train Accuracy: {train_acc:.3%}\")"
      ],
      "metadata": {
        "id": "ebrfucJmvnvy"
      },
      "execution_count": null,
      "outputs": []
    },
    {
      "cell_type": "markdown",
      "source": [
        "학습이 진행되며, 학습정확도 지표는 mlflow에 로깅된다."
      ],
      "metadata": {
        "id": "1nDV6ia4z53c"
      }
    },
    {
      "cell_type": "code",
      "source": [
        "def evaluate(sk_model, x_test, y_test) :\n",
        "  eval_acc = sk_model.score(x_test, y_test)\n",
        "  preds= sk_model.predict(x_test)\n",
        "  auc_score = roc_auc_score(y_test, preds)\n",
        "  mlflow.log_metric(\"eval_acc\", eval_acc)\n",
        "  mlflow.log_metric(\"auc_score\", auc_score)\n",
        "  print(f\"Evaluate Accuracy: {auc_score:.3%}\")\n",
        "  print(f\"Accuracy Accuracy: {eval_acc:.3%}\")\n",
        "  roc_plot = plot_roc_curve(sk_model, x_test, y_test, name='scikit_learn ROC Curve')\n",
        "  plt.savefig(\"sklearn_roc_plot.png\")\n",
        "  plt.show()\n",
        "  plt.clf()\n",
        "  conf_matrix = confusion_matrix(y_test, preds)\n",
        "  ax = sns.heatmap(conf_matrix, annot=True, fmt='g')\n",
        "  ax.invert_xaxis()\n",
        "  ax.invert_yaxis()\n",
        "  plt.xlabel('Predicted')\n",
        "  plt.ylabel('Actual')\n",
        "  plt.title('Confusion Matrix')\n",
        "  plt.savefig(\"sklearn_conf_matrix.png\")\n",
        "  mlflow.log_artifact(\"sklearn_roc_plot.png\")\n",
        "  mlflow.log_artifact(\"sklearn_conf_matrix.png\")\n"
      ],
      "metadata": {
        "id": "8ROrzDaBxg8z"
      },
      "execution_count": null,
      "outputs": []
    },
    {
      "cell_type": "markdown",
      "source": [
        "평가지표 및 Confusion Matrix, ROC 곡선에 대한 그림이 생성되며, 그래프와 지표 모두 MLFlow에 로깅된다."
      ],
      "metadata": {
        "id": "0ZH8IbOY0AEh"
      }
    },
    {
      "cell_type": "markdown",
      "source": [
        "##  MLFlow 실행 로깅 및 확인"
      ],
      "metadata": {
        "id": "4tpfY7Ez0LVf"
      }
    },
    {
      "cell_type": "markdown",
      "source": [
        "실제로 실행시켜보자"
      ],
      "metadata": {
        "id": "2q784YM90u7k"
      }
    },
    {
      "cell_type": "code",
      "source": [
        "sk_model = LogisticRegression(max_iter = 400, solver='newton-cg')\n",
        "mlflow.set_experiment(\"/Users/thddn19@yonsei.ac.kr/Mlflow\") # expriment 설정, 없는 경우 새로 생성\n",
        "with mlflow.start_run():  # expreiment 생성하면서 실행되는 코드\n",
        "  train(sk_model, x_train, y_train)\n",
        "  evaluate(sk_model, x_test, y_test)\n",
        "  mlflow.sklearn.log_model(sk_model, \"log_Reg_model\") # 모델 로깅 시에 사용되는 일반적인 규칙이며 저장되는 모델과 모델 명을 설정한다.\n",
        "  print(\"model run : \", mlflow.active_run().info.run_uuid)\n",
        "mlflow.end_run() "
      ],
      "metadata": {
        "colab": {
          "base_uri": "https://localhost:8080/",
          "height": 690
        },
        "id": "GmgwpNub00Tv",
        "outputId": "35be5edf-2b9e-4689-ae94-4d841a793a0b"
      },
      "execution_count": null,
      "outputs": [
        {
          "output_type": "stream",
          "name": "stdout",
          "text": [
            "Train Accuracy: 99.880%\n",
            "Evaluate Accuracy: 88.372%\n",
            "Accuracy Accuracy: 99.895%\n"
          ]
        },
        {
          "output_type": "stream",
          "name": "stderr",
          "text": [
            "/usr/local/lib/python3.7/dist-packages/sklearn/utils/deprecation.py:87: FutureWarning: Function plot_roc_curve is deprecated; Function :func:`plot_roc_curve` is deprecated in 1.0 and will be removed in 1.2. Use one of the class methods: :meth:`sklearn.metric.RocCurveDisplay.from_predictions` or :meth:`sklearn.metric.RocCurveDisplay.from_estimator`.\n",
            "  warnings.warn(msg, category=FutureWarning)\n"
          ]
        },
        {
          "output_type": "display_data",
          "data": {
            "image/png": "[encoded data removed]",
            "text/plain": [
              "<Figure size 432x288 with 1 Axes>"
            ]
          },
          "metadata": {
            "needs_background": "light"
          }
        },
        {
          "output_type": "stream",
          "name": "stdout",
          "text": [
            "model run :  de250c23c7f5420991c7da56bacbdf0e\n"
          ]
        },
        {
          "output_type": "display_data",
          "data": {
            "image/png": "[encoded data removed]",
            "text/plain": [
              "<Figure size 432x288 with 2 Axes>"
            ]
          },
          "metadata": {
            "needs_background": "light"
          }
        }
      ]
    },
    {
      "cell_type": "markdown",
      "source": [
        "https://community.cloud.databricks.com/ 에 접속해서 확인하면 지표와 이미지를 확인할 수 있다."
      ],
      "metadata": {
        "id": "mecYb4ln6KTf"
      }
    }
  ]
}